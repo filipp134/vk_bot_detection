{
  "nbformat": 4,
  "nbformat_minor": 0,
  "metadata": {
    "colab": {
      "name": "Telegram_bot_for_VK_bot_detection.ipynb",
      "provenance": [],
      "collapsed_sections": [],
      "authorship_tag": "ABX9TyNXnRPe7f4EFc6Vrt6NTtr5",
      "include_colab_link": true
    },
    "kernelspec": {
      "name": "python3",
      "display_name": "Python 3"
    },
    "language_info": {
      "name": "python"
    }
  },
  "cells": [
    {
      "cell_type": "markdown",
      "metadata": {
        "id": "view-in-github",
        "colab_type": "text"
      },
      "source": [
        "<a href=\"https://colab.research.google.com/github/filipp134/vk_bot_detection/blob/forth_version/Telegram_bot_for_VK_bot_detection.ipynb\" target=\"_parent\"><img src=\"https://colab.research.google.com/assets/colab-badge.svg\" alt=\"Open In Colab\"/></a>"
      ]
    },
    {
      "cell_type": "code",
      "metadata": {
        "colab": {
          "base_uri": "https://localhost:8080/"
        },
        "id": "BHFIUrDWs1sh",
        "outputId": "10ccfb20-35c0-4a59-dca8-faa8e14af39a"
      },
      "source": [
        "!pip install python-telegram-bot\n",
        "from telegram import InlineKeyboardButton, InlineKeyboardMarkup, Update, ParseMode\n",
        "from telegram.ext import Updater, CommandHandler, MessageHandler, Filters, CallbackQueryHandler, CallbackContext, \\\n",
        "    ConversationHandler\n",
        "import requests\n",
        "BASIC_LINK = 'https://api.vk.com/method/'\n",
        "ACCESS_TOKEN = '03b514fe3f199471fc77c727575320360cbd8895d5ac6fe464572df08e2d44b8a2ecb513a6f91184bc3bd'\n",
        "TOKEN = '1796537740:AAETJ8c9xHgj6Xl62Fz4R8Obr_uaUF_smF0'"
      ],
      "execution_count": 13,
      "outputs": [
        {
          "output_type": "stream",
          "text": [
            "Requirement already satisfied: python-telegram-bot in /usr/local/lib/python3.7/dist-packages (13.4.1)\n",
            "Requirement already satisfied: APScheduler==3.6.3 in /usr/local/lib/python3.7/dist-packages (from python-telegram-bot) (3.6.3)\n",
            "Requirement already satisfied: certifi in /usr/local/lib/python3.7/dist-packages (from python-telegram-bot) (2020.12.5)\n",
            "Requirement already satisfied: pytz>=2018.6 in /usr/local/lib/python3.7/dist-packages (from python-telegram-bot) (2018.9)\n",
            "Requirement already satisfied: tornado>=5.1 in /usr/local/lib/python3.7/dist-packages (from python-telegram-bot) (5.1.1)\n",
            "Requirement already satisfied: six>=1.4.0 in /usr/local/lib/python3.7/dist-packages (from APScheduler==3.6.3->python-telegram-bot) (1.15.0)\n",
            "Requirement already satisfied: tzlocal>=1.2 in /usr/local/lib/python3.7/dist-packages (from APScheduler==3.6.3->python-telegram-bot) (1.5.1)\n",
            "Requirement already satisfied: setuptools>=0.7 in /usr/local/lib/python3.7/dist-packages (from APScheduler==3.6.3->python-telegram-bot) (54.2.0)\n"
          ],
          "name": "stdout"
        }
      ]
    },
    {
      "cell_type": "code",
      "metadata": {
        "id": "rzDZg6thsc7V"
      },
      "source": [
        "def get_user_info(user_id):\n",
        "    '''Получение информации в виде словаря о пользователе ВКонтакте с user_id.'''\n",
        "    method = 'users.get?user_ids={user_ids}&fields={fields}&access_token={access_token}&v={api_version}'\n",
        "    payload = {\n",
        "        'user_ids' : [user_id],\n",
        "        'fields': ','.join(['city', 'sex', 'bdate', 'followers_count', 'has_mobile', 'personal']),\n",
        "        'v':'5.130',\n",
        "        'access_token' : ACCESS_TOKEN\n",
        "    }\n",
        "    response = requests.get(BASIC_LINK + method, params=payload).json()\n",
        "    info = response['response'][0]\n",
        "    return info"
      ],
      "execution_count": 14,
      "outputs": []
    },
    {
      "cell_type": "code",
      "metadata": {
        "id": "Z8ZFmgWYyaTa"
      },
      "source": [
        "def start(update, context):\n",
        "    \"\"\"Начинаем общение с ботом\"\"\"\n",
        "    context.bot.send_message(chat_id=update.effective_chat.id, text=\"I'm a bot, please talk to me!\")\n",
        "    return ConversationHandler.END"
      ],
      "execution_count": 16,
      "outputs": []
    },
    {
      "cell_type": "code",
      "metadata": {
        "id": "Hf_DMzh1ybmY"
      },
      "source": [
        "def find_user_info(update, context):\n",
        "    '''Выполняем поиск базовой информации по пользователю и отправляём её пользователю'''\n",
        "    id = update.message.text\n",
        "    result = '\\n'.join([f'{k} : {v}' for k, v in get_user_info(id).items()])\n",
        "    if not result:\n",
        "        context.bot.send_message(chat_id=update.effective_chat.id, text=\"Пользователей с таким id не найдено!\")\n",
        "        return ConversationHandler.END\n",
        "    context.bot.send_message(chat_id=update.effective_chat.id, text=result)\n",
        "    return SEARCH_LIST"
      ],
      "execution_count": 17,
      "outputs": []
    },
    {
      "cell_type": "code",
      "metadata": {
        "id": "2K2Z7glKvAau"
      },
      "source": [
        "def main():\n",
        "    updater = Updater(token=TOKEN, use_context=True)\n",
        "    dispatcher = updater.dispatcher\n",
        "    message_handler = MessageHandler(Filters.text & (~Filters.command), find_user_info)\n",
        "    start_handler = CommandHandler('start', start)\n",
        "    dispatcher.add_handler(message_handler)\n",
        "    dispatcher.add_handler(start_handler)\n",
        "    updater.start_polling()"
      ],
      "execution_count": 21,
      "outputs": []
    },
    {
      "cell_type": "code",
      "metadata": {
        "id": "k-dRe2AT0dQU"
      },
      "source": [
        "main()"
      ],
      "execution_count": 22,
      "outputs": []
    }
  ]
}