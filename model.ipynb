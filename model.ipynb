{
  "nbformat": 4,
  "nbformat_minor": 0,
  "metadata": {
    "colab": {
      "name": "model.ipynb",
      "provenance": [],
      "collapsed_sections": [],
      "include_colab_link": true
    },
    "kernelspec": {
      "display_name": "Python 3",
      "language": "python",
      "name": "python3"
    },
    "language_info": {
      "codemirror_mode": {
        "name": "ipython",
        "version": 3
      },
      "file_extension": ".py",
      "mimetype": "text/x-python",
      "name": "python",
      "nbconvert_exporter": "python",
      "pygments_lexer": "ipython3",
      "version": "3.8.5"
    }
  },
  "cells": [
    {
      "cell_type": "markdown",
      "metadata": {
        "id": "view-in-github",
        "colab_type": "text"
      },
      "source": [
        "<a href=\"https://colab.research.google.com/github/filipp134/vk_bot_detection/blob/main/model.ipynb\" target=\"_parent\"><img src=\"https://colab.research.google.com/assets/colab-badge.svg\" alt=\"Open In Colab\"/></a>"
      ]
    },
    {
      "cell_type": "code",
      "metadata": {
        "colab": {
          "base_uri": "https://localhost:8080/"
        },
        "id": "Mqf6DGlNRyRf",
        "outputId": "4bd2fd3e-eeaa-47b8-dd6d-5ab29e750ea3"
      },
      "source": [
        "!pip install eli5\n",
        "!pip install shap\n",
        "!pip install xgboost\n",
        "import pandas as pd\n",
        "import seaborn as sns\n",
        "import networkx as nx\n",
        "import matplotlib.pyplot as plt\n",
        "from sklearn.linear_model import LogisticRegression\n",
        "from sklearn.ensemble import RandomForestClassifier, GradientBoostingClassifier\n",
        "from sklearn.metrics import roc_auc_score, classification_report\n",
        "from sklearn.model_selection import train_test_split, GridSearchCV\n",
        "from sklearn import preprocessing\n",
        "from xgboost.sklearn import XGBClassifier\n",
        "import joblib\n",
        "import eli5\n",
        "from eli5.sklearn import PermutationImportance\n",
        "import shap\n",
        "import json\n",
        "%matplotlib inline"
      ],
      "execution_count": 34,
      "outputs": [
        {
          "output_type": "stream",
          "name": "stdout",
          "text": [
            "Requirement already satisfied: eli5 in /usr/local/lib/python3.7/dist-packages (0.11.0)\n",
            "Requirement already satisfied: attrs>16.0.0 in /usr/local/lib/python3.7/dist-packages (from eli5) (21.4.0)\n",
            "Requirement already satisfied: scipy in /usr/local/lib/python3.7/dist-packages (from eli5) (1.4.1)\n",
            "Requirement already satisfied: numpy>=1.9.0 in /usr/local/lib/python3.7/dist-packages (from eli5) (1.21.5)\n",
            "Requirement already satisfied: tabulate>=0.7.7 in /usr/local/lib/python3.7/dist-packages (from eli5) (0.8.9)\n",
            "Requirement already satisfied: scikit-learn>=0.20 in /usr/local/lib/python3.7/dist-packages (from eli5) (1.0.2)\n",
            "Requirement already satisfied: graphviz in /usr/local/lib/python3.7/dist-packages (from eli5) (0.10.1)\n",
            "Requirement already satisfied: jinja2 in /usr/local/lib/python3.7/dist-packages (from eli5) (2.11.3)\n",
            "Requirement already satisfied: six in /usr/local/lib/python3.7/dist-packages (from eli5) (1.15.0)\n",
            "Requirement already satisfied: threadpoolctl>=2.0.0 in /usr/local/lib/python3.7/dist-packages (from scikit-learn>=0.20->eli5) (3.1.0)\n",
            "Requirement already satisfied: joblib>=0.11 in /usr/local/lib/python3.7/dist-packages (from scikit-learn>=0.20->eli5) (1.1.0)\n",
            "Requirement already satisfied: MarkupSafe>=0.23 in /usr/local/lib/python3.7/dist-packages (from jinja2->eli5) (2.0.1)\n",
            "Requirement already satisfied: shap in /usr/local/lib/python3.7/dist-packages (0.40.0)\n",
            "Requirement already satisfied: scikit-learn in /usr/local/lib/python3.7/dist-packages (from shap) (1.0.2)\n",
            "Requirement already satisfied: slicer==0.0.7 in /usr/local/lib/python3.7/dist-packages (from shap) (0.0.7)\n",
            "Requirement already satisfied: numpy in /usr/local/lib/python3.7/dist-packages (from shap) (1.21.5)\n",
            "Requirement already satisfied: numba in /usr/local/lib/python3.7/dist-packages (from shap) (0.51.2)\n",
            "Requirement already satisfied: tqdm>4.25.0 in /usr/local/lib/python3.7/dist-packages (from shap) (4.63.0)\n",
            "Requirement already satisfied: packaging>20.9 in /usr/local/lib/python3.7/dist-packages (from shap) (21.3)\n",
            "Requirement already satisfied: pandas in /usr/local/lib/python3.7/dist-packages (from shap) (1.3.5)\n",
            "Requirement already satisfied: scipy in /usr/local/lib/python3.7/dist-packages (from shap) (1.4.1)\n",
            "Requirement already satisfied: cloudpickle in /usr/local/lib/python3.7/dist-packages (from shap) (1.3.0)\n",
            "Requirement already satisfied: pyparsing!=3.0.5,>=2.0.2 in /usr/local/lib/python3.7/dist-packages (from packaging>20.9->shap) (3.0.7)\n",
            "Requirement already satisfied: llvmlite<0.35,>=0.34.0.dev0 in /usr/local/lib/python3.7/dist-packages (from numba->shap) (0.34.0)\n",
            "Requirement already satisfied: setuptools in /usr/local/lib/python3.7/dist-packages (from numba->shap) (57.4.0)\n",
            "Requirement already satisfied: python-dateutil>=2.7.3 in /usr/local/lib/python3.7/dist-packages (from pandas->shap) (2.8.2)\n",
            "Requirement already satisfied: pytz>=2017.3 in /usr/local/lib/python3.7/dist-packages (from pandas->shap) (2018.9)\n",
            "Requirement already satisfied: six>=1.5 in /usr/local/lib/python3.7/dist-packages (from python-dateutil>=2.7.3->pandas->shap) (1.15.0)\n",
            "Requirement already satisfied: joblib>=0.11 in /usr/local/lib/python3.7/dist-packages (from scikit-learn->shap) (1.1.0)\n",
            "Requirement already satisfied: threadpoolctl>=2.0.0 in /usr/local/lib/python3.7/dist-packages (from scikit-learn->shap) (3.1.0)\n",
            "Requirement already satisfied: xgboost in /usr/local/lib/python3.7/dist-packages (0.90)\n",
            "Requirement already satisfied: scipy in /usr/local/lib/python3.7/dist-packages (from xgboost) (1.4.1)\n",
            "Requirement already satisfied: numpy in /usr/local/lib/python3.7/dist-packages (from xgboost) (1.21.5)\n"
          ]
        }
      ]
    },
    {
      "cell_type": "code",
      "metadata": {
        "id": "nrV925BnRyRn"
      },
      "source": [
        "df = pd.read_csv('https://raw.githubusercontent.com/filipp134/vk_bot_detection/main/Dataset_for_VK_project.csv')\n",
        "df.drop('Unnamed: 0', axis=1, inplace=True)"
      ],
      "execution_count": 35,
      "outputs": []
    },
    {
      "cell_type": "markdown",
      "metadata": {
        "id": "5hylYEXFRyRo"
      },
      "source": [
        "# Exploring data"
      ]
    },
    {
      "cell_type": "code",
      "metadata": {
        "colab": {
          "base_uri": "https://localhost:8080/",
          "height": 299
        },
        "id": "dTH3igbQRyRo",
        "outputId": "684152ea-d826-41bb-f010-36404fa66170"
      },
      "source": [
        "df.head()"
      ],
      "execution_count": 36,
      "outputs": [
        {
          "output_type": "execute_result",
          "data": {
            "text/plain": [
              "         uid  has_photo  sex  has_mobile  followers_count  contacts  \\\n",
              "0  648249344          0    2         1.0              0.0         0   \n",
              "1  645333001          1    2         1.0              2.0         0   \n",
              "2  651165709          1    2         1.0              9.0         0   \n",
              "3  649232401          1    1         1.0              0.0         0   \n",
              "4  639664147          0    1         1.0              1.0         0   \n",
              "\n",
              "   relatives  relation  personal  activities  ...  deg_centr  \\\n",
              "0          1         1         1           1  ...   1.000000   \n",
              "1          0         0         0           0  ...   0.257143   \n",
              "2          1         1         1           1  ...   0.038501   \n",
              "3          0         0         0           0  ...   1.000000   \n",
              "4          1         1         1           1  ...   0.260000   \n",
              "\n",
              "   average_neighbor_degree  average_degree_connectivity  k_nearest_neighbors  \\\n",
              "0             6.482493e+08                     0.000000             0.000000   \n",
              "1             2.612393e+08                     7.508862             7.508862   \n",
              "2             4.023961e+08                    34.912425            34.912425   \n",
              "3             6.492324e+08                     0.000000             0.000000   \n",
              "4             3.456780e+08                    10.625207            10.625207   \n",
              "\n",
              "   degree_centrality  closeness_centrality  betweenness_centrality  diameter  \\\n",
              "0           1.000000              0.000000                0.000000         0   \n",
              "1           0.257143              0.588401                0.057143         2   \n",
              "2           0.038501              0.511661                0.006917         2   \n",
              "3           1.000000              0.000000                0.000000         0   \n",
              "4           0.260000              0.584422                0.032174         2   \n",
              "\n",
              "   average_shortest_path_length  target  \n",
              "0                             0       0  \n",
              "1                             1       0  \n",
              "2                             1       0  \n",
              "3                             0       0  \n",
              "4                             1       0  \n",
              "\n",
              "[5 rows x 40 columns]"
            ],
            "text/html": [
              "\n",
              "  <div id=\"df-d408bd2a-8702-4fd6-9c9b-3859c8be72be\">\n",
              "    <div class=\"colab-df-container\">\n",
              "      <div>\n",
              "<style scoped>\n",
              "    .dataframe tbody tr th:only-of-type {\n",
              "        vertical-align: middle;\n",
              "    }\n",
              "\n",
              "    .dataframe tbody tr th {\n",
              "        vertical-align: top;\n",
              "    }\n",
              "\n",
              "    .dataframe thead th {\n",
              "        text-align: right;\n",
              "    }\n",
              "</style>\n",
              "<table border=\"1\" class=\"dataframe\">\n",
              "  <thead>\n",
              "    <tr style=\"text-align: right;\">\n",
              "      <th></th>\n",
              "      <th>uid</th>\n",
              "      <th>has_photo</th>\n",
              "      <th>sex</th>\n",
              "      <th>has_mobile</th>\n",
              "      <th>followers_count</th>\n",
              "      <th>contacts</th>\n",
              "      <th>relatives</th>\n",
              "      <th>relation</th>\n",
              "      <th>personal</th>\n",
              "      <th>activities</th>\n",
              "      <th>...</th>\n",
              "      <th>deg_centr</th>\n",
              "      <th>average_neighbor_degree</th>\n",
              "      <th>average_degree_connectivity</th>\n",
              "      <th>k_nearest_neighbors</th>\n",
              "      <th>degree_centrality</th>\n",
              "      <th>closeness_centrality</th>\n",
              "      <th>betweenness_centrality</th>\n",
              "      <th>diameter</th>\n",
              "      <th>average_shortest_path_length</th>\n",
              "      <th>target</th>\n",
              "    </tr>\n",
              "  </thead>\n",
              "  <tbody>\n",
              "    <tr>\n",
              "      <th>0</th>\n",
              "      <td>648249344</td>\n",
              "      <td>0</td>\n",
              "      <td>2</td>\n",
              "      <td>1.0</td>\n",
              "      <td>0.0</td>\n",
              "      <td>0</td>\n",
              "      <td>1</td>\n",
              "      <td>1</td>\n",
              "      <td>1</td>\n",
              "      <td>1</td>\n",
              "      <td>...</td>\n",
              "      <td>1.000000</td>\n",
              "      <td>6.482493e+08</td>\n",
              "      <td>0.000000</td>\n",
              "      <td>0.000000</td>\n",
              "      <td>1.000000</td>\n",
              "      <td>0.000000</td>\n",
              "      <td>0.000000</td>\n",
              "      <td>0</td>\n",
              "      <td>0</td>\n",
              "      <td>0</td>\n",
              "    </tr>\n",
              "    <tr>\n",
              "      <th>1</th>\n",
              "      <td>645333001</td>\n",
              "      <td>1</td>\n",
              "      <td>2</td>\n",
              "      <td>1.0</td>\n",
              "      <td>2.0</td>\n",
              "      <td>0</td>\n",
              "      <td>0</td>\n",
              "      <td>0</td>\n",
              "      <td>0</td>\n",
              "      <td>0</td>\n",
              "      <td>...</td>\n",
              "      <td>0.257143</td>\n",
              "      <td>2.612393e+08</td>\n",
              "      <td>7.508862</td>\n",
              "      <td>7.508862</td>\n",
              "      <td>0.257143</td>\n",
              "      <td>0.588401</td>\n",
              "      <td>0.057143</td>\n",
              "      <td>2</td>\n",
              "      <td>1</td>\n",
              "      <td>0</td>\n",
              "    </tr>\n",
              "    <tr>\n",
              "      <th>2</th>\n",
              "      <td>651165709</td>\n",
              "      <td>1</td>\n",
              "      <td>2</td>\n",
              "      <td>1.0</td>\n",
              "      <td>9.0</td>\n",
              "      <td>0</td>\n",
              "      <td>1</td>\n",
              "      <td>1</td>\n",
              "      <td>1</td>\n",
              "      <td>1</td>\n",
              "      <td>...</td>\n",
              "      <td>0.038501</td>\n",
              "      <td>4.023961e+08</td>\n",
              "      <td>34.912425</td>\n",
              "      <td>34.912425</td>\n",
              "      <td>0.038501</td>\n",
              "      <td>0.511661</td>\n",
              "      <td>0.006917</td>\n",
              "      <td>2</td>\n",
              "      <td>1</td>\n",
              "      <td>0</td>\n",
              "    </tr>\n",
              "    <tr>\n",
              "      <th>3</th>\n",
              "      <td>649232401</td>\n",
              "      <td>1</td>\n",
              "      <td>1</td>\n",
              "      <td>1.0</td>\n",
              "      <td>0.0</td>\n",
              "      <td>0</td>\n",
              "      <td>0</td>\n",
              "      <td>0</td>\n",
              "      <td>0</td>\n",
              "      <td>0</td>\n",
              "      <td>...</td>\n",
              "      <td>1.000000</td>\n",
              "      <td>6.492324e+08</td>\n",
              "      <td>0.000000</td>\n",
              "      <td>0.000000</td>\n",
              "      <td>1.000000</td>\n",
              "      <td>0.000000</td>\n",
              "      <td>0.000000</td>\n",
              "      <td>0</td>\n",
              "      <td>0</td>\n",
              "      <td>0</td>\n",
              "    </tr>\n",
              "    <tr>\n",
              "      <th>4</th>\n",
              "      <td>639664147</td>\n",
              "      <td>0</td>\n",
              "      <td>1</td>\n",
              "      <td>1.0</td>\n",
              "      <td>1.0</td>\n",
              "      <td>0</td>\n",
              "      <td>1</td>\n",
              "      <td>1</td>\n",
              "      <td>1</td>\n",
              "      <td>1</td>\n",
              "      <td>...</td>\n",
              "      <td>0.260000</td>\n",
              "      <td>3.456780e+08</td>\n",
              "      <td>10.625207</td>\n",
              "      <td>10.625207</td>\n",
              "      <td>0.260000</td>\n",
              "      <td>0.584422</td>\n",
              "      <td>0.032174</td>\n",
              "      <td>2</td>\n",
              "      <td>1</td>\n",
              "      <td>0</td>\n",
              "    </tr>\n",
              "  </tbody>\n",
              "</table>\n",
              "<p>5 rows × 40 columns</p>\n",
              "</div>\n",
              "      <button class=\"colab-df-convert\" onclick=\"convertToInteractive('df-d408bd2a-8702-4fd6-9c9b-3859c8be72be')\"\n",
              "              title=\"Convert this dataframe to an interactive table.\"\n",
              "              style=\"display:none;\">\n",
              "        \n",
              "  <svg xmlns=\"http://www.w3.org/2000/svg\" height=\"24px\"viewBox=\"0 0 24 24\"\n",
              "       width=\"24px\">\n",
              "    <path d=\"M0 0h24v24H0V0z\" fill=\"none\"/>\n",
              "    <path d=\"M18.56 5.44l.94 2.06.94-2.06 2.06-.94-2.06-.94-.94-2.06-.94 2.06-2.06.94zm-11 1L8.5 8.5l.94-2.06 2.06-.94-2.06-.94L8.5 2.5l-.94 2.06-2.06.94zm10 10l.94 2.06.94-2.06 2.06-.94-2.06-.94-.94-2.06-.94 2.06-2.06.94z\"/><path d=\"M17.41 7.96l-1.37-1.37c-.4-.4-.92-.59-1.43-.59-.52 0-1.04.2-1.43.59L10.3 9.45l-7.72 7.72c-.78.78-.78 2.05 0 2.83L4 21.41c.39.39.9.59 1.41.59.51 0 1.02-.2 1.41-.59l7.78-7.78 2.81-2.81c.8-.78.8-2.07 0-2.86zM5.41 20L4 18.59l7.72-7.72 1.47 1.35L5.41 20z\"/>\n",
              "  </svg>\n",
              "      </button>\n",
              "      \n",
              "  <style>\n",
              "    .colab-df-container {\n",
              "      display:flex;\n",
              "      flex-wrap:wrap;\n",
              "      gap: 12px;\n",
              "    }\n",
              "\n",
              "    .colab-df-convert {\n",
              "      background-color: #E8F0FE;\n",
              "      border: none;\n",
              "      border-radius: 50%;\n",
              "      cursor: pointer;\n",
              "      display: none;\n",
              "      fill: #1967D2;\n",
              "      height: 32px;\n",
              "      padding: 0 0 0 0;\n",
              "      width: 32px;\n",
              "    }\n",
              "\n",
              "    .colab-df-convert:hover {\n",
              "      background-color: #E2EBFA;\n",
              "      box-shadow: 0px 1px 2px rgba(60, 64, 67, 0.3), 0px 1px 3px 1px rgba(60, 64, 67, 0.15);\n",
              "      fill: #174EA6;\n",
              "    }\n",
              "\n",
              "    [theme=dark] .colab-df-convert {\n",
              "      background-color: #3B4455;\n",
              "      fill: #D2E3FC;\n",
              "    }\n",
              "\n",
              "    [theme=dark] .colab-df-convert:hover {\n",
              "      background-color: #434B5C;\n",
              "      box-shadow: 0px 1px 3px 1px rgba(0, 0, 0, 0.15);\n",
              "      filter: drop-shadow(0px 1px 2px rgba(0, 0, 0, 0.3));\n",
              "      fill: #FFFFFF;\n",
              "    }\n",
              "  </style>\n",
              "\n",
              "      <script>\n",
              "        const buttonEl =\n",
              "          document.querySelector('#df-d408bd2a-8702-4fd6-9c9b-3859c8be72be button.colab-df-convert');\n",
              "        buttonEl.style.display =\n",
              "          google.colab.kernel.accessAllowed ? 'block' : 'none';\n",
              "\n",
              "        async function convertToInteractive(key) {\n",
              "          const element = document.querySelector('#df-d408bd2a-8702-4fd6-9c9b-3859c8be72be');\n",
              "          const dataTable =\n",
              "            await google.colab.kernel.invokeFunction('convertToInteractive',\n",
              "                                                     [key], {});\n",
              "          if (!dataTable) return;\n",
              "\n",
              "          const docLinkHtml = 'Like what you see? Visit the ' +\n",
              "            '<a target=\"_blank\" href=https://colab.research.google.com/notebooks/data_table.ipynb>data table notebook</a>'\n",
              "            + ' to learn more about interactive tables.';\n",
              "          element.innerHTML = '';\n",
              "          dataTable['output_type'] = 'display_data';\n",
              "          await google.colab.output.renderOutput(dataTable, element);\n",
              "          const docLink = document.createElement('div');\n",
              "          docLink.innerHTML = docLinkHtml;\n",
              "          element.appendChild(docLink);\n",
              "        }\n",
              "      </script>\n",
              "    </div>\n",
              "  </div>\n",
              "  "
            ]
          },
          "metadata": {},
          "execution_count": 36
        }
      ]
    },
    {
      "cell_type": "code",
      "metadata": {
        "colab": {
          "base_uri": "https://localhost:8080/"
        },
        "id": "eg7W3WtyYPXT",
        "outputId": "84937c35-01a3-40a2-a155-406b01e39580"
      },
      "source": [
        "df.shape"
      ],
      "execution_count": 37,
      "outputs": [
        {
          "output_type": "execute_result",
          "data": {
            "text/plain": [
              "(11766, 40)"
            ]
          },
          "metadata": {},
          "execution_count": 37
        }
      ]
    },
    {
      "cell_type": "code",
      "metadata": {
        "colab": {
          "base_uri": "https://localhost:8080/"
        },
        "id": "gIobDg99RyRp",
        "scrolled": false,
        "outputId": "510f923c-630e-444c-a26e-ee5e32332200"
      },
      "source": [
        "df.columns"
      ],
      "execution_count": 38,
      "outputs": [
        {
          "output_type": "execute_result",
          "data": {
            "text/plain": [
              "Index(['uid', 'has_photo', 'sex', 'has_mobile', 'followers_count', 'contacts',\n",
              "       'relatives', 'relation', 'personal', 'activities', 'music', 'movies',\n",
              "       'tv', 'books', 'about', 'quotes', 'albums', 'audios', 'followers',\n",
              "       'friends', 'pages', 'photos', 'subscriptions', 'videos',\n",
              "       'clips_followers', 'age', 'city', 'country', 'avg_cl', 'trans',\n",
              "       'deg_centr', 'average_neighbor_degree', 'average_degree_connectivity',\n",
              "       'k_nearest_neighbors', 'degree_centrality', 'closeness_centrality',\n",
              "       'betweenness_centrality', 'diameter', 'average_shortest_path_length',\n",
              "       'target'],\n",
              "      dtype='object')"
            ]
          },
          "metadata": {},
          "execution_count": 38
        }
      ]
    },
    {
      "cell_type": "code",
      "metadata": {
        "colab": {
          "base_uri": "https://localhost:8080/"
        },
        "id": "MhLvY0elRyRq",
        "outputId": "b53a6aba-1aaf-4cdb-f73a-7592b24775d0"
      },
      "source": [
        "df.info()"
      ],
      "execution_count": 39,
      "outputs": [
        {
          "output_type": "stream",
          "name": "stdout",
          "text": [
            "<class 'pandas.core.frame.DataFrame'>\n",
            "RangeIndex: 11766 entries, 0 to 11765\n",
            "Data columns (total 40 columns):\n",
            " #   Column                        Non-Null Count  Dtype  \n",
            "---  ------                        --------------  -----  \n",
            " 0   uid                           11766 non-null  int64  \n",
            " 1   has_photo                     11766 non-null  int64  \n",
            " 2   sex                           11766 non-null  int64  \n",
            " 3   has_mobile                    11766 non-null  float64\n",
            " 4   followers_count               11766 non-null  float64\n",
            " 5   contacts                      11766 non-null  int64  \n",
            " 6   relatives                     11766 non-null  int64  \n",
            " 7   relation                      11766 non-null  int64  \n",
            " 8   personal                      11766 non-null  int64  \n",
            " 9   activities                    11766 non-null  int64  \n",
            " 10  music                         11766 non-null  int64  \n",
            " 11  movies                        11766 non-null  int64  \n",
            " 12  tv                            11766 non-null  int64  \n",
            " 13  books                         11766 non-null  int64  \n",
            " 14  about                         11766 non-null  int64  \n",
            " 15  quotes                        11766 non-null  int64  \n",
            " 16  albums                        11766 non-null  float64\n",
            " 17  audios                        11766 non-null  float64\n",
            " 18  followers                     11766 non-null  float64\n",
            " 19  friends                       11766 non-null  float64\n",
            " 20  pages                         11766 non-null  float64\n",
            " 21  photos                        11766 non-null  float64\n",
            " 22  subscriptions                 11766 non-null  float64\n",
            " 23  videos                        11766 non-null  float64\n",
            " 24  clips_followers               11766 non-null  float64\n",
            " 25  age                           11766 non-null  float64\n",
            " 26  city                          11766 non-null  float64\n",
            " 27  country                       11766 non-null  float64\n",
            " 28  avg_cl                        11766 non-null  float64\n",
            " 29  trans                         11766 non-null  float64\n",
            " 30  deg_centr                     11766 non-null  float64\n",
            " 31  average_neighbor_degree       11766 non-null  float64\n",
            " 32  average_degree_connectivity   11766 non-null  float64\n",
            " 33  k_nearest_neighbors           11766 non-null  float64\n",
            " 34  degree_centrality             11766 non-null  float64\n",
            " 35  closeness_centrality          11766 non-null  float64\n",
            " 36  betweenness_centrality        11766 non-null  float64\n",
            " 37  diameter                      11766 non-null  int64  \n",
            " 38  average_shortest_path_length  11766 non-null  int64  \n",
            " 39  target                        11766 non-null  int64  \n",
            "dtypes: float64(23), int64(17)\n",
            "memory usage: 3.6 MB\n"
          ]
        }
      ]
    },
    {
      "cell_type": "code",
      "metadata": {
        "colab": {
          "base_uri": "https://localhost:8080/"
        },
        "id": "9IQUIXfY-3Gd",
        "outputId": "2f7e6191-1012-429d-c41f-e48737757ff0"
      },
      "source": [
        "df['contacts'].value_counts()"
      ],
      "execution_count": 40,
      "outputs": [
        {
          "output_type": "execute_result",
          "data": {
            "text/plain": [
              "0    11766\n",
              "Name: contacts, dtype: int64"
            ]
          },
          "metadata": {},
          "execution_count": 40
        }
      ]
    },
    {
      "cell_type": "code",
      "metadata": {
        "id": "93JU4RnE_QLx"
      },
      "source": [
        "df.drop('contacts', axis=1, inplace=True)"
      ],
      "execution_count": 41,
      "outputs": []
    },
    {
      "cell_type": "code",
      "metadata": {
        "colab": {
          "base_uri": "https://localhost:8080/"
        },
        "id": "lumFNmIY8IaA",
        "outputId": "2ca78bd6-f6d7-4ad3-8a6d-f99dd78a7a39"
      },
      "source": [
        "df['subscriptions'].value_counts()"
      ],
      "execution_count": 42,
      "outputs": [
        {
          "output_type": "execute_result",
          "data": {
            "text/plain": [
              "0.0      8159\n",
              "1.0       805\n",
              "2.0       387\n",
              "3.0       285\n",
              "4.0       209\n",
              "         ... \n",
              "217.0       1\n",
              "239.0       1\n",
              "212.0       1\n",
              "223.0       1\n",
              "863.0       1\n",
              "Name: subscriptions, Length: 214, dtype: int64"
            ]
          },
          "metadata": {},
          "execution_count": 42
        }
      ]
    },
    {
      "cell_type": "code",
      "metadata": {
        "colab": {
          "base_uri": "https://localhost:8080/"
        },
        "id": "CM3viZkIRyRr",
        "outputId": "3844e4df-7046-4d38-cde7-04564cd015e3"
      },
      "source": [
        "df[(df.friends > 0) & (df.friends < 500)].friends.describe()"
      ],
      "execution_count": 43,
      "outputs": [
        {
          "output_type": "execute_result",
          "data": {
            "text/plain": [
              "count    6555.000000\n",
              "mean       56.147826\n",
              "std        76.464044\n",
              "min         1.000000\n",
              "25%         5.000000\n",
              "50%        23.000000\n",
              "75%        76.000000\n",
              "max       499.000000\n",
              "Name: friends, dtype: float64"
            ]
          },
          "metadata": {},
          "execution_count": 43
        }
      ]
    },
    {
      "cell_type": "code",
      "metadata": {
        "colab": {
          "base_uri": "https://localhost:8080/"
        },
        "id": "PbxHYukdRyRr",
        "outputId": "e7735b7c-6641-46b6-804d-eb9d2ab2866a"
      },
      "source": [
        "df[df.friends > 0].friends.quantile(0.75)"
      ],
      "execution_count": 44,
      "outputs": [
        {
          "output_type": "execute_result",
          "data": {
            "text/plain": [
              "84.0"
            ]
          },
          "metadata": {},
          "execution_count": 44
        }
      ]
    },
    {
      "cell_type": "code",
      "metadata": {
        "colab": {
          "base_uri": "https://localhost:8080/"
        },
        "id": "MppAhME3RyRs",
        "outputId": "d98dda67-e8f9-497b-c298-3625c1267ba6"
      },
      "source": [
        "df['target'].value_counts()"
      ],
      "execution_count": 45,
      "outputs": [
        {
          "output_type": "execute_result",
          "data": {
            "text/plain": [
              "0    9969\n",
              "1    1797\n",
              "Name: target, dtype: int64"
            ]
          },
          "metadata": {},
          "execution_count": 45
        }
      ]
    },
    {
      "cell_type": "code",
      "metadata": {
        "colab": {
          "base_uri": "https://localhost:8080/"
        },
        "id": "DNIIuhEbRyRs",
        "scrolled": true,
        "outputId": "67c51076-ba8d-46cb-d74a-ea38c04c3473"
      },
      "source": [
        "df[df.uid.isin(df[df.friends > 0].uid)]['target'].value_counts()"
      ],
      "execution_count": 46,
      "outputs": [
        {
          "output_type": "execute_result",
          "data": {
            "text/plain": [
              "0    5180\n",
              "1    1565\n",
              "Name: target, dtype: int64"
            ]
          },
          "metadata": {},
          "execution_count": 46
        }
      ]
    },
    {
      "cell_type": "code",
      "metadata": {
        "colab": {
          "base_uri": "https://localhost:8080/",
          "height": 283
        },
        "id": "9tAQeuZsbEW8",
        "outputId": "1e1c3e14-2d84-43e7-f196-486df9c29df8"
      },
      "source": [
        "df[(df.followers_count < 20) & (df.followers_count >0)]['followers_count'].hist()"
      ],
      "execution_count": 47,
      "outputs": [
        {
          "output_type": "execute_result",
          "data": {
            "text/plain": [
              "<matplotlib.axes._subplots.AxesSubplot at 0x7fc45e159d10>"
            ]
          },
          "metadata": {},
          "execution_count": 47
        },
        {
          "output_type": "display_data",
          "data": {
            "text/plain": [
              "<Figure size 432x288 with 1 Axes>"
            ],
            "image/png": "[encoded data removed]"
          },
          "metadata": {
            "needs_background": "light"
          }
        }
      ]
    },
    {
      "cell_type": "code",
      "metadata": {
        "colab": {
          "base_uri": "https://localhost:8080/"
        },
        "id": "y7NwGgWORyRu",
        "outputId": "d14269f4-3582-46a1-cb33-2b2aced514e7"
      },
      "source": [
        "df['city'].value_counts()"
      ],
      "execution_count": 48,
      "outputs": [
        {
          "output_type": "execute_result",
          "data": {
            "text/plain": [
              "0.0          8141\n",
              "1.0          1164\n",
              "2.0           337\n",
              "49.0          116\n",
              "99.0          109\n",
              "             ... \n",
              "1710959.0       1\n",
              "2367.0          1\n",
              "1463.0          1\n",
              "9620.0          1\n",
              "2625.0          1\n",
              "Name: city, Length: 623, dtype: int64"
            ]
          },
          "metadata": {},
          "execution_count": 48
        }
      ]
    },
    {
      "cell_type": "code",
      "metadata": {
        "colab": {
          "base_uri": "https://localhost:8080/",
          "height": 266
        },
        "id": "BeRcdalP38i0",
        "outputId": "ea47beeb-628c-4ad1-8d6b-b277391009f7"
      },
      "source": [
        "data_with_cities = df.groupby('city').count()\n",
        "data_with_cities[data_with_cities['uid'] > 100].plot.pie(autopct=\"%.1f%%\", y='uid')"
      ],
      "execution_count": 49,
      "outputs": [
        {
          "output_type": "execute_result",
          "data": {
            "text/plain": [
              "<matplotlib.axes._subplots.AxesSubplot at 0x7fc45dbf8c50>"
            ]
          },
          "metadata": {},
          "execution_count": 49
        },
        {
          "output_type": "display_data",
          "data": {
            "text/plain": [
              "<Figure size 432x288 with 1 Axes>"
            ],
            "image/png": "[encoded data removed]"
          },
          "metadata": {}
        }
      ]
    },
    {
      "cell_type": "code",
      "metadata": {
        "colab": {
          "base_uri": "https://localhost:8080/"
        },
        "id": "waC1X7g83vme",
        "outputId": "5df9b11e-526e-44f3-92cb-0cd3e8146d82"
      },
      "source": [
        "df['sex'].value_counts()"
      ],
      "execution_count": 50,
      "outputs": [
        {
          "output_type": "execute_result",
          "data": {
            "text/plain": [
              "1    6755\n",
              "2    4960\n",
              "0      51\n",
              "Name: sex, dtype: int64"
            ]
          },
          "metadata": {},
          "execution_count": 50
        }
      ]
    },
    {
      "cell_type": "code",
      "metadata": {
        "colab": {
          "base_uri": "https://localhost:8080/"
        },
        "id": "3HKsEb-037gd",
        "outputId": "26f2dd2f-0253-4053-d4be-b154c0b97f48"
      },
      "source": [
        "df[df['sex']==0]['target'].value_counts()"
      ],
      "execution_count": 51,
      "outputs": [
        {
          "output_type": "execute_result",
          "data": {
            "text/plain": [
              "0    50\n",
              "1     1\n",
              "Name: target, dtype: int64"
            ]
          },
          "metadata": {},
          "execution_count": 51
        }
      ]
    },
    {
      "cell_type": "code",
      "metadata": {
        "colab": {
          "base_uri": "https://localhost:8080/"
        },
        "id": "_KGLadUSHiZM",
        "outputId": "37ea13c7-3833-471c-87d3-37a32067050b"
      },
      "source": [
        "df[df['sex']==1]['target'].value_counts()"
      ],
      "execution_count": 52,
      "outputs": [
        {
          "output_type": "execute_result",
          "data": {
            "text/plain": [
              "0    5747\n",
              "1    1008\n",
              "Name: target, dtype: int64"
            ]
          },
          "metadata": {},
          "execution_count": 52
        }
      ]
    },
    {
      "cell_type": "code",
      "metadata": {
        "colab": {
          "base_uri": "https://localhost:8080/"
        },
        "id": "cx5dPHmRHpWY",
        "outputId": "4a342a78-96f6-49f5-cd45-8fad054aed46"
      },
      "source": [
        "df[df['sex']==2]['target'].value_counts()"
      ],
      "execution_count": 53,
      "outputs": [
        {
          "output_type": "execute_result",
          "data": {
            "text/plain": [
              "0    4172\n",
              "1     788\n",
              "Name: target, dtype: int64"
            ]
          },
          "metadata": {},
          "execution_count": 53
        }
      ]
    },
    {
      "cell_type": "code",
      "metadata": {
        "colab": {
          "base_uri": "https://localhost:8080/",
          "height": 297
        },
        "id": "QGj5SRsNRyRu",
        "outputId": "5162418a-6642-45db-d410-54c0b0f4e174"
      },
      "source": [
        "sns.boxplot(data=df, x='target', y='age')"
      ],
      "execution_count": 54,
      "outputs": [
        {
          "output_type": "execute_result",
          "data": {
            "text/plain": [
              "<matplotlib.axes._subplots.AxesSubplot at 0x7fc45db9e550>"
            ]
          },
          "metadata": {},
          "execution_count": 54
        },
        {
          "output_type": "display_data",
          "data": {
            "text/plain": [
              "<Figure size 432x288 with 1 Axes>"
            ],
            "image/png": "[encoded data removed]"
          },
          "metadata": {
            "needs_background": "light"
          }
        }
      ]
    },
    {
      "cell_type": "code",
      "metadata": {
        "colab": {
          "base_uri": "https://localhost:8080/"
        },
        "id": "YebHGdsccskV",
        "outputId": "e0632042-4dea-4afe-bfe5-2ca19efede19"
      },
      "source": [
        "df[df.target == 0].personal.mean()"
      ],
      "execution_count": 55,
      "outputs": [
        {
          "output_type": "execute_result",
          "data": {
            "text/plain": [
              "0.5315477981743405"
            ]
          },
          "metadata": {},
          "execution_count": 55
        }
      ]
    },
    {
      "cell_type": "code",
      "metadata": {
        "colab": {
          "base_uri": "https://localhost:8080/"
        },
        "id": "8c506-q6c7Yu",
        "outputId": "c2d5cccf-2ab1-455f-9374-2cdc9d5d557a"
      },
      "source": [
        "df[df.target == 1].personal.mean()"
      ],
      "execution_count": 56,
      "outputs": [
        {
          "output_type": "execute_result",
          "data": {
            "text/plain": [
              "0.3110740122426266"
            ]
          },
          "metadata": {},
          "execution_count": 56
        }
      ]
    },
    {
      "cell_type": "code",
      "metadata": {
        "colab": {
          "base_uri": "https://localhost:8080/"
        },
        "id": "p8KibuFZZ6Pk",
        "outputId": "9023a7f1-761d-48b8-f527-9db5fefca42e"
      },
      "source": [
        "df[df.target == 0].has_photo.mean()"
      ],
      "execution_count": 57,
      "outputs": [
        {
          "output_type": "execute_result",
          "data": {
            "text/plain": [
              "0.5762864881131508"
            ]
          },
          "metadata": {},
          "execution_count": 57
        }
      ]
    },
    {
      "cell_type": "code",
      "metadata": {
        "colab": {
          "base_uri": "https://localhost:8080/"
        },
        "id": "3SdLoXCqZ_Zs",
        "outputId": "3e93c19e-d340-4a71-eb2e-3b803b413e65"
      },
      "source": [
        "df[df.target == 1].has_photo.mean()"
      ],
      "execution_count": 58,
      "outputs": [
        {
          "output_type": "execute_result",
          "data": {
            "text/plain": [
              "0.9682804674457429"
            ]
          },
          "metadata": {},
          "execution_count": 58
        }
      ]
    },
    {
      "cell_type": "code",
      "metadata": {
        "colab": {
          "base_uri": "https://localhost:8080/",
          "height": 297
        },
        "id": "r-qb_9yNXrN-",
        "outputId": "0ec28854-a5d0-4a0a-be35-1c8fea248b82"
      },
      "source": [
        "sns.boxplot(data=df[df['pages'] < 100], x='target', y='pages')"
      ],
      "execution_count": 59,
      "outputs": [
        {
          "output_type": "execute_result",
          "data": {
            "text/plain": [
              "<matplotlib.axes._subplots.AxesSubplot at 0x7fc45dad2a90>"
            ]
          },
          "metadata": {},
          "execution_count": 59
        },
        {
          "output_type": "display_data",
          "data": {
            "text/plain": [
              "<Figure size 432x288 with 1 Axes>"
            ],
            "image/png": "[encoded data removed]"
          },
          "metadata": {
            "needs_background": "light"
          }
        }
      ]
    },
    {
      "cell_type": "code",
      "metadata": {
        "colab": {
          "base_uri": "https://localhost:8080/",
          "height": 297
        },
        "id": "01emRCyGaKpr",
        "outputId": "fc43b0c7-244f-4a7b-c49e-c6236ec13250"
      },
      "source": [
        "sns.boxplot(data=df[df['subscriptions'] < 100], x='target', y='subscriptions')"
      ],
      "execution_count": 60,
      "outputs": [
        {
          "output_type": "execute_result",
          "data": {
            "text/plain": [
              "<matplotlib.axes._subplots.AxesSubplot at 0x7fc45dad2710>"
            ]
          },
          "metadata": {},
          "execution_count": 60
        },
        {
          "output_type": "display_data",
          "data": {
            "text/plain": [
              "<Figure size 432x288 with 1 Axes>"
            ],
            "image/png": "[encoded data removed]"
          },
          "metadata": {
            "needs_background": "light"
          }
        }
      ]
    },
    {
      "cell_type": "code",
      "metadata": {
        "colab": {
          "base_uri": "https://localhost:8080/",
          "height": 297
        },
        "id": "__Ar1TXdRyRv",
        "outputId": "df5f9b5e-f7d7-4ade-c7c7-2f963d5cfa13"
      },
      "source": [
        "sns.boxplot(data=df, x='target', y='avg_cl')"
      ],
      "execution_count": 61,
      "outputs": [
        {
          "output_type": "execute_result",
          "data": {
            "text/plain": [
              "<matplotlib.axes._subplots.AxesSubplot at 0x7fc45d9cf290>"
            ]
          },
          "metadata": {},
          "execution_count": 61
        },
        {
          "output_type": "display_data",
          "data": {
            "text/plain": [
              "<Figure size 432x288 with 1 Axes>"
            ],
            "image/png": "[encoded data removed]"
          },
          "metadata": {
            "needs_background": "light"
          }
        }
      ]
    },
    {
      "cell_type": "code",
      "metadata": {
        "colab": {
          "base_uri": "https://localhost:8080/",
          "height": 297
        },
        "id": "LK3NGVWenJ4L",
        "outputId": "e500595d-74eb-4ada-d6a8-431bea7a3cb1"
      },
      "source": [
        "sns.boxplot(data=df, x='target', y='trans')"
      ],
      "execution_count": 62,
      "outputs": [
        {
          "output_type": "execute_result",
          "data": {
            "text/plain": [
              "<matplotlib.axes._subplots.AxesSubplot at 0x7fc45d956590>"
            ]
          },
          "metadata": {},
          "execution_count": 62
        },
        {
          "output_type": "display_data",
          "data": {
            "text/plain": [
              "<Figure size 432x288 with 1 Axes>"
            ],
            "image/png": "[encoded data removed]"
          },
          "metadata": {
            "needs_background": "light"
          }
        }
      ]
    },
    {
      "cell_type": "code",
      "metadata": {
        "colab": {
          "base_uri": "https://localhost:8080/",
          "height": 308
        },
        "id": "vmaxg0yZsZGg",
        "outputId": "5243e234-3af9-44cd-b23b-7ef20c1dfc2f"
      },
      "source": [
        "sns.boxplot(data=df, x='target', y='average_neighbor_degree')"
      ],
      "execution_count": 63,
      "outputs": [
        {
          "output_type": "execute_result",
          "data": {
            "text/plain": [
              "<matplotlib.axes._subplots.AxesSubplot at 0x7fc45d8bfa10>"
            ]
          },
          "metadata": {},
          "execution_count": 63
        },
        {
          "output_type": "display_data",
          "data": {
            "text/plain": [
              "<Figure size 432x288 with 1 Axes>"
            ],
            "image/png": "[encoded data removed]"
          },
          "metadata": {
            "needs_background": "light"
          }
        }
      ]
    },
    {
      "cell_type": "code",
      "metadata": {
        "colab": {
          "base_uri": "https://localhost:8080/",
          "height": 297
        },
        "id": "2svVjU2Jwn2G",
        "outputId": "6e85d7e6-12a4-4f17-cee0-26a44b0fde8d"
      },
      "source": [
        "sns.boxplot(data=df[df['closeness_centrality'] > 0], x='target', y='closeness_centrality')"
      ],
      "execution_count": 64,
      "outputs": [
        {
          "output_type": "execute_result",
          "data": {
            "text/plain": [
              "<matplotlib.axes._subplots.AxesSubplot at 0x7fc45d872190>"
            ]
          },
          "metadata": {},
          "execution_count": 64
        },
        {
          "output_type": "display_data",
          "data": {
            "text/plain": [
              "<Figure size 432x288 with 1 Axes>"
            ],
            "image/png": "[encoded data removed]"
          },
          "metadata": {
            "needs_background": "light"
          }
        }
      ]
    },
    {
      "cell_type": "code",
      "metadata": {
        "colab": {
          "base_uri": "https://localhost:8080/",
          "height": 755
        },
        "id": "wRHr3cE6gjTQ",
        "outputId": "37a2506f-8b96-460e-f970-435c0aee08f7"
      },
      "source": [
        "corr = df.corr()\n",
        "fig, ax = plt.subplots(figsize=(10,10))         \n",
        "sns.heatmap(corr, xticklabels=corr.columns, yticklabels=corr.columns, ax=ax)"
      ],
      "execution_count": 65,
      "outputs": [
        {
          "output_type": "execute_result",
          "data": {
            "text/plain": [
              "<matplotlib.axes._subplots.AxesSubplot at 0x7fc45d7f5210>"
            ]
          },
          "metadata": {},
          "execution_count": 65
        },
        {
          "output_type": "display_data",
          "data": {
            "text/plain": [
              "<Figure size 720x720 with 2 Axes>"
            ],
            "image/png": "[encoded data removed]"
          },
          "metadata": {
            "needs_background": "light"
          }
        }
      ]
    },
    {
      "cell_type": "code",
      "metadata": {
        "colab": {
          "base_uri": "https://localhost:8080/",
          "height": 1000
        },
        "id": "q8G1kgBq-qGp",
        "outputId": "cc53f31e-786c-412f-be4f-b6a02ebe8f75"
      },
      "source": [
        "corr"
      ],
      "execution_count": 66,
      "outputs": [
        {
          "output_type": "execute_result",
          "data": {
            "text/plain": [
              "                                   uid  has_photo       sex  has_mobile  \\\n",
              "uid                           1.000000  -0.182193 -0.042038   -0.100482   \n",
              "has_photo                    -0.182193   1.000000  0.094739    0.645549   \n",
              "sex                          -0.042038   0.094739  1.000000    0.210162   \n",
              "has_mobile                   -0.100482   0.645549  0.210162    1.000000   \n",
              "followers_count              -0.084965   0.076748 -0.028334    0.053349   \n",
              "relatives                     0.145527   0.261951  0.059933    0.493540   \n",
              "relation                      0.145527   0.261951  0.059933    0.493540   \n",
              "personal                      0.145527   0.261951  0.059933    0.493540   \n",
              "activities                    0.145527   0.261951  0.059933    0.493540   \n",
              "music                         0.145527   0.261951  0.059933    0.493540   \n",
              "movies                        0.145527   0.261951  0.059933    0.493540   \n",
              "tv                            0.145527   0.261951  0.059933    0.493540   \n",
              "books                         0.145527   0.261951  0.059933    0.493540   \n",
              "about                         0.145527   0.261951  0.059933    0.493540   \n",
              "quotes                        0.145527   0.261951  0.059933    0.493540   \n",
              "albums                       -0.096894   0.153622 -0.096003    0.105671   \n",
              "audios                       -0.067229   0.051156  0.001359    0.050688   \n",
              "followers                    -0.084965   0.076748 -0.028334    0.053349   \n",
              "friends                      -0.113498   0.137733 -0.026208    0.098295   \n",
              "pages                        -0.076749   0.139714  0.080767    0.137255   \n",
              "photos                       -0.001169   0.010472  0.009643    0.007285   \n",
              "subscriptions                -0.144857   0.088297  0.013568    0.057874   \n",
              "videos                       -0.051357   0.026944  0.019543    0.021269   \n",
              "clips_followers              -0.053997   0.108410 -0.026076    0.078619   \n",
              "age                           0.046440   0.208576  0.202896    0.480012   \n",
              "city                          0.008097   0.051775  0.039846    0.050796   \n",
              "country                      -0.007374   0.055593  0.045993    0.059751   \n",
              "avg_cl                        0.034929   0.265551  0.036533    0.295993   \n",
              "trans                         0.057018   0.170724  0.041875    0.243269   \n",
              "deg_centr                     0.020116  -0.384667 -0.014991   -0.320450   \n",
              "average_neighbor_degree       0.424484  -0.302781 -0.127934   -0.327498   \n",
              "average_degree_connectivity  -0.044502   0.258880 -0.064448    0.190929   \n",
              "k_nearest_neighbors          -0.044502   0.258880 -0.064448    0.190929   \n",
              "degree_centrality             0.020116  -0.384667 -0.014991   -0.320450   \n",
              "closeness_centrality          0.060585   0.284190  0.092469    0.366207   \n",
              "betweenness_centrality        0.059767   0.136714  0.086492    0.180073   \n",
              "diameter                      0.026345   0.368414  0.056460    0.373837   \n",
              "average_shortest_path_length  0.036978   0.349417  0.071573    0.383259   \n",
              "target                       -0.596500   0.293097  0.017542    0.165748   \n",
              "\n",
              "                              followers_count  relatives  relation  personal  \\\n",
              "uid                                 -0.084965   0.145527  0.145527  0.145527   \n",
              "has_photo                            0.076748   0.261951  0.261951  0.261951   \n",
              "sex                                 -0.028334   0.059933  0.059933  0.059933   \n",
              "has_mobile                           0.053349   0.493540  0.493540  0.493540   \n",
              "followers_count                      1.000000   0.068794  0.068794  0.068794   \n",
              "relatives                            0.068794   1.000000  1.000000  1.000000   \n",
              "relation                             0.068794   1.000000  1.000000  1.000000   \n",
              "personal                             0.068794   1.000000  1.000000  1.000000   \n",
              "activities                           0.068794   1.000000  1.000000  1.000000   \n",
              "music                                0.068794   1.000000  1.000000  1.000000   \n",
              "movies                               0.068794   1.000000  1.000000  1.000000   \n",
              "tv                                   0.068794   1.000000  1.000000  1.000000   \n",
              "books                                0.068794   1.000000  1.000000  1.000000   \n",
              "about                                0.068794   1.000000  1.000000  1.000000   \n",
              "quotes                               0.068794   1.000000  1.000000  1.000000   \n",
              "albums                               0.054678   0.174856  0.174856  0.174856   \n",
              "audios                               0.067595   0.071476  0.071476  0.071476   \n",
              "followers                            1.000000   0.068794  0.068794  0.068794   \n",
              "friends                              0.355349   0.036255  0.036255  0.036255   \n",
              "pages                                0.045425   0.016670  0.016670  0.016670   \n",
              "photos                               0.017189   0.012541  0.012541  0.012541   \n",
              "subscriptions                        0.024471  -0.012271 -0.012271 -0.012271   \n",
              "videos                               0.061331   0.028138  0.028138  0.028138   \n",
              "clips_followers                      0.605825   0.113578  0.113578  0.113578   \n",
              "age                                 -0.015881   0.360858  0.360858  0.360858   \n",
              "city                                -0.005614   0.021910  0.021910  0.021910   \n",
              "country                             -0.002440   0.025054  0.025054  0.025054   \n",
              "avg_cl                               0.086651   0.483452  0.483452  0.483452   \n",
              "trans                                0.048707   0.397628  0.397628  0.397628   \n",
              "deg_centr                           -0.145493  -0.529256 -0.529256 -0.529256   \n",
              "average_neighbor_degree             -0.053600  -0.361336 -0.361336 -0.361336   \n",
              "average_degree_connectivity          0.291550   0.321946  0.321946  0.321946   \n",
              "k_nearest_neighbors                  0.291550   0.321946  0.321946  0.321946   \n",
              "degree_centrality                   -0.145493  -0.529256 -0.529256 -0.529256   \n",
              "closeness_centrality                 0.079896   0.614529  0.614529  0.614529   \n",
              "betweenness_centrality              -0.019278   0.300598  0.300598  0.300598   \n",
              "diameter                             0.118164   0.621527  0.621527  0.621527   \n",
              "average_shortest_path_length         0.110844   0.639679  0.639679  0.639679   \n",
              "target                               0.058470  -0.158621 -0.158621 -0.158621   \n",
              "\n",
              "                              activities     music  ...  deg_centr  \\\n",
              "uid                             0.145527  0.145527  ...   0.020116   \n",
              "has_photo                       0.261951  0.261951  ...  -0.384667   \n",
              "sex                             0.059933  0.059933  ...  -0.014991   \n",
              "has_mobile                      0.493540  0.493540  ...  -0.320450   \n",
              "followers_count                 0.068794  0.068794  ...  -0.145493   \n",
              "relatives                       1.000000  1.000000  ...  -0.529256   \n",
              "relation                        1.000000  1.000000  ...  -0.529256   \n",
              "personal                        1.000000  1.000000  ...  -0.529256   \n",
              "activities                      1.000000  1.000000  ...  -0.529256   \n",
              "music                           1.000000  1.000000  ...  -0.529256   \n",
              "movies                          1.000000  1.000000  ...  -0.529256   \n",
              "tv                              1.000000  1.000000  ...  -0.529256   \n",
              "books                           1.000000  1.000000  ...  -0.529256   \n",
              "about                           1.000000  1.000000  ...  -0.529256   \n",
              "quotes                          1.000000  1.000000  ...  -0.529256   \n",
              "albums                          0.174856  0.174856  ...  -0.194378   \n",
              "audios                          0.071476  0.071476  ...  -0.121926   \n",
              "followers                       0.068794  0.068794  ...  -0.145493   \n",
              "friends                         0.036255  0.036255  ...  -0.197642   \n",
              "pages                           0.016670  0.016670  ...  -0.096767   \n",
              "photos                          0.012541  0.012541  ...   0.001095   \n",
              "subscriptions                  -0.012271 -0.012271  ...  -0.068541   \n",
              "videos                          0.028138  0.028138  ...  -0.052031   \n",
              "clips_followers                 0.113578  0.113578  ...  -0.267573   \n",
              "age                             0.360858  0.360858  ...  -0.101102   \n",
              "city                            0.021910  0.021910  ...  -0.007423   \n",
              "country                         0.025054  0.025054  ...  -0.012186   \n",
              "avg_cl                          0.483452  0.483452  ...  -0.681694   \n",
              "trans                           0.397628  0.397628  ...  -0.410506   \n",
              "deg_centr                      -0.529256 -0.529256  ...   1.000000   \n",
              "average_neighbor_degree        -0.361336 -0.361336  ...   0.554339   \n",
              "average_degree_connectivity     0.321946  0.321946  ...  -0.611788   \n",
              "k_nearest_neighbors             0.321946  0.321946  ...  -0.611788   \n",
              "degree_centrality              -0.529256 -0.529256  ...   1.000000   \n",
              "closeness_centrality            0.614529  0.614529  ...  -0.641085   \n",
              "betweenness_centrality          0.300598  0.300598  ...  -0.307659   \n",
              "diameter                        0.621527  0.621527  ...  -0.912288   \n",
              "average_shortest_path_length    0.639679  0.639679  ...  -0.839701   \n",
              "target                         -0.158621 -0.158621  ...  -0.043189   \n",
              "\n",
              "                              average_neighbor_degree  \\\n",
              "uid                                          0.424484   \n",
              "has_photo                                   -0.302781   \n",
              "sex                                         -0.127934   \n",
              "has_mobile                                  -0.327498   \n",
              "followers_count                             -0.053600   \n",
              "relatives                                   -0.361336   \n",
              "relation                                    -0.361336   \n",
              "personal                                    -0.361336   \n",
              "activities                                  -0.361336   \n",
              "music                                       -0.361336   \n",
              "movies                                      -0.361336   \n",
              "tv                                          -0.361336   \n",
              "books                                       -0.361336   \n",
              "about                                       -0.361336   \n",
              "quotes                                      -0.361336   \n",
              "albums                                      -0.059630   \n",
              "audios                                      -0.081194   \n",
              "followers                                   -0.053600   \n",
              "friends                                     -0.082469   \n",
              "pages                                       -0.087120   \n",
              "photos                                       0.001411   \n",
              "subscriptions                               -0.074767   \n",
              "videos                                      -0.024257   \n",
              "clips_followers                             -0.083348   \n",
              "age                                         -0.277740   \n",
              "city                                        -0.008649   \n",
              "country                                     -0.003757   \n",
              "avg_cl                                      -0.592500   \n",
              "trans                                       -0.521451   \n",
              "deg_centr                                    0.554339   \n",
              "average_neighbor_degree                      1.000000   \n",
              "average_degree_connectivity                 -0.215967   \n",
              "k_nearest_neighbors                         -0.215967   \n",
              "degree_centrality                            0.554339   \n",
              "closeness_centrality                        -0.634606   \n",
              "betweenness_centrality                      -0.353446   \n",
              "diameter                                    -0.665231   \n",
              "average_shortest_path_length                -0.667129   \n",
              "target                                      -0.197882   \n",
              "\n",
              "                              average_degree_connectivity  \\\n",
              "uid                                             -0.044502   \n",
              "has_photo                                        0.258880   \n",
              "sex                                             -0.064448   \n",
              "has_mobile                                       0.190929   \n",
              "followers_count                                  0.291550   \n",
              "relatives                                        0.321946   \n",
              "relation                                         0.321946   \n",
              "personal                                         0.321946   \n",
              "activities                                       0.321946   \n",
              "music                                            0.321946   \n",
              "movies                                           0.321946   \n",
              "tv                                               0.321946   \n",
              "books                                            0.321946   \n",
              "about                                            0.321946   \n",
              "quotes                                           0.321946   \n",
              "albums                                           0.153608   \n",
              "audios                                           0.101386   \n",
              "followers                                        0.291550   \n",
              "friends                                          0.352551   \n",
              "pages                                            0.091957   \n",
              "photos                                           0.001338   \n",
              "subscriptions                                    0.094528   \n",
              "videos                                           0.049433   \n",
              "clips_followers                                  0.438330   \n",
              "age                                              0.005435   \n",
              "city                                            -0.003336   \n",
              "country                                          0.007056   \n",
              "avg_cl                                           0.463595   \n",
              "trans                                            0.331211   \n",
              "deg_centr                                       -0.611788   \n",
              "average_neighbor_degree                         -0.215967   \n",
              "average_degree_connectivity                      1.000000   \n",
              "k_nearest_neighbors                              1.000000   \n",
              "degree_centrality                               -0.611788   \n",
              "closeness_centrality                             0.372867   \n",
              "betweenness_centrality                          -0.032688   \n",
              "diameter                                         0.536998   \n",
              "average_shortest_path_length                     0.497820   \n",
              "target                                           0.090126   \n",
              "\n",
              "                              k_nearest_neighbors  degree_centrality  \\\n",
              "uid                                     -0.044502           0.020116   \n",
              "has_photo                                0.258880          -0.384667   \n",
              "sex                                     -0.064448          -0.014991   \n",
              "has_mobile                               0.190929          -0.320450   \n",
              "followers_count                          0.291550          -0.145493   \n",
              "relatives                                0.321946          -0.529256   \n",
              "relation                                 0.321946          -0.529256   \n",
              "personal                                 0.321946          -0.529256   \n",
              "activities                               0.321946          -0.529256   \n",
              "music                                    0.321946          -0.529256   \n",
              "movies                                   0.321946          -0.529256   \n",
              "tv                                       0.321946          -0.529256   \n",
              "books                                    0.321946          -0.529256   \n",
              "about                                    0.321946          -0.529256   \n",
              "quotes                                   0.321946          -0.529256   \n",
              "albums                                   0.153608          -0.194378   \n",
              "audios                                   0.101386          -0.121926   \n",
              "followers                                0.291550          -0.145493   \n",
              "friends                                  0.352551          -0.197642   \n",
              "pages                                    0.091957          -0.096767   \n",
              "photos                                   0.001338           0.001095   \n",
              "subscriptions                            0.094528          -0.068541   \n",
              "videos                                   0.049433          -0.052031   \n",
              "clips_followers                          0.438330          -0.267573   \n",
              "age                                      0.005435          -0.101102   \n",
              "city                                    -0.003336          -0.007423   \n",
              "country                                  0.007056          -0.012186   \n",
              "avg_cl                                   0.463595          -0.681694   \n",
              "trans                                    0.331211          -0.410506   \n",
              "deg_centr                               -0.611788           1.000000   \n",
              "average_neighbor_degree                 -0.215967           0.554339   \n",
              "average_degree_connectivity              1.000000          -0.611788   \n",
              "k_nearest_neighbors                      1.000000          -0.611788   \n",
              "degree_centrality                       -0.611788           1.000000   \n",
              "closeness_centrality                     0.372867          -0.641085   \n",
              "betweenness_centrality                  -0.032688          -0.307659   \n",
              "diameter                                 0.536998          -0.912288   \n",
              "average_shortest_path_length             0.497820          -0.839701   \n",
              "target                                   0.090126          -0.043189   \n",
              "\n",
              "                              closeness_centrality  betweenness_centrality  \\\n",
              "uid                                       0.060585                0.059767   \n",
              "has_photo                                 0.284190                0.136714   \n",
              "sex                                       0.092469                0.086492   \n",
              "has_mobile                                0.366207                0.180073   \n",
              "followers_count                           0.079896               -0.019278   \n",
              "relatives                                 0.614529                0.300598   \n",
              "relation                                  0.614529                0.300598   \n",
              "personal                                  0.614529                0.300598   \n",
              "activities                                0.614529                0.300598   \n",
              "music                                     0.614529                0.300598   \n",
              "movies                                    0.614529                0.300598   \n",
              "tv                                        0.614529                0.300598   \n",
              "books                                     0.614529                0.300598   \n",
              "about                                     0.614529                0.300598   \n",
              "quotes                                    0.614529                0.300598   \n",
              "albums                                    0.086938               -0.022185   \n",
              "audios                                    0.076386                0.014959   \n",
              "followers                                 0.079896               -0.019278   \n",
              "friends                                   0.060260               -0.055396   \n",
              "pages                                     0.046327               -0.002502   \n",
              "photos                                    0.023353               -0.003346   \n",
              "subscriptions                             0.005149               -0.023997   \n",
              "videos                                    0.041834                0.003625   \n",
              "clips_followers                           0.123808               -0.035965   \n",
              "age                                       0.280784                0.159598   \n",
              "city                                      0.022944                0.027461   \n",
              "country                                   0.022736                0.014754   \n",
              "avg_cl                                    0.686787                0.151798   \n",
              "trans                                     0.626034                0.162101   \n",
              "deg_centr                                -0.641085               -0.307659   \n",
              "average_neighbor_degree                  -0.634606               -0.353446   \n",
              "average_degree_connectivity               0.372867               -0.032688   \n",
              "k_nearest_neighbors                       0.372867               -0.032688   \n",
              "degree_centrality                        -0.641085               -0.307659   \n",
              "closeness_centrality                      1.000000                0.480340   \n",
              "betweenness_centrality                    0.480340                1.000000   \n",
              "diameter                                  0.873874                0.512966   \n",
              "average_shortest_path_length              0.954573                0.472152   \n",
              "target                                   -0.079713               -0.084627   \n",
              "\n",
              "                              diameter  average_shortest_path_length    target  \n",
              "uid                           0.026345                      0.036978 -0.596500  \n",
              "has_photo                     0.368414                      0.349417  0.293097  \n",
              "sex                           0.056460                      0.071573  0.017542  \n",
              "has_mobile                    0.373837                      0.383259  0.165748  \n",
              "followers_count               0.118164                      0.110844  0.058470  \n",
              "relatives                     0.621527                      0.639679 -0.158621  \n",
              "relation                      0.621527                      0.639679 -0.158621  \n",
              "personal                      0.621527                      0.639679 -0.158621  \n",
              "activities                    0.621527                      0.639679 -0.158621  \n",
              "music                         0.621527                      0.639679 -0.158621  \n",
              "movies                        0.621527                      0.639679 -0.158621  \n",
              "tv                            0.621527                      0.639679 -0.158621  \n",
              "books                         0.621527                      0.639679 -0.158621  \n",
              "about                         0.621527                      0.639679 -0.158621  \n",
              "quotes                        0.621527                      0.639679 -0.158621  \n",
              "albums                        0.146377                      0.134314  0.035161  \n",
              "audios                        0.107192                      0.100473  0.034878  \n",
              "followers                     0.118164                      0.110844  0.058470  \n",
              "friends                       0.130588                      0.115144  0.127289  \n",
              "pages                         0.072253                      0.068380  0.032149  \n",
              "photos                        0.006873                      0.015479 -0.002527  \n",
              "subscriptions                 0.035134                      0.028182  0.172224  \n",
              "videos                        0.046446                      0.048670  0.021056  \n",
              "clips_followers               0.202332                      0.186789  0.047816  \n",
              "age                           0.214192                      0.240598 -0.042601  \n",
              "city                          0.019997                      0.019645 -0.015861  \n",
              "country                       0.017999                      0.020645 -0.007376  \n",
              "avg_cl                        0.775584                      0.754909 -0.055875  \n",
              "trans                         0.605800                      0.611200 -0.096028  \n",
              "deg_centr                    -0.912288                     -0.839701 -0.043189  \n",
              "average_neighbor_degree      -0.665231                     -0.667129 -0.197882  \n",
              "average_degree_connectivity   0.536998                      0.497820  0.090126  \n",
              "k_nearest_neighbors           0.536998                      0.497820  0.090126  \n",
              "degree_centrality            -0.912288                     -0.839701 -0.043189  \n",
              "closeness_centrality          0.873874                      0.954573 -0.079713  \n",
              "betweenness_centrality        0.512966                      0.472152 -0.084627  \n",
              "diameter                      1.000000                      0.974314 -0.027153  \n",
              "average_shortest_path_length  0.974314                      1.000000 -0.042751  \n",
              "target                       -0.027153                     -0.042751  1.000000  \n",
              "\n",
              "[39 rows x 39 columns]"
            ],
            "text/html": [
              "\n",
              "  <div id=\"df-e541a807-7bef-485e-8292-e21dd11ba503\">\n",
              "    <div class=\"colab-df-container\">\n",
              "      <div>\n",
              "<style scoped>\n",
              "    .dataframe tbody tr th:only-of-type {\n",
              "        vertical-align: middle;\n",
              "    }\n",
              "\n",
              "    .dataframe tbody tr th {\n",
              "        vertical-align: top;\n",
              "    }\n",
              "\n",
              "    .dataframe thead th {\n",
              "        text-align: right;\n",
              "    }\n",
              "</style>\n",
              "<table border=\"1\" class=\"dataframe\">\n",
              "  <thead>\n",
              "    <tr style=\"text-align: right;\">\n",
              "      <th></th>\n",
              "      <th>uid</th>\n",
              "      <th>has_photo</th>\n",
              "      <th>sex</th>\n",
              "      <th>has_mobile</th>\n",
              "      <th>followers_count</th>\n",
              "      <th>relatives</th>\n",
              "      <th>relation</th>\n",
              "      <th>personal</th>\n",
              "      <th>activities</th>\n",
              "      <th>music</th>\n",
              "      <th>...</th>\n",
              "      <th>deg_centr</th>\n",
              "      <th>average_neighbor_degree</th>\n",
              "      <th>average_degree_connectivity</th>\n",
              "      <th>k_nearest_neighbors</th>\n",
              "      <th>degree_centrality</th>\n",
              "      <th>closeness_centrality</th>\n",
              "      <th>betweenness_centrality</th>\n",
              "      <th>diameter</th>\n",
              "      <th>average_shortest_path_length</th>\n",
              "      <th>target</th>\n",
              "    </tr>\n",
              "  </thead>\n",
              "  <tbody>\n",
              "    <tr>\n",
              "      <th>uid</th>\n",
              "      <td>1.000000</td>\n",
              "      <td>-0.182193</td>\n",
              "      <td>-0.042038</td>\n",
              "      <td>-0.100482</td>\n",
              "      <td>-0.084965</td>\n",
              "      <td>0.145527</td>\n",
              "      <td>0.145527</td>\n",
              "      <td>0.145527</td>\n",
              "      <td>0.145527</td>\n",
              "      <td>0.145527</td>\n",
              "      <td>...</td>\n",
              "      <td>0.020116</td>\n",
              "      <td>0.424484</td>\n",
              "      <td>-0.044502</td>\n",
              "      <td>-0.044502</td>\n",
              "      <td>0.020116</td>\n",
              "      <td>0.060585</td>\n",
              "      <td>0.059767</td>\n",
              "      <td>0.026345</td>\n",
              "      <td>0.036978</td>\n",
              "      <td>-0.596500</td>\n",
              "    </tr>\n",
              "    <tr>\n",
              "      <th>has_photo</th>\n",
              "      <td>-0.182193</td>\n",
              "      <td>1.000000</td>\n",
              "      <td>0.094739</td>\n",
              "      <td>0.645549</td>\n",
              "      <td>0.076748</td>\n",
              "      <td>0.261951</td>\n",
              "      <td>0.261951</td>\n",
              "      <td>0.261951</td>\n",
              "      <td>0.261951</td>\n",
              "      <td>0.261951</td>\n",
              "      <td>...</td>\n",
              "      <td>-0.384667</td>\n",
              "      <td>-0.302781</td>\n",
              "      <td>0.258880</td>\n",
              "      <td>0.258880</td>\n",
              "      <td>-0.384667</td>\n",
              "      <td>0.284190</td>\n",
              "      <td>0.136714</td>\n",
              "      <td>0.368414</td>\n",
              "      <td>0.349417</td>\n",
              "      <td>0.293097</td>\n",
              "    </tr>\n",
              "    <tr>\n",
              "      <th>sex</th>\n",
              "      <td>-0.042038</td>\n",
              "      <td>0.094739</td>\n",
              "      <td>1.000000</td>\n",
              "      <td>0.210162</td>\n",
              "      <td>-0.028334</td>\n",
              "      <td>0.059933</td>\n",
              "      <td>0.059933</td>\n",
              "      <td>0.059933</td>\n",
              "      <td>0.059933</td>\n",
              "      <td>0.059933</td>\n",
              "      <td>...</td>\n",
              "      <td>-0.014991</td>\n",
              "      <td>-0.127934</td>\n",
              "      <td>-0.064448</td>\n",
              "      <td>-0.064448</td>\n",
              "      <td>-0.014991</td>\n",
              "      <td>0.092469</td>\n",
              "      <td>0.086492</td>\n",
              "      <td>0.056460</td>\n",
              "      <td>0.071573</td>\n",
              "      <td>0.017542</td>\n",
              "    </tr>\n",
              "    <tr>\n",
              "      <th>has_mobile</th>\n",
              "      <td>-0.100482</td>\n",
              "      <td>0.645549</td>\n",
              "      <td>0.210162</td>\n",
              "      <td>1.000000</td>\n",
              "      <td>0.053349</td>\n",
              "      <td>0.493540</td>\n",
              "      <td>0.493540</td>\n",
              "      <td>0.493540</td>\n",
              "      <td>0.493540</td>\n",
              "      <td>0.493540</td>\n",
              "      <td>...</td>\n",
              "      <td>-0.320450</td>\n",
              "      <td>-0.327498</td>\n",
              "      <td>0.190929</td>\n",
              "      <td>0.190929</td>\n",
              "      <td>-0.320450</td>\n",
              "      <td>0.366207</td>\n",
              "      <td>0.180073</td>\n",
              "      <td>0.373837</td>\n",
              "      <td>0.383259</td>\n",
              "      <td>0.165748</td>\n",
              "    </tr>\n",
              "    <tr>\n",
              "      <th>followers_count</th>\n",
              "      <td>-0.084965</td>\n",
              "      <td>0.076748</td>\n",
              "      <td>-0.028334</td>\n",
              "      <td>0.053349</td>\n",
              "      <td>1.000000</td>\n",
              "      <td>0.068794</td>\n",
              "      <td>0.068794</td>\n",
              "      <td>0.068794</td>\n",
              "      <td>0.068794</td>\n",
              "      <td>0.068794</td>\n",
              "      <td>...</td>\n",
              "      <td>-0.145493</td>\n",
              "      <td>-0.053600</td>\n",
              "      <td>0.291550</td>\n",
              "      <td>0.291550</td>\n",
              "      <td>-0.145493</td>\n",
              "      <td>0.079896</td>\n",
              "      <td>-0.019278</td>\n",
              "      <td>0.118164</td>\n",
              "      <td>0.110844</td>\n",
              "      <td>0.058470</td>\n",
              "    </tr>\n",
              "    <tr>\n",
              "      <th>relatives</th>\n",
              "      <td>0.145527</td>\n",
              "      <td>0.261951</td>\n",
              "      <td>0.059933</td>\n",
              "      <td>0.493540</td>\n",
              "      <td>0.068794</td>\n",
              "      <td>1.000000</td>\n",
              "      <td>1.000000</td>\n",
              "      <td>1.000000</td>\n",
              "      <td>1.000000</td>\n",
              "      <td>1.000000</td>\n",
              "      <td>...</td>\n",
              "      <td>-0.529256</td>\n",
              "      <td>-0.361336</td>\n",
              "      <td>0.321946</td>\n",
              "      <td>0.321946</td>\n",
              "      <td>-0.529256</td>\n",
              "      <td>0.614529</td>\n",
              "      <td>0.300598</td>\n",
              "      <td>0.621527</td>\n",
              "      <td>0.639679</td>\n",
              "      <td>-0.158621</td>\n",
              "    </tr>\n",
              "    <tr>\n",
              "      <th>relation</th>\n",
              "      <td>0.145527</td>\n",
              "      <td>0.261951</td>\n",
              "      <td>0.059933</td>\n",
              "      <td>0.493540</td>\n",
              "      <td>0.068794</td>\n",
              "      <td>1.000000</td>\n",
              "      <td>1.000000</td>\n",
              "      <td>1.000000</td>\n",
              "      <td>1.000000</td>\n",
              "      <td>1.000000</td>\n",
              "      <td>...</td>\n",
              "      <td>-0.529256</td>\n",
              "      <td>-0.361336</td>\n",
              "      <td>0.321946</td>\n",
              "      <td>0.321946</td>\n",
              "      <td>-0.529256</td>\n",
              "      <td>0.614529</td>\n",
              "      <td>0.300598</td>\n",
              "      <td>0.621527</td>\n",
              "      <td>0.639679</td>\n",
              "      <td>-0.158621</td>\n",
              "    </tr>\n",
              "    <tr>\n",
              "      <th>personal</th>\n",
              "      <td>0.145527</td>\n",
              "      <td>0.261951</td>\n",
              "      <td>0.059933</td>\n",
              "      <td>0.493540</td>\n",
              "      <td>0.068794</td>\n",
              "      <td>1.000000</td>\n",
              "      <td>1.000000</td>\n",
              "      <td>1.000000</td>\n",
              "      <td>1.000000</td>\n",
              "      <td>1.000000</td>\n",
              "      <td>...</td>\n",
              "      <td>-0.529256</td>\n",
              "      <td>-0.361336</td>\n",
              "      <td>0.321946</td>\n",
              "      <td>0.321946</td>\n",
              "      <td>-0.529256</td>\n",
              "      <td>0.614529</td>\n",
              "      <td>0.300598</td>\n",
              "      <td>0.621527</td>\n",
              "      <td>0.639679</td>\n",
              "      <td>-0.158621</td>\n",
              "    </tr>\n",
              "    <tr>\n",
              "      <th>activities</th>\n",
              "      <td>0.145527</td>\n",
              "      <td>0.261951</td>\n",
              "      <td>0.059933</td>\n",
              "      <td>0.493540</td>\n",
              "      <td>0.068794</td>\n",
              "      <td>1.000000</td>\n",
              "      <td>1.000000</td>\n",
              "      <td>1.000000</td>\n",
              "      <td>1.000000</td>\n",
              "      <td>1.000000</td>\n",
              "      <td>...</td>\n",
              "      <td>-0.529256</td>\n",
              "      <td>-0.361336</td>\n",
              "      <td>0.321946</td>\n",
              "      <td>0.321946</td>\n",
              "      <td>-0.529256</td>\n",
              "      <td>0.614529</td>\n",
              "      <td>0.300598</td>\n",
              "      <td>0.621527</td>\n",
              "      <td>0.639679</td>\n",
              "      <td>-0.158621</td>\n",
              "    </tr>\n",
              "    <tr>\n",
              "      <th>music</th>\n",
              "      <td>0.145527</td>\n",
              "      <td>0.261951</td>\n",
              "      <td>0.059933</td>\n",
              "      <td>0.493540</td>\n",
              "      <td>0.068794</td>\n",
              "      <td>1.000000</td>\n",
              "      <td>1.000000</td>\n",
              "      <td>1.000000</td>\n",
              "      <td>1.000000</td>\n",
              "      <td>1.000000</td>\n",
              "      <td>...</td>\n",
              "      <td>-0.529256</td>\n",
              "      <td>-0.361336</td>\n",
              "      <td>0.321946</td>\n",
              "      <td>0.321946</td>\n",
              "      <td>-0.529256</td>\n",
              "      <td>0.614529</td>\n",
              "      <td>0.300598</td>\n",
              "      <td>0.621527</td>\n",
              "      <td>0.639679</td>\n",
              "      <td>-0.158621</td>\n",
              "    </tr>\n",
              "    <tr>\n",
              "      <th>movies</th>\n",
              "      <td>0.145527</td>\n",
              "      <td>0.261951</td>\n",
              "      <td>0.059933</td>\n",
              "      <td>0.493540</td>\n",
              "      <td>0.068794</td>\n",
              "      <td>1.000000</td>\n",
              "      <td>1.000000</td>\n",
              "      <td>1.000000</td>\n",
              "      <td>1.000000</td>\n",
              "      <td>1.000000</td>\n",
              "      <td>...</td>\n",
              "      <td>-0.529256</td>\n",
              "      <td>-0.361336</td>\n",
              "      <td>0.321946</td>\n",
              "      <td>0.321946</td>\n",
              "      <td>-0.529256</td>\n",
              "      <td>0.614529</td>\n",
              "      <td>0.300598</td>\n",
              "      <td>0.621527</td>\n",
              "      <td>0.639679</td>\n",
              "      <td>-0.158621</td>\n",
              "    </tr>\n",
              "    <tr>\n",
              "      <th>tv</th>\n",
              "      <td>0.145527</td>\n",
              "      <td>0.261951</td>\n",
              "      <td>0.059933</td>\n",
              "      <td>0.493540</td>\n",
              "      <td>0.068794</td>\n",
              "      <td>1.000000</td>\n",
              "      <td>1.000000</td>\n",
              "      <td>1.000000</td>\n",
              "      <td>1.000000</td>\n",
              "      <td>1.000000</td>\n",
              "      <td>...</td>\n",
              "      <td>-0.529256</td>\n",
              "      <td>-0.361336</td>\n",
              "      <td>0.321946</td>\n",
              "      <td>0.321946</td>\n",
              "      <td>-0.529256</td>\n",
              "      <td>0.614529</td>\n",
              "      <td>0.300598</td>\n",
              "      <td>0.621527</td>\n",
              "      <td>0.639679</td>\n",
              "      <td>-0.158621</td>\n",
              "    </tr>\n",
              "    <tr>\n",
              "      <th>books</th>\n",
              "      <td>0.145527</td>\n",
              "      <td>0.261951</td>\n",
              "      <td>0.059933</td>\n",
              "      <td>0.493540</td>\n",
              "      <td>0.068794</td>\n",
              "      <td>1.000000</td>\n",
              "      <td>1.000000</td>\n",
              "      <td>1.000000</td>\n",
              "      <td>1.000000</td>\n",
              "      <td>1.000000</td>\n",
              "      <td>...</td>\n",
              "      <td>-0.529256</td>\n",
              "      <td>-0.361336</td>\n",
              "      <td>0.321946</td>\n",
              "      <td>0.321946</td>\n",
              "      <td>-0.529256</td>\n",
              "      <td>0.614529</td>\n",
              "      <td>0.300598</td>\n",
              "      <td>0.621527</td>\n",
              "      <td>0.639679</td>\n",
              "      <td>-0.158621</td>\n",
              "    </tr>\n",
              "    <tr>\n",
              "      <th>about</th>\n",
              "      <td>0.145527</td>\n",
              "      <td>0.261951</td>\n",
              "      <td>0.059933</td>\n",
              "      <td>0.493540</td>\n",
              "      <td>0.068794</td>\n",
              "      <td>1.000000</td>\n",
              "      <td>1.000000</td>\n",
              "      <td>1.000000</td>\n",
              "      <td>1.000000</td>\n",
              "      <td>1.000000</td>\n",
              "      <td>...</td>\n",
              "      <td>-0.529256</td>\n",
              "      <td>-0.361336</td>\n",
              "      <td>0.321946</td>\n",
              "      <td>0.321946</td>\n",
              "      <td>-0.529256</td>\n",
              "      <td>0.614529</td>\n",
              "      <td>0.300598</td>\n",
              "      <td>0.621527</td>\n",
              "      <td>0.639679</td>\n",
              "      <td>-0.158621</td>\n",
              "    </tr>\n",
              "    <tr>\n",
              "      <th>quotes</th>\n",
              "      <td>0.145527</td>\n",
              "      <td>0.261951</td>\n",
              "      <td>0.059933</td>\n",
              "      <td>0.493540</td>\n",
              "      <td>0.068794</td>\n",
              "      <td>1.000000</td>\n",
              "      <td>1.000000</td>\n",
              "      <td>1.000000</td>\n",
              "      <td>1.000000</td>\n",
              "      <td>1.000000</td>\n",
              "      <td>...</td>\n",
              "      <td>-0.529256</td>\n",
              "      <td>-0.361336</td>\n",
              "      <td>0.321946</td>\n",
              "      <td>0.321946</td>\n",
              "      <td>-0.529256</td>\n",
              "      <td>0.614529</td>\n",
              "      <td>0.300598</td>\n",
              "      <td>0.621527</td>\n",
              "      <td>0.639679</td>\n",
              "      <td>-0.158621</td>\n",
              "    </tr>\n",
              "    <tr>\n",
              "      <th>albums</th>\n",
              "      <td>-0.096894</td>\n",
              "      <td>0.153622</td>\n",
              "      <td>-0.096003</td>\n",
              "      <td>0.105671</td>\n",
              "      <td>0.054678</td>\n",
              "      <td>0.174856</td>\n",
              "      <td>0.174856</td>\n",
              "      <td>0.174856</td>\n",
              "      <td>0.174856</td>\n",
              "      <td>0.174856</td>\n",
              "      <td>...</td>\n",
              "      <td>-0.194378</td>\n",
              "      <td>-0.059630</td>\n",
              "      <td>0.153608</td>\n",
              "      <td>0.153608</td>\n",
              "      <td>-0.194378</td>\n",
              "      <td>0.086938</td>\n",
              "      <td>-0.022185</td>\n",
              "      <td>0.146377</td>\n",
              "      <td>0.134314</td>\n",
              "      <td>0.035161</td>\n",
              "    </tr>\n",
              "    <tr>\n",
              "      <th>audios</th>\n",
              "      <td>-0.067229</td>\n",
              "      <td>0.051156</td>\n",
              "      <td>0.001359</td>\n",
              "      <td>0.050688</td>\n",
              "      <td>0.067595</td>\n",
              "      <td>0.071476</td>\n",
              "      <td>0.071476</td>\n",
              "      <td>0.071476</td>\n",
              "      <td>0.071476</td>\n",
              "      <td>0.071476</td>\n",
              "      <td>...</td>\n",
              "      <td>-0.121926</td>\n",
              "      <td>-0.081194</td>\n",
              "      <td>0.101386</td>\n",
              "      <td>0.101386</td>\n",
              "      <td>-0.121926</td>\n",
              "      <td>0.076386</td>\n",
              "      <td>0.014959</td>\n",
              "      <td>0.107192</td>\n",
              "      <td>0.100473</td>\n",
              "      <td>0.034878</td>\n",
              "    </tr>\n",
              "    <tr>\n",
              "      <th>followers</th>\n",
              "      <td>-0.084965</td>\n",
              "      <td>0.076748</td>\n",
              "      <td>-0.028334</td>\n",
              "      <td>0.053349</td>\n",
              "      <td>1.000000</td>\n",
              "      <td>0.068794</td>\n",
              "      <td>0.068794</td>\n",
              "      <td>0.068794</td>\n",
              "      <td>0.068794</td>\n",
              "      <td>0.068794</td>\n",
              "      <td>...</td>\n",
              "      <td>-0.145493</td>\n",
              "      <td>-0.053600</td>\n",
              "      <td>0.291550</td>\n",
              "      <td>0.291550</td>\n",
              "      <td>-0.145493</td>\n",
              "      <td>0.079896</td>\n",
              "      <td>-0.019278</td>\n",
              "      <td>0.118164</td>\n",
              "      <td>0.110844</td>\n",
              "      <td>0.058470</td>\n",
              "    </tr>\n",
              "    <tr>\n",
              "      <th>friends</th>\n",
              "      <td>-0.113498</td>\n",
              "      <td>0.137733</td>\n",
              "      <td>-0.026208</td>\n",
              "      <td>0.098295</td>\n",
              "      <td>0.355349</td>\n",
              "      <td>0.036255</td>\n",
              "      <td>0.036255</td>\n",
              "      <td>0.036255</td>\n",
              "      <td>0.036255</td>\n",
              "      <td>0.036255</td>\n",
              "      <td>...</td>\n",
              "      <td>-0.197642</td>\n",
              "      <td>-0.082469</td>\n",
              "      <td>0.352551</td>\n",
              "      <td>0.352551</td>\n",
              "      <td>-0.197642</td>\n",
              "      <td>0.060260</td>\n",
              "      <td>-0.055396</td>\n",
              "      <td>0.130588</td>\n",
              "      <td>0.115144</td>\n",
              "      <td>0.127289</td>\n",
              "    </tr>\n",
              "    <tr>\n",
              "      <th>pages</th>\n",
              "      <td>-0.076749</td>\n",
              "      <td>0.139714</td>\n",
              "      <td>0.080767</td>\n",
              "      <td>0.137255</td>\n",
              "      <td>0.045425</td>\n",
              "      <td>0.016670</td>\n",
              "      <td>0.016670</td>\n",
              "      <td>0.016670</td>\n",
              "      <td>0.016670</td>\n",
              "      <td>0.016670</td>\n",
              "      <td>...</td>\n",
              "      <td>-0.096767</td>\n",
              "      <td>-0.087120</td>\n",
              "      <td>0.091957</td>\n",
              "      <td>0.091957</td>\n",
              "      <td>-0.096767</td>\n",
              "      <td>0.046327</td>\n",
              "      <td>-0.002502</td>\n",
              "      <td>0.072253</td>\n",
              "      <td>0.068380</td>\n",
              "      <td>0.032149</td>\n",
              "    </tr>\n",
              "    <tr>\n",
              "      <th>photos</th>\n",
              "      <td>-0.001169</td>\n",
              "      <td>0.010472</td>\n",
              "      <td>0.009643</td>\n",
              "      <td>0.007285</td>\n",
              "      <td>0.017189</td>\n",
              "      <td>0.012541</td>\n",
              "      <td>0.012541</td>\n",
              "      <td>0.012541</td>\n",
              "      <td>0.012541</td>\n",
              "      <td>0.012541</td>\n",
              "      <td>...</td>\n",
              "      <td>0.001095</td>\n",
              "      <td>0.001411</td>\n",
              "      <td>0.001338</td>\n",
              "      <td>0.001338</td>\n",
              "      <td>0.001095</td>\n",
              "      <td>0.023353</td>\n",
              "      <td>-0.003346</td>\n",
              "      <td>0.006873</td>\n",
              "      <td>0.015479</td>\n",
              "      <td>-0.002527</td>\n",
              "    </tr>\n",
              "    <tr>\n",
              "      <th>subscriptions</th>\n",
              "      <td>-0.144857</td>\n",
              "      <td>0.088297</td>\n",
              "      <td>0.013568</td>\n",
              "      <td>0.057874</td>\n",
              "      <td>0.024471</td>\n",
              "      <td>-0.012271</td>\n",
              "      <td>-0.012271</td>\n",
              "      <td>-0.012271</td>\n",
              "      <td>-0.012271</td>\n",
              "      <td>-0.012271</td>\n",
              "      <td>...</td>\n",
              "      <td>-0.068541</td>\n",
              "      <td>-0.074767</td>\n",
              "      <td>0.094528</td>\n",
              "      <td>0.094528</td>\n",
              "      <td>-0.068541</td>\n",
              "      <td>0.005149</td>\n",
              "      <td>-0.023997</td>\n",
              "      <td>0.035134</td>\n",
              "      <td>0.028182</td>\n",
              "      <td>0.172224</td>\n",
              "    </tr>\n",
              "    <tr>\n",
              "      <th>videos</th>\n",
              "      <td>-0.051357</td>\n",
              "      <td>0.026944</td>\n",
              "      <td>0.019543</td>\n",
              "      <td>0.021269</td>\n",
              "      <td>0.061331</td>\n",
              "      <td>0.028138</td>\n",
              "      <td>0.028138</td>\n",
              "      <td>0.028138</td>\n",
              "      <td>0.028138</td>\n",
              "      <td>0.028138</td>\n",
              "      <td>...</td>\n",
              "      <td>-0.052031</td>\n",
              "      <td>-0.024257</td>\n",
              "      <td>0.049433</td>\n",
              "      <td>0.049433</td>\n",
              "      <td>-0.052031</td>\n",
              "      <td>0.041834</td>\n",
              "      <td>0.003625</td>\n",
              "      <td>0.046446</td>\n",
              "      <td>0.048670</td>\n",
              "      <td>0.021056</td>\n",
              "    </tr>\n",
              "    <tr>\n",
              "      <th>clips_followers</th>\n",
              "      <td>-0.053997</td>\n",
              "      <td>0.108410</td>\n",
              "      <td>-0.026076</td>\n",
              "      <td>0.078619</td>\n",
              "      <td>0.605825</td>\n",
              "      <td>0.113578</td>\n",
              "      <td>0.113578</td>\n",
              "      <td>0.113578</td>\n",
              "      <td>0.113578</td>\n",
              "      <td>0.113578</td>\n",
              "      <td>...</td>\n",
              "      <td>-0.267573</td>\n",
              "      <td>-0.083348</td>\n",
              "      <td>0.438330</td>\n",
              "      <td>0.438330</td>\n",
              "      <td>-0.267573</td>\n",
              "      <td>0.123808</td>\n",
              "      <td>-0.035965</td>\n",
              "      <td>0.202332</td>\n",
              "      <td>0.186789</td>\n",
              "      <td>0.047816</td>\n",
              "    </tr>\n",
              "    <tr>\n",
              "      <th>age</th>\n",
              "      <td>0.046440</td>\n",
              "      <td>0.208576</td>\n",
              "      <td>0.202896</td>\n",
              "      <td>0.480012</td>\n",
              "      <td>-0.015881</td>\n",
              "      <td>0.360858</td>\n",
              "      <td>0.360858</td>\n",
              "      <td>0.360858</td>\n",
              "      <td>0.360858</td>\n",
              "      <td>0.360858</td>\n",
              "      <td>...</td>\n",
              "      <td>-0.101102</td>\n",
              "      <td>-0.277740</td>\n",
              "      <td>0.005435</td>\n",
              "      <td>0.005435</td>\n",
              "      <td>-0.101102</td>\n",
              "      <td>0.280784</td>\n",
              "      <td>0.159598</td>\n",
              "      <td>0.214192</td>\n",
              "      <td>0.240598</td>\n",
              "      <td>-0.042601</td>\n",
              "    </tr>\n",
              "    <tr>\n",
              "      <th>city</th>\n",
              "      <td>0.008097</td>\n",
              "      <td>0.051775</td>\n",
              "      <td>0.039846</td>\n",
              "      <td>0.050796</td>\n",
              "      <td>-0.005614</td>\n",
              "      <td>0.021910</td>\n",
              "      <td>0.021910</td>\n",
              "      <td>0.021910</td>\n",
              "      <td>0.021910</td>\n",
              "      <td>0.021910</td>\n",
              "      <td>...</td>\n",
              "      <td>-0.007423</td>\n",
              "      <td>-0.008649</td>\n",
              "      <td>-0.003336</td>\n",
              "      <td>-0.003336</td>\n",
              "      <td>-0.007423</td>\n",
              "      <td>0.022944</td>\n",
              "      <td>0.027461</td>\n",
              "      <td>0.019997</td>\n",
              "      <td>0.019645</td>\n",
              "      <td>-0.015861</td>\n",
              "    </tr>\n",
              "    <tr>\n",
              "      <th>country</th>\n",
              "      <td>-0.007374</td>\n",
              "      <td>0.055593</td>\n",
              "      <td>0.045993</td>\n",
              "      <td>0.059751</td>\n",
              "      <td>-0.002440</td>\n",
              "      <td>0.025054</td>\n",
              "      <td>0.025054</td>\n",
              "      <td>0.025054</td>\n",
              "      <td>0.025054</td>\n",
              "      <td>0.025054</td>\n",
              "      <td>...</td>\n",
              "      <td>-0.012186</td>\n",
              "      <td>-0.003757</td>\n",
              "      <td>0.007056</td>\n",
              "      <td>0.007056</td>\n",
              "      <td>-0.012186</td>\n",
              "      <td>0.022736</td>\n",
              "      <td>0.014754</td>\n",
              "      <td>0.017999</td>\n",
              "      <td>0.020645</td>\n",
              "      <td>-0.007376</td>\n",
              "    </tr>\n",
              "    <tr>\n",
              "      <th>avg_cl</th>\n",
              "      <td>0.034929</td>\n",
              "      <td>0.265551</td>\n",
              "      <td>0.036533</td>\n",
              "      <td>0.295993</td>\n",
              "      <td>0.086651</td>\n",
              "      <td>0.483452</td>\n",
              "      <td>0.483452</td>\n",
              "      <td>0.483452</td>\n",
              "      <td>0.483452</td>\n",
              "      <td>0.483452</td>\n",
              "      <td>...</td>\n",
              "      <td>-0.681694</td>\n",
              "      <td>-0.592500</td>\n",
              "      <td>0.463595</td>\n",
              "      <td>0.463595</td>\n",
              "      <td>-0.681694</td>\n",
              "      <td>0.686787</td>\n",
              "      <td>0.151798</td>\n",
              "      <td>0.775584</td>\n",
              "      <td>0.754909</td>\n",
              "      <td>-0.055875</td>\n",
              "    </tr>\n",
              "    <tr>\n",
              "      <th>trans</th>\n",
              "      <td>0.057018</td>\n",
              "      <td>0.170724</td>\n",
              "      <td>0.041875</td>\n",
              "      <td>0.243269</td>\n",
              "      <td>0.048707</td>\n",
              "      <td>0.397628</td>\n",
              "      <td>0.397628</td>\n",
              "      <td>0.397628</td>\n",
              "      <td>0.397628</td>\n",
              "      <td>0.397628</td>\n",
              "      <td>...</td>\n",
              "      <td>-0.410506</td>\n",
              "      <td>-0.521451</td>\n",
              "      <td>0.331211</td>\n",
              "      <td>0.331211</td>\n",
              "      <td>-0.410506</td>\n",
              "      <td>0.626034</td>\n",
              "      <td>0.162101</td>\n",
              "      <td>0.605800</td>\n",
              "      <td>0.611200</td>\n",
              "      <td>-0.096028</td>\n",
              "    </tr>\n",
              "    <tr>\n",
              "      <th>deg_centr</th>\n",
              "      <td>0.020116</td>\n",
              "      <td>-0.384667</td>\n",
              "      <td>-0.014991</td>\n",
              "      <td>-0.320450</td>\n",
              "      <td>-0.145493</td>\n",
              "      <td>-0.529256</td>\n",
              "      <td>-0.529256</td>\n",
              "      <td>-0.529256</td>\n",
              "      <td>-0.529256</td>\n",
              "      <td>-0.529256</td>\n",
              "      <td>...</td>\n",
              "      <td>1.000000</td>\n",
              "      <td>0.554339</td>\n",
              "      <td>-0.611788</td>\n",
              "      <td>-0.611788</td>\n",
              "      <td>1.000000</td>\n",
              "      <td>-0.641085</td>\n",
              "      <td>-0.307659</td>\n",
              "      <td>-0.912288</td>\n",
              "      <td>-0.839701</td>\n",
              "      <td>-0.043189</td>\n",
              "    </tr>\n",
              "    <tr>\n",
              "      <th>average_neighbor_degree</th>\n",
              "      <td>0.424484</td>\n",
              "      <td>-0.302781</td>\n",
              "      <td>-0.127934</td>\n",
              "      <td>-0.327498</td>\n",
              "      <td>-0.053600</td>\n",
              "      <td>-0.361336</td>\n",
              "      <td>-0.361336</td>\n",
              "      <td>-0.361336</td>\n",
              "      <td>-0.361336</td>\n",
              "      <td>-0.361336</td>\n",
              "      <td>...</td>\n",
              "      <td>0.554339</td>\n",
              "      <td>1.000000</td>\n",
              "      <td>-0.215967</td>\n",
              "      <td>-0.215967</td>\n",
              "      <td>0.554339</td>\n",
              "      <td>-0.634606</td>\n",
              "      <td>-0.353446</td>\n",
              "      <td>-0.665231</td>\n",
              "      <td>-0.667129</td>\n",
              "      <td>-0.197882</td>\n",
              "    </tr>\n",
              "    <tr>\n",
              "      <th>average_degree_connectivity</th>\n",
              "      <td>-0.044502</td>\n",
              "      <td>0.258880</td>\n",
              "      <td>-0.064448</td>\n",
              "      <td>0.190929</td>\n",
              "      <td>0.291550</td>\n",
              "      <td>0.321946</td>\n",
              "      <td>0.321946</td>\n",
              "      <td>0.321946</td>\n",
              "      <td>0.321946</td>\n",
              "      <td>0.321946</td>\n",
              "      <td>...</td>\n",
              "      <td>-0.611788</td>\n",
              "      <td>-0.215967</td>\n",
              "      <td>1.000000</td>\n",
              "      <td>1.000000</td>\n",
              "      <td>-0.611788</td>\n",
              "      <td>0.372867</td>\n",
              "      <td>-0.032688</td>\n",
              "      <td>0.536998</td>\n",
              "      <td>0.497820</td>\n",
              "      <td>0.090126</td>\n",
              "    </tr>\n",
              "    <tr>\n",
              "      <th>k_nearest_neighbors</th>\n",
              "      <td>-0.044502</td>\n",
              "      <td>0.258880</td>\n",
              "      <td>-0.064448</td>\n",
              "      <td>0.190929</td>\n",
              "      <td>0.291550</td>\n",
              "      <td>0.321946</td>\n",
              "      <td>0.321946</td>\n",
              "      <td>0.321946</td>\n",
              "      <td>0.321946</td>\n",
              "      <td>0.321946</td>\n",
              "      <td>...</td>\n",
              "      <td>-0.611788</td>\n",
              "      <td>-0.215967</td>\n",
              "      <td>1.000000</td>\n",
              "      <td>1.000000</td>\n",
              "      <td>-0.611788</td>\n",
              "      <td>0.372867</td>\n",
              "      <td>-0.032688</td>\n",
              "      <td>0.536998</td>\n",
              "      <td>0.497820</td>\n",
              "      <td>0.090126</td>\n",
              "    </tr>\n",
              "    <tr>\n",
              "      <th>degree_centrality</th>\n",
              "      <td>0.020116</td>\n",
              "      <td>-0.384667</td>\n",
              "      <td>-0.014991</td>\n",
              "      <td>-0.320450</td>\n",
              "      <td>-0.145493</td>\n",
              "      <td>-0.529256</td>\n",
              "      <td>-0.529256</td>\n",
              "      <td>-0.529256</td>\n",
              "      <td>-0.529256</td>\n",
              "      <td>-0.529256</td>\n",
              "      <td>...</td>\n",
              "      <td>1.000000</td>\n",
              "      <td>0.554339</td>\n",
              "      <td>-0.611788</td>\n",
              "      <td>-0.611788</td>\n",
              "      <td>1.000000</td>\n",
              "      <td>-0.641085</td>\n",
              "      <td>-0.307659</td>\n",
              "      <td>-0.912288</td>\n",
              "      <td>-0.839701</td>\n",
              "      <td>-0.043189</td>\n",
              "    </tr>\n",
              "    <tr>\n",
              "      <th>closeness_centrality</th>\n",
              "      <td>0.060585</td>\n",
              "      <td>0.284190</td>\n",
              "      <td>0.092469</td>\n",
              "      <td>0.366207</td>\n",
              "      <td>0.079896</td>\n",
              "      <td>0.614529</td>\n",
              "      <td>0.614529</td>\n",
              "      <td>0.614529</td>\n",
              "      <td>0.614529</td>\n",
              "      <td>0.614529</td>\n",
              "      <td>...</td>\n",
              "      <td>-0.641085</td>\n",
              "      <td>-0.634606</td>\n",
              "      <td>0.372867</td>\n",
              "      <td>0.372867</td>\n",
              "      <td>-0.641085</td>\n",
              "      <td>1.000000</td>\n",
              "      <td>0.480340</td>\n",
              "      <td>0.873874</td>\n",
              "      <td>0.954573</td>\n",
              "      <td>-0.079713</td>\n",
              "    </tr>\n",
              "    <tr>\n",
              "      <th>betweenness_centrality</th>\n",
              "      <td>0.059767</td>\n",
              "      <td>0.136714</td>\n",
              "      <td>0.086492</td>\n",
              "      <td>0.180073</td>\n",
              "      <td>-0.019278</td>\n",
              "      <td>0.300598</td>\n",
              "      <td>0.300598</td>\n",
              "      <td>0.300598</td>\n",
              "      <td>0.300598</td>\n",
              "      <td>0.300598</td>\n",
              "      <td>...</td>\n",
              "      <td>-0.307659</td>\n",
              "      <td>-0.353446</td>\n",
              "      <td>-0.032688</td>\n",
              "      <td>-0.032688</td>\n",
              "      <td>-0.307659</td>\n",
              "      <td>0.480340</td>\n",
              "      <td>1.000000</td>\n",
              "      <td>0.512966</td>\n",
              "      <td>0.472152</td>\n",
              "      <td>-0.084627</td>\n",
              "    </tr>\n",
              "    <tr>\n",
              "      <th>diameter</th>\n",
              "      <td>0.026345</td>\n",
              "      <td>0.368414</td>\n",
              "      <td>0.056460</td>\n",
              "      <td>0.373837</td>\n",
              "      <td>0.118164</td>\n",
              "      <td>0.621527</td>\n",
              "      <td>0.621527</td>\n",
              "      <td>0.621527</td>\n",
              "      <td>0.621527</td>\n",
              "      <td>0.621527</td>\n",
              "      <td>...</td>\n",
              "      <td>-0.912288</td>\n",
              "      <td>-0.665231</td>\n",
              "      <td>0.536998</td>\n",
              "      <td>0.536998</td>\n",
              "      <td>-0.912288</td>\n",
              "      <td>0.873874</td>\n",
              "      <td>0.512966</td>\n",
              "      <td>1.000000</td>\n",
              "      <td>0.974314</td>\n",
              "      <td>-0.027153</td>\n",
              "    </tr>\n",
              "    <tr>\n",
              "      <th>average_shortest_path_length</th>\n",
              "      <td>0.036978</td>\n",
              "      <td>0.349417</td>\n",
              "      <td>0.071573</td>\n",
              "      <td>0.383259</td>\n",
              "      <td>0.110844</td>\n",
              "      <td>0.639679</td>\n",
              "      <td>0.639679</td>\n",
              "      <td>0.639679</td>\n",
              "      <td>0.639679</td>\n",
              "      <td>0.639679</td>\n",
              "      <td>...</td>\n",
              "      <td>-0.839701</td>\n",
              "      <td>-0.667129</td>\n",
              "      <td>0.497820</td>\n",
              "      <td>0.497820</td>\n",
              "      <td>-0.839701</td>\n",
              "      <td>0.954573</td>\n",
              "      <td>0.472152</td>\n",
              "      <td>0.974314</td>\n",
              "      <td>1.000000</td>\n",
              "      <td>-0.042751</td>\n",
              "    </tr>\n",
              "    <tr>\n",
              "      <th>target</th>\n",
              "      <td>-0.596500</td>\n",
              "      <td>0.293097</td>\n",
              "      <td>0.017542</td>\n",
              "      <td>0.165748</td>\n",
              "      <td>0.058470</td>\n",
              "      <td>-0.158621</td>\n",
              "      <td>-0.158621</td>\n",
              "      <td>-0.158621</td>\n",
              "      <td>-0.158621</td>\n",
              "      <td>-0.158621</td>\n",
              "      <td>...</td>\n",
              "      <td>-0.043189</td>\n",
              "      <td>-0.197882</td>\n",
              "      <td>0.090126</td>\n",
              "      <td>0.090126</td>\n",
              "      <td>-0.043189</td>\n",
              "      <td>-0.079713</td>\n",
              "      <td>-0.084627</td>\n",
              "      <td>-0.027153</td>\n",
              "      <td>-0.042751</td>\n",
              "      <td>1.000000</td>\n",
              "    </tr>\n",
              "  </tbody>\n",
              "</table>\n",
              "<p>39 rows × 39 columns</p>\n",
              "</div>\n",
              "      <button class=\"colab-df-convert\" onclick=\"convertToInteractive('df-e541a807-7bef-485e-8292-e21dd11ba503')\"\n",
              "              title=\"Convert this dataframe to an interactive table.\"\n",
              "              style=\"display:none;\">\n",
              "        \n",
              "  <svg xmlns=\"http://www.w3.org/2000/svg\" height=\"24px\"viewBox=\"0 0 24 24\"\n",
              "       width=\"24px\">\n",
              "    <path d=\"M0 0h24v24H0V0z\" fill=\"none\"/>\n",
              "    <path d=\"M18.56 5.44l.94 2.06.94-2.06 2.06-.94-2.06-.94-.94-2.06-.94 2.06-2.06.94zm-11 1L8.5 8.5l.94-2.06 2.06-.94-2.06-.94L8.5 2.5l-.94 2.06-2.06.94zm10 10l.94 2.06.94-2.06 2.06-.94-2.06-.94-.94-2.06-.94 2.06-2.06.94z\"/><path d=\"M17.41 7.96l-1.37-1.37c-.4-.4-.92-.59-1.43-.59-.52 0-1.04.2-1.43.59L10.3 9.45l-7.72 7.72c-.78.78-.78 2.05 0 2.83L4 21.41c.39.39.9.59 1.41.59.51 0 1.02-.2 1.41-.59l7.78-7.78 2.81-2.81c.8-.78.8-2.07 0-2.86zM5.41 20L4 18.59l7.72-7.72 1.47 1.35L5.41 20z\"/>\n",
              "  </svg>\n",
              "      </button>\n",
              "      \n",
              "  <style>\n",
              "    .colab-df-container {\n",
              "      display:flex;\n",
              "      flex-wrap:wrap;\n",
              "      gap: 12px;\n",
              "    }\n",
              "\n",
              "    .colab-df-convert {\n",
              "      background-color: #E8F0FE;\n",
              "      border: none;\n",
              "      border-radius: 50%;\n",
              "      cursor: pointer;\n",
              "      display: none;\n",
              "      fill: #1967D2;\n",
              "      height: 32px;\n",
              "      padding: 0 0 0 0;\n",
              "      width: 32px;\n",
              "    }\n",
              "\n",
              "    .colab-df-convert:hover {\n",
              "      background-color: #E2EBFA;\n",
              "      box-shadow: 0px 1px 2px rgba(60, 64, 67, 0.3), 0px 1px 3px 1px rgba(60, 64, 67, 0.15);\n",
              "      fill: #174EA6;\n",
              "    }\n",
              "\n",
              "    [theme=dark] .colab-df-convert {\n",
              "      background-color: #3B4455;\n",
              "      fill: #D2E3FC;\n",
              "    }\n",
              "\n",
              "    [theme=dark] .colab-df-convert:hover {\n",
              "      background-color: #434B5C;\n",
              "      box-shadow: 0px 1px 3px 1px rgba(0, 0, 0, 0.15);\n",
              "      filter: drop-shadow(0px 1px 2px rgba(0, 0, 0, 0.3));\n",
              "      fill: #FFFFFF;\n",
              "    }\n",
              "  </style>\n",
              "\n",
              "      <script>\n",
              "        const buttonEl =\n",
              "          document.querySelector('#df-e541a807-7bef-485e-8292-e21dd11ba503 button.colab-df-convert');\n",
              "        buttonEl.style.display =\n",
              "          google.colab.kernel.accessAllowed ? 'block' : 'none';\n",
              "\n",
              "        async function convertToInteractive(key) {\n",
              "          const element = document.querySelector('#df-e541a807-7bef-485e-8292-e21dd11ba503');\n",
              "          const dataTable =\n",
              "            await google.colab.kernel.invokeFunction('convertToInteractive',\n",
              "                                                     [key], {});\n",
              "          if (!dataTable) return;\n",
              "\n",
              "          const docLinkHtml = 'Like what you see? Visit the ' +\n",
              "            '<a target=\"_blank\" href=https://colab.research.google.com/notebooks/data_table.ipynb>data table notebook</a>'\n",
              "            + ' to learn more about interactive tables.';\n",
              "          element.innerHTML = '';\n",
              "          dataTable['output_type'] = 'display_data';\n",
              "          await google.colab.output.renderOutput(dataTable, element);\n",
              "          const docLink = document.createElement('div');\n",
              "          docLink.innerHTML = docLinkHtml;\n",
              "          element.appendChild(docLink);\n",
              "        }\n",
              "      </script>\n",
              "    </div>\n",
              "  </div>\n",
              "  "
            ]
          },
          "metadata": {},
          "execution_count": 66
        }
      ]
    },
    {
      "cell_type": "code",
      "metadata": {
        "colab": {
          "base_uri": "https://localhost:8080/",
          "height": 363
        },
        "id": "Cf7oKI9H_wV_",
        "outputId": "e7100797-7322-41ab-af7a-a431f4d97b91"
      },
      "source": [
        "df[['relation', 'personal', 'activities', 'music', 'movies', 'tv', 'books', 'about', 'quotes']].head(10)"
      ],
      "execution_count": 67,
      "outputs": [
        {
          "output_type": "execute_result",
          "data": {
            "text/plain": [
              "   relation  personal  activities  music  movies  tv  books  about  quotes\n",
              "0         1         1           1      1       1   1      1      1       1\n",
              "1         0         0           0      0       0   0      0      0       0\n",
              "2         1         1           1      1       1   1      1      1       1\n",
              "3         0         0           0      0       0   0      0      0       0\n",
              "4         1         1           1      1       1   1      1      1       1\n",
              "5         1         1           1      1       1   1      1      1       1\n",
              "6         1         1           1      1       1   1      1      1       1\n",
              "7         0         0           0      0       0   0      0      0       0\n",
              "8         0         0           0      0       0   0      0      0       0\n",
              "9         0         0           0      0       0   0      0      0       0"
            ],
            "text/html": [
              "\n",
              "  <div id=\"df-f40e5251-855b-46c5-8871-4dec0818afd8\">\n",
              "    <div class=\"colab-df-container\">\n",
              "      <div>\n",
              "<style scoped>\n",
              "    .dataframe tbody tr th:only-of-type {\n",
              "        vertical-align: middle;\n",
              "    }\n",
              "\n",
              "    .dataframe tbody tr th {\n",
              "        vertical-align: top;\n",
              "    }\n",
              "\n",
              "    .dataframe thead th {\n",
              "        text-align: right;\n",
              "    }\n",
              "</style>\n",
              "<table border=\"1\" class=\"dataframe\">\n",
              "  <thead>\n",
              "    <tr style=\"text-align: right;\">\n",
              "      <th></th>\n",
              "      <th>relation</th>\n",
              "      <th>personal</th>\n",
              "      <th>activities</th>\n",
              "      <th>music</th>\n",
              "      <th>movies</th>\n",
              "      <th>tv</th>\n",
              "      <th>books</th>\n",
              "      <th>about</th>\n",
              "      <th>quotes</th>\n",
              "    </tr>\n",
              "  </thead>\n",
              "  <tbody>\n",
              "    <tr>\n",
              "      <th>0</th>\n",
              "      <td>1</td>\n",
              "      <td>1</td>\n",
              "      <td>1</td>\n",
              "      <td>1</td>\n",
              "      <td>1</td>\n",
              "      <td>1</td>\n",
              "      <td>1</td>\n",
              "      <td>1</td>\n",
              "      <td>1</td>\n",
              "    </tr>\n",
              "    <tr>\n",
              "      <th>1</th>\n",
              "      <td>0</td>\n",
              "      <td>0</td>\n",
              "      <td>0</td>\n",
              "      <td>0</td>\n",
              "      <td>0</td>\n",
              "      <td>0</td>\n",
              "      <td>0</td>\n",
              "      <td>0</td>\n",
              "      <td>0</td>\n",
              "    </tr>\n",
              "    <tr>\n",
              "      <th>2</th>\n",
              "      <td>1</td>\n",
              "      <td>1</td>\n",
              "      <td>1</td>\n",
              "      <td>1</td>\n",
              "      <td>1</td>\n",
              "      <td>1</td>\n",
              "      <td>1</td>\n",
              "      <td>1</td>\n",
              "      <td>1</td>\n",
              "    </tr>\n",
              "    <tr>\n",
              "      <th>3</th>\n",
              "      <td>0</td>\n",
              "      <td>0</td>\n",
              "      <td>0</td>\n",
              "      <td>0</td>\n",
              "      <td>0</td>\n",
              "      <td>0</td>\n",
              "      <td>0</td>\n",
              "      <td>0</td>\n",
              "      <td>0</td>\n",
              "    </tr>\n",
              "    <tr>\n",
              "      <th>4</th>\n",
              "      <td>1</td>\n",
              "      <td>1</td>\n",
              "      <td>1</td>\n",
              "      <td>1</td>\n",
              "      <td>1</td>\n",
              "      <td>1</td>\n",
              "      <td>1</td>\n",
              "      <td>1</td>\n",
              "      <td>1</td>\n",
              "    </tr>\n",
              "    <tr>\n",
              "      <th>5</th>\n",
              "      <td>1</td>\n",
              "      <td>1</td>\n",
              "      <td>1</td>\n",
              "      <td>1</td>\n",
              "      <td>1</td>\n",
              "      <td>1</td>\n",
              "      <td>1</td>\n",
              "      <td>1</td>\n",
              "      <td>1</td>\n",
              "    </tr>\n",
              "    <tr>\n",
              "      <th>6</th>\n",
              "      <td>1</td>\n",
              "      <td>1</td>\n",
              "      <td>1</td>\n",
              "      <td>1</td>\n",
              "      <td>1</td>\n",
              "      <td>1</td>\n",
              "      <td>1</td>\n",
              "      <td>1</td>\n",
              "      <td>1</td>\n",
              "    </tr>\n",
              "    <tr>\n",
              "      <th>7</th>\n",
              "      <td>0</td>\n",
              "      <td>0</td>\n",
              "      <td>0</td>\n",
              "      <td>0</td>\n",
              "      <td>0</td>\n",
              "      <td>0</td>\n",
              "      <td>0</td>\n",
              "      <td>0</td>\n",
              "      <td>0</td>\n",
              "    </tr>\n",
              "    <tr>\n",
              "      <th>8</th>\n",
              "      <td>0</td>\n",
              "      <td>0</td>\n",
              "      <td>0</td>\n",
              "      <td>0</td>\n",
              "      <td>0</td>\n",
              "      <td>0</td>\n",
              "      <td>0</td>\n",
              "      <td>0</td>\n",
              "      <td>0</td>\n",
              "    </tr>\n",
              "    <tr>\n",
              "      <th>9</th>\n",
              "      <td>0</td>\n",
              "      <td>0</td>\n",
              "      <td>0</td>\n",
              "      <td>0</td>\n",
              "      <td>0</td>\n",
              "      <td>0</td>\n",
              "      <td>0</td>\n",
              "      <td>0</td>\n",
              "      <td>0</td>\n",
              "    </tr>\n",
              "  </tbody>\n",
              "</table>\n",
              "</div>\n",
              "      <button class=\"colab-df-convert\" onclick=\"convertToInteractive('df-f40e5251-855b-46c5-8871-4dec0818afd8')\"\n",
              "              title=\"Convert this dataframe to an interactive table.\"\n",
              "              style=\"display:none;\">\n",
              "        \n",
              "  <svg xmlns=\"http://www.w3.org/2000/svg\" height=\"24px\"viewBox=\"0 0 24 24\"\n",
              "       width=\"24px\">\n",
              "    <path d=\"M0 0h24v24H0V0z\" fill=\"none\"/>\n",
              "    <path d=\"M18.56 5.44l.94 2.06.94-2.06 2.06-.94-2.06-.94-.94-2.06-.94 2.06-2.06.94zm-11 1L8.5 8.5l.94-2.06 2.06-.94-2.06-.94L8.5 2.5l-.94 2.06-2.06.94zm10 10l.94 2.06.94-2.06 2.06-.94-2.06-.94-.94-2.06-.94 2.06-2.06.94z\"/><path d=\"M17.41 7.96l-1.37-1.37c-.4-.4-.92-.59-1.43-.59-.52 0-1.04.2-1.43.59L10.3 9.45l-7.72 7.72c-.78.78-.78 2.05 0 2.83L4 21.41c.39.39.9.59 1.41.59.51 0 1.02-.2 1.41-.59l7.78-7.78 2.81-2.81c.8-.78.8-2.07 0-2.86zM5.41 20L4 18.59l7.72-7.72 1.47 1.35L5.41 20z\"/>\n",
              "  </svg>\n",
              "      </button>\n",
              "      \n",
              "  <style>\n",
              "    .colab-df-container {\n",
              "      display:flex;\n",
              "      flex-wrap:wrap;\n",
              "      gap: 12px;\n",
              "    }\n",
              "\n",
              "    .colab-df-convert {\n",
              "      background-color: #E8F0FE;\n",
              "      border: none;\n",
              "      border-radius: 50%;\n",
              "      cursor: pointer;\n",
              "      display: none;\n",
              "      fill: #1967D2;\n",
              "      height: 32px;\n",
              "      padding: 0 0 0 0;\n",
              "      width: 32px;\n",
              "    }\n",
              "\n",
              "    .colab-df-convert:hover {\n",
              "      background-color: #E2EBFA;\n",
              "      box-shadow: 0px 1px 2px rgba(60, 64, 67, 0.3), 0px 1px 3px 1px rgba(60, 64, 67, 0.15);\n",
              "      fill: #174EA6;\n",
              "    }\n",
              "\n",
              "    [theme=dark] .colab-df-convert {\n",
              "      background-color: #3B4455;\n",
              "      fill: #D2E3FC;\n",
              "    }\n",
              "\n",
              "    [theme=dark] .colab-df-convert:hover {\n",
              "      background-color: #434B5C;\n",
              "      box-shadow: 0px 1px 3px 1px rgba(0, 0, 0, 0.15);\n",
              "      filter: drop-shadow(0px 1px 2px rgba(0, 0, 0, 0.3));\n",
              "      fill: #FFFFFF;\n",
              "    }\n",
              "  </style>\n",
              "\n",
              "      <script>\n",
              "        const buttonEl =\n",
              "          document.querySelector('#df-f40e5251-855b-46c5-8871-4dec0818afd8 button.colab-df-convert');\n",
              "        buttonEl.style.display =\n",
              "          google.colab.kernel.accessAllowed ? 'block' : 'none';\n",
              "\n",
              "        async function convertToInteractive(key) {\n",
              "          const element = document.querySelector('#df-f40e5251-855b-46c5-8871-4dec0818afd8');\n",
              "          const dataTable =\n",
              "            await google.colab.kernel.invokeFunction('convertToInteractive',\n",
              "                                                     [key], {});\n",
              "          if (!dataTable) return;\n",
              "\n",
              "          const docLinkHtml = 'Like what you see? Visit the ' +\n",
              "            '<a target=\"_blank\" href=https://colab.research.google.com/notebooks/data_table.ipynb>data table notebook</a>'\n",
              "            + ' to learn more about interactive tables.';\n",
              "          element.innerHTML = '';\n",
              "          dataTable['output_type'] = 'display_data';\n",
              "          await google.colab.output.renderOutput(dataTable, element);\n",
              "          const docLink = document.createElement('div');\n",
              "          docLink.innerHTML = docLinkHtml;\n",
              "          element.appendChild(docLink);\n",
              "        }\n",
              "      </script>\n",
              "    </div>\n",
              "  </div>\n",
              "  "
            ]
          },
          "metadata": {},
          "execution_count": 67
        }
      ]
    },
    {
      "cell_type": "code",
      "metadata": {
        "id": "VN854LLEAqle"
      },
      "source": [
        "df.drop(['relatives', 'personal', 'activities', 'music', 'movies', 'tv', 'books', 'about', 'quotes'], axis=1, inplace=True)"
      ],
      "execution_count": 68,
      "outputs": []
    },
    {
      "cell_type": "code",
      "metadata": {
        "id": "TsNzfDAlBqcD"
      },
      "source": [
        "df.drop('followers_count', axis=1, inplace=True)"
      ],
      "execution_count": 69,
      "outputs": []
    },
    {
      "cell_type": "code",
      "metadata": {
        "id": "NaroS08Zs54c"
      },
      "source": [
        "df.drop('k_nearest_neighbors', axis=1, inplace=True)"
      ],
      "execution_count": 70,
      "outputs": []
    },
    {
      "cell_type": "code",
      "metadata": {
        "id": "nNAN-fBltR__"
      },
      "source": [
        "df.drop('deg_centr', axis=1, inplace=True)"
      ],
      "execution_count": 71,
      "outputs": []
    },
    {
      "cell_type": "code",
      "metadata": {
        "id": "Uyin30qJttbX"
      },
      "source": [
        "df.drop('average_shortest_path_length', axis=1, inplace=True)"
      ],
      "execution_count": 72,
      "outputs": []
    },
    {
      "cell_type": "code",
      "metadata": {
        "colab": {
          "base_uri": "https://localhost:8080/",
          "height": 750
        },
        "id": "8540uRmIB5w4",
        "outputId": "6d99155f-d36c-42e9-ab21-f0f9a0dbc58e"
      },
      "source": [
        "corr = df.corr()\n",
        "fig, ax = plt.subplots(figsize=(10,10))         \n",
        "sns.heatmap(corr, xticklabels=corr.columns, yticklabels=corr.columns, ax=ax)"
      ],
      "execution_count": 73,
      "outputs": [
        {
          "output_type": "execute_result",
          "data": {
            "text/plain": [
              "<matplotlib.axes._subplots.AxesSubplot at 0x7fc45d64e110>"
            ]
          },
          "metadata": {},
          "execution_count": 73
        },
        {
          "output_type": "display_data",
          "data": {
            "text/plain": [
              "<Figure size 720x720 with 2 Axes>"
            ],
            "image/png": "[encoded data removed]"
          },
          "metadata": {
            "needs_background": "light"
          }
        }
      ]
    },
    {
      "cell_type": "code",
      "metadata": {
        "id": "AsRsxdxq0SQQ"
      },
      "source": [
        "df.drop('uid', axis=1, inplace=True)"
      ],
      "execution_count": 74,
      "outputs": []
    },
    {
      "cell_type": "code",
      "metadata": {
        "colab": {
          "base_uri": "https://localhost:8080/"
        },
        "id": "seps10S70KqC",
        "outputId": "813c6d94-d45a-49ea-88d2-fdf6b4615a96"
      },
      "source": [
        "df.info()"
      ],
      "execution_count": 75,
      "outputs": [
        {
          "output_type": "stream",
          "name": "stdout",
          "text": [
            "<class 'pandas.core.frame.DataFrame'>\n",
            "RangeIndex: 11766 entries, 0 to 11765\n",
            "Data columns (total 25 columns):\n",
            " #   Column                       Non-Null Count  Dtype  \n",
            "---  ------                       --------------  -----  \n",
            " 0   has_photo                    11766 non-null  int64  \n",
            " 1   sex                          11766 non-null  int64  \n",
            " 2   has_mobile                   11766 non-null  float64\n",
            " 3   relation                     11766 non-null  int64  \n",
            " 4   albums                       11766 non-null  float64\n",
            " 5   audios                       11766 non-null  float64\n",
            " 6   followers                    11766 non-null  float64\n",
            " 7   friends                      11766 non-null  float64\n",
            " 8   pages                        11766 non-null  float64\n",
            " 9   photos                       11766 non-null  float64\n",
            " 10  subscriptions                11766 non-null  float64\n",
            " 11  videos                       11766 non-null  float64\n",
            " 12  clips_followers              11766 non-null  float64\n",
            " 13  age                          11766 non-null  float64\n",
            " 14  city                         11766 non-null  float64\n",
            " 15  country                      11766 non-null  float64\n",
            " 16  avg_cl                       11766 non-null  float64\n",
            " 17  trans                        11766 non-null  float64\n",
            " 18  average_neighbor_degree      11766 non-null  float64\n",
            " 19  average_degree_connectivity  11766 non-null  float64\n",
            " 20  degree_centrality            11766 non-null  float64\n",
            " 21  closeness_centrality         11766 non-null  float64\n",
            " 22  betweenness_centrality       11766 non-null  float64\n",
            " 23  diameter                     11766 non-null  int64  \n",
            " 24  target                       11766 non-null  int64  \n",
            "dtypes: float64(20), int64(5)\n",
            "memory usage: 2.2 MB\n"
          ]
        }
      ]
    },
    {
      "cell_type": "code",
      "metadata": {
        "colab": {
          "base_uri": "https://localhost:8080/"
        },
        "id": "DSyNR34eBDuP",
        "outputId": "1a18a0c3-1945-4419-b119-0fa37a9969ec"
      },
      "source": [
        "df.shape"
      ],
      "execution_count": 76,
      "outputs": [
        {
          "output_type": "execute_result",
          "data": {
            "text/plain": [
              "(11766, 25)"
            ]
          },
          "metadata": {},
          "execution_count": 76
        }
      ]
    },
    {
      "cell_type": "markdown",
      "metadata": {
        "id": "WaaTAjciRyRv"
      },
      "source": [
        "# Models"
      ]
    },
    {
      "cell_type": "code",
      "metadata": {
        "id": "jo2wG0dKRyRw"
      },
      "source": [
        "X = df.drop('target', axis=1)\n",
        "y = df['target']\n",
        "X_log = df.drop('target', axis=1)\n",
        "y_log = df['target']\n",
        "X_log = preprocessing.StandardScaler().fit(X).transform(X)\n",
        "X_train, X_test, y_train, y_test = train_test_split(X, y, test_size=0.2, random_state=50)\n",
        "X_trai, X_tes, y_trai, y_tes = train_test_split(X_log, y_log, test_size=0.2, random_state=50)"
      ],
      "execution_count": 77,
      "outputs": []
    },
    {
      "cell_type": "code",
      "metadata": {
        "colab": {
          "base_uri": "https://localhost:8080/"
        },
        "id": "V4Y5oovjRyRw",
        "outputId": "f5338c51-38c7-4692-b0e8-0aaaf193ff84"
      },
      "source": [
        "y.value_counts()"
      ],
      "execution_count": 78,
      "outputs": [
        {
          "output_type": "execute_result",
          "data": {
            "text/plain": [
              "0    9969\n",
              "1    1797\n",
              "Name: target, dtype: int64"
            ]
          },
          "metadata": {},
          "execution_count": 78
        }
      ]
    },
    {
      "cell_type": "code",
      "metadata": {
        "colab": {
          "base_uri": "https://localhost:8080/"
        },
        "id": "rlCQWijTRyRw",
        "outputId": "6667cbc9-ca44-468f-aa43-b9c790b5ce48"
      },
      "source": [
        "y_train.value_counts()"
      ],
      "execution_count": 79,
      "outputs": [
        {
          "output_type": "execute_result",
          "data": {
            "text/plain": [
              "0    7976\n",
              "1    1436\n",
              "Name: target, dtype: int64"
            ]
          },
          "metadata": {},
          "execution_count": 79
        }
      ]
    },
    {
      "cell_type": "code",
      "metadata": {
        "colab": {
          "base_uri": "https://localhost:8080/"
        },
        "id": "eg1G6jOcRyRw",
        "outputId": "3112b324-7328-4c58-d1a5-2870b34e1487"
      },
      "source": [
        "1436 / 1797"
      ],
      "execution_count": 80,
      "outputs": [
        {
          "output_type": "execute_result",
          "data": {
            "text/plain": [
              "0.7991096271563717"
            ]
          },
          "metadata": {},
          "execution_count": 80
        }
      ]
    },
    {
      "cell_type": "code",
      "metadata": {
        "colab": {
          "base_uri": "https://localhost:8080/"
        },
        "id": "wP_Kx4LgRyRx",
        "outputId": "47bd5ff5-20db-4bbd-acfb-7c8de68227e6"
      },
      "source": [
        "1797 / 9969"
      ],
      "execution_count": 81,
      "outputs": [
        {
          "output_type": "execute_result",
          "data": {
            "text/plain": [
              "0.18025880228709"
            ]
          },
          "metadata": {},
          "execution_count": 81
        }
      ]
    },
    {
      "cell_type": "code",
      "metadata": {
        "colab": {
          "base_uri": "https://localhost:8080/"
        },
        "id": "qmvOslNuRyRx",
        "outputId": "022a8a5f-3299-4336-8646-2a53fd648028"
      },
      "source": [
        "1436 / 7976"
      ],
      "execution_count": 82,
      "outputs": [
        {
          "output_type": "execute_result",
          "data": {
            "text/plain": [
              "0.18004012036108324"
            ]
          },
          "metadata": {},
          "execution_count": 82
        }
      ]
    },
    {
      "cell_type": "markdown",
      "metadata": {
        "id": "pIGAwbYvRyRx"
      },
      "source": [
        "## Logistic Regression"
      ]
    },
    {
      "cell_type": "code",
      "metadata": {
        "colab": {
          "base_uri": "https://localhost:8080/"
        },
        "id": "6URQvDHeoQO3",
        "outputId": "c5476216-7786-4b5f-ea2e-995de48daaa7"
      },
      "source": [
        "parameters_1 = {'solver':('liblinear', 'lbfgs'), 'C':[0.5, 1, 10, 100], 'random_state':[0, 1], 'max_iter':[1000, 10000]}\n",
        "model_1 = LogisticRegression()\n",
        "clf_1 = GridSearchCV(model_1, parameters_1)\n",
        "clf_1.fit(X_trai, y_trai)"
      ],
      "execution_count": 83,
      "outputs": [
        {
          "output_type": "execute_result",
          "data": {
            "text/plain": [
              "GridSearchCV(estimator=LogisticRegression(),\n",
              "             param_grid={'C': [0.5, 1, 10, 100], 'max_iter': [1000, 10000],\n",
              "                         'random_state': [0, 1],\n",
              "                         'solver': ('liblinear', 'lbfgs')})"
            ]
          },
          "metadata": {},
          "execution_count": 83
        }
      ]
    },
    {
      "cell_type": "code",
      "metadata": {
        "id": "ZcZEGsOjRyRx"
      },
      "source": [
        "model_1 = LogisticRegression(solver='lbfgs', C=1.0, max_iter=10000).fit(X_trai, y_trai)"
      ],
      "execution_count": 84,
      "outputs": []
    },
    {
      "cell_type": "code",
      "metadata": {
        "colab": {
          "base_uri": "https://localhost:8080/"
        },
        "id": "46eDfO9qRyRy",
        "outputId": "f0ea21a3-2052-4eb3-8ce2-2e895aef909e"
      },
      "source": [
        "predictions_1 = model_1.predict_proba(X_tes)[:,1]\n",
        "roc_auc_score(y_tes, predictions_1)"
      ],
      "execution_count": 85,
      "outputs": [
        {
          "output_type": "execute_result",
          "data": {
            "text/plain": [
              "0.8758063193476336"
            ]
          },
          "metadata": {},
          "execution_count": 85
        }
      ]
    },
    {
      "cell_type": "code",
      "source": [
        "print(classification_report(model_1.predict(X_tes), y_test))"
      ],
      "metadata": {
        "colab": {
          "base_uri": "https://localhost:8080/"
        },
        "id": "X9Vo3PPKIhaN",
        "outputId": "cc074b54-0db4-477e-c7b8-0ad0d79eafc5"
      },
      "execution_count": 86,
      "outputs": [
        {
          "output_type": "stream",
          "name": "stdout",
          "text": [
            "              precision    recall  f1-score   support\n",
            "\n",
            "           0       0.98      0.90      0.94      2170\n",
            "           1       0.43      0.84      0.57       184\n",
            "\n",
            "    accuracy                           0.90      2354\n",
            "   macro avg       0.71      0.87      0.75      2354\n",
            "weighted avg       0.94      0.90      0.91      2354\n",
            "\n"
          ]
        }
      ]
    },
    {
      "cell_type": "code",
      "metadata": {
        "colab": {
          "base_uri": "https://localhost:8080/",
          "height": 399
        },
        "id": "CYrxscQjxc9I",
        "outputId": "3089470f-06fe-436a-c18f-3cf7145f890c"
      },
      "source": [
        "perm = PermutationImportance(model_1, random_state=1).fit(X_trai, y_trai)\n",
        "eli5.show_weights(perm, feature_names = df.drop('target', axis=1).columns.to_list())"
      ],
      "execution_count": 87,
      "outputs": [
        {
          "output_type": "execute_result",
          "data": {
            "text/plain": [
              "<IPython.core.display.HTML object>"
            ],
            "text/html": [
              "\n",
              "    <style>\n",
              "    table.eli5-weights tr:hover {\n",
              "        filter: brightness(85%);\n",
              "    }\n",
              "</style>\n",
              "\n",
              "\n",
              "\n",
              "    \n",
              "\n",
              "    \n",
              "\n",
              "    \n",
              "\n",
              "    \n",
              "\n",
              "    \n",
              "\n",
              "    \n",
              "\n",
              "\n",
              "    \n",
              "\n",
              "    \n",
              "\n",
              "    \n",
              "\n",
              "    \n",
              "\n",
              "    \n",
              "\n",
              "    \n",
              "\n",
              "\n",
              "    \n",
              "\n",
              "    \n",
              "\n",
              "    \n",
              "\n",
              "    \n",
              "\n",
              "    \n",
              "        <table class=\"eli5-weights eli5-feature-importances\" style=\"border-collapse: collapse; border: none; margin-top: 0em; table-layout: auto;\">\n",
              "    <thead>\n",
              "    <tr style=\"border: none;\">\n",
              "        <th style=\"padding: 0 1em 0 0.5em; text-align: right; border: none;\">Weight</th>\n",
              "        <th style=\"padding: 0 0.5em 0 0.5em; text-align: left; border: none;\">Feature</th>\n",
              "    </tr>\n",
              "    </thead>\n",
              "    <tbody>\n",
              "    \n",
              "        <tr style=\"background-color: hsl(120, 100.00%, 80.00%); border: none;\">\n",
              "            <td style=\"padding: 0 1em 0 0.5em; text-align: right; border: none;\">\n",
              "                0.0701\n",
              "                \n",
              "                    &plusmn; 0.0053\n",
              "                \n",
              "            </td>\n",
              "            <td style=\"padding: 0 0.5em 0 0.5em; text-align: left; border: none;\">\n",
              "                average_neighbor_degree\n",
              "            </td>\n",
              "        </tr>\n",
              "    \n",
              "        <tr style=\"background-color: hsl(120, 100.00%, 89.25%); border: none;\">\n",
              "            <td style=\"padding: 0 1em 0 0.5em; text-align: right; border: none;\">\n",
              "                0.0289\n",
              "                \n",
              "                    &plusmn; 0.0017\n",
              "                \n",
              "            </td>\n",
              "            <td style=\"padding: 0 0.5em 0 0.5em; text-align: left; border: none;\">\n",
              "                closeness_centrality\n",
              "            </td>\n",
              "        </tr>\n",
              "    \n",
              "        <tr style=\"background-color: hsl(120, 100.00%, 91.79%); border: none;\">\n",
              "            <td style=\"padding: 0 1em 0 0.5em; text-align: right; border: none;\">\n",
              "                0.0197\n",
              "                \n",
              "                    &plusmn; 0.0019\n",
              "                \n",
              "            </td>\n",
              "            <td style=\"padding: 0 0.5em 0 0.5em; text-align: left; border: none;\">\n",
              "                subscriptions\n",
              "            </td>\n",
              "        </tr>\n",
              "    \n",
              "        <tr style=\"background-color: hsl(120, 100.00%, 92.34%); border: none;\">\n",
              "            <td style=\"padding: 0 1em 0 0.5em; text-align: right; border: none;\">\n",
              "                0.0178\n",
              "                \n",
              "                    &plusmn; 0.0013\n",
              "                \n",
              "            </td>\n",
              "            <td style=\"padding: 0 0.5em 0 0.5em; text-align: left; border: none;\">\n",
              "                relation\n",
              "            </td>\n",
              "        </tr>\n",
              "    \n",
              "        <tr style=\"background-color: hsl(120, 100.00%, 92.71%); border: none;\">\n",
              "            <td style=\"padding: 0 1em 0 0.5em; text-align: right; border: none;\">\n",
              "                0.0166\n",
              "                \n",
              "                    &plusmn; 0.0012\n",
              "                \n",
              "            </td>\n",
              "            <td style=\"padding: 0 0.5em 0 0.5em; text-align: left; border: none;\">\n",
              "                trans\n",
              "            </td>\n",
              "        </tr>\n",
              "    \n",
              "        <tr style=\"background-color: hsl(120, 100.00%, 93.19%); border: none;\">\n",
              "            <td style=\"padding: 0 1em 0 0.5em; text-align: right; border: none;\">\n",
              "                0.0150\n",
              "                \n",
              "                    &plusmn; 0.0008\n",
              "                \n",
              "            </td>\n",
              "            <td style=\"padding: 0 0.5em 0 0.5em; text-align: left; border: none;\">\n",
              "                has_photo\n",
              "            </td>\n",
              "        </tr>\n",
              "    \n",
              "        <tr style=\"background-color: hsl(120, 100.00%, 94.15%); border: none;\">\n",
              "            <td style=\"padding: 0 1em 0 0.5em; text-align: right; border: none;\">\n",
              "                0.0121\n",
              "                \n",
              "                    &plusmn; 0.0013\n",
              "                \n",
              "            </td>\n",
              "            <td style=\"padding: 0 0.5em 0 0.5em; text-align: left; border: none;\">\n",
              "                clips_followers\n",
              "            </td>\n",
              "        </tr>\n",
              "    \n",
              "        <tr style=\"background-color: hsl(120, 100.00%, 95.52%); border: none;\">\n",
              "            <td style=\"padding: 0 1em 0 0.5em; text-align: right; border: none;\">\n",
              "                0.0083\n",
              "                \n",
              "                    &plusmn; 0.0008\n",
              "                \n",
              "            </td>\n",
              "            <td style=\"padding: 0 0.5em 0 0.5em; text-align: left; border: none;\">\n",
              "                avg_cl\n",
              "            </td>\n",
              "        </tr>\n",
              "    \n",
              "        <tr style=\"background-color: hsl(120, 100.00%, 95.60%); border: none;\">\n",
              "            <td style=\"padding: 0 1em 0 0.5em; text-align: right; border: none;\">\n",
              "                0.0081\n",
              "                \n",
              "                    &plusmn; 0.0018\n",
              "                \n",
              "            </td>\n",
              "            <td style=\"padding: 0 0.5em 0 0.5em; text-align: left; border: none;\">\n",
              "                betweenness_centrality\n",
              "            </td>\n",
              "        </tr>\n",
              "    \n",
              "        <tr style=\"background-color: hsl(120, 100.00%, 96.16%); border: none;\">\n",
              "            <td style=\"padding: 0 1em 0 0.5em; text-align: right; border: none;\">\n",
              "                0.0066\n",
              "                \n",
              "                    &plusmn; 0.0026\n",
              "                \n",
              "            </td>\n",
              "            <td style=\"padding: 0 0.5em 0 0.5em; text-align: left; border: none;\">\n",
              "                average_degree_connectivity\n",
              "            </td>\n",
              "        </tr>\n",
              "    \n",
              "        <tr style=\"background-color: hsl(120, 100.00%, 97.06%); border: none;\">\n",
              "            <td style=\"padding: 0 1em 0 0.5em; text-align: right; border: none;\">\n",
              "                0.0045\n",
              "                \n",
              "                    &plusmn; 0.0015\n",
              "                \n",
              "            </td>\n",
              "            <td style=\"padding: 0 0.5em 0 0.5em; text-align: left; border: none;\">\n",
              "                friends\n",
              "            </td>\n",
              "        </tr>\n",
              "    \n",
              "        <tr style=\"background-color: hsl(120, 100.00%, 97.72%); border: none;\">\n",
              "            <td style=\"padding: 0 1em 0 0.5em; text-align: right; border: none;\">\n",
              "                0.0031\n",
              "                \n",
              "                    &plusmn; 0.0011\n",
              "                \n",
              "            </td>\n",
              "            <td style=\"padding: 0 0.5em 0 0.5em; text-align: left; border: none;\">\n",
              "                degree_centrality\n",
              "            </td>\n",
              "        </tr>\n",
              "    \n",
              "        <tr style=\"background-color: hsl(120, 100.00%, 97.91%); border: none;\">\n",
              "            <td style=\"padding: 0 1em 0 0.5em; text-align: right; border: none;\">\n",
              "                0.0028\n",
              "                \n",
              "                    &plusmn; 0.0030\n",
              "                \n",
              "            </td>\n",
              "            <td style=\"padding: 0 0.5em 0 0.5em; text-align: left; border: none;\">\n",
              "                diameter\n",
              "            </td>\n",
              "        </tr>\n",
              "    \n",
              "        <tr style=\"background-color: hsl(120, 100.00%, 97.94%); border: none;\">\n",
              "            <td style=\"padding: 0 1em 0 0.5em; text-align: right; border: none;\">\n",
              "                0.0027\n",
              "                \n",
              "                    &plusmn; 0.0004\n",
              "                \n",
              "            </td>\n",
              "            <td style=\"padding: 0 0.5em 0 0.5em; text-align: left; border: none;\">\n",
              "                followers\n",
              "            </td>\n",
              "        </tr>\n",
              "    \n",
              "        <tr style=\"background-color: hsl(120, 100.00%, 98.10%); border: none;\">\n",
              "            <td style=\"padding: 0 1em 0 0.5em; text-align: right; border: none;\">\n",
              "                0.0024\n",
              "                \n",
              "                    &plusmn; 0.0010\n",
              "                \n",
              "            </td>\n",
              "            <td style=\"padding: 0 0.5em 0 0.5em; text-align: left; border: none;\">\n",
              "                age\n",
              "            </td>\n",
              "        </tr>\n",
              "    \n",
              "        <tr style=\"background-color: hsl(120, 100.00%, 98.19%); border: none;\">\n",
              "            <td style=\"padding: 0 1em 0 0.5em; text-align: right; border: none;\">\n",
              "                0.0023\n",
              "                \n",
              "                    &plusmn; 0.0008\n",
              "                \n",
              "            </td>\n",
              "            <td style=\"padding: 0 0.5em 0 0.5em; text-align: left; border: none;\">\n",
              "                sex\n",
              "            </td>\n",
              "        </tr>\n",
              "    \n",
              "        <tr style=\"background-color: hsl(120, 100.00%, 98.43%); border: none;\">\n",
              "            <td style=\"padding: 0 1em 0 0.5em; text-align: right; border: none;\">\n",
              "                0.0018\n",
              "                \n",
              "                    &plusmn; 0.0010\n",
              "                \n",
              "            </td>\n",
              "            <td style=\"padding: 0 0.5em 0 0.5em; text-align: left; border: none;\">\n",
              "                pages\n",
              "            </td>\n",
              "        </tr>\n",
              "    \n",
              "        <tr style=\"background-color: hsl(120, 100.00%, 99.76%); border: none;\">\n",
              "            <td style=\"padding: 0 1em 0 0.5em; text-align: right; border: none;\">\n",
              "                0.0001\n",
              "                \n",
              "                    &plusmn; 0.0003\n",
              "                \n",
              "            </td>\n",
              "            <td style=\"padding: 0 0.5em 0 0.5em; text-align: left; border: none;\">\n",
              "                videos\n",
              "            </td>\n",
              "        </tr>\n",
              "    \n",
              "        <tr style=\"background-color: hsl(120, 100.00%, 99.82%); border: none;\">\n",
              "            <td style=\"padding: 0 1em 0 0.5em; text-align: right; border: none;\">\n",
              "                0.0001\n",
              "                \n",
              "                    &plusmn; 0.0001\n",
              "                \n",
              "            </td>\n",
              "            <td style=\"padding: 0 0.5em 0 0.5em; text-align: left; border: none;\">\n",
              "                photos\n",
              "            </td>\n",
              "        </tr>\n",
              "    \n",
              "        <tr style=\"background-color: hsl(120, 100.00%, 99.89%); border: none;\">\n",
              "            <td style=\"padding: 0 1em 0 0.5em; text-align: right; border: none;\">\n",
              "                0.0000\n",
              "                \n",
              "                    &plusmn; 0.0002\n",
              "                \n",
              "            </td>\n",
              "            <td style=\"padding: 0 0.5em 0 0.5em; text-align: left; border: none;\">\n",
              "                city\n",
              "            </td>\n",
              "        </tr>\n",
              "    \n",
              "    \n",
              "        \n",
              "            <tr style=\"background-color: hsl(120, 100.00%, 99.89%); border: none;\">\n",
              "                <td colspan=\"2\" style=\"padding: 0 0.5em 0 0.5em; text-align: center; border: none; white-space: nowrap;\">\n",
              "                    <i>&hellip; 4 more &hellip;</i>\n",
              "                </td>\n",
              "            </tr>\n",
              "        \n",
              "    \n",
              "    </tbody>\n",
              "</table>\n",
              "    \n",
              "\n",
              "    \n",
              "\n",
              "\n",
              "    \n",
              "\n",
              "    \n",
              "\n",
              "    \n",
              "\n",
              "    \n",
              "\n",
              "    \n",
              "\n",
              "    \n",
              "\n",
              "\n",
              "\n"
            ]
          },
          "metadata": {},
          "execution_count": 87
        }
      ]
    },
    {
      "cell_type": "markdown",
      "metadata": {
        "id": "xQzpZBPpRyRy"
      },
      "source": [
        "## Random Forest Classification"
      ]
    },
    {
      "cell_type": "code",
      "metadata": {
        "colab": {
          "base_uri": "https://localhost:8080/"
        },
        "id": "NFesRxOXqNMC",
        "outputId": "e3eaa322-7b79-4e95-da6e-70736727624f"
      },
      "source": [
        "parameters_2 = {'max_depth':[1, 2, 3, 4, 5, 6, 7, 8, 9, 10], 'random_state':[0, 1]}\n",
        "model_2 = RandomForestClassifier()\n",
        "clf_2 = GridSearchCV(model_2, parameters_2)\n",
        "clf_2.fit(X_train, y_train)"
      ],
      "execution_count": 88,
      "outputs": [
        {
          "output_type": "execute_result",
          "data": {
            "text/plain": [
              "GridSearchCV(estimator=RandomForestClassifier(),\n",
              "             param_grid={'max_depth': [1, 2, 3, 4, 5, 6, 7, 8, 9, 10],\n",
              "                         'random_state': [0, 1]})"
            ]
          },
          "metadata": {},
          "execution_count": 88
        }
      ]
    },
    {
      "cell_type": "code",
      "metadata": {
        "id": "nx9rrdS9RyRz"
      },
      "source": [
        "model_2 = RandomForestClassifier(max_depth=None, random_state=None).fit(X_train, y_train)"
      ],
      "execution_count": 89,
      "outputs": []
    },
    {
      "cell_type": "code",
      "metadata": {
        "colab": {
          "base_uri": "https://localhost:8080/"
        },
        "id": "I5V9zC1aRyRz",
        "outputId": "6701c3c6-2b9d-4ccb-cac4-db1ae8e7b004"
      },
      "source": [
        "predictions_2 = model_2.predict_proba(X_test)[:,1]\n",
        "roc_auc_score(y_test, predictions_2)"
      ],
      "execution_count": 90,
      "outputs": [
        {
          "output_type": "execute_result",
          "data": {
            "text/plain": [
              "0.9803766089901914"
            ]
          },
          "metadata": {},
          "execution_count": 90
        }
      ]
    },
    {
      "cell_type": "code",
      "source": [
        "print(classification_report(model_2.predict(X_test), y_test))"
      ],
      "metadata": {
        "colab": {
          "base_uri": "https://localhost:8080/"
        },
        "id": "0L4TDho1GMk3",
        "outputId": "94618e16-f74e-4a24-992e-0a9ca3878894"
      },
      "execution_count": 91,
      "outputs": [
        {
          "output_type": "stream",
          "name": "stdout",
          "text": [
            "              precision    recall  f1-score   support\n",
            "\n",
            "           0       1.00      0.96      0.98      2073\n",
            "           1       0.76      0.97      0.85       281\n",
            "\n",
            "    accuracy                           0.96      2354\n",
            "   macro avg       0.88      0.96      0.91      2354\n",
            "weighted avg       0.97      0.96      0.96      2354\n",
            "\n"
          ]
        }
      ]
    },
    {
      "cell_type": "code",
      "metadata": {
        "colab": {
          "base_uri": "https://localhost:8080/",
          "height": 399
        },
        "id": "NbhRiHnOnyS-",
        "outputId": "498678aa-8c0d-457d-aaff-4a9bda0a135f"
      },
      "source": [
        "perm = PermutationImportance(model_2, random_state=1).fit(X, y)\n",
        "eli5.show_weights(perm, feature_names = df.drop('target', axis=1).columns.to_list())"
      ],
      "execution_count": 92,
      "outputs": [
        {
          "output_type": "execute_result",
          "data": {
            "text/plain": [
              "<IPython.core.display.HTML object>"
            ],
            "text/html": [
              "\n",
              "    <style>\n",
              "    table.eli5-weights tr:hover {\n",
              "        filter: brightness(85%);\n",
              "    }\n",
              "</style>\n",
              "\n",
              "\n",
              "\n",
              "    \n",
              "\n",
              "    \n",
              "\n",
              "    \n",
              "\n",
              "    \n",
              "\n",
              "    \n",
              "\n",
              "    \n",
              "\n",
              "\n",
              "    \n",
              "\n",
              "    \n",
              "\n",
              "    \n",
              "\n",
              "    \n",
              "\n",
              "    \n",
              "\n",
              "    \n",
              "\n",
              "\n",
              "    \n",
              "\n",
              "    \n",
              "\n",
              "    \n",
              "\n",
              "    \n",
              "\n",
              "    \n",
              "        <table class=\"eli5-weights eli5-feature-importances\" style=\"border-collapse: collapse; border: none; margin-top: 0em; table-layout: auto;\">\n",
              "    <thead>\n",
              "    <tr style=\"border: none;\">\n",
              "        <th style=\"padding: 0 1em 0 0.5em; text-align: right; border: none;\">Weight</th>\n",
              "        <th style=\"padding: 0 0.5em 0 0.5em; text-align: left; border: none;\">Feature</th>\n",
              "    </tr>\n",
              "    </thead>\n",
              "    <tbody>\n",
              "    \n",
              "        <tr style=\"background-color: hsl(120, 100.00%, 80.00%); border: none;\">\n",
              "            <td style=\"padding: 0 1em 0 0.5em; text-align: right; border: none;\">\n",
              "                0.2958\n",
              "                \n",
              "                    &plusmn; 0.0061\n",
              "                \n",
              "            </td>\n",
              "            <td style=\"padding: 0 0.5em 0 0.5em; text-align: left; border: none;\">\n",
              "                average_neighbor_degree\n",
              "            </td>\n",
              "        </tr>\n",
              "    \n",
              "        <tr style=\"background-color: hsl(120, 100.00%, 88.14%); border: none;\">\n",
              "            <td style=\"padding: 0 1em 0 0.5em; text-align: right; border: none;\">\n",
              "                0.1402\n",
              "                \n",
              "                    &plusmn; 0.0040\n",
              "                \n",
              "            </td>\n",
              "            <td style=\"padding: 0 0.5em 0 0.5em; text-align: left; border: none;\">\n",
              "                has_photo\n",
              "            </td>\n",
              "        </tr>\n",
              "    \n",
              "        <tr style=\"background-color: hsl(120, 100.00%, 91.09%); border: none;\">\n",
              "            <td style=\"padding: 0 1em 0 0.5em; text-align: right; border: none;\">\n",
              "                0.0932\n",
              "                \n",
              "                    &plusmn; 0.0018\n",
              "                \n",
              "            </td>\n",
              "            <td style=\"padding: 0 0.5em 0 0.5em; text-align: left; border: none;\">\n",
              "                pages\n",
              "            </td>\n",
              "        </tr>\n",
              "    \n",
              "        <tr style=\"background-color: hsl(120, 100.00%, 98.10%); border: none;\">\n",
              "            <td style=\"padding: 0 1em 0 0.5em; text-align: right; border: none;\">\n",
              "                0.0102\n",
              "                \n",
              "                    &plusmn; 0.0011\n",
              "                \n",
              "            </td>\n",
              "            <td style=\"padding: 0 0.5em 0 0.5em; text-align: left; border: none;\">\n",
              "                subscriptions\n",
              "            </td>\n",
              "        </tr>\n",
              "    \n",
              "        <tr style=\"background-color: hsl(120, 100.00%, 98.44%); border: none;\">\n",
              "            <td style=\"padding: 0 1em 0 0.5em; text-align: right; border: none;\">\n",
              "                0.0077\n",
              "                \n",
              "                    &plusmn; 0.0006\n",
              "                \n",
              "            </td>\n",
              "            <td style=\"padding: 0 0.5em 0 0.5em; text-align: left; border: none;\">\n",
              "                friends\n",
              "            </td>\n",
              "        </tr>\n",
              "    \n",
              "        <tr style=\"background-color: hsl(120, 100.00%, 98.57%); border: none;\">\n",
              "            <td style=\"padding: 0 1em 0 0.5em; text-align: right; border: none;\">\n",
              "                0.0068\n",
              "                \n",
              "                    &plusmn; 0.0009\n",
              "                \n",
              "            </td>\n",
              "            <td style=\"padding: 0 0.5em 0 0.5em; text-align: left; border: none;\">\n",
              "                photos\n",
              "            </td>\n",
              "        </tr>\n",
              "    \n",
              "        <tr style=\"background-color: hsl(120, 100.00%, 98.64%); border: none;\">\n",
              "            <td style=\"padding: 0 1em 0 0.5em; text-align: right; border: none;\">\n",
              "                0.0064\n",
              "                \n",
              "                    &plusmn; 0.0007\n",
              "                \n",
              "            </td>\n",
              "            <td style=\"padding: 0 0.5em 0 0.5em; text-align: left; border: none;\">\n",
              "                country\n",
              "            </td>\n",
              "        </tr>\n",
              "    \n",
              "        <tr style=\"background-color: hsl(120, 100.00%, 98.71%); border: none;\">\n",
              "            <td style=\"padding: 0 1em 0 0.5em; text-align: right; border: none;\">\n",
              "                0.0059\n",
              "                \n",
              "                    &plusmn; 0.0006\n",
              "                \n",
              "            </td>\n",
              "            <td style=\"padding: 0 0.5em 0 0.5em; text-align: left; border: none;\">\n",
              "                followers\n",
              "            </td>\n",
              "        </tr>\n",
              "    \n",
              "        <tr style=\"background-color: hsl(120, 100.00%, 98.86%); border: none;\">\n",
              "            <td style=\"padding: 0 1em 0 0.5em; text-align: right; border: none;\">\n",
              "                0.0050\n",
              "                \n",
              "                    &plusmn; 0.0006\n",
              "                \n",
              "            </td>\n",
              "            <td style=\"padding: 0 0.5em 0 0.5em; text-align: left; border: none;\">\n",
              "                clips_followers\n",
              "            </td>\n",
              "        </tr>\n",
              "    \n",
              "        <tr style=\"background-color: hsl(120, 100.00%, 98.86%); border: none;\">\n",
              "            <td style=\"padding: 0 1em 0 0.5em; text-align: right; border: none;\">\n",
              "                0.0049\n",
              "                \n",
              "                    &plusmn; 0.0007\n",
              "                \n",
              "            </td>\n",
              "            <td style=\"padding: 0 0.5em 0 0.5em; text-align: left; border: none;\">\n",
              "                relation\n",
              "            </td>\n",
              "        </tr>\n",
              "    \n",
              "        <tr style=\"background-color: hsl(120, 100.00%, 98.97%); border: none;\">\n",
              "            <td style=\"padding: 0 1em 0 0.5em; text-align: right; border: none;\">\n",
              "                0.0043\n",
              "                \n",
              "                    &plusmn; 0.0007\n",
              "                \n",
              "            </td>\n",
              "            <td style=\"padding: 0 0.5em 0 0.5em; text-align: left; border: none;\">\n",
              "                age\n",
              "            </td>\n",
              "        </tr>\n",
              "    \n",
              "        <tr style=\"background-color: hsl(120, 100.00%, 99.07%); border: none;\">\n",
              "            <td style=\"padding: 0 1em 0 0.5em; text-align: right; border: none;\">\n",
              "                0.0037\n",
              "                \n",
              "                    &plusmn; 0.0005\n",
              "                \n",
              "            </td>\n",
              "            <td style=\"padding: 0 0.5em 0 0.5em; text-align: left; border: none;\">\n",
              "                betweenness_centrality\n",
              "            </td>\n",
              "        </tr>\n",
              "    \n",
              "        <tr style=\"background-color: hsl(120, 100.00%, 99.21%); border: none;\">\n",
              "            <td style=\"padding: 0 1em 0 0.5em; text-align: right; border: none;\">\n",
              "                0.0029\n",
              "                \n",
              "                    &plusmn; 0.0004\n",
              "                \n",
              "            </td>\n",
              "            <td style=\"padding: 0 0.5em 0 0.5em; text-align: left; border: none;\">\n",
              "                city\n",
              "            </td>\n",
              "        </tr>\n",
              "    \n",
              "        <tr style=\"background-color: hsl(120, 100.00%, 99.30%); border: none;\">\n",
              "            <td style=\"padding: 0 1em 0 0.5em; text-align: right; border: none;\">\n",
              "                0.0025\n",
              "                \n",
              "                    &plusmn; 0.0005\n",
              "                \n",
              "            </td>\n",
              "            <td style=\"padding: 0 0.5em 0 0.5em; text-align: left; border: none;\">\n",
              "                sex\n",
              "            </td>\n",
              "        </tr>\n",
              "    \n",
              "        <tr style=\"background-color: hsl(120, 100.00%, 99.38%); border: none;\">\n",
              "            <td style=\"padding: 0 1em 0 0.5em; text-align: right; border: none;\">\n",
              "                0.0021\n",
              "                \n",
              "                    &plusmn; 0.0003\n",
              "                \n",
              "            </td>\n",
              "            <td style=\"padding: 0 0.5em 0 0.5em; text-align: left; border: none;\">\n",
              "                trans\n",
              "            </td>\n",
              "        </tr>\n",
              "    \n",
              "        <tr style=\"background-color: hsl(120, 100.00%, 99.42%); border: none;\">\n",
              "            <td style=\"padding: 0 1em 0 0.5em; text-align: right; border: none;\">\n",
              "                0.0019\n",
              "                \n",
              "                    &plusmn; 0.0005\n",
              "                \n",
              "            </td>\n",
              "            <td style=\"padding: 0 0.5em 0 0.5em; text-align: left; border: none;\">\n",
              "                audios\n",
              "            </td>\n",
              "        </tr>\n",
              "    \n",
              "        <tr style=\"background-color: hsl(120, 100.00%, 99.47%); border: none;\">\n",
              "            <td style=\"padding: 0 1em 0 0.5em; text-align: right; border: none;\">\n",
              "                0.0016\n",
              "                \n",
              "                    &plusmn; 0.0003\n",
              "                \n",
              "            </td>\n",
              "            <td style=\"padding: 0 0.5em 0 0.5em; text-align: left; border: none;\">\n",
              "                avg_cl\n",
              "            </td>\n",
              "        </tr>\n",
              "    \n",
              "        <tr style=\"background-color: hsl(120, 100.00%, 99.51%); border: none;\">\n",
              "            <td style=\"padding: 0 1em 0 0.5em; text-align: right; border: none;\">\n",
              "                0.0015\n",
              "                \n",
              "                    &plusmn; 0.0003\n",
              "                \n",
              "            </td>\n",
              "            <td style=\"padding: 0 0.5em 0 0.5em; text-align: left; border: none;\">\n",
              "                videos\n",
              "            </td>\n",
              "        </tr>\n",
              "    \n",
              "        <tr style=\"background-color: hsl(120, 100.00%, 99.52%); border: none;\">\n",
              "            <td style=\"padding: 0 1em 0 0.5em; text-align: right; border: none;\">\n",
              "                0.0014\n",
              "                \n",
              "                    &plusmn; 0.0006\n",
              "                \n",
              "            </td>\n",
              "            <td style=\"padding: 0 0.5em 0 0.5em; text-align: left; border: none;\">\n",
              "                degree_centrality\n",
              "            </td>\n",
              "        </tr>\n",
              "    \n",
              "        <tr style=\"background-color: hsl(120, 100.00%, 99.58%); border: none;\">\n",
              "            <td style=\"padding: 0 1em 0 0.5em; text-align: right; border: none;\">\n",
              "                0.0012\n",
              "                \n",
              "                    &plusmn; 0.0011\n",
              "                \n",
              "            </td>\n",
              "            <td style=\"padding: 0 0.5em 0 0.5em; text-align: left; border: none;\">\n",
              "                closeness_centrality\n",
              "            </td>\n",
              "        </tr>\n",
              "    \n",
              "    \n",
              "        \n",
              "            <tr style=\"background-color: hsl(120, 100.00%, 99.58%); border: none;\">\n",
              "                <td colspan=\"2\" style=\"padding: 0 0.5em 0 0.5em; text-align: center; border: none; white-space: nowrap;\">\n",
              "                    <i>&hellip; 4 more &hellip;</i>\n",
              "                </td>\n",
              "            </tr>\n",
              "        \n",
              "    \n",
              "    </tbody>\n",
              "</table>\n",
              "    \n",
              "\n",
              "    \n",
              "\n",
              "\n",
              "    \n",
              "\n",
              "    \n",
              "\n",
              "    \n",
              "\n",
              "    \n",
              "\n",
              "    \n",
              "\n",
              "    \n",
              "\n",
              "\n",
              "\n"
            ]
          },
          "metadata": {},
          "execution_count": 92
        }
      ]
    },
    {
      "cell_type": "code",
      "metadata": {
        "colab": {
          "base_uri": "https://localhost:8080/"
        },
        "id": "tawSjzWPNAEi",
        "outputId": "cc96d182-97b0-4471-b091-d34eab7c9e69"
      },
      "source": [
        "joblib.dump(model_2, 'model.pkl')"
      ],
      "execution_count": 93,
      "outputs": [
        {
          "output_type": "execute_result",
          "data": {
            "text/plain": [
              "['model.pkl']"
            ]
          },
          "metadata": {},
          "execution_count": 93
        }
      ]
    },
    {
      "cell_type": "markdown",
      "metadata": {
        "id": "lziOuZ5BRyR0"
      },
      "source": [
        "## Gradient Boosting Classification"
      ]
    },
    {
      "cell_type": "code",
      "metadata": {
        "colab": {
          "base_uri": "https://localhost:8080/"
        },
        "id": "Vuq-c0YyrLTf",
        "outputId": "42a5cd0b-7a4a-4bf8-80b6-da0b5fdde063"
      },
      "source": [
        "parameters_3 = {'n_estimators':[10, 100, 1000], 'learning_rate':[0.5, 1.0], 'max_depth':[0.1, 0.5, 1]}\n",
        "model_3 = GradientBoostingClassifier()\n",
        "clf_3 = GridSearchCV(model_3, parameters_3)\n",
        "clf_3.fit(X_train, y_train)"
      ],
      "execution_count": 94,
      "outputs": [
        {
          "output_type": "execute_result",
          "data": {
            "text/plain": [
              "GridSearchCV(estimator=GradientBoostingClassifier(),\n",
              "             param_grid={'learning_rate': [0.5, 1.0],\n",
              "                         'max_depth': [0.1, 0.5, 1],\n",
              "                         'n_estimators': [10, 100, 1000]})"
            ]
          },
          "metadata": {},
          "execution_count": 94
        }
      ]
    },
    {
      "cell_type": "code",
      "metadata": {
        "id": "xHgW2svDRyR0"
      },
      "source": [
        "model_3 = GradientBoostingClassifier(n_estimators=100, learning_rate=0.1, max_depth=3).fit(X_train, y_train)"
      ],
      "execution_count": 95,
      "outputs": []
    },
    {
      "cell_type": "code",
      "metadata": {
        "colab": {
          "base_uri": "https://localhost:8080/"
        },
        "id": "UR0PBTp9RyR0",
        "outputId": "82a3ab15-603b-427a-a513-32075fedc83c"
      },
      "source": [
        "predictions_3 = model_3.predict_proba(X_test)[:,1]\n",
        "roc_auc_score(y_test, predictions_3)"
      ],
      "execution_count": 96,
      "outputs": [
        {
          "output_type": "execute_result",
          "data": {
            "text/plain": [
              "0.9749108027681372"
            ]
          },
          "metadata": {},
          "execution_count": 96
        }
      ]
    },
    {
      "cell_type": "code",
      "source": [
        "print(classification_report(model_3.predict(X_test), y_test))"
      ],
      "metadata": {
        "colab": {
          "base_uri": "https://localhost:8080/"
        },
        "id": "pJCI5YKDI2FV",
        "outputId": "83748abb-8dc4-48c0-c1cb-94225ff06f67"
      },
      "execution_count": 97,
      "outputs": [
        {
          "output_type": "stream",
          "name": "stdout",
          "text": [
            "              precision    recall  f1-score   support\n",
            "\n",
            "           0       0.99      0.95      0.97      2067\n",
            "           1       0.74      0.93      0.82       287\n",
            "\n",
            "    accuracy                           0.95      2354\n",
            "   macro avg       0.86      0.94      0.90      2354\n",
            "weighted avg       0.96      0.95      0.95      2354\n",
            "\n"
          ]
        }
      ]
    },
    {
      "cell_type": "code",
      "metadata": {
        "colab": {
          "base_uri": "https://localhost:8080/",
          "height": 399
        },
        "id": "SFcAdfEARyR2",
        "outputId": "51152d75-02ad-45b3-dc9a-82bdb0d23ee8"
      },
      "source": [
        "perm = PermutationImportance(model_3, random_state=1).fit(X, y)\n",
        "eli5.show_weights(perm, feature_names = df.drop('target', axis=1).columns.to_list())"
      ],
      "execution_count": 98,
      "outputs": [
        {
          "output_type": "execute_result",
          "data": {
            "text/plain": [
              "<IPython.core.display.HTML object>"
            ],
            "text/html": [
              "\n",
              "    <style>\n",
              "    table.eli5-weights tr:hover {\n",
              "        filter: brightness(85%);\n",
              "    }\n",
              "</style>\n",
              "\n",
              "\n",
              "\n",
              "    \n",
              "\n",
              "    \n",
              "\n",
              "    \n",
              "\n",
              "    \n",
              "\n",
              "    \n",
              "\n",
              "    \n",
              "\n",
              "\n",
              "    \n",
              "\n",
              "    \n",
              "\n",
              "    \n",
              "\n",
              "    \n",
              "\n",
              "    \n",
              "\n",
              "    \n",
              "\n",
              "\n",
              "    \n",
              "\n",
              "    \n",
              "\n",
              "    \n",
              "\n",
              "    \n",
              "\n",
              "    \n",
              "        <table class=\"eli5-weights eli5-feature-importances\" style=\"border-collapse: collapse; border: none; margin-top: 0em; table-layout: auto;\">\n",
              "    <thead>\n",
              "    <tr style=\"border: none;\">\n",
              "        <th style=\"padding: 0 1em 0 0.5em; text-align: right; border: none;\">Weight</th>\n",
              "        <th style=\"padding: 0 0.5em 0 0.5em; text-align: left; border: none;\">Feature</th>\n",
              "    </tr>\n",
              "    </thead>\n",
              "    <tbody>\n",
              "    \n",
              "        <tr style=\"background-color: hsl(120, 100.00%, 80.00%); border: none;\">\n",
              "            <td style=\"padding: 0 1em 0 0.5em; text-align: right; border: none;\">\n",
              "                0.2850\n",
              "                \n",
              "                    &plusmn; 0.0055\n",
              "                \n",
              "            </td>\n",
              "            <td style=\"padding: 0 0.5em 0 0.5em; text-align: left; border: none;\">\n",
              "                average_neighbor_degree\n",
              "            </td>\n",
              "        </tr>\n",
              "    \n",
              "        <tr style=\"background-color: hsl(120, 100.00%, 87.84%); border: none;\">\n",
              "            <td style=\"padding: 0 1em 0 0.5em; text-align: right; border: none;\">\n",
              "                0.1399\n",
              "                \n",
              "                    &plusmn; 0.0033\n",
              "                \n",
              "            </td>\n",
              "            <td style=\"padding: 0 0.5em 0 0.5em; text-align: left; border: none;\">\n",
              "                has_photo\n",
              "            </td>\n",
              "        </tr>\n",
              "    \n",
              "        <tr style=\"background-color: hsl(120, 100.00%, 89.42%); border: none;\">\n",
              "            <td style=\"padding: 0 1em 0 0.5em; text-align: right; border: none;\">\n",
              "                0.1148\n",
              "                \n",
              "                    &plusmn; 0.0012\n",
              "                \n",
              "            </td>\n",
              "            <td style=\"padding: 0 0.5em 0 0.5em; text-align: left; border: none;\">\n",
              "                pages\n",
              "            </td>\n",
              "        </tr>\n",
              "    \n",
              "        <tr style=\"background-color: hsl(120, 100.00%, 92.73%); border: none;\">\n",
              "            <td style=\"padding: 0 1em 0 0.5em; text-align: right; border: none;\">\n",
              "                0.0671\n",
              "                \n",
              "                    &plusmn; 0.0046\n",
              "                \n",
              "            </td>\n",
              "            <td style=\"padding: 0 0.5em 0 0.5em; text-align: left; border: none;\">\n",
              "                closeness_centrality\n",
              "            </td>\n",
              "        </tr>\n",
              "    \n",
              "        <tr style=\"background-color: hsl(120, 100.00%, 97.36%); border: none;\">\n",
              "            <td style=\"padding: 0 1em 0 0.5em; text-align: right; border: none;\">\n",
              "                0.0158\n",
              "                \n",
              "                    &plusmn; 0.0012\n",
              "                \n",
              "            </td>\n",
              "            <td style=\"padding: 0 0.5em 0 0.5em; text-align: left; border: none;\">\n",
              "                friends\n",
              "            </td>\n",
              "        </tr>\n",
              "    \n",
              "        <tr style=\"background-color: hsl(120, 100.00%, 98.38%); border: none;\">\n",
              "            <td style=\"padding: 0 1em 0 0.5em; text-align: right; border: none;\">\n",
              "                0.0078\n",
              "                \n",
              "                    &plusmn; 0.0013\n",
              "                \n",
              "            </td>\n",
              "            <td style=\"padding: 0 0.5em 0 0.5em; text-align: left; border: none;\">\n",
              "                subscriptions\n",
              "            </td>\n",
              "        </tr>\n",
              "    \n",
              "        <tr style=\"background-color: hsl(120, 100.00%, 98.67%); border: none;\">\n",
              "            <td style=\"padding: 0 1em 0 0.5em; text-align: right; border: none;\">\n",
              "                0.0059\n",
              "                \n",
              "                    &plusmn; 0.0004\n",
              "                \n",
              "            </td>\n",
              "            <td style=\"padding: 0 0.5em 0 0.5em; text-align: left; border: none;\">\n",
              "                followers\n",
              "            </td>\n",
              "        </tr>\n",
              "    \n",
              "        <tr style=\"background-color: hsl(120, 100.00%, 99.00%); border: none;\">\n",
              "            <td style=\"padding: 0 1em 0 0.5em; text-align: right; border: none;\">\n",
              "                0.0039\n",
              "                \n",
              "                    &plusmn; 0.0010\n",
              "                \n",
              "            </td>\n",
              "            <td style=\"padding: 0 0.5em 0 0.5em; text-align: left; border: none;\">\n",
              "                avg_cl\n",
              "            </td>\n",
              "        </tr>\n",
              "    \n",
              "        <tr style=\"background-color: hsl(120, 100.00%, 99.15%); border: none;\">\n",
              "            <td style=\"padding: 0 1em 0 0.5em; text-align: right; border: none;\">\n",
              "                0.0031\n",
              "                \n",
              "                    &plusmn; 0.0005\n",
              "                \n",
              "            </td>\n",
              "            <td style=\"padding: 0 0.5em 0 0.5em; text-align: left; border: none;\">\n",
              "                photos\n",
              "            </td>\n",
              "        </tr>\n",
              "    \n",
              "        <tr style=\"background-color: hsl(120, 100.00%, 99.21%); border: none;\">\n",
              "            <td style=\"padding: 0 1em 0 0.5em; text-align: right; border: none;\">\n",
              "                0.0028\n",
              "                \n",
              "                    &plusmn; 0.0012\n",
              "                \n",
              "            </td>\n",
              "            <td style=\"padding: 0 0.5em 0 0.5em; text-align: left; border: none;\">\n",
              "                relation\n",
              "            </td>\n",
              "        </tr>\n",
              "    \n",
              "        <tr style=\"background-color: hsl(120, 100.00%, 99.40%); border: none;\">\n",
              "            <td style=\"padding: 0 1em 0 0.5em; text-align: right; border: none;\">\n",
              "                0.0019\n",
              "                \n",
              "                    &plusmn; 0.0007\n",
              "                \n",
              "            </td>\n",
              "            <td style=\"padding: 0 0.5em 0 0.5em; text-align: left; border: none;\">\n",
              "                average_degree_connectivity\n",
              "            </td>\n",
              "        </tr>\n",
              "    \n",
              "        <tr style=\"background-color: hsl(120, 100.00%, 99.50%); border: none;\">\n",
              "            <td style=\"padding: 0 1em 0 0.5em; text-align: right; border: none;\">\n",
              "                0.0015\n",
              "                \n",
              "                    &plusmn; 0.0002\n",
              "                \n",
              "            </td>\n",
              "            <td style=\"padding: 0 0.5em 0 0.5em; text-align: left; border: none;\">\n",
              "                degree_centrality\n",
              "            </td>\n",
              "        </tr>\n",
              "    \n",
              "        <tr style=\"background-color: hsl(120, 100.00%, 99.50%); border: none;\">\n",
              "            <td style=\"padding: 0 1em 0 0.5em; text-align: right; border: none;\">\n",
              "                0.0015\n",
              "                \n",
              "                    &plusmn; 0.0012\n",
              "                \n",
              "            </td>\n",
              "            <td style=\"padding: 0 0.5em 0 0.5em; text-align: left; border: none;\">\n",
              "                country\n",
              "            </td>\n",
              "        </tr>\n",
              "    \n",
              "        <tr style=\"background-color: hsl(120, 100.00%, 99.51%); border: none;\">\n",
              "            <td style=\"padding: 0 1em 0 0.5em; text-align: right; border: none;\">\n",
              "                0.0014\n",
              "                \n",
              "                    &plusmn; 0.0002\n",
              "                \n",
              "            </td>\n",
              "            <td style=\"padding: 0 0.5em 0 0.5em; text-align: left; border: none;\">\n",
              "                audios\n",
              "            </td>\n",
              "        </tr>\n",
              "    \n",
              "        <tr style=\"background-color: hsl(120, 100.00%, 99.59%); border: none;\">\n",
              "            <td style=\"padding: 0 1em 0 0.5em; text-align: right; border: none;\">\n",
              "                0.0011\n",
              "                \n",
              "                    &plusmn; 0.0006\n",
              "                \n",
              "            </td>\n",
              "            <td style=\"padding: 0 0.5em 0 0.5em; text-align: left; border: none;\">\n",
              "                albums\n",
              "            </td>\n",
              "        </tr>\n",
              "    \n",
              "        <tr style=\"background-color: hsl(120, 100.00%, 99.62%); border: none;\">\n",
              "            <td style=\"padding: 0 1em 0 0.5em; text-align: right; border: none;\">\n",
              "                0.0010\n",
              "                \n",
              "                    &plusmn; 0.0002\n",
              "                \n",
              "            </td>\n",
              "            <td style=\"padding: 0 0.5em 0 0.5em; text-align: left; border: none;\">\n",
              "                videos\n",
              "            </td>\n",
              "        </tr>\n",
              "    \n",
              "        <tr style=\"background-color: hsl(120, 100.00%, 99.71%); border: none;\">\n",
              "            <td style=\"padding: 0 1em 0 0.5em; text-align: right; border: none;\">\n",
              "                0.0007\n",
              "                \n",
              "                    &plusmn; 0.0012\n",
              "                \n",
              "            </td>\n",
              "            <td style=\"padding: 0 0.5em 0 0.5em; text-align: left; border: none;\">\n",
              "                trans\n",
              "            </td>\n",
              "        </tr>\n",
              "    \n",
              "        <tr style=\"background-color: hsl(120, 100.00%, 99.82%); border: none;\">\n",
              "            <td style=\"padding: 0 1em 0 0.5em; text-align: right; border: none;\">\n",
              "                0.0003\n",
              "                \n",
              "                    &plusmn; 0.0002\n",
              "                \n",
              "            </td>\n",
              "            <td style=\"padding: 0 0.5em 0 0.5em; text-align: left; border: none;\">\n",
              "                clips_followers\n",
              "            </td>\n",
              "        </tr>\n",
              "    \n",
              "        <tr style=\"background-color: hsl(120, 100.00%, 99.91%); border: none;\">\n",
              "            <td style=\"padding: 0 1em 0 0.5em; text-align: right; border: none;\">\n",
              "                0.0001\n",
              "                \n",
              "                    &plusmn; 0.0006\n",
              "                \n",
              "            </td>\n",
              "            <td style=\"padding: 0 0.5em 0 0.5em; text-align: left; border: none;\">\n",
              "                city\n",
              "            </td>\n",
              "        </tr>\n",
              "    \n",
              "        <tr style=\"background-color: hsl(120, 100.00%, 99.91%); border: none;\">\n",
              "            <td style=\"padding: 0 1em 0 0.5em; text-align: right; border: none;\">\n",
              "                0.0001\n",
              "                \n",
              "                    &plusmn; 0.0008\n",
              "                \n",
              "            </td>\n",
              "            <td style=\"padding: 0 0.5em 0 0.5em; text-align: left; border: none;\">\n",
              "                age\n",
              "            </td>\n",
              "        </tr>\n",
              "    \n",
              "    \n",
              "        \n",
              "            <tr style=\"background-color: hsl(120, 100.00%, 99.91%); border: none;\">\n",
              "                <td colspan=\"2\" style=\"padding: 0 0.5em 0 0.5em; text-align: center; border: none; white-space: nowrap;\">\n",
              "                    <i>&hellip; 4 more &hellip;</i>\n",
              "                </td>\n",
              "            </tr>\n",
              "        \n",
              "    \n",
              "    </tbody>\n",
              "</table>\n",
              "    \n",
              "\n",
              "    \n",
              "\n",
              "\n",
              "    \n",
              "\n",
              "    \n",
              "\n",
              "    \n",
              "\n",
              "    \n",
              "\n",
              "    \n",
              "\n",
              "    \n",
              "\n",
              "\n",
              "\n"
            ]
          },
          "metadata": {},
          "execution_count": 98
        }
      ]
    },
    {
      "cell_type": "code",
      "metadata": {
        "id": "iGrfcuKFtRgH",
        "colab": {
          "base_uri": "https://localhost:8080/",
          "height": 462
        },
        "outputId": "0d7d3e81-ae9c-4d48-9cd4-51aeb4cc02f5"
      },
      "source": [
        "explainer_3 = shap.Explainer(model_3, X)\n",
        "shap_values_3 = explainer_3(X)\n",
        "shap.plots.waterfall(shap_values_3[0])"
      ],
      "execution_count": 99,
      "outputs": [
        {
          "output_type": "stream",
          "name": "stderr",
          "text": [
            " 97%|=================== | 11396/11766 [00:12<00:00]       "
          ]
        },
        {
          "output_type": "display_data",
          "data": {
            "text/plain": [
              "<Figure size 576x468 with 3 Axes>"
            ],
            "image/png": "[encoded data removed]"
          },
          "metadata": {}
        }
      ]
    },
    {
      "cell_type": "markdown",
      "source": [
        "## XGBoosting Classification"
      ],
      "metadata": {
        "id": "3_-5pUO0AjD6"
      }
    },
    {
      "cell_type": "code",
      "source": [
        "parameters_4 = {'n_estimators':[10, 100, 1000], 'learning_rate':[0.5, 1.0], 'max_depth':[5, 10]}\n",
        "model_4 = XGBClassifier()\n",
        "clf_4 = GridSearchCV(model_4, parameters_4)\n",
        "clf_4.fit(X_train, y_train)"
      ],
      "metadata": {
        "colab": {
          "base_uri": "https://localhost:8080/"
        },
        "id": "nZv86Z_D-Xfs",
        "outputId": "c64bde8a-fbcb-4994-dd10-9b3422688581"
      },
      "execution_count": 100,
      "outputs": [
        {
          "output_type": "execute_result",
          "data": {
            "text/plain": [
              "GridSearchCV(estimator=XGBClassifier(),\n",
              "             param_grid={'learning_rate': [0.5, 1.0], 'max_depth': [5, 10],\n",
              "                         'n_estimators': [10, 100, 1000]})"
            ]
          },
          "metadata": {},
          "execution_count": 100
        }
      ]
    },
    {
      "cell_type": "code",
      "source": [
        "model_4 = XGBClassifier().fit(X_train, y_train, verbose=False)"
      ],
      "metadata": {
        "id": "AOzaDn6u8LtQ"
      },
      "execution_count": 101,
      "outputs": []
    },
    {
      "cell_type": "code",
      "source": [
        "predictions_4 = model_4.predict_proba(X_test)[:,1]\n",
        "roc_auc_score(y_test, predictions_4)"
      ],
      "metadata": {
        "colab": {
          "base_uri": "https://localhost:8080/"
        },
        "id": "9DmghZYi9aRh",
        "outputId": "3f48164f-e299-4847-f4cd-75b716b740b9"
      },
      "execution_count": 102,
      "outputs": [
        {
          "output_type": "execute_result",
          "data": {
            "text/plain": [
              "0.9789151225966786"
            ]
          },
          "metadata": {},
          "execution_count": 102
        }
      ]
    },
    {
      "cell_type": "code",
      "source": [
        "print(classification_report(model_4.predict(X_test), y_test))"
      ],
      "metadata": {
        "id": "kASdyO-HI9g4",
        "outputId": "1c90561a-333e-45b9-b7c3-e3a0b686d800",
        "colab": {
          "base_uri": "https://localhost:8080/"
        }
      },
      "execution_count": 103,
      "outputs": [
        {
          "output_type": "stream",
          "name": "stdout",
          "text": [
            "              precision    recall  f1-score   support\n",
            "\n",
            "           0       0.99      0.96      0.97      2070\n",
            "           1       0.75      0.95      0.84       284\n",
            "\n",
            "    accuracy                           0.96      2354\n",
            "   macro avg       0.87      0.95      0.91      2354\n",
            "weighted avg       0.96      0.96      0.96      2354\n",
            "\n"
          ]
        }
      ]
    },
    {
      "cell_type": "code",
      "source": [
        "perm = PermutationImportance(model_4, random_state=1).fit(X, y)\n",
        "eli5.show_weights(perm, feature_names = df.drop('target', axis=1).columns.to_list())"
      ],
      "metadata": {
        "colab": {
          "base_uri": "https://localhost:8080/",
          "height": 399
        },
        "id": "AvuUz2A4A4Z4",
        "outputId": "eea49db4-bc4d-4d0e-b66c-6989071fcfff"
      },
      "execution_count": 104,
      "outputs": [
        {
          "output_type": "execute_result",
          "data": {
            "text/plain": [
              "<IPython.core.display.HTML object>"
            ],
            "text/html": [
              "\n",
              "    <style>\n",
              "    table.eli5-weights tr:hover {\n",
              "        filter: brightness(85%);\n",
              "    }\n",
              "</style>\n",
              "\n",
              "\n",
              "\n",
              "    \n",
              "\n",
              "    \n",
              "\n",
              "    \n",
              "\n",
              "    \n",
              "\n",
              "    \n",
              "\n",
              "    \n",
              "\n",
              "\n",
              "    \n",
              "\n",
              "    \n",
              "\n",
              "    \n",
              "\n",
              "    \n",
              "\n",
              "    \n",
              "\n",
              "    \n",
              "\n",
              "\n",
              "    \n",
              "\n",
              "    \n",
              "\n",
              "    \n",
              "\n",
              "    \n",
              "\n",
              "    \n",
              "        <table class=\"eli5-weights eli5-feature-importances\" style=\"border-collapse: collapse; border: none; margin-top: 0em; table-layout: auto;\">\n",
              "    <thead>\n",
              "    <tr style=\"border: none;\">\n",
              "        <th style=\"padding: 0 1em 0 0.5em; text-align: right; border: none;\">Weight</th>\n",
              "        <th style=\"padding: 0 0.5em 0 0.5em; text-align: left; border: none;\">Feature</th>\n",
              "    </tr>\n",
              "    </thead>\n",
              "    <tbody>\n",
              "    \n",
              "        <tr style=\"background-color: hsl(120, 100.00%, 80.00%); border: none;\">\n",
              "            <td style=\"padding: 0 1em 0 0.5em; text-align: right; border: none;\">\n",
              "                0.2843\n",
              "                \n",
              "                    &plusmn; 0.0057\n",
              "                \n",
              "            </td>\n",
              "            <td style=\"padding: 0 0.5em 0 0.5em; text-align: left; border: none;\">\n",
              "                average_neighbor_degree\n",
              "            </td>\n",
              "        </tr>\n",
              "    \n",
              "        <tr style=\"background-color: hsl(120, 100.00%, 87.77%); border: none;\">\n",
              "            <td style=\"padding: 0 1em 0 0.5em; text-align: right; border: none;\">\n",
              "                0.1409\n",
              "                \n",
              "                    &plusmn; 0.0033\n",
              "                \n",
              "            </td>\n",
              "            <td style=\"padding: 0 0.5em 0 0.5em; text-align: left; border: none;\">\n",
              "                has_photo\n",
              "            </td>\n",
              "        </tr>\n",
              "    \n",
              "        <tr style=\"background-color: hsl(120, 100.00%, 88.50%); border: none;\">\n",
              "            <td style=\"padding: 0 1em 0 0.5em; text-align: right; border: none;\">\n",
              "                0.1289\n",
              "                \n",
              "                    &plusmn; 0.0034\n",
              "                \n",
              "            </td>\n",
              "            <td style=\"padding: 0 0.5em 0 0.5em; text-align: left; border: none;\">\n",
              "                closeness_centrality\n",
              "            </td>\n",
              "        </tr>\n",
              "    \n",
              "        <tr style=\"background-color: hsl(120, 100.00%, 90.69%); border: none;\">\n",
              "            <td style=\"padding: 0 1em 0 0.5em; text-align: right; border: none;\">\n",
              "                0.0953\n",
              "                \n",
              "                    &plusmn; 0.0022\n",
              "                \n",
              "            </td>\n",
              "            <td style=\"padding: 0 0.5em 0 0.5em; text-align: left; border: none;\">\n",
              "                pages\n",
              "            </td>\n",
              "        </tr>\n",
              "    \n",
              "        <tr style=\"background-color: hsl(120, 100.00%, 97.52%); border: none;\">\n",
              "            <td style=\"padding: 0 1em 0 0.5em; text-align: right; border: none;\">\n",
              "                0.0144\n",
              "                \n",
              "                    &plusmn; 0.0011\n",
              "                \n",
              "            </td>\n",
              "            <td style=\"padding: 0 0.5em 0 0.5em; text-align: left; border: none;\">\n",
              "                friends\n",
              "            </td>\n",
              "        </tr>\n",
              "    \n",
              "        <tr style=\"background-color: hsl(120, 100.00%, 98.22%); border: none;\">\n",
              "            <td style=\"padding: 0 1em 0 0.5em; text-align: right; border: none;\">\n",
              "                0.0090\n",
              "                \n",
              "                    &plusmn; 0.0015\n",
              "                \n",
              "            </td>\n",
              "            <td style=\"padding: 0 0.5em 0 0.5em; text-align: left; border: none;\">\n",
              "                subscriptions\n",
              "            </td>\n",
              "        </tr>\n",
              "    \n",
              "        <tr style=\"background-color: hsl(120, 100.00%, 98.61%); border: none;\">\n",
              "            <td style=\"padding: 0 1em 0 0.5em; text-align: right; border: none;\">\n",
              "                0.0063\n",
              "                \n",
              "                    &plusmn; 0.0004\n",
              "                \n",
              "            </td>\n",
              "            <td style=\"padding: 0 0.5em 0 0.5em; text-align: left; border: none;\">\n",
              "                followers\n",
              "            </td>\n",
              "        </tr>\n",
              "    \n",
              "        <tr style=\"background-color: hsl(120, 100.00%, 99.04%); border: none;\">\n",
              "            <td style=\"padding: 0 1em 0 0.5em; text-align: right; border: none;\">\n",
              "                0.0037\n",
              "                \n",
              "                    &plusmn; 0.0009\n",
              "                \n",
              "            </td>\n",
              "            <td style=\"padding: 0 0.5em 0 0.5em; text-align: left; border: none;\">\n",
              "                photos\n",
              "            </td>\n",
              "        </tr>\n",
              "    \n",
              "        <tr style=\"background-color: hsl(120, 100.00%, 99.26%); border: none;\">\n",
              "            <td style=\"padding: 0 1em 0 0.5em; text-align: right; border: none;\">\n",
              "                0.0026\n",
              "                \n",
              "                    &plusmn; 0.0016\n",
              "                \n",
              "            </td>\n",
              "            <td style=\"padding: 0 0.5em 0 0.5em; text-align: left; border: none;\">\n",
              "                relation\n",
              "            </td>\n",
              "        </tr>\n",
              "    \n",
              "        <tr style=\"background-color: hsl(120, 100.00%, 99.40%); border: none;\">\n",
              "            <td style=\"padding: 0 1em 0 0.5em; text-align: right; border: none;\">\n",
              "                0.0019\n",
              "                \n",
              "                    &plusmn; 0.0010\n",
              "                \n",
              "            </td>\n",
              "            <td style=\"padding: 0 0.5em 0 0.5em; text-align: left; border: none;\">\n",
              "                country\n",
              "            </td>\n",
              "        </tr>\n",
              "    \n",
              "        <tr style=\"background-color: hsl(120, 100.00%, 99.48%); border: none;\">\n",
              "            <td style=\"padding: 0 1em 0 0.5em; text-align: right; border: none;\">\n",
              "                0.0015\n",
              "                \n",
              "                    &plusmn; 0.0009\n",
              "                \n",
              "            </td>\n",
              "            <td style=\"padding: 0 0.5em 0 0.5em; text-align: left; border: none;\">\n",
              "                average_degree_connectivity\n",
              "            </td>\n",
              "        </tr>\n",
              "    \n",
              "        <tr style=\"background-color: hsl(120, 100.00%, 99.52%); border: none;\">\n",
              "            <td style=\"padding: 0 1em 0 0.5em; text-align: right; border: none;\">\n",
              "                0.0014\n",
              "                \n",
              "                    &plusmn; 0.0013\n",
              "                \n",
              "            </td>\n",
              "            <td style=\"padding: 0 0.5em 0 0.5em; text-align: left; border: none;\">\n",
              "                avg_cl\n",
              "            </td>\n",
              "        </tr>\n",
              "    \n",
              "        <tr style=\"background-color: hsl(120, 100.00%, 99.53%); border: none;\">\n",
              "            <td style=\"padding: 0 1em 0 0.5em; text-align: right; border: none;\">\n",
              "                0.0013\n",
              "                \n",
              "                    &plusmn; 0.0014\n",
              "                \n",
              "            </td>\n",
              "            <td style=\"padding: 0 0.5em 0 0.5em; text-align: left; border: none;\">\n",
              "                trans\n",
              "            </td>\n",
              "        </tr>\n",
              "    \n",
              "        <tr style=\"background-color: hsl(120, 100.00%, 99.54%); border: none;\">\n",
              "            <td style=\"padding: 0 1em 0 0.5em; text-align: right; border: none;\">\n",
              "                0.0013\n",
              "                \n",
              "                    &plusmn; 0.0003\n",
              "                \n",
              "            </td>\n",
              "            <td style=\"padding: 0 0.5em 0 0.5em; text-align: left; border: none;\">\n",
              "                videos\n",
              "            </td>\n",
              "        </tr>\n",
              "    \n",
              "        <tr style=\"background-color: hsl(120, 100.00%, 99.54%); border: none;\">\n",
              "            <td style=\"padding: 0 1em 0 0.5em; text-align: right; border: none;\">\n",
              "                0.0013\n",
              "                \n",
              "                    &plusmn; 0.0006\n",
              "                \n",
              "            </td>\n",
              "            <td style=\"padding: 0 0.5em 0 0.5em; text-align: left; border: none;\">\n",
              "                age\n",
              "            </td>\n",
              "        </tr>\n",
              "    \n",
              "        <tr style=\"background-color: hsl(120, 100.00%, 99.60%); border: none;\">\n",
              "            <td style=\"padding: 0 1em 0 0.5em; text-align: right; border: none;\">\n",
              "                0.0011\n",
              "                \n",
              "                    &plusmn; 0.0004\n",
              "                \n",
              "            </td>\n",
              "            <td style=\"padding: 0 0.5em 0 0.5em; text-align: left; border: none;\">\n",
              "                audios\n",
              "            </td>\n",
              "        </tr>\n",
              "    \n",
              "        <tr style=\"background-color: hsl(120, 100.00%, 99.64%); border: none;\">\n",
              "            <td style=\"padding: 0 1em 0 0.5em; text-align: right; border: none;\">\n",
              "                0.0009\n",
              "                \n",
              "                    &plusmn; 0.0003\n",
              "                \n",
              "            </td>\n",
              "            <td style=\"padding: 0 0.5em 0 0.5em; text-align: left; border: none;\">\n",
              "                clips_followers\n",
              "            </td>\n",
              "        </tr>\n",
              "    \n",
              "        <tr style=\"background-color: hsl(120, 100.00%, 99.70%); border: none;\">\n",
              "            <td style=\"padding: 0 1em 0 0.5em; text-align: right; border: none;\">\n",
              "                0.0007\n",
              "                \n",
              "                    &plusmn; 0.0002\n",
              "                \n",
              "            </td>\n",
              "            <td style=\"padding: 0 0.5em 0 0.5em; text-align: left; border: none;\">\n",
              "                albums\n",
              "            </td>\n",
              "        </tr>\n",
              "    \n",
              "        <tr style=\"background-color: hsl(120, 100.00%, 99.73%); border: none;\">\n",
              "            <td style=\"padding: 0 1em 0 0.5em; text-align: right; border: none;\">\n",
              "                0.0006\n",
              "                \n",
              "                    &plusmn; 0.0007\n",
              "                \n",
              "            </td>\n",
              "            <td style=\"padding: 0 0.5em 0 0.5em; text-align: left; border: none;\">\n",
              "                sex\n",
              "            </td>\n",
              "        </tr>\n",
              "    \n",
              "        <tr style=\"background-color: hsl(120, 100.00%, 99.96%); border: none;\">\n",
              "            <td style=\"padding: 0 1em 0 0.5em; text-align: right; border: none;\">\n",
              "                0.0000\n",
              "                \n",
              "                    &plusmn; 0.0001\n",
              "                \n",
              "            </td>\n",
              "            <td style=\"padding: 0 0.5em 0 0.5em; text-align: left; border: none;\">\n",
              "                betweenness_centrality\n",
              "            </td>\n",
              "        </tr>\n",
              "    \n",
              "    \n",
              "        \n",
              "            <tr style=\"background-color: hsl(120, 100.00%, 99.96%); border: none;\">\n",
              "                <td colspan=\"2\" style=\"padding: 0 0.5em 0 0.5em; text-align: center; border: none; white-space: nowrap;\">\n",
              "                    <i>&hellip; 4 more &hellip;</i>\n",
              "                </td>\n",
              "            </tr>\n",
              "        \n",
              "    \n",
              "    </tbody>\n",
              "</table>\n",
              "    \n",
              "\n",
              "    \n",
              "\n",
              "\n",
              "    \n",
              "\n",
              "    \n",
              "\n",
              "    \n",
              "\n",
              "    \n",
              "\n",
              "    \n",
              "\n",
              "    \n",
              "\n",
              "\n",
              "\n"
            ]
          },
          "metadata": {},
          "execution_count": 104
        }
      ]
    },
    {
      "cell_type": "code",
      "source": [
        "explainer_4 = shap.Explainer(model_4, X)\n",
        "shap_values_4 = explainer_4(X)\n",
        "shap.plots.waterfall(shap_values_4[0])"
      ],
      "metadata": {
        "colab": {
          "base_uri": "https://localhost:8080/",
          "height": 462
        },
        "id": "KFaziPA8BJEe",
        "outputId": "9cc6e181-8d4a-45d4-98c0-fc74bb422a45"
      },
      "execution_count": 105,
      "outputs": [
        {
          "output_type": "stream",
          "name": "stderr",
          "text": [
            " 97%|=================== | 11374/11766 [00:14<00:00]       "
          ]
        },
        {
          "output_type": "display_data",
          "data": {
            "text/plain": [
              "<Figure size 576x468 with 3 Axes>"
            ],
            "image/png": "[encoded data removed]"
          },
          "metadata": {}
        }
      ]
    },
    {
      "cell_type": "code",
      "source": [
        ""
      ],
      "metadata": {
        "id": "SwQN3Z1gV-0s"
      },
      "execution_count": null,
      "outputs": []
    }
  ]
}