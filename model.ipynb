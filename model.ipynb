{
  "nbformat": 4,
  "nbformat_minor": 0,
  "metadata": {
    "colab": {
      "name": "model.ipynb",
      "provenance": [],
      "collapsed_sections": [],
      "toc_visible": true,
      "include_colab_link": true
    },
    "kernelspec": {
      "display_name": "Python 3",
      "language": "python",
      "name": "python3"
    },
    "language_info": {
      "codemirror_mode": {
        "name": "ipython",
        "version": 3
      },
      "file_extension": ".py",
      "mimetype": "text/x-python",
      "name": "python",
      "nbconvert_exporter": "python",
      "pygments_lexer": "ipython3",
      "version": "3.8.5"
    }
  },
  "cells": [
    {
      "cell_type": "markdown",
      "metadata": {
        "id": "view-in-github",
        "colab_type": "text"
      },
      "source": [
        "<a href=\"https://colab.research.google.com/github/filipp134/vk_bot_detection/blob/main/model.ipynb\" target=\"_parent\"><img src=\"https://colab.research.google.com/assets/colab-badge.svg\" alt=\"Open In Colab\"/></a>"
      ]
    },
    {
      "cell_type": "code",
      "metadata": {
        "colab": {
          "base_uri": "https://localhost:8080/"
        },
        "id": "Mqf6DGlNRyRf",
        "outputId": "2bb80f75-0892-481f-d9b4-782ad40cf23c"
      },
      "source": [
        "!pip install eli5\n",
        "import pandas as pd\n",
        "import seaborn as sns\n",
        "import matplotlib.pyplot as plt\n",
        "from sklearn.linear_model import LogisticRegression\n",
        "from sklearn.ensemble import RandomForestClassifier, GradientBoostingClassifier\n",
        "from sklearn.metrics import roc_auc_score\n",
        "from sklearn.model_selection import train_test_split, GridSearchCV\n",
        "from sklearn import preprocessing\n",
        "from sklearn.externals import joblib\n",
        "import eli5\n",
        "from eli5.sklearn import PermutationImportance\n",
        "%matplotlib inline"
      ],
      "execution_count": 1,
      "outputs": [
        {
          "output_type": "stream",
          "text": [
            "Requirement already satisfied: eli5 in /usr/local/lib/python3.7/dist-packages (0.11.0)\n",
            "Requirement already satisfied: scikit-learn>=0.20 in /usr/local/lib/python3.7/dist-packages (from eli5) (0.22.2.post1)\n",
            "Requirement already satisfied: scipy in /usr/local/lib/python3.7/dist-packages (from eli5) (1.4.1)\n",
            "Requirement already satisfied: graphviz in /usr/local/lib/python3.7/dist-packages (from eli5) (0.10.1)\n",
            "Requirement already satisfied: six in /usr/local/lib/python3.7/dist-packages (from eli5) (1.15.0)\n",
            "Requirement already satisfied: tabulate>=0.7.7 in /usr/local/lib/python3.7/dist-packages (from eli5) (0.8.9)\n",
            "Requirement already satisfied: jinja2 in /usr/local/lib/python3.7/dist-packages (from eli5) (2.11.3)\n",
            "Requirement already satisfied: numpy>=1.9.0 in /usr/local/lib/python3.7/dist-packages (from eli5) (1.19.5)\n",
            "Requirement already satisfied: attrs>16.0.0 in /usr/local/lib/python3.7/dist-packages (from eli5) (21.2.0)\n",
            "Requirement already satisfied: joblib>=0.11 in /usr/local/lib/python3.7/dist-packages (from scikit-learn>=0.20->eli5) (1.0.1)\n",
            "Requirement already satisfied: MarkupSafe>=0.23 in /usr/local/lib/python3.7/dist-packages (from jinja2->eli5) (2.0.1)\n"
          ],
          "name": "stdout"
        },
        {
          "output_type": "stream",
          "text": [
            "/usr/local/lib/python3.7/dist-packages/sklearn/externals/joblib/__init__.py:15: FutureWarning: sklearn.externals.joblib is deprecated in 0.21 and will be removed in 0.23. Please import this functionality directly from joblib, which can be installed with: pip install joblib. If this warning is raised when loading pickled models, you may need to re-serialize those models with scikit-learn 0.21+.\n",
            "  warnings.warn(msg, category=FutureWarning)\n",
            "/usr/local/lib/python3.7/dist-packages/sklearn/utils/deprecation.py:144: FutureWarning: The sklearn.feature_selection.base module is  deprecated in version 0.22 and will be removed in version 0.24. The corresponding classes / functions should instead be imported from sklearn.feature_selection. Anything that cannot be imported from sklearn.feature_selection is now part of the private API.\n",
            "  warnings.warn(message, FutureWarning)\n"
          ],
          "name": "stderr"
        }
      ]
    },
    {
      "cell_type": "code",
      "metadata": {
        "id": "nrV925BnRyRn"
      },
      "source": [
        "df = pd.read_csv('Dataset_for_VK_project.csv')\n",
        "df.drop('Unnamed: 0', axis=1, inplace=True)"
      ],
      "execution_count": 2,
      "outputs": []
    },
    {
      "cell_type": "markdown",
      "metadata": {
        "id": "5hylYEXFRyRo"
      },
      "source": [
        "# Exploring data"
      ]
    },
    {
      "cell_type": "code",
      "metadata": {
        "colab": {
          "base_uri": "https://localhost:8080/",
          "height": 224
        },
        "id": "dTH3igbQRyRo",
        "outputId": "893426a4-e957-4490-e015-7ebb9101a9fb"
      },
      "source": [
        "df.head()"
      ],
      "execution_count": 3,
      "outputs": [
        {
          "output_type": "execute_result",
          "data": {
            "text/html": [
              "<div>\n",
              "<style scoped>\n",
              "    .dataframe tbody tr th:only-of-type {\n",
              "        vertical-align: middle;\n",
              "    }\n",
              "\n",
              "    .dataframe tbody tr th {\n",
              "        vertical-align: top;\n",
              "    }\n",
              "\n",
              "    .dataframe thead th {\n",
              "        text-align: right;\n",
              "    }\n",
              "</style>\n",
              "<table border=\"1\" class=\"dataframe\">\n",
              "  <thead>\n",
              "    <tr style=\"text-align: right;\">\n",
              "      <th></th>\n",
              "      <th>uid</th>\n",
              "      <th>has_photo</th>\n",
              "      <th>sex</th>\n",
              "      <th>has_mobile</th>\n",
              "      <th>followers_count</th>\n",
              "      <th>contacts</th>\n",
              "      <th>relatives</th>\n",
              "      <th>relation</th>\n",
              "      <th>personal</th>\n",
              "      <th>activities</th>\n",
              "      <th>music</th>\n",
              "      <th>movies</th>\n",
              "      <th>tv</th>\n",
              "      <th>books</th>\n",
              "      <th>about</th>\n",
              "      <th>quotes</th>\n",
              "      <th>albums</th>\n",
              "      <th>audios</th>\n",
              "      <th>followers</th>\n",
              "      <th>friends</th>\n",
              "      <th>pages</th>\n",
              "      <th>photos</th>\n",
              "      <th>subscriptions</th>\n",
              "      <th>videos</th>\n",
              "      <th>clips_followers</th>\n",
              "      <th>age</th>\n",
              "      <th>city</th>\n",
              "      <th>country</th>\n",
              "      <th>avg_cl</th>\n",
              "      <th>trans</th>\n",
              "      <th>deg_centr</th>\n",
              "      <th>average_neighbor_degree</th>\n",
              "      <th>average_degree_connectivity</th>\n",
              "      <th>k_nearest_neighbors</th>\n",
              "      <th>degree_centrality</th>\n",
              "      <th>closeness_centrality</th>\n",
              "      <th>betweenness_centrality</th>\n",
              "      <th>diameter</th>\n",
              "      <th>average_shortest_path_length</th>\n",
              "      <th>target</th>\n",
              "    </tr>\n",
              "  </thead>\n",
              "  <tbody>\n",
              "    <tr>\n",
              "      <th>0</th>\n",
              "      <td>648249344</td>\n",
              "      <td>0</td>\n",
              "      <td>2</td>\n",
              "      <td>1.0</td>\n",
              "      <td>0.0</td>\n",
              "      <td>0</td>\n",
              "      <td>1</td>\n",
              "      <td>1</td>\n",
              "      <td>1</td>\n",
              "      <td>1</td>\n",
              "      <td>1</td>\n",
              "      <td>1</td>\n",
              "      <td>1</td>\n",
              "      <td>1</td>\n",
              "      <td>1</td>\n",
              "      <td>1</td>\n",
              "      <td>0.0</td>\n",
              "      <td>0.0</td>\n",
              "      <td>0.0</td>\n",
              "      <td>0.0</td>\n",
              "      <td>2.0</td>\n",
              "      <td>0.0</td>\n",
              "      <td>0.0</td>\n",
              "      <td>0.0</td>\n",
              "      <td>0.0</td>\n",
              "      <td>21.0</td>\n",
              "      <td>0.0</td>\n",
              "      <td>0.0</td>\n",
              "      <td>0.000000</td>\n",
              "      <td>0.000000</td>\n",
              "      <td>1.000000</td>\n",
              "      <td>6.482493e+08</td>\n",
              "      <td>0.000000</td>\n",
              "      <td>0.000000</td>\n",
              "      <td>1.000000</td>\n",
              "      <td>0.000000</td>\n",
              "      <td>0.000000</td>\n",
              "      <td>0</td>\n",
              "      <td>0</td>\n",
              "      <td>0</td>\n",
              "    </tr>\n",
              "    <tr>\n",
              "      <th>1</th>\n",
              "      <td>645333001</td>\n",
              "      <td>1</td>\n",
              "      <td>2</td>\n",
              "      <td>1.0</td>\n",
              "      <td>2.0</td>\n",
              "      <td>0</td>\n",
              "      <td>0</td>\n",
              "      <td>0</td>\n",
              "      <td>0</td>\n",
              "      <td>0</td>\n",
              "      <td>0</td>\n",
              "      <td>0</td>\n",
              "      <td>0</td>\n",
              "      <td>0</td>\n",
              "      <td>0</td>\n",
              "      <td>0</td>\n",
              "      <td>0.0</td>\n",
              "      <td>58.0</td>\n",
              "      <td>2.0</td>\n",
              "      <td>14.0</td>\n",
              "      <td>17.0</td>\n",
              "      <td>3.0</td>\n",
              "      <td>0.0</td>\n",
              "      <td>0.0</td>\n",
              "      <td>16.0</td>\n",
              "      <td>26.0</td>\n",
              "      <td>0.0</td>\n",
              "      <td>0.0</td>\n",
              "      <td>0.719048</td>\n",
              "      <td>0.354167</td>\n",
              "      <td>0.257143</td>\n",
              "      <td>2.612393e+08</td>\n",
              "      <td>7.508862</td>\n",
              "      <td>7.508862</td>\n",
              "      <td>0.257143</td>\n",
              "      <td>0.588401</td>\n",
              "      <td>0.057143</td>\n",
              "      <td>2</td>\n",
              "      <td>1</td>\n",
              "      <td>0</td>\n",
              "    </tr>\n",
              "    <tr>\n",
              "      <th>2</th>\n",
              "      <td>651165709</td>\n",
              "      <td>1</td>\n",
              "      <td>2</td>\n",
              "      <td>1.0</td>\n",
              "      <td>9.0</td>\n",
              "      <td>0</td>\n",
              "      <td>1</td>\n",
              "      <td>1</td>\n",
              "      <td>1</td>\n",
              "      <td>1</td>\n",
              "      <td>1</td>\n",
              "      <td>1</td>\n",
              "      <td>1</td>\n",
              "      <td>1</td>\n",
              "      <td>1</td>\n",
              "      <td>1</td>\n",
              "      <td>0.0</td>\n",
              "      <td>15.0</td>\n",
              "      <td>9.0</td>\n",
              "      <td>130.0</td>\n",
              "      <td>1086.0</td>\n",
              "      <td>3.0</td>\n",
              "      <td>15.0</td>\n",
              "      <td>2.0</td>\n",
              "      <td>139.0</td>\n",
              "      <td>40.0</td>\n",
              "      <td>154.0</td>\n",
              "      <td>1.0</td>\n",
              "      <td>0.445322</td>\n",
              "      <td>0.095878</td>\n",
              "      <td>0.038501</td>\n",
              "      <td>4.023961e+08</td>\n",
              "      <td>34.912425</td>\n",
              "      <td>34.912425</td>\n",
              "      <td>0.038501</td>\n",
              "      <td>0.511661</td>\n",
              "      <td>0.006917</td>\n",
              "      <td>2</td>\n",
              "      <td>1</td>\n",
              "      <td>0</td>\n",
              "    </tr>\n",
              "    <tr>\n",
              "      <th>3</th>\n",
              "      <td>649232401</td>\n",
              "      <td>1</td>\n",
              "      <td>1</td>\n",
              "      <td>1.0</td>\n",
              "      <td>0.0</td>\n",
              "      <td>0</td>\n",
              "      <td>0</td>\n",
              "      <td>0</td>\n",
              "      <td>0</td>\n",
              "      <td>0</td>\n",
              "      <td>0</td>\n",
              "      <td>0</td>\n",
              "      <td>0</td>\n",
              "      <td>0</td>\n",
              "      <td>0</td>\n",
              "      <td>0</td>\n",
              "      <td>0.0</td>\n",
              "      <td>0.0</td>\n",
              "      <td>0.0</td>\n",
              "      <td>9.0</td>\n",
              "      <td>89.0</td>\n",
              "      <td>0.0</td>\n",
              "      <td>0.0</td>\n",
              "      <td>0.0</td>\n",
              "      <td>0.0</td>\n",
              "      <td>24.0</td>\n",
              "      <td>0.0</td>\n",
              "      <td>1.0</td>\n",
              "      <td>0.000000</td>\n",
              "      <td>0.000000</td>\n",
              "      <td>1.000000</td>\n",
              "      <td>6.492324e+08</td>\n",
              "      <td>0.000000</td>\n",
              "      <td>0.000000</td>\n",
              "      <td>1.000000</td>\n",
              "      <td>0.000000</td>\n",
              "      <td>0.000000</td>\n",
              "      <td>0</td>\n",
              "      <td>0</td>\n",
              "      <td>0</td>\n",
              "    </tr>\n",
              "    <tr>\n",
              "      <th>4</th>\n",
              "      <td>639664147</td>\n",
              "      <td>0</td>\n",
              "      <td>1</td>\n",
              "      <td>1.0</td>\n",
              "      <td>1.0</td>\n",
              "      <td>0</td>\n",
              "      <td>1</td>\n",
              "      <td>1</td>\n",
              "      <td>1</td>\n",
              "      <td>1</td>\n",
              "      <td>1</td>\n",
              "      <td>1</td>\n",
              "      <td>1</td>\n",
              "      <td>1</td>\n",
              "      <td>1</td>\n",
              "      <td>1</td>\n",
              "      <td>0.0</td>\n",
              "      <td>0.0</td>\n",
              "      <td>1.0</td>\n",
              "      <td>24.0</td>\n",
              "      <td>34.0</td>\n",
              "      <td>0.0</td>\n",
              "      <td>0.0</td>\n",
              "      <td>0.0</td>\n",
              "      <td>25.0</td>\n",
              "      <td>59.0</td>\n",
              "      <td>0.0</td>\n",
              "      <td>0.0</td>\n",
              "      <td>0.726571</td>\n",
              "      <td>0.446131</td>\n",
              "      <td>0.260000</td>\n",
              "      <td>3.456780e+08</td>\n",
              "      <td>10.625207</td>\n",
              "      <td>10.625207</td>\n",
              "      <td>0.260000</td>\n",
              "      <td>0.584422</td>\n",
              "      <td>0.032174</td>\n",
              "      <td>2</td>\n",
              "      <td>1</td>\n",
              "      <td>0</td>\n",
              "    </tr>\n",
              "  </tbody>\n",
              "</table>\n",
              "</div>"
            ],
            "text/plain": [
              "         uid  has_photo  sex  ...  diameter  average_shortest_path_length  target\n",
              "0  648249344          0    2  ...         0                             0       0\n",
              "1  645333001          1    2  ...         2                             1       0\n",
              "2  651165709          1    2  ...         2                             1       0\n",
              "3  649232401          1    1  ...         0                             0       0\n",
              "4  639664147          0    1  ...         2                             1       0\n",
              "\n",
              "[5 rows x 40 columns]"
            ]
          },
          "metadata": {
            "tags": []
          },
          "execution_count": 3
        }
      ]
    },
    {
      "cell_type": "code",
      "metadata": {
        "colab": {
          "base_uri": "https://localhost:8080/"
        },
        "id": "eg7W3WtyYPXT",
        "outputId": "86e64bb1-1501-4599-fcaa-af6f7f1bf862"
      },
      "source": [
        "df.shape"
      ],
      "execution_count": 4,
      "outputs": [
        {
          "output_type": "execute_result",
          "data": {
            "text/plain": [
              "(11766, 40)"
            ]
          },
          "metadata": {
            "tags": []
          },
          "execution_count": 4
        }
      ]
    },
    {
      "cell_type": "code",
      "metadata": {
        "colab": {
          "base_uri": "https://localhost:8080/"
        },
        "id": "gIobDg99RyRp",
        "scrolled": false,
        "outputId": "2fe648af-fbaf-4aeb-b822-7f07abb6e44c"
      },
      "source": [
        "df.columns"
      ],
      "execution_count": 5,
      "outputs": [
        {
          "output_type": "execute_result",
          "data": {
            "text/plain": [
              "Index(['uid', 'has_photo', 'sex', 'has_mobile', 'followers_count', 'contacts',\n",
              "       'relatives', 'relation', 'personal', 'activities', 'music', 'movies',\n",
              "       'tv', 'books', 'about', 'quotes', 'albums', 'audios', 'followers',\n",
              "       'friends', 'pages', 'photos', 'subscriptions', 'videos',\n",
              "       'clips_followers', 'age', 'city', 'country', 'avg_cl', 'trans',\n",
              "       'deg_centr', 'average_neighbor_degree', 'average_degree_connectivity',\n",
              "       'k_nearest_neighbors', 'degree_centrality', 'closeness_centrality',\n",
              "       'betweenness_centrality', 'diameter', 'average_shortest_path_length',\n",
              "       'target'],\n",
              "      dtype='object')"
            ]
          },
          "metadata": {
            "tags": []
          },
          "execution_count": 5
        }
      ]
    },
    {
      "cell_type": "code",
      "metadata": {
        "colab": {
          "base_uri": "https://localhost:8080/"
        },
        "id": "MhLvY0elRyRq",
        "outputId": "b3c41ea5-032d-44b7-fb8a-27acc2fc5f93"
      },
      "source": [
        "df.info()"
      ],
      "execution_count": 6,
      "outputs": [
        {
          "output_type": "stream",
          "text": [
            "<class 'pandas.core.frame.DataFrame'>\n",
            "RangeIndex: 11766 entries, 0 to 11765\n",
            "Data columns (total 40 columns):\n",
            " #   Column                        Non-Null Count  Dtype  \n",
            "---  ------                        --------------  -----  \n",
            " 0   uid                           11766 non-null  int64  \n",
            " 1   has_photo                     11766 non-null  int64  \n",
            " 2   sex                           11766 non-null  int64  \n",
            " 3   has_mobile                    11766 non-null  float64\n",
            " 4   followers_count               11766 non-null  float64\n",
            " 5   contacts                      11766 non-null  int64  \n",
            " 6   relatives                     11766 non-null  int64  \n",
            " 7   relation                      11766 non-null  int64  \n",
            " 8   personal                      11766 non-null  int64  \n",
            " 9   activities                    11766 non-null  int64  \n",
            " 10  music                         11766 non-null  int64  \n",
            " 11  movies                        11766 non-null  int64  \n",
            " 12  tv                            11766 non-null  int64  \n",
            " 13  books                         11766 non-null  int64  \n",
            " 14  about                         11766 non-null  int64  \n",
            " 15  quotes                        11766 non-null  int64  \n",
            " 16  albums                        11766 non-null  float64\n",
            " 17  audios                        11766 non-null  float64\n",
            " 18  followers                     11766 non-null  float64\n",
            " 19  friends                       11766 non-null  float64\n",
            " 20  pages                         11766 non-null  float64\n",
            " 21  photos                        11766 non-null  float64\n",
            " 22  subscriptions                 11766 non-null  float64\n",
            " 23  videos                        11766 non-null  float64\n",
            " 24  clips_followers               11766 non-null  float64\n",
            " 25  age                           11766 non-null  float64\n",
            " 26  city                          11766 non-null  float64\n",
            " 27  country                       11766 non-null  float64\n",
            " 28  avg_cl                        11766 non-null  float64\n",
            " 29  trans                         11766 non-null  float64\n",
            " 30  deg_centr                     11766 non-null  float64\n",
            " 31  average_neighbor_degree       11766 non-null  float64\n",
            " 32  average_degree_connectivity   11766 non-null  float64\n",
            " 33  k_nearest_neighbors           11766 non-null  float64\n",
            " 34  degree_centrality             11766 non-null  float64\n",
            " 35  closeness_centrality          11766 non-null  float64\n",
            " 36  betweenness_centrality        11766 non-null  float64\n",
            " 37  diameter                      11766 non-null  int64  \n",
            " 38  average_shortest_path_length  11766 non-null  int64  \n",
            " 39  target                        11766 non-null  int64  \n",
            "dtypes: float64(23), int64(17)\n",
            "memory usage: 3.6 MB\n"
          ],
          "name": "stdout"
        }
      ]
    },
    {
      "cell_type": "code",
      "metadata": {
        "colab": {
          "base_uri": "https://localhost:8080/"
        },
        "id": "9IQUIXfY-3Gd",
        "outputId": "1fbba3d6-cb37-4c23-b7e4-fe61be8f32a0"
      },
      "source": [
        "df['contacts'].value_counts()"
      ],
      "execution_count": 7,
      "outputs": [
        {
          "output_type": "execute_result",
          "data": {
            "text/plain": [
              "0    11766\n",
              "Name: contacts, dtype: int64"
            ]
          },
          "metadata": {
            "tags": []
          },
          "execution_count": 7
        }
      ]
    },
    {
      "cell_type": "code",
      "metadata": {
        "id": "93JU4RnE_QLx"
      },
      "source": [
        "df.drop('contacts', axis=1, inplace=True)"
      ],
      "execution_count": 8,
      "outputs": []
    },
    {
      "cell_type": "code",
      "metadata": {
        "colab": {
          "base_uri": "https://localhost:8080/"
        },
        "id": "lumFNmIY8IaA",
        "outputId": "62935a53-83b7-4f0c-9f95-a43b079a5618"
      },
      "source": [
        "df['subscriptions'].value_counts()"
      ],
      "execution_count": 9,
      "outputs": [
        {
          "output_type": "execute_result",
          "data": {
            "text/plain": [
              "0.0       8159\n",
              "1.0        805\n",
              "2.0        387\n",
              "3.0        285\n",
              "4.0        209\n",
              "          ... \n",
              "169.0        1\n",
              "211.0        1\n",
              "181.0        1\n",
              "219.0        1\n",
              "2845.0       1\n",
              "Name: subscriptions, Length: 214, dtype: int64"
            ]
          },
          "metadata": {
            "tags": []
          },
          "execution_count": 9
        }
      ]
    },
    {
      "cell_type": "code",
      "metadata": {
        "colab": {
          "base_uri": "https://localhost:8080/"
        },
        "id": "CM3viZkIRyRr",
        "outputId": "29142deb-12b2-4a92-d0d4-f4ba060b259a"
      },
      "source": [
        "df[(df.friends > 0) & (df.friends < 500)].friends.describe()"
      ],
      "execution_count": 10,
      "outputs": [
        {
          "output_type": "execute_result",
          "data": {
            "text/plain": [
              "count    6555.000000\n",
              "mean       56.147826\n",
              "std        76.464044\n",
              "min         1.000000\n",
              "25%         5.000000\n",
              "50%        23.000000\n",
              "75%        76.000000\n",
              "max       499.000000\n",
              "Name: friends, dtype: float64"
            ]
          },
          "metadata": {
            "tags": []
          },
          "execution_count": 10
        }
      ]
    },
    {
      "cell_type": "code",
      "metadata": {
        "colab": {
          "base_uri": "https://localhost:8080/"
        },
        "id": "PbxHYukdRyRr",
        "outputId": "30e245c5-8835-4e18-abe3-f45c4ec63440"
      },
      "source": [
        "df[df.friends > 0].friends.quantile(0.75)"
      ],
      "execution_count": 11,
      "outputs": [
        {
          "output_type": "execute_result",
          "data": {
            "text/plain": [
              "84.0"
            ]
          },
          "metadata": {
            "tags": []
          },
          "execution_count": 11
        }
      ]
    },
    {
      "cell_type": "code",
      "metadata": {
        "colab": {
          "base_uri": "https://localhost:8080/"
        },
        "id": "MppAhME3RyRs",
        "outputId": "2a834a93-7151-4295-9807-ef0de9211120"
      },
      "source": [
        "df['target'].value_counts()"
      ],
      "execution_count": 12,
      "outputs": [
        {
          "output_type": "execute_result",
          "data": {
            "text/plain": [
              "0    9969\n",
              "1    1797\n",
              "Name: target, dtype: int64"
            ]
          },
          "metadata": {
            "tags": []
          },
          "execution_count": 12
        }
      ]
    },
    {
      "cell_type": "code",
      "metadata": {
        "colab": {
          "base_uri": "https://localhost:8080/"
        },
        "id": "DNIIuhEbRyRs",
        "scrolled": true,
        "outputId": "74c4d0c8-899e-4ed7-9acb-5035635cb89f"
      },
      "source": [
        "df[df.uid.isin(df[df.friends > 0].uid)]['target'].value_counts()"
      ],
      "execution_count": 13,
      "outputs": [
        {
          "output_type": "execute_result",
          "data": {
            "text/plain": [
              "0    5180\n",
              "1    1565\n",
              "Name: target, dtype: int64"
            ]
          },
          "metadata": {
            "tags": []
          },
          "execution_count": 13
        }
      ]
    },
    {
      "cell_type": "code",
      "metadata": {
        "colab": {
          "base_uri": "https://localhost:8080/",
          "height": 282
        },
        "id": "9tAQeuZsbEW8",
        "outputId": "0f13cc53-c301-4bc2-b054-a7c70bba76c5"
      },
      "source": [
        "df[(df.followers_count < 20) & (df.followers_count >0)]['followers_count'].hist()"
      ],
      "execution_count": 14,
      "outputs": [
        {
          "output_type": "execute_result",
          "data": {
            "text/plain": [
              "<matplotlib.axes._subplots.AxesSubplot at 0x7f1817866990>"
            ]
          },
          "metadata": {
            "tags": []
          },
          "execution_count": 14
        },
        {
          "output_type": "display_data",
          "data": {
            "image/png": "[encoded data removed]",
            "text/plain": [
              "<Figure size 432x288 with 1 Axes>"
            ]
          },
          "metadata": {
            "tags": [],
            "needs_background": "light"
          }
        }
      ]
    },
    {
      "cell_type": "code",
      "metadata": {
        "colab": {
          "base_uri": "https://localhost:8080/"
        },
        "id": "y7NwGgWORyRu",
        "outputId": "cb6776e5-e78f-41d4-d16c-c69d1833eb97"
      },
      "source": [
        "df['city'].value_counts()"
      ],
      "execution_count": 15,
      "outputs": [
        {
          "output_type": "execute_result",
          "data": {
            "text/plain": [
              "0.0          8141\n",
              "1.0          1164\n",
              "2.0           337\n",
              "49.0          116\n",
              "99.0          109\n",
              "             ... \n",
              "1919616.0       1\n",
              "1389.0          1\n",
              "4234.0          1\n",
              "3255.0          1\n",
              "12923.0         1\n",
              "Name: city, Length: 623, dtype: int64"
            ]
          },
          "metadata": {
            "tags": []
          },
          "execution_count": 15
        }
      ]
    },
    {
      "cell_type": "code",
      "metadata": {
        "colab": {
          "base_uri": "https://localhost:8080/",
          "height": 265
        },
        "id": "BeRcdalP38i0",
        "outputId": "59e6c28c-1c21-4955-f376-8c8c3182f96c"
      },
      "source": [
        "data_with_cities = df.groupby('city').count()\n",
        "data_with_cities[data_with_cities['uid'] > 100].plot.pie(autopct=\"%.1f%%\", y='uid')"
      ],
      "execution_count": 16,
      "outputs": [
        {
          "output_type": "execute_result",
          "data": {
            "text/plain": [
              "<matplotlib.axes._subplots.AxesSubplot at 0x7f1817729490>"
            ]
          },
          "metadata": {
            "tags": []
          },
          "execution_count": 16
        },
        {
          "output_type": "display_data",
          "data": {
            "image/png": "[encoded data removed]",
            "text/plain": [
              "<Figure size 432x288 with 1 Axes>"
            ]
          },
          "metadata": {
            "tags": []
          }
        }
      ]
    },
    {
      "cell_type": "code",
      "metadata": {
        "colab": {
          "base_uri": "https://localhost:8080/"
        },
        "id": "waC1X7g83vme",
        "outputId": "d9d37231-d9cd-49cd-8a3f-22b3331f55fe"
      },
      "source": [
        "df['sex'].value_counts()"
      ],
      "execution_count": 17,
      "outputs": [
        {
          "output_type": "execute_result",
          "data": {
            "text/plain": [
              "1    6755\n",
              "2    4960\n",
              "0      51\n",
              "Name: sex, dtype: int64"
            ]
          },
          "metadata": {
            "tags": []
          },
          "execution_count": 17
        }
      ]
    },
    {
      "cell_type": "code",
      "metadata": {
        "colab": {
          "base_uri": "https://localhost:8080/"
        },
        "id": "3HKsEb-037gd",
        "outputId": "eaf2f0c8-7e0b-423c-cb2a-d6a96b56e282"
      },
      "source": [
        "df[df['sex']==0]['target'].value_counts()"
      ],
      "execution_count": 18,
      "outputs": [
        {
          "output_type": "execute_result",
          "data": {
            "text/plain": [
              "0    50\n",
              "1     1\n",
              "Name: target, dtype: int64"
            ]
          },
          "metadata": {
            "tags": []
          },
          "execution_count": 18
        }
      ]
    },
    {
      "cell_type": "code",
      "metadata": {
        "colab": {
          "base_uri": "https://localhost:8080/",
          "height": 296
        },
        "id": "QGj5SRsNRyRu",
        "outputId": "40c696d5-02d6-491d-8683-6590f0ca3679"
      },
      "source": [
        "sns.boxplot(data=df, x='target', y='age')"
      ],
      "execution_count": 19,
      "outputs": [
        {
          "output_type": "execute_result",
          "data": {
            "text/plain": [
              "<matplotlib.axes._subplots.AxesSubplot at 0x7f1817256690>"
            ]
          },
          "metadata": {
            "tags": []
          },
          "execution_count": 19
        },
        {
          "output_type": "display_data",
          "data": {
            "image/png": "[encoded data removed]",
            "text/plain": [
              "<Figure size 432x288 with 1 Axes>"
            ]
          },
          "metadata": {
            "tags": [],
            "needs_background": "light"
          }
        }
      ]
    },
    {
      "cell_type": "code",
      "metadata": {
        "colab": {
          "base_uri": "https://localhost:8080/"
        },
        "id": "YebHGdsccskV",
        "outputId": "a01ea56c-1594-44cf-dccc-ba0e9339357b"
      },
      "source": [
        "df[df.target == 0].personal.mean()"
      ],
      "execution_count": 20,
      "outputs": [
        {
          "output_type": "execute_result",
          "data": {
            "text/plain": [
              "0.5315477981743405"
            ]
          },
          "metadata": {
            "tags": []
          },
          "execution_count": 20
        }
      ]
    },
    {
      "cell_type": "code",
      "metadata": {
        "colab": {
          "base_uri": "https://localhost:8080/"
        },
        "id": "8c506-q6c7Yu",
        "outputId": "39da6daa-10f5-4dcf-b495-09f1a5b02cb5"
      },
      "source": [
        "df[df.target == 1].personal.mean()"
      ],
      "execution_count": 21,
      "outputs": [
        {
          "output_type": "execute_result",
          "data": {
            "text/plain": [
              "0.3110740122426266"
            ]
          },
          "metadata": {
            "tags": []
          },
          "execution_count": 21
        }
      ]
    },
    {
      "cell_type": "code",
      "metadata": {
        "colab": {
          "base_uri": "https://localhost:8080/"
        },
        "id": "p8KibuFZZ6Pk",
        "outputId": "ac348fb0-91cc-4458-bbb9-ee8afc375ca8"
      },
      "source": [
        "df[df.target == 0].has_photo.mean()"
      ],
      "execution_count": 22,
      "outputs": [
        {
          "output_type": "execute_result",
          "data": {
            "text/plain": [
              "0.5762864881131508"
            ]
          },
          "metadata": {
            "tags": []
          },
          "execution_count": 22
        }
      ]
    },
    {
      "cell_type": "code",
      "metadata": {
        "colab": {
          "base_uri": "https://localhost:8080/"
        },
        "id": "3SdLoXCqZ_Zs",
        "outputId": "86f1af52-12cd-4f67-8ebf-24da115ea0f0"
      },
      "source": [
        "df[df.target == 1].has_photo.mean()"
      ],
      "execution_count": 23,
      "outputs": [
        {
          "output_type": "execute_result",
          "data": {
            "text/plain": [
              "0.9682804674457429"
            ]
          },
          "metadata": {
            "tags": []
          },
          "execution_count": 23
        }
      ]
    },
    {
      "cell_type": "code",
      "metadata": {
        "colab": {
          "base_uri": "https://localhost:8080/",
          "height": 296
        },
        "id": "r-qb_9yNXrN-",
        "outputId": "fe1e7b80-9fe3-4419-a28d-938ce2a047d2"
      },
      "source": [
        "sns.boxplot(data=df[df['pages'] < 100], x='target', y='pages')"
      ],
      "execution_count": 24,
      "outputs": [
        {
          "output_type": "execute_result",
          "data": {
            "text/plain": [
              "<matplotlib.axes._subplots.AxesSubplot at 0x7f181717f4d0>"
            ]
          },
          "metadata": {
            "tags": []
          },
          "execution_count": 24
        },
        {
          "output_type": "display_data",
          "data": {
            "image/png": "[encoded data removed]",
            "text/plain": [
              "<Figure size 432x288 with 1 Axes>"
            ]
          },
          "metadata": {
            "tags": [],
            "needs_background": "light"
          }
        }
      ]
    },
    {
      "cell_type": "code",
      "metadata": {
        "colab": {
          "base_uri": "https://localhost:8080/",
          "height": 296
        },
        "id": "01emRCyGaKpr",
        "outputId": "c9019b28-b4fc-4d5c-cb86-5a48a9c6a8da"
      },
      "source": [
        "sns.boxplot(data=df[df['subscriptions'] < 100], x='target', y='subscriptions')"
      ],
      "execution_count": 25,
      "outputs": [
        {
          "output_type": "execute_result",
          "data": {
            "text/plain": [
              "<matplotlib.axes._subplots.AxesSubplot at 0x7f18171558d0>"
            ]
          },
          "metadata": {
            "tags": []
          },
          "execution_count": 25
        },
        {
          "output_type": "display_data",
          "data": {
            "image/png": "[encoded data removed]",
            "text/plain": [
              "<Figure size 432x288 with 1 Axes>"
            ]
          },
          "metadata": {
            "tags": [],
            "needs_background": "light"
          }
        }
      ]
    },
    {
      "cell_type": "code",
      "metadata": {
        "colab": {
          "base_uri": "https://localhost:8080/",
          "height": 296
        },
        "id": "__Ar1TXdRyRv",
        "outputId": "99117f8c-70a8-462d-abb3-b4246775c855"
      },
      "source": [
        "sns.boxplot(data=df, x='target', y='avg_cl')"
      ],
      "execution_count": 26,
      "outputs": [
        {
          "output_type": "execute_result",
          "data": {
            "text/plain": [
              "<matplotlib.axes._subplots.AxesSubplot at 0x7f1817171750>"
            ]
          },
          "metadata": {
            "tags": []
          },
          "execution_count": 26
        },
        {
          "output_type": "display_data",
          "data": {
            "image/png": "[encoded data removed]",
            "text/plain": [
              "<Figure size 432x288 with 1 Axes>"
            ]
          },
          "metadata": {
            "tags": [],
            "needs_background": "light"
          }
        }
      ]
    },
    {
      "cell_type": "code",
      "metadata": {
        "colab": {
          "base_uri": "https://localhost:8080/",
          "height": 296
        },
        "id": "LK3NGVWenJ4L",
        "outputId": "c824d8e3-4f31-4459-a678-26ecb5700042"
      },
      "source": [
        "sns.boxplot(data=df, x='target', y='trans')"
      ],
      "execution_count": 27,
      "outputs": [
        {
          "output_type": "execute_result",
          "data": {
            "text/plain": [
              "<matplotlib.axes._subplots.AxesSubplot at 0x7f18170d8d10>"
            ]
          },
          "metadata": {
            "tags": []
          },
          "execution_count": 27
        },
        {
          "output_type": "display_data",
          "data": {
            "image/png": "[encoded data removed]",
            "text/plain": [
              "<Figure size 432x288 with 1 Axes>"
            ]
          },
          "metadata": {
            "tags": [],
            "needs_background": "light"
          }
        }
      ]
    },
    {
      "cell_type": "code",
      "metadata": {
        "colab": {
          "base_uri": "https://localhost:8080/",
          "height": 307
        },
        "id": "vmaxg0yZsZGg",
        "outputId": "4a41b7dc-5ee0-4618-a26e-d8845ecc5cc1"
      },
      "source": [
        "sns.boxplot(data=df, x='target', y='average_neighbor_degree')"
      ],
      "execution_count": 28,
      "outputs": [
        {
          "output_type": "execute_result",
          "data": {
            "text/plain": [
              "<matplotlib.axes._subplots.AxesSubplot at 0x7f1816fd5290>"
            ]
          },
          "metadata": {
            "tags": []
          },
          "execution_count": 28
        },
        {
          "output_type": "display_data",
          "data": {
            "image/png": "[encoded data removed]",
            "text/plain": [
              "<Figure size 432x288 with 1 Axes>"
            ]
          },
          "metadata": {
            "tags": [],
            "needs_background": "light"
          }
        }
      ]
    },
    {
      "cell_type": "code",
      "metadata": {
        "colab": {
          "base_uri": "https://localhost:8080/",
          "height": 296
        },
        "id": "2svVjU2Jwn2G",
        "outputId": "3bffbe4c-1bfa-40dc-ca1b-b2f56c0801ca"
      },
      "source": [
        "sns.boxplot(data=df[df['closeness_centrality'] > 0], x='target', y='closeness_centrality')"
      ],
      "execution_count": 29,
      "outputs": [
        {
          "output_type": "execute_result",
          "data": {
            "text/plain": [
              "<matplotlib.axes._subplots.AxesSubplot at 0x7f1816ee7a90>"
            ]
          },
          "metadata": {
            "tags": []
          },
          "execution_count": 29
        },
        {
          "output_type": "display_data",
          "data": {
            "image/png": "[encoded data removed]",
            "text/plain": [
              "<Figure size 432x288 with 1 Axes>"
            ]
          },
          "metadata": {
            "tags": [],
            "needs_background": "light"
          }
        }
      ]
    },
    {
      "cell_type": "code",
      "metadata": {
        "colab": {
          "base_uri": "https://localhost:8080/",
          "height": 754
        },
        "id": "wRHr3cE6gjTQ",
        "outputId": "e6529ee9-aec9-4cb1-933b-5a6b5d98e263"
      },
      "source": [
        "corr = df.corr()\n",
        "fig, ax = plt.subplots(figsize=(10,10))         \n",
        "sns.heatmap(corr, xticklabels=corr.columns, yticklabels=corr.columns, ax=ax)#Cделать матрицу понятнее"
      ],
      "execution_count": 30,
      "outputs": [
        {
          "output_type": "execute_result",
          "data": {
            "text/plain": [
              "<matplotlib.axes._subplots.AxesSubplot at 0x7f181725ebd0>"
            ]
          },
          "metadata": {
            "tags": []
          },
          "execution_count": 30
        },
        {
          "output_type": "display_data",
          "data": {
            "image/png": "[encoded data removed]",
            "text/plain": [
              "<Figure size 720x720 with 2 Axes>"
            ]
          },
          "metadata": {
            "tags": [],
            "needs_background": "light"
          }
        }
      ]
    },
    {
      "cell_type": "code",
      "metadata": {
        "colab": {
          "base_uri": "https://localhost:8080/",
          "height": 1000
        },
        "id": "q8G1kgBq-qGp",
        "outputId": "b733f0a8-9fc2-403e-8377-5795fae4aa85"
      },
      "source": [
        "corr"
      ],
      "execution_count": 31,
      "outputs": [
        {
          "output_type": "execute_result",
          "data": {
            "text/html": [
              "<div>\n",
              "<style scoped>\n",
              "    .dataframe tbody tr th:only-of-type {\n",
              "        vertical-align: middle;\n",
              "    }\n",
              "\n",
              "    .dataframe tbody tr th {\n",
              "        vertical-align: top;\n",
              "    }\n",
              "\n",
              "    .dataframe thead th {\n",
              "        text-align: right;\n",
              "    }\n",
              "</style>\n",
              "<table border=\"1\" class=\"dataframe\">\n",
              "  <thead>\n",
              "    <tr style=\"text-align: right;\">\n",
              "      <th></th>\n",
              "      <th>uid</th>\n",
              "      <th>has_photo</th>\n",
              "      <th>sex</th>\n",
              "      <th>has_mobile</th>\n",
              "      <th>followers_count</th>\n",
              "      <th>relatives</th>\n",
              "      <th>relation</th>\n",
              "      <th>personal</th>\n",
              "      <th>activities</th>\n",
              "      <th>music</th>\n",
              "      <th>movies</th>\n",
              "      <th>tv</th>\n",
              "      <th>books</th>\n",
              "      <th>about</th>\n",
              "      <th>quotes</th>\n",
              "      <th>albums</th>\n",
              "      <th>audios</th>\n",
              "      <th>followers</th>\n",
              "      <th>friends</th>\n",
              "      <th>pages</th>\n",
              "      <th>photos</th>\n",
              "      <th>subscriptions</th>\n",
              "      <th>videos</th>\n",
              "      <th>clips_followers</th>\n",
              "      <th>age</th>\n",
              "      <th>city</th>\n",
              "      <th>country</th>\n",
              "      <th>avg_cl</th>\n",
              "      <th>trans</th>\n",
              "      <th>deg_centr</th>\n",
              "      <th>average_neighbor_degree</th>\n",
              "      <th>average_degree_connectivity</th>\n",
              "      <th>k_nearest_neighbors</th>\n",
              "      <th>degree_centrality</th>\n",
              "      <th>closeness_centrality</th>\n",
              "      <th>betweenness_centrality</th>\n",
              "      <th>diameter</th>\n",
              "      <th>average_shortest_path_length</th>\n",
              "      <th>target</th>\n",
              "    </tr>\n",
              "  </thead>\n",
              "  <tbody>\n",
              "    <tr>\n",
              "      <th>uid</th>\n",
              "      <td>1.000000</td>\n",
              "      <td>-0.182193</td>\n",
              "      <td>-0.042038</td>\n",
              "      <td>-0.100482</td>\n",
              "      <td>-0.084965</td>\n",
              "      <td>0.145527</td>\n",
              "      <td>0.145527</td>\n",
              "      <td>0.145527</td>\n",
              "      <td>0.145527</td>\n",
              "      <td>0.145527</td>\n",
              "      <td>0.145527</td>\n",
              "      <td>0.145527</td>\n",
              "      <td>0.145527</td>\n",
              "      <td>0.145527</td>\n",
              "      <td>0.145527</td>\n",
              "      <td>-0.096894</td>\n",
              "      <td>-0.067229</td>\n",
              "      <td>-0.084965</td>\n",
              "      <td>-0.113498</td>\n",
              "      <td>-0.076749</td>\n",
              "      <td>-0.001169</td>\n",
              "      <td>-0.144857</td>\n",
              "      <td>-0.051357</td>\n",
              "      <td>-0.053997</td>\n",
              "      <td>0.046440</td>\n",
              "      <td>0.008097</td>\n",
              "      <td>-0.007374</td>\n",
              "      <td>0.034929</td>\n",
              "      <td>0.057018</td>\n",
              "      <td>0.020116</td>\n",
              "      <td>0.424484</td>\n",
              "      <td>-0.044502</td>\n",
              "      <td>-0.044502</td>\n",
              "      <td>0.020116</td>\n",
              "      <td>0.060585</td>\n",
              "      <td>0.059767</td>\n",
              "      <td>0.026345</td>\n",
              "      <td>0.036978</td>\n",
              "      <td>-0.596500</td>\n",
              "    </tr>\n",
              "    <tr>\n",
              "      <th>has_photo</th>\n",
              "      <td>-0.182193</td>\n",
              "      <td>1.000000</td>\n",
              "      <td>0.094739</td>\n",
              "      <td>0.645549</td>\n",
              "      <td>0.076748</td>\n",
              "      <td>0.261951</td>\n",
              "      <td>0.261951</td>\n",
              "      <td>0.261951</td>\n",
              "      <td>0.261951</td>\n",
              "      <td>0.261951</td>\n",
              "      <td>0.261951</td>\n",
              "      <td>0.261951</td>\n",
              "      <td>0.261951</td>\n",
              "      <td>0.261951</td>\n",
              "      <td>0.261951</td>\n",
              "      <td>0.153622</td>\n",
              "      <td>0.051156</td>\n",
              "      <td>0.076748</td>\n",
              "      <td>0.137733</td>\n",
              "      <td>0.139714</td>\n",
              "      <td>0.010472</td>\n",
              "      <td>0.088297</td>\n",
              "      <td>0.026944</td>\n",
              "      <td>0.108410</td>\n",
              "      <td>0.208576</td>\n",
              "      <td>0.051775</td>\n",
              "      <td>0.055593</td>\n",
              "      <td>0.265551</td>\n",
              "      <td>0.170724</td>\n",
              "      <td>-0.384667</td>\n",
              "      <td>-0.302781</td>\n",
              "      <td>0.258880</td>\n",
              "      <td>0.258880</td>\n",
              "      <td>-0.384667</td>\n",
              "      <td>0.284190</td>\n",
              "      <td>0.136714</td>\n",
              "      <td>0.368414</td>\n",
              "      <td>0.349417</td>\n",
              "      <td>0.293097</td>\n",
              "    </tr>\n",
              "    <tr>\n",
              "      <th>sex</th>\n",
              "      <td>-0.042038</td>\n",
              "      <td>0.094739</td>\n",
              "      <td>1.000000</td>\n",
              "      <td>0.210162</td>\n",
              "      <td>-0.028334</td>\n",
              "      <td>0.059933</td>\n",
              "      <td>0.059933</td>\n",
              "      <td>0.059933</td>\n",
              "      <td>0.059933</td>\n",
              "      <td>0.059933</td>\n",
              "      <td>0.059933</td>\n",
              "      <td>0.059933</td>\n",
              "      <td>0.059933</td>\n",
              "      <td>0.059933</td>\n",
              "      <td>0.059933</td>\n",
              "      <td>-0.096003</td>\n",
              "      <td>0.001359</td>\n",
              "      <td>-0.028334</td>\n",
              "      <td>-0.026208</td>\n",
              "      <td>0.080767</td>\n",
              "      <td>0.009643</td>\n",
              "      <td>0.013568</td>\n",
              "      <td>0.019543</td>\n",
              "      <td>-0.026076</td>\n",
              "      <td>0.202896</td>\n",
              "      <td>0.039846</td>\n",
              "      <td>0.045993</td>\n",
              "      <td>0.036533</td>\n",
              "      <td>0.041875</td>\n",
              "      <td>-0.014991</td>\n",
              "      <td>-0.127934</td>\n",
              "      <td>-0.064448</td>\n",
              "      <td>-0.064448</td>\n",
              "      <td>-0.014991</td>\n",
              "      <td>0.092469</td>\n",
              "      <td>0.086492</td>\n",
              "      <td>0.056460</td>\n",
              "      <td>0.071573</td>\n",
              "      <td>0.017542</td>\n",
              "    </tr>\n",
              "    <tr>\n",
              "      <th>has_mobile</th>\n",
              "      <td>-0.100482</td>\n",
              "      <td>0.645549</td>\n",
              "      <td>0.210162</td>\n",
              "      <td>1.000000</td>\n",
              "      <td>0.053349</td>\n",
              "      <td>0.493540</td>\n",
              "      <td>0.493540</td>\n",
              "      <td>0.493540</td>\n",
              "      <td>0.493540</td>\n",
              "      <td>0.493540</td>\n",
              "      <td>0.493540</td>\n",
              "      <td>0.493540</td>\n",
              "      <td>0.493540</td>\n",
              "      <td>0.493540</td>\n",
              "      <td>0.493540</td>\n",
              "      <td>0.105671</td>\n",
              "      <td>0.050688</td>\n",
              "      <td>0.053349</td>\n",
              "      <td>0.098295</td>\n",
              "      <td>0.137255</td>\n",
              "      <td>0.007285</td>\n",
              "      <td>0.057874</td>\n",
              "      <td>0.021269</td>\n",
              "      <td>0.078619</td>\n",
              "      <td>0.480012</td>\n",
              "      <td>0.050796</td>\n",
              "      <td>0.059751</td>\n",
              "      <td>0.295993</td>\n",
              "      <td>0.243269</td>\n",
              "      <td>-0.320450</td>\n",
              "      <td>-0.327498</td>\n",
              "      <td>0.190929</td>\n",
              "      <td>0.190929</td>\n",
              "      <td>-0.320450</td>\n",
              "      <td>0.366207</td>\n",
              "      <td>0.180073</td>\n",
              "      <td>0.373837</td>\n",
              "      <td>0.383259</td>\n",
              "      <td>0.165748</td>\n",
              "    </tr>\n",
              "    <tr>\n",
              "      <th>followers_count</th>\n",
              "      <td>-0.084965</td>\n",
              "      <td>0.076748</td>\n",
              "      <td>-0.028334</td>\n",
              "      <td>0.053349</td>\n",
              "      <td>1.000000</td>\n",
              "      <td>0.068794</td>\n",
              "      <td>0.068794</td>\n",
              "      <td>0.068794</td>\n",
              "      <td>0.068794</td>\n",
              "      <td>0.068794</td>\n",
              "      <td>0.068794</td>\n",
              "      <td>0.068794</td>\n",
              "      <td>0.068794</td>\n",
              "      <td>0.068794</td>\n",
              "      <td>0.068794</td>\n",
              "      <td>0.054678</td>\n",
              "      <td>0.067595</td>\n",
              "      <td>1.000000</td>\n",
              "      <td>0.355349</td>\n",
              "      <td>0.045425</td>\n",
              "      <td>0.017189</td>\n",
              "      <td>0.024471</td>\n",
              "      <td>0.061331</td>\n",
              "      <td>0.605825</td>\n",
              "      <td>-0.015881</td>\n",
              "      <td>-0.005614</td>\n",
              "      <td>-0.002440</td>\n",
              "      <td>0.086651</td>\n",
              "      <td>0.048707</td>\n",
              "      <td>-0.145493</td>\n",
              "      <td>-0.053600</td>\n",
              "      <td>0.291550</td>\n",
              "      <td>0.291550</td>\n",
              "      <td>-0.145493</td>\n",
              "      <td>0.079896</td>\n",
              "      <td>-0.019278</td>\n",
              "      <td>0.118164</td>\n",
              "      <td>0.110844</td>\n",
              "      <td>0.058470</td>\n",
              "    </tr>\n",
              "    <tr>\n",
              "      <th>relatives</th>\n",
              "      <td>0.145527</td>\n",
              "      <td>0.261951</td>\n",
              "      <td>0.059933</td>\n",
              "      <td>0.493540</td>\n",
              "      <td>0.068794</td>\n",
              "      <td>1.000000</td>\n",
              "      <td>1.000000</td>\n",
              "      <td>1.000000</td>\n",
              "      <td>1.000000</td>\n",
              "      <td>1.000000</td>\n",
              "      <td>1.000000</td>\n",
              "      <td>1.000000</td>\n",
              "      <td>1.000000</td>\n",
              "      <td>1.000000</td>\n",
              "      <td>1.000000</td>\n",
              "      <td>0.174856</td>\n",
              "      <td>0.071476</td>\n",
              "      <td>0.068794</td>\n",
              "      <td>0.036255</td>\n",
              "      <td>0.016670</td>\n",
              "      <td>0.012541</td>\n",
              "      <td>-0.012271</td>\n",
              "      <td>0.028138</td>\n",
              "      <td>0.113578</td>\n",
              "      <td>0.360858</td>\n",
              "      <td>0.021910</td>\n",
              "      <td>0.025054</td>\n",
              "      <td>0.483452</td>\n",
              "      <td>0.397628</td>\n",
              "      <td>-0.529256</td>\n",
              "      <td>-0.361336</td>\n",
              "      <td>0.321946</td>\n",
              "      <td>0.321946</td>\n",
              "      <td>-0.529256</td>\n",
              "      <td>0.614529</td>\n",
              "      <td>0.300598</td>\n",
              "      <td>0.621527</td>\n",
              "      <td>0.639679</td>\n",
              "      <td>-0.158621</td>\n",
              "    </tr>\n",
              "    <tr>\n",
              "      <th>relation</th>\n",
              "      <td>0.145527</td>\n",
              "      <td>0.261951</td>\n",
              "      <td>0.059933</td>\n",
              "      <td>0.493540</td>\n",
              "      <td>0.068794</td>\n",
              "      <td>1.000000</td>\n",
              "      <td>1.000000</td>\n",
              "      <td>1.000000</td>\n",
              "      <td>1.000000</td>\n",
              "      <td>1.000000</td>\n",
              "      <td>1.000000</td>\n",
              "      <td>1.000000</td>\n",
              "      <td>1.000000</td>\n",
              "      <td>1.000000</td>\n",
              "      <td>1.000000</td>\n",
              "      <td>0.174856</td>\n",
              "      <td>0.071476</td>\n",
              "      <td>0.068794</td>\n",
              "      <td>0.036255</td>\n",
              "      <td>0.016670</td>\n",
              "      <td>0.012541</td>\n",
              "      <td>-0.012271</td>\n",
              "      <td>0.028138</td>\n",
              "      <td>0.113578</td>\n",
              "      <td>0.360858</td>\n",
              "      <td>0.021910</td>\n",
              "      <td>0.025054</td>\n",
              "      <td>0.483452</td>\n",
              "      <td>0.397628</td>\n",
              "      <td>-0.529256</td>\n",
              "      <td>-0.361336</td>\n",
              "      <td>0.321946</td>\n",
              "      <td>0.321946</td>\n",
              "      <td>-0.529256</td>\n",
              "      <td>0.614529</td>\n",
              "      <td>0.300598</td>\n",
              "      <td>0.621527</td>\n",
              "      <td>0.639679</td>\n",
              "      <td>-0.158621</td>\n",
              "    </tr>\n",
              "    <tr>\n",
              "      <th>personal</th>\n",
              "      <td>0.145527</td>\n",
              "      <td>0.261951</td>\n",
              "      <td>0.059933</td>\n",
              "      <td>0.493540</td>\n",
              "      <td>0.068794</td>\n",
              "      <td>1.000000</td>\n",
              "      <td>1.000000</td>\n",
              "      <td>1.000000</td>\n",
              "      <td>1.000000</td>\n",
              "      <td>1.000000</td>\n",
              "      <td>1.000000</td>\n",
              "      <td>1.000000</td>\n",
              "      <td>1.000000</td>\n",
              "      <td>1.000000</td>\n",
              "      <td>1.000000</td>\n",
              "      <td>0.174856</td>\n",
              "      <td>0.071476</td>\n",
              "      <td>0.068794</td>\n",
              "      <td>0.036255</td>\n",
              "      <td>0.016670</td>\n",
              "      <td>0.012541</td>\n",
              "      <td>-0.012271</td>\n",
              "      <td>0.028138</td>\n",
              "      <td>0.113578</td>\n",
              "      <td>0.360858</td>\n",
              "      <td>0.021910</td>\n",
              "      <td>0.025054</td>\n",
              "      <td>0.483452</td>\n",
              "      <td>0.397628</td>\n",
              "      <td>-0.529256</td>\n",
              "      <td>-0.361336</td>\n",
              "      <td>0.321946</td>\n",
              "      <td>0.321946</td>\n",
              "      <td>-0.529256</td>\n",
              "      <td>0.614529</td>\n",
              "      <td>0.300598</td>\n",
              "      <td>0.621527</td>\n",
              "      <td>0.639679</td>\n",
              "      <td>-0.158621</td>\n",
              "    </tr>\n",
              "    <tr>\n",
              "      <th>activities</th>\n",
              "      <td>0.145527</td>\n",
              "      <td>0.261951</td>\n",
              "      <td>0.059933</td>\n",
              "      <td>0.493540</td>\n",
              "      <td>0.068794</td>\n",
              "      <td>1.000000</td>\n",
              "      <td>1.000000</td>\n",
              "      <td>1.000000</td>\n",
              "      <td>1.000000</td>\n",
              "      <td>1.000000</td>\n",
              "      <td>1.000000</td>\n",
              "      <td>1.000000</td>\n",
              "      <td>1.000000</td>\n",
              "      <td>1.000000</td>\n",
              "      <td>1.000000</td>\n",
              "      <td>0.174856</td>\n",
              "      <td>0.071476</td>\n",
              "      <td>0.068794</td>\n",
              "      <td>0.036255</td>\n",
              "      <td>0.016670</td>\n",
              "      <td>0.012541</td>\n",
              "      <td>-0.012271</td>\n",
              "      <td>0.028138</td>\n",
              "      <td>0.113578</td>\n",
              "      <td>0.360858</td>\n",
              "      <td>0.021910</td>\n",
              "      <td>0.025054</td>\n",
              "      <td>0.483452</td>\n",
              "      <td>0.397628</td>\n",
              "      <td>-0.529256</td>\n",
              "      <td>-0.361336</td>\n",
              "      <td>0.321946</td>\n",
              "      <td>0.321946</td>\n",
              "      <td>-0.529256</td>\n",
              "      <td>0.614529</td>\n",
              "      <td>0.300598</td>\n",
              "      <td>0.621527</td>\n",
              "      <td>0.639679</td>\n",
              "      <td>-0.158621</td>\n",
              "    </tr>\n",
              "    <tr>\n",
              "      <th>music</th>\n",
              "      <td>0.145527</td>\n",
              "      <td>0.261951</td>\n",
              "      <td>0.059933</td>\n",
              "      <td>0.493540</td>\n",
              "      <td>0.068794</td>\n",
              "      <td>1.000000</td>\n",
              "      <td>1.000000</td>\n",
              "      <td>1.000000</td>\n",
              "      <td>1.000000</td>\n",
              "      <td>1.000000</td>\n",
              "      <td>1.000000</td>\n",
              "      <td>1.000000</td>\n",
              "      <td>1.000000</td>\n",
              "      <td>1.000000</td>\n",
              "      <td>1.000000</td>\n",
              "      <td>0.174856</td>\n",
              "      <td>0.071476</td>\n",
              "      <td>0.068794</td>\n",
              "      <td>0.036255</td>\n",
              "      <td>0.016670</td>\n",
              "      <td>0.012541</td>\n",
              "      <td>-0.012271</td>\n",
              "      <td>0.028138</td>\n",
              "      <td>0.113578</td>\n",
              "      <td>0.360858</td>\n",
              "      <td>0.021910</td>\n",
              "      <td>0.025054</td>\n",
              "      <td>0.483452</td>\n",
              "      <td>0.397628</td>\n",
              "      <td>-0.529256</td>\n",
              "      <td>-0.361336</td>\n",
              "      <td>0.321946</td>\n",
              "      <td>0.321946</td>\n",
              "      <td>-0.529256</td>\n",
              "      <td>0.614529</td>\n",
              "      <td>0.300598</td>\n",
              "      <td>0.621527</td>\n",
              "      <td>0.639679</td>\n",
              "      <td>-0.158621</td>\n",
              "    </tr>\n",
              "    <tr>\n",
              "      <th>movies</th>\n",
              "      <td>0.145527</td>\n",
              "      <td>0.261951</td>\n",
              "      <td>0.059933</td>\n",
              "      <td>0.493540</td>\n",
              "      <td>0.068794</td>\n",
              "      <td>1.000000</td>\n",
              "      <td>1.000000</td>\n",
              "      <td>1.000000</td>\n",
              "      <td>1.000000</td>\n",
              "      <td>1.000000</td>\n",
              "      <td>1.000000</td>\n",
              "      <td>1.000000</td>\n",
              "      <td>1.000000</td>\n",
              "      <td>1.000000</td>\n",
              "      <td>1.000000</td>\n",
              "      <td>0.174856</td>\n",
              "      <td>0.071476</td>\n",
              "      <td>0.068794</td>\n",
              "      <td>0.036255</td>\n",
              "      <td>0.016670</td>\n",
              "      <td>0.012541</td>\n",
              "      <td>-0.012271</td>\n",
              "      <td>0.028138</td>\n",
              "      <td>0.113578</td>\n",
              "      <td>0.360858</td>\n",
              "      <td>0.021910</td>\n",
              "      <td>0.025054</td>\n",
              "      <td>0.483452</td>\n",
              "      <td>0.397628</td>\n",
              "      <td>-0.529256</td>\n",
              "      <td>-0.361336</td>\n",
              "      <td>0.321946</td>\n",
              "      <td>0.321946</td>\n",
              "      <td>-0.529256</td>\n",
              "      <td>0.614529</td>\n",
              "      <td>0.300598</td>\n",
              "      <td>0.621527</td>\n",
              "      <td>0.639679</td>\n",
              "      <td>-0.158621</td>\n",
              "    </tr>\n",
              "    <tr>\n",
              "      <th>tv</th>\n",
              "      <td>0.145527</td>\n",
              "      <td>0.261951</td>\n",
              "      <td>0.059933</td>\n",
              "      <td>0.493540</td>\n",
              "      <td>0.068794</td>\n",
              "      <td>1.000000</td>\n",
              "      <td>1.000000</td>\n",
              "      <td>1.000000</td>\n",
              "      <td>1.000000</td>\n",
              "      <td>1.000000</td>\n",
              "      <td>1.000000</td>\n",
              "      <td>1.000000</td>\n",
              "      <td>1.000000</td>\n",
              "      <td>1.000000</td>\n",
              "      <td>1.000000</td>\n",
              "      <td>0.174856</td>\n",
              "      <td>0.071476</td>\n",
              "      <td>0.068794</td>\n",
              "      <td>0.036255</td>\n",
              "      <td>0.016670</td>\n",
              "      <td>0.012541</td>\n",
              "      <td>-0.012271</td>\n",
              "      <td>0.028138</td>\n",
              "      <td>0.113578</td>\n",
              "      <td>0.360858</td>\n",
              "      <td>0.021910</td>\n",
              "      <td>0.025054</td>\n",
              "      <td>0.483452</td>\n",
              "      <td>0.397628</td>\n",
              "      <td>-0.529256</td>\n",
              "      <td>-0.361336</td>\n",
              "      <td>0.321946</td>\n",
              "      <td>0.321946</td>\n",
              "      <td>-0.529256</td>\n",
              "      <td>0.614529</td>\n",
              "      <td>0.300598</td>\n",
              "      <td>0.621527</td>\n",
              "      <td>0.639679</td>\n",
              "      <td>-0.158621</td>\n",
              "    </tr>\n",
              "    <tr>\n",
              "      <th>books</th>\n",
              "      <td>0.145527</td>\n",
              "      <td>0.261951</td>\n",
              "      <td>0.059933</td>\n",
              "      <td>0.493540</td>\n",
              "      <td>0.068794</td>\n",
              "      <td>1.000000</td>\n",
              "      <td>1.000000</td>\n",
              "      <td>1.000000</td>\n",
              "      <td>1.000000</td>\n",
              "      <td>1.000000</td>\n",
              "      <td>1.000000</td>\n",
              "      <td>1.000000</td>\n",
              "      <td>1.000000</td>\n",
              "      <td>1.000000</td>\n",
              "      <td>1.000000</td>\n",
              "      <td>0.174856</td>\n",
              "      <td>0.071476</td>\n",
              "      <td>0.068794</td>\n",
              "      <td>0.036255</td>\n",
              "      <td>0.016670</td>\n",
              "      <td>0.012541</td>\n",
              "      <td>-0.012271</td>\n",
              "      <td>0.028138</td>\n",
              "      <td>0.113578</td>\n",
              "      <td>0.360858</td>\n",
              "      <td>0.021910</td>\n",
              "      <td>0.025054</td>\n",
              "      <td>0.483452</td>\n",
              "      <td>0.397628</td>\n",
              "      <td>-0.529256</td>\n",
              "      <td>-0.361336</td>\n",
              "      <td>0.321946</td>\n",
              "      <td>0.321946</td>\n",
              "      <td>-0.529256</td>\n",
              "      <td>0.614529</td>\n",
              "      <td>0.300598</td>\n",
              "      <td>0.621527</td>\n",
              "      <td>0.639679</td>\n",
              "      <td>-0.158621</td>\n",
              "    </tr>\n",
              "    <tr>\n",
              "      <th>about</th>\n",
              "      <td>0.145527</td>\n",
              "      <td>0.261951</td>\n",
              "      <td>0.059933</td>\n",
              "      <td>0.493540</td>\n",
              "      <td>0.068794</td>\n",
              "      <td>1.000000</td>\n",
              "      <td>1.000000</td>\n",
              "      <td>1.000000</td>\n",
              "      <td>1.000000</td>\n",
              "      <td>1.000000</td>\n",
              "      <td>1.000000</td>\n",
              "      <td>1.000000</td>\n",
              "      <td>1.000000</td>\n",
              "      <td>1.000000</td>\n",
              "      <td>1.000000</td>\n",
              "      <td>0.174856</td>\n",
              "      <td>0.071476</td>\n",
              "      <td>0.068794</td>\n",
              "      <td>0.036255</td>\n",
              "      <td>0.016670</td>\n",
              "      <td>0.012541</td>\n",
              "      <td>-0.012271</td>\n",
              "      <td>0.028138</td>\n",
              "      <td>0.113578</td>\n",
              "      <td>0.360858</td>\n",
              "      <td>0.021910</td>\n",
              "      <td>0.025054</td>\n",
              "      <td>0.483452</td>\n",
              "      <td>0.397628</td>\n",
              "      <td>-0.529256</td>\n",
              "      <td>-0.361336</td>\n",
              "      <td>0.321946</td>\n",
              "      <td>0.321946</td>\n",
              "      <td>-0.529256</td>\n",
              "      <td>0.614529</td>\n",
              "      <td>0.300598</td>\n",
              "      <td>0.621527</td>\n",
              "      <td>0.639679</td>\n",
              "      <td>-0.158621</td>\n",
              "    </tr>\n",
              "    <tr>\n",
              "      <th>quotes</th>\n",
              "      <td>0.145527</td>\n",
              "      <td>0.261951</td>\n",
              "      <td>0.059933</td>\n",
              "      <td>0.493540</td>\n",
              "      <td>0.068794</td>\n",
              "      <td>1.000000</td>\n",
              "      <td>1.000000</td>\n",
              "      <td>1.000000</td>\n",
              "      <td>1.000000</td>\n",
              "      <td>1.000000</td>\n",
              "      <td>1.000000</td>\n",
              "      <td>1.000000</td>\n",
              "      <td>1.000000</td>\n",
              "      <td>1.000000</td>\n",
              "      <td>1.000000</td>\n",
              "      <td>0.174856</td>\n",
              "      <td>0.071476</td>\n",
              "      <td>0.068794</td>\n",
              "      <td>0.036255</td>\n",
              "      <td>0.016670</td>\n",
              "      <td>0.012541</td>\n",
              "      <td>-0.012271</td>\n",
              "      <td>0.028138</td>\n",
              "      <td>0.113578</td>\n",
              "      <td>0.360858</td>\n",
              "      <td>0.021910</td>\n",
              "      <td>0.025054</td>\n",
              "      <td>0.483452</td>\n",
              "      <td>0.397628</td>\n",
              "      <td>-0.529256</td>\n",
              "      <td>-0.361336</td>\n",
              "      <td>0.321946</td>\n",
              "      <td>0.321946</td>\n",
              "      <td>-0.529256</td>\n",
              "      <td>0.614529</td>\n",
              "      <td>0.300598</td>\n",
              "      <td>0.621527</td>\n",
              "      <td>0.639679</td>\n",
              "      <td>-0.158621</td>\n",
              "    </tr>\n",
              "    <tr>\n",
              "      <th>albums</th>\n",
              "      <td>-0.096894</td>\n",
              "      <td>0.153622</td>\n",
              "      <td>-0.096003</td>\n",
              "      <td>0.105671</td>\n",
              "      <td>0.054678</td>\n",
              "      <td>0.174856</td>\n",
              "      <td>0.174856</td>\n",
              "      <td>0.174856</td>\n",
              "      <td>0.174856</td>\n",
              "      <td>0.174856</td>\n",
              "      <td>0.174856</td>\n",
              "      <td>0.174856</td>\n",
              "      <td>0.174856</td>\n",
              "      <td>0.174856</td>\n",
              "      <td>0.174856</td>\n",
              "      <td>1.000000</td>\n",
              "      <td>0.079043</td>\n",
              "      <td>0.054678</td>\n",
              "      <td>0.065478</td>\n",
              "      <td>0.073105</td>\n",
              "      <td>0.219631</td>\n",
              "      <td>0.005697</td>\n",
              "      <td>0.165342</td>\n",
              "      <td>0.090049</td>\n",
              "      <td>-0.021644</td>\n",
              "      <td>-0.012805</td>\n",
              "      <td>0.002432</td>\n",
              "      <td>0.101988</td>\n",
              "      <td>0.035565</td>\n",
              "      <td>-0.194378</td>\n",
              "      <td>-0.059630</td>\n",
              "      <td>0.153608</td>\n",
              "      <td>0.153608</td>\n",
              "      <td>-0.194378</td>\n",
              "      <td>0.086938</td>\n",
              "      <td>-0.022185</td>\n",
              "      <td>0.146377</td>\n",
              "      <td>0.134314</td>\n",
              "      <td>0.035161</td>\n",
              "    </tr>\n",
              "    <tr>\n",
              "      <th>audios</th>\n",
              "      <td>-0.067229</td>\n",
              "      <td>0.051156</td>\n",
              "      <td>0.001359</td>\n",
              "      <td>0.050688</td>\n",
              "      <td>0.067595</td>\n",
              "      <td>0.071476</td>\n",
              "      <td>0.071476</td>\n",
              "      <td>0.071476</td>\n",
              "      <td>0.071476</td>\n",
              "      <td>0.071476</td>\n",
              "      <td>0.071476</td>\n",
              "      <td>0.071476</td>\n",
              "      <td>0.071476</td>\n",
              "      <td>0.071476</td>\n",
              "      <td>0.071476</td>\n",
              "      <td>0.079043</td>\n",
              "      <td>1.000000</td>\n",
              "      <td>0.067595</td>\n",
              "      <td>0.044513</td>\n",
              "      <td>0.117747</td>\n",
              "      <td>0.004366</td>\n",
              "      <td>0.021677</td>\n",
              "      <td>0.145261</td>\n",
              "      <td>0.066463</td>\n",
              "      <td>0.013132</td>\n",
              "      <td>0.023996</td>\n",
              "      <td>0.001525</td>\n",
              "      <td>0.085313</td>\n",
              "      <td>0.050019</td>\n",
              "      <td>-0.121926</td>\n",
              "      <td>-0.081194</td>\n",
              "      <td>0.101386</td>\n",
              "      <td>0.101386</td>\n",
              "      <td>-0.121926</td>\n",
              "      <td>0.076386</td>\n",
              "      <td>0.014959</td>\n",
              "      <td>0.107192</td>\n",
              "      <td>0.100473</td>\n",
              "      <td>0.034878</td>\n",
              "    </tr>\n",
              "    <tr>\n",
              "      <th>followers</th>\n",
              "      <td>-0.084965</td>\n",
              "      <td>0.076748</td>\n",
              "      <td>-0.028334</td>\n",
              "      <td>0.053349</td>\n",
              "      <td>1.000000</td>\n",
              "      <td>0.068794</td>\n",
              "      <td>0.068794</td>\n",
              "      <td>0.068794</td>\n",
              "      <td>0.068794</td>\n",
              "      <td>0.068794</td>\n",
              "      <td>0.068794</td>\n",
              "      <td>0.068794</td>\n",
              "      <td>0.068794</td>\n",
              "      <td>0.068794</td>\n",
              "      <td>0.068794</td>\n",
              "      <td>0.054678</td>\n",
              "      <td>0.067595</td>\n",
              "      <td>1.000000</td>\n",
              "      <td>0.355349</td>\n",
              "      <td>0.045425</td>\n",
              "      <td>0.017189</td>\n",
              "      <td>0.024471</td>\n",
              "      <td>0.061331</td>\n",
              "      <td>0.605825</td>\n",
              "      <td>-0.015881</td>\n",
              "      <td>-0.005614</td>\n",
              "      <td>-0.002440</td>\n",
              "      <td>0.086651</td>\n",
              "      <td>0.048707</td>\n",
              "      <td>-0.145493</td>\n",
              "      <td>-0.053600</td>\n",
              "      <td>0.291550</td>\n",
              "      <td>0.291550</td>\n",
              "      <td>-0.145493</td>\n",
              "      <td>0.079896</td>\n",
              "      <td>-0.019278</td>\n",
              "      <td>0.118164</td>\n",
              "      <td>0.110844</td>\n",
              "      <td>0.058470</td>\n",
              "    </tr>\n",
              "    <tr>\n",
              "      <th>friends</th>\n",
              "      <td>-0.113498</td>\n",
              "      <td>0.137733</td>\n",
              "      <td>-0.026208</td>\n",
              "      <td>0.098295</td>\n",
              "      <td>0.355349</td>\n",
              "      <td>0.036255</td>\n",
              "      <td>0.036255</td>\n",
              "      <td>0.036255</td>\n",
              "      <td>0.036255</td>\n",
              "      <td>0.036255</td>\n",
              "      <td>0.036255</td>\n",
              "      <td>0.036255</td>\n",
              "      <td>0.036255</td>\n",
              "      <td>0.036255</td>\n",
              "      <td>0.036255</td>\n",
              "      <td>0.065478</td>\n",
              "      <td>0.044513</td>\n",
              "      <td>0.355349</td>\n",
              "      <td>1.000000</td>\n",
              "      <td>0.181159</td>\n",
              "      <td>0.001465</td>\n",
              "      <td>0.351302</td>\n",
              "      <td>0.054189</td>\n",
              "      <td>0.865044</td>\n",
              "      <td>-0.030573</td>\n",
              "      <td>0.000702</td>\n",
              "      <td>0.008579</td>\n",
              "      <td>0.068458</td>\n",
              "      <td>0.005417</td>\n",
              "      <td>-0.197642</td>\n",
              "      <td>-0.082469</td>\n",
              "      <td>0.352551</td>\n",
              "      <td>0.352551</td>\n",
              "      <td>-0.197642</td>\n",
              "      <td>0.060260</td>\n",
              "      <td>-0.055396</td>\n",
              "      <td>0.130588</td>\n",
              "      <td>0.115144</td>\n",
              "      <td>0.127289</td>\n",
              "    </tr>\n",
              "    <tr>\n",
              "      <th>pages</th>\n",
              "      <td>-0.076749</td>\n",
              "      <td>0.139714</td>\n",
              "      <td>0.080767</td>\n",
              "      <td>0.137255</td>\n",
              "      <td>0.045425</td>\n",
              "      <td>0.016670</td>\n",
              "      <td>0.016670</td>\n",
              "      <td>0.016670</td>\n",
              "      <td>0.016670</td>\n",
              "      <td>0.016670</td>\n",
              "      <td>0.016670</td>\n",
              "      <td>0.016670</td>\n",
              "      <td>0.016670</td>\n",
              "      <td>0.016670</td>\n",
              "      <td>0.016670</td>\n",
              "      <td>0.073105</td>\n",
              "      <td>0.117747</td>\n",
              "      <td>0.045425</td>\n",
              "      <td>0.181159</td>\n",
              "      <td>1.000000</td>\n",
              "      <td>0.253215</td>\n",
              "      <td>0.134308</td>\n",
              "      <td>0.316261</td>\n",
              "      <td>0.140805</td>\n",
              "      <td>0.053042</td>\n",
              "      <td>0.036148</td>\n",
              "      <td>0.053178</td>\n",
              "      <td>0.045013</td>\n",
              "      <td>0.003415</td>\n",
              "      <td>-0.096767</td>\n",
              "      <td>-0.087120</td>\n",
              "      <td>0.091957</td>\n",
              "      <td>0.091957</td>\n",
              "      <td>-0.096767</td>\n",
              "      <td>0.046327</td>\n",
              "      <td>-0.002502</td>\n",
              "      <td>0.072253</td>\n",
              "      <td>0.068380</td>\n",
              "      <td>0.032149</td>\n",
              "    </tr>\n",
              "    <tr>\n",
              "      <th>photos</th>\n",
              "      <td>-0.001169</td>\n",
              "      <td>0.010472</td>\n",
              "      <td>0.009643</td>\n",
              "      <td>0.007285</td>\n",
              "      <td>0.017189</td>\n",
              "      <td>0.012541</td>\n",
              "      <td>0.012541</td>\n",
              "      <td>0.012541</td>\n",
              "      <td>0.012541</td>\n",
              "      <td>0.012541</td>\n",
              "      <td>0.012541</td>\n",
              "      <td>0.012541</td>\n",
              "      <td>0.012541</td>\n",
              "      <td>0.012541</td>\n",
              "      <td>0.012541</td>\n",
              "      <td>0.219631</td>\n",
              "      <td>0.004366</td>\n",
              "      <td>0.017189</td>\n",
              "      <td>0.001465</td>\n",
              "      <td>0.253215</td>\n",
              "      <td>1.000000</td>\n",
              "      <td>-0.000861</td>\n",
              "      <td>0.559891</td>\n",
              "      <td>0.006668</td>\n",
              "      <td>0.000863</td>\n",
              "      <td>-0.000895</td>\n",
              "      <td>-0.000082</td>\n",
              "      <td>-0.002365</td>\n",
              "      <td>-0.003062</td>\n",
              "      <td>0.001095</td>\n",
              "      <td>0.001411</td>\n",
              "      <td>0.001338</td>\n",
              "      <td>0.001338</td>\n",
              "      <td>0.001095</td>\n",
              "      <td>0.023353</td>\n",
              "      <td>-0.003346</td>\n",
              "      <td>0.006873</td>\n",
              "      <td>0.015479</td>\n",
              "      <td>-0.002527</td>\n",
              "    </tr>\n",
              "    <tr>\n",
              "      <th>subscriptions</th>\n",
              "      <td>-0.144857</td>\n",
              "      <td>0.088297</td>\n",
              "      <td>0.013568</td>\n",
              "      <td>0.057874</td>\n",
              "      <td>0.024471</td>\n",
              "      <td>-0.012271</td>\n",
              "      <td>-0.012271</td>\n",
              "      <td>-0.012271</td>\n",
              "      <td>-0.012271</td>\n",
              "      <td>-0.012271</td>\n",
              "      <td>-0.012271</td>\n",
              "      <td>-0.012271</td>\n",
              "      <td>-0.012271</td>\n",
              "      <td>-0.012271</td>\n",
              "      <td>-0.012271</td>\n",
              "      <td>0.005697</td>\n",
              "      <td>0.021677</td>\n",
              "      <td>0.024471</td>\n",
              "      <td>0.351302</td>\n",
              "      <td>0.134308</td>\n",
              "      <td>-0.000861</td>\n",
              "      <td>1.000000</td>\n",
              "      <td>0.026270</td>\n",
              "      <td>0.129826</td>\n",
              "      <td>0.004559</td>\n",
              "      <td>0.002107</td>\n",
              "      <td>0.009634</td>\n",
              "      <td>0.008587</td>\n",
              "      <td>-0.025442</td>\n",
              "      <td>-0.068541</td>\n",
              "      <td>-0.074767</td>\n",
              "      <td>0.094528</td>\n",
              "      <td>0.094528</td>\n",
              "      <td>-0.068541</td>\n",
              "      <td>0.005149</td>\n",
              "      <td>-0.023997</td>\n",
              "      <td>0.035134</td>\n",
              "      <td>0.028182</td>\n",
              "      <td>0.172224</td>\n",
              "    </tr>\n",
              "    <tr>\n",
              "      <th>videos</th>\n",
              "      <td>-0.051357</td>\n",
              "      <td>0.026944</td>\n",
              "      <td>0.019543</td>\n",
              "      <td>0.021269</td>\n",
              "      <td>0.061331</td>\n",
              "      <td>0.028138</td>\n",
              "      <td>0.028138</td>\n",
              "      <td>0.028138</td>\n",
              "      <td>0.028138</td>\n",
              "      <td>0.028138</td>\n",
              "      <td>0.028138</td>\n",
              "      <td>0.028138</td>\n",
              "      <td>0.028138</td>\n",
              "      <td>0.028138</td>\n",
              "      <td>0.028138</td>\n",
              "      <td>0.165342</td>\n",
              "      <td>0.145261</td>\n",
              "      <td>0.061331</td>\n",
              "      <td>0.054189</td>\n",
              "      <td>0.316261</td>\n",
              "      <td>0.559891</td>\n",
              "      <td>0.026270</td>\n",
              "      <td>1.000000</td>\n",
              "      <td>0.070644</td>\n",
              "      <td>0.003229</td>\n",
              "      <td>0.009096</td>\n",
              "      <td>0.001605</td>\n",
              "      <td>0.025663</td>\n",
              "      <td>0.009510</td>\n",
              "      <td>-0.052031</td>\n",
              "      <td>-0.024257</td>\n",
              "      <td>0.049433</td>\n",
              "      <td>0.049433</td>\n",
              "      <td>-0.052031</td>\n",
              "      <td>0.041834</td>\n",
              "      <td>0.003625</td>\n",
              "      <td>0.046446</td>\n",
              "      <td>0.048670</td>\n",
              "      <td>0.021056</td>\n",
              "    </tr>\n",
              "    <tr>\n",
              "      <th>clips_followers</th>\n",
              "      <td>-0.053997</td>\n",
              "      <td>0.108410</td>\n",
              "      <td>-0.026076</td>\n",
              "      <td>0.078619</td>\n",
              "      <td>0.605825</td>\n",
              "      <td>0.113578</td>\n",
              "      <td>0.113578</td>\n",
              "      <td>0.113578</td>\n",
              "      <td>0.113578</td>\n",
              "      <td>0.113578</td>\n",
              "      <td>0.113578</td>\n",
              "      <td>0.113578</td>\n",
              "      <td>0.113578</td>\n",
              "      <td>0.113578</td>\n",
              "      <td>0.113578</td>\n",
              "      <td>0.090049</td>\n",
              "      <td>0.066463</td>\n",
              "      <td>0.605825</td>\n",
              "      <td>0.865044</td>\n",
              "      <td>0.140805</td>\n",
              "      <td>0.006668</td>\n",
              "      <td>0.129826</td>\n",
              "      <td>0.070644</td>\n",
              "      <td>1.000000</td>\n",
              "      <td>-0.025205</td>\n",
              "      <td>0.001340</td>\n",
              "      <td>0.006483</td>\n",
              "      <td>0.123947</td>\n",
              "      <td>0.046724</td>\n",
              "      <td>-0.267573</td>\n",
              "      <td>-0.083348</td>\n",
              "      <td>0.438330</td>\n",
              "      <td>0.438330</td>\n",
              "      <td>-0.267573</td>\n",
              "      <td>0.123808</td>\n",
              "      <td>-0.035965</td>\n",
              "      <td>0.202332</td>\n",
              "      <td>0.186789</td>\n",
              "      <td>0.047816</td>\n",
              "    </tr>\n",
              "    <tr>\n",
              "      <th>age</th>\n",
              "      <td>0.046440</td>\n",
              "      <td>0.208576</td>\n",
              "      <td>0.202896</td>\n",
              "      <td>0.480012</td>\n",
              "      <td>-0.015881</td>\n",
              "      <td>0.360858</td>\n",
              "      <td>0.360858</td>\n",
              "      <td>0.360858</td>\n",
              "      <td>0.360858</td>\n",
              "      <td>0.360858</td>\n",
              "      <td>0.360858</td>\n",
              "      <td>0.360858</td>\n",
              "      <td>0.360858</td>\n",
              "      <td>0.360858</td>\n",
              "      <td>0.360858</td>\n",
              "      <td>-0.021644</td>\n",
              "      <td>0.013132</td>\n",
              "      <td>-0.015881</td>\n",
              "      <td>-0.030573</td>\n",
              "      <td>0.053042</td>\n",
              "      <td>0.000863</td>\n",
              "      <td>0.004559</td>\n",
              "      <td>0.003229</td>\n",
              "      <td>-0.025205</td>\n",
              "      <td>1.000000</td>\n",
              "      <td>0.053618</td>\n",
              "      <td>0.026788</td>\n",
              "      <td>0.242503</td>\n",
              "      <td>0.270470</td>\n",
              "      <td>-0.101102</td>\n",
              "      <td>-0.277740</td>\n",
              "      <td>0.005435</td>\n",
              "      <td>0.005435</td>\n",
              "      <td>-0.101102</td>\n",
              "      <td>0.280784</td>\n",
              "      <td>0.159598</td>\n",
              "      <td>0.214192</td>\n",
              "      <td>0.240598</td>\n",
              "      <td>-0.042601</td>\n",
              "    </tr>\n",
              "    <tr>\n",
              "      <th>city</th>\n",
              "      <td>0.008097</td>\n",
              "      <td>0.051775</td>\n",
              "      <td>0.039846</td>\n",
              "      <td>0.050796</td>\n",
              "      <td>-0.005614</td>\n",
              "      <td>0.021910</td>\n",
              "      <td>0.021910</td>\n",
              "      <td>0.021910</td>\n",
              "      <td>0.021910</td>\n",
              "      <td>0.021910</td>\n",
              "      <td>0.021910</td>\n",
              "      <td>0.021910</td>\n",
              "      <td>0.021910</td>\n",
              "      <td>0.021910</td>\n",
              "      <td>0.021910</td>\n",
              "      <td>-0.012805</td>\n",
              "      <td>0.023996</td>\n",
              "      <td>-0.005614</td>\n",
              "      <td>0.000702</td>\n",
              "      <td>0.036148</td>\n",
              "      <td>-0.000895</td>\n",
              "      <td>0.002107</td>\n",
              "      <td>0.009096</td>\n",
              "      <td>0.001340</td>\n",
              "      <td>0.053618</td>\n",
              "      <td>1.000000</td>\n",
              "      <td>0.551909</td>\n",
              "      <td>0.016291</td>\n",
              "      <td>0.018714</td>\n",
              "      <td>-0.007423</td>\n",
              "      <td>-0.008649</td>\n",
              "      <td>-0.003336</td>\n",
              "      <td>-0.003336</td>\n",
              "      <td>-0.007423</td>\n",
              "      <td>0.022944</td>\n",
              "      <td>0.027461</td>\n",
              "      <td>0.019997</td>\n",
              "      <td>0.019645</td>\n",
              "      <td>-0.015861</td>\n",
              "    </tr>\n",
              "    <tr>\n",
              "      <th>country</th>\n",
              "      <td>-0.007374</td>\n",
              "      <td>0.055593</td>\n",
              "      <td>0.045993</td>\n",
              "      <td>0.059751</td>\n",
              "      <td>-0.002440</td>\n",
              "      <td>0.025054</td>\n",
              "      <td>0.025054</td>\n",
              "      <td>0.025054</td>\n",
              "      <td>0.025054</td>\n",
              "      <td>0.025054</td>\n",
              "      <td>0.025054</td>\n",
              "      <td>0.025054</td>\n",
              "      <td>0.025054</td>\n",
              "      <td>0.025054</td>\n",
              "      <td>0.025054</td>\n",
              "      <td>0.002432</td>\n",
              "      <td>0.001525</td>\n",
              "      <td>-0.002440</td>\n",
              "      <td>0.008579</td>\n",
              "      <td>0.053178</td>\n",
              "      <td>-0.000082</td>\n",
              "      <td>0.009634</td>\n",
              "      <td>0.001605</td>\n",
              "      <td>0.006483</td>\n",
              "      <td>0.026788</td>\n",
              "      <td>0.551909</td>\n",
              "      <td>1.000000</td>\n",
              "      <td>0.004031</td>\n",
              "      <td>0.000910</td>\n",
              "      <td>-0.012186</td>\n",
              "      <td>-0.003757</td>\n",
              "      <td>0.007056</td>\n",
              "      <td>0.007056</td>\n",
              "      <td>-0.012186</td>\n",
              "      <td>0.022736</td>\n",
              "      <td>0.014754</td>\n",
              "      <td>0.017999</td>\n",
              "      <td>0.020645</td>\n",
              "      <td>-0.007376</td>\n",
              "    </tr>\n",
              "    <tr>\n",
              "      <th>avg_cl</th>\n",
              "      <td>0.034929</td>\n",
              "      <td>0.265551</td>\n",
              "      <td>0.036533</td>\n",
              "      <td>0.295993</td>\n",
              "      <td>0.086651</td>\n",
              "      <td>0.483452</td>\n",
              "      <td>0.483452</td>\n",
              "      <td>0.483452</td>\n",
              "      <td>0.483452</td>\n",
              "      <td>0.483452</td>\n",
              "      <td>0.483452</td>\n",
              "      <td>0.483452</td>\n",
              "      <td>0.483452</td>\n",
              "      <td>0.483452</td>\n",
              "      <td>0.483452</td>\n",
              "      <td>0.101988</td>\n",
              "      <td>0.085313</td>\n",
              "      <td>0.086651</td>\n",
              "      <td>0.068458</td>\n",
              "      <td>0.045013</td>\n",
              "      <td>-0.002365</td>\n",
              "      <td>0.008587</td>\n",
              "      <td>0.025663</td>\n",
              "      <td>0.123947</td>\n",
              "      <td>0.242503</td>\n",
              "      <td>0.016291</td>\n",
              "      <td>0.004031</td>\n",
              "      <td>1.000000</td>\n",
              "      <td>0.906741</td>\n",
              "      <td>-0.681694</td>\n",
              "      <td>-0.592500</td>\n",
              "      <td>0.463595</td>\n",
              "      <td>0.463595</td>\n",
              "      <td>-0.681694</td>\n",
              "      <td>0.686787</td>\n",
              "      <td>0.151798</td>\n",
              "      <td>0.775584</td>\n",
              "      <td>0.754909</td>\n",
              "      <td>-0.055875</td>\n",
              "    </tr>\n",
              "    <tr>\n",
              "      <th>trans</th>\n",
              "      <td>0.057018</td>\n",
              "      <td>0.170724</td>\n",
              "      <td>0.041875</td>\n",
              "      <td>0.243269</td>\n",
              "      <td>0.048707</td>\n",
              "      <td>0.397628</td>\n",
              "      <td>0.397628</td>\n",
              "      <td>0.397628</td>\n",
              "      <td>0.397628</td>\n",
              "      <td>0.397628</td>\n",
              "      <td>0.397628</td>\n",
              "      <td>0.397628</td>\n",
              "      <td>0.397628</td>\n",
              "      <td>0.397628</td>\n",
              "      <td>0.397628</td>\n",
              "      <td>0.035565</td>\n",
              "      <td>0.050019</td>\n",
              "      <td>0.048707</td>\n",
              "      <td>0.005417</td>\n",
              "      <td>0.003415</td>\n",
              "      <td>-0.003062</td>\n",
              "      <td>-0.025442</td>\n",
              "      <td>0.009510</td>\n",
              "      <td>0.046724</td>\n",
              "      <td>0.270470</td>\n",
              "      <td>0.018714</td>\n",
              "      <td>0.000910</td>\n",
              "      <td>0.906741</td>\n",
              "      <td>1.000000</td>\n",
              "      <td>-0.410506</td>\n",
              "      <td>-0.521451</td>\n",
              "      <td>0.331211</td>\n",
              "      <td>0.331211</td>\n",
              "      <td>-0.410506</td>\n",
              "      <td>0.626034</td>\n",
              "      <td>0.162101</td>\n",
              "      <td>0.605800</td>\n",
              "      <td>0.611200</td>\n",
              "      <td>-0.096028</td>\n",
              "    </tr>\n",
              "    <tr>\n",
              "      <th>deg_centr</th>\n",
              "      <td>0.020116</td>\n",
              "      <td>-0.384667</td>\n",
              "      <td>-0.014991</td>\n",
              "      <td>-0.320450</td>\n",
              "      <td>-0.145493</td>\n",
              "      <td>-0.529256</td>\n",
              "      <td>-0.529256</td>\n",
              "      <td>-0.529256</td>\n",
              "      <td>-0.529256</td>\n",
              "      <td>-0.529256</td>\n",
              "      <td>-0.529256</td>\n",
              "      <td>-0.529256</td>\n",
              "      <td>-0.529256</td>\n",
              "      <td>-0.529256</td>\n",
              "      <td>-0.529256</td>\n",
              "      <td>-0.194378</td>\n",
              "      <td>-0.121926</td>\n",
              "      <td>-0.145493</td>\n",
              "      <td>-0.197642</td>\n",
              "      <td>-0.096767</td>\n",
              "      <td>0.001095</td>\n",
              "      <td>-0.068541</td>\n",
              "      <td>-0.052031</td>\n",
              "      <td>-0.267573</td>\n",
              "      <td>-0.101102</td>\n",
              "      <td>-0.007423</td>\n",
              "      <td>-0.012186</td>\n",
              "      <td>-0.681694</td>\n",
              "      <td>-0.410506</td>\n",
              "      <td>1.000000</td>\n",
              "      <td>0.554339</td>\n",
              "      <td>-0.611788</td>\n",
              "      <td>-0.611788</td>\n",
              "      <td>1.000000</td>\n",
              "      <td>-0.641085</td>\n",
              "      <td>-0.307659</td>\n",
              "      <td>-0.912288</td>\n",
              "      <td>-0.839701</td>\n",
              "      <td>-0.043189</td>\n",
              "    </tr>\n",
              "    <tr>\n",
              "      <th>average_neighbor_degree</th>\n",
              "      <td>0.424484</td>\n",
              "      <td>-0.302781</td>\n",
              "      <td>-0.127934</td>\n",
              "      <td>-0.327498</td>\n",
              "      <td>-0.053600</td>\n",
              "      <td>-0.361336</td>\n",
              "      <td>-0.361336</td>\n",
              "      <td>-0.361336</td>\n",
              "      <td>-0.361336</td>\n",
              "      <td>-0.361336</td>\n",
              "      <td>-0.361336</td>\n",
              "      <td>-0.361336</td>\n",
              "      <td>-0.361336</td>\n",
              "      <td>-0.361336</td>\n",
              "      <td>-0.361336</td>\n",
              "      <td>-0.059630</td>\n",
              "      <td>-0.081194</td>\n",
              "      <td>-0.053600</td>\n",
              "      <td>-0.082469</td>\n",
              "      <td>-0.087120</td>\n",
              "      <td>0.001411</td>\n",
              "      <td>-0.074767</td>\n",
              "      <td>-0.024257</td>\n",
              "      <td>-0.083348</td>\n",
              "      <td>-0.277740</td>\n",
              "      <td>-0.008649</td>\n",
              "      <td>-0.003757</td>\n",
              "      <td>-0.592500</td>\n",
              "      <td>-0.521451</td>\n",
              "      <td>0.554339</td>\n",
              "      <td>1.000000</td>\n",
              "      <td>-0.215967</td>\n",
              "      <td>-0.215967</td>\n",
              "      <td>0.554339</td>\n",
              "      <td>-0.634606</td>\n",
              "      <td>-0.353446</td>\n",
              "      <td>-0.665231</td>\n",
              "      <td>-0.667129</td>\n",
              "      <td>-0.197882</td>\n",
              "    </tr>\n",
              "    <tr>\n",
              "      <th>average_degree_connectivity</th>\n",
              "      <td>-0.044502</td>\n",
              "      <td>0.258880</td>\n",
              "      <td>-0.064448</td>\n",
              "      <td>0.190929</td>\n",
              "      <td>0.291550</td>\n",
              "      <td>0.321946</td>\n",
              "      <td>0.321946</td>\n",
              "      <td>0.321946</td>\n",
              "      <td>0.321946</td>\n",
              "      <td>0.321946</td>\n",
              "      <td>0.321946</td>\n",
              "      <td>0.321946</td>\n",
              "      <td>0.321946</td>\n",
              "      <td>0.321946</td>\n",
              "      <td>0.321946</td>\n",
              "      <td>0.153608</td>\n",
              "      <td>0.101386</td>\n",
              "      <td>0.291550</td>\n",
              "      <td>0.352551</td>\n",
              "      <td>0.091957</td>\n",
              "      <td>0.001338</td>\n",
              "      <td>0.094528</td>\n",
              "      <td>0.049433</td>\n",
              "      <td>0.438330</td>\n",
              "      <td>0.005435</td>\n",
              "      <td>-0.003336</td>\n",
              "      <td>0.007056</td>\n",
              "      <td>0.463595</td>\n",
              "      <td>0.331211</td>\n",
              "      <td>-0.611788</td>\n",
              "      <td>-0.215967</td>\n",
              "      <td>1.000000</td>\n",
              "      <td>1.000000</td>\n",
              "      <td>-0.611788</td>\n",
              "      <td>0.372867</td>\n",
              "      <td>-0.032688</td>\n",
              "      <td>0.536998</td>\n",
              "      <td>0.497820</td>\n",
              "      <td>0.090126</td>\n",
              "    </tr>\n",
              "    <tr>\n",
              "      <th>k_nearest_neighbors</th>\n",
              "      <td>-0.044502</td>\n",
              "      <td>0.258880</td>\n",
              "      <td>-0.064448</td>\n",
              "      <td>0.190929</td>\n",
              "      <td>0.291550</td>\n",
              "      <td>0.321946</td>\n",
              "      <td>0.321946</td>\n",
              "      <td>0.321946</td>\n",
              "      <td>0.321946</td>\n",
              "      <td>0.321946</td>\n",
              "      <td>0.321946</td>\n",
              "      <td>0.321946</td>\n",
              "      <td>0.321946</td>\n",
              "      <td>0.321946</td>\n",
              "      <td>0.321946</td>\n",
              "      <td>0.153608</td>\n",
              "      <td>0.101386</td>\n",
              "      <td>0.291550</td>\n",
              "      <td>0.352551</td>\n",
              "      <td>0.091957</td>\n",
              "      <td>0.001338</td>\n",
              "      <td>0.094528</td>\n",
              "      <td>0.049433</td>\n",
              "      <td>0.438330</td>\n",
              "      <td>0.005435</td>\n",
              "      <td>-0.003336</td>\n",
              "      <td>0.007056</td>\n",
              "      <td>0.463595</td>\n",
              "      <td>0.331211</td>\n",
              "      <td>-0.611788</td>\n",
              "      <td>-0.215967</td>\n",
              "      <td>1.000000</td>\n",
              "      <td>1.000000</td>\n",
              "      <td>-0.611788</td>\n",
              "      <td>0.372867</td>\n",
              "      <td>-0.032688</td>\n",
              "      <td>0.536998</td>\n",
              "      <td>0.497820</td>\n",
              "      <td>0.090126</td>\n",
              "    </tr>\n",
              "    <tr>\n",
              "      <th>degree_centrality</th>\n",
              "      <td>0.020116</td>\n",
              "      <td>-0.384667</td>\n",
              "      <td>-0.014991</td>\n",
              "      <td>-0.320450</td>\n",
              "      <td>-0.145493</td>\n",
              "      <td>-0.529256</td>\n",
              "      <td>-0.529256</td>\n",
              "      <td>-0.529256</td>\n",
              "      <td>-0.529256</td>\n",
              "      <td>-0.529256</td>\n",
              "      <td>-0.529256</td>\n",
              "      <td>-0.529256</td>\n",
              "      <td>-0.529256</td>\n",
              "      <td>-0.529256</td>\n",
              "      <td>-0.529256</td>\n",
              "      <td>-0.194378</td>\n",
              "      <td>-0.121926</td>\n",
              "      <td>-0.145493</td>\n",
              "      <td>-0.197642</td>\n",
              "      <td>-0.096767</td>\n",
              "      <td>0.001095</td>\n",
              "      <td>-0.068541</td>\n",
              "      <td>-0.052031</td>\n",
              "      <td>-0.267573</td>\n",
              "      <td>-0.101102</td>\n",
              "      <td>-0.007423</td>\n",
              "      <td>-0.012186</td>\n",
              "      <td>-0.681694</td>\n",
              "      <td>-0.410506</td>\n",
              "      <td>1.000000</td>\n",
              "      <td>0.554339</td>\n",
              "      <td>-0.611788</td>\n",
              "      <td>-0.611788</td>\n",
              "      <td>1.000000</td>\n",
              "      <td>-0.641085</td>\n",
              "      <td>-0.307659</td>\n",
              "      <td>-0.912288</td>\n",
              "      <td>-0.839701</td>\n",
              "      <td>-0.043189</td>\n",
              "    </tr>\n",
              "    <tr>\n",
              "      <th>closeness_centrality</th>\n",
              "      <td>0.060585</td>\n",
              "      <td>0.284190</td>\n",
              "      <td>0.092469</td>\n",
              "      <td>0.366207</td>\n",
              "      <td>0.079896</td>\n",
              "      <td>0.614529</td>\n",
              "      <td>0.614529</td>\n",
              "      <td>0.614529</td>\n",
              "      <td>0.614529</td>\n",
              "      <td>0.614529</td>\n",
              "      <td>0.614529</td>\n",
              "      <td>0.614529</td>\n",
              "      <td>0.614529</td>\n",
              "      <td>0.614529</td>\n",
              "      <td>0.614529</td>\n",
              "      <td>0.086938</td>\n",
              "      <td>0.076386</td>\n",
              "      <td>0.079896</td>\n",
              "      <td>0.060260</td>\n",
              "      <td>0.046327</td>\n",
              "      <td>0.023353</td>\n",
              "      <td>0.005149</td>\n",
              "      <td>0.041834</td>\n",
              "      <td>0.123808</td>\n",
              "      <td>0.280784</td>\n",
              "      <td>0.022944</td>\n",
              "      <td>0.022736</td>\n",
              "      <td>0.686787</td>\n",
              "      <td>0.626034</td>\n",
              "      <td>-0.641085</td>\n",
              "      <td>-0.634606</td>\n",
              "      <td>0.372867</td>\n",
              "      <td>0.372867</td>\n",
              "      <td>-0.641085</td>\n",
              "      <td>1.000000</td>\n",
              "      <td>0.480340</td>\n",
              "      <td>0.873874</td>\n",
              "      <td>0.954573</td>\n",
              "      <td>-0.079713</td>\n",
              "    </tr>\n",
              "    <tr>\n",
              "      <th>betweenness_centrality</th>\n",
              "      <td>0.059767</td>\n",
              "      <td>0.136714</td>\n",
              "      <td>0.086492</td>\n",
              "      <td>0.180073</td>\n",
              "      <td>-0.019278</td>\n",
              "      <td>0.300598</td>\n",
              "      <td>0.300598</td>\n",
              "      <td>0.300598</td>\n",
              "      <td>0.300598</td>\n",
              "      <td>0.300598</td>\n",
              "      <td>0.300598</td>\n",
              "      <td>0.300598</td>\n",
              "      <td>0.300598</td>\n",
              "      <td>0.300598</td>\n",
              "      <td>0.300598</td>\n",
              "      <td>-0.022185</td>\n",
              "      <td>0.014959</td>\n",
              "      <td>-0.019278</td>\n",
              "      <td>-0.055396</td>\n",
              "      <td>-0.002502</td>\n",
              "      <td>-0.003346</td>\n",
              "      <td>-0.023997</td>\n",
              "      <td>0.003625</td>\n",
              "      <td>-0.035965</td>\n",
              "      <td>0.159598</td>\n",
              "      <td>0.027461</td>\n",
              "      <td>0.014754</td>\n",
              "      <td>0.151798</td>\n",
              "      <td>0.162101</td>\n",
              "      <td>-0.307659</td>\n",
              "      <td>-0.353446</td>\n",
              "      <td>-0.032688</td>\n",
              "      <td>-0.032688</td>\n",
              "      <td>-0.307659</td>\n",
              "      <td>0.480340</td>\n",
              "      <td>1.000000</td>\n",
              "      <td>0.512966</td>\n",
              "      <td>0.472152</td>\n",
              "      <td>-0.084627</td>\n",
              "    </tr>\n",
              "    <tr>\n",
              "      <th>diameter</th>\n",
              "      <td>0.026345</td>\n",
              "      <td>0.368414</td>\n",
              "      <td>0.056460</td>\n",
              "      <td>0.373837</td>\n",
              "      <td>0.118164</td>\n",
              "      <td>0.621527</td>\n",
              "      <td>0.621527</td>\n",
              "      <td>0.621527</td>\n",
              "      <td>0.621527</td>\n",
              "      <td>0.621527</td>\n",
              "      <td>0.621527</td>\n",
              "      <td>0.621527</td>\n",
              "      <td>0.621527</td>\n",
              "      <td>0.621527</td>\n",
              "      <td>0.621527</td>\n",
              "      <td>0.146377</td>\n",
              "      <td>0.107192</td>\n",
              "      <td>0.118164</td>\n",
              "      <td>0.130588</td>\n",
              "      <td>0.072253</td>\n",
              "      <td>0.006873</td>\n",
              "      <td>0.035134</td>\n",
              "      <td>0.046446</td>\n",
              "      <td>0.202332</td>\n",
              "      <td>0.214192</td>\n",
              "      <td>0.019997</td>\n",
              "      <td>0.017999</td>\n",
              "      <td>0.775584</td>\n",
              "      <td>0.605800</td>\n",
              "      <td>-0.912288</td>\n",
              "      <td>-0.665231</td>\n",
              "      <td>0.536998</td>\n",
              "      <td>0.536998</td>\n",
              "      <td>-0.912288</td>\n",
              "      <td>0.873874</td>\n",
              "      <td>0.512966</td>\n",
              "      <td>1.000000</td>\n",
              "      <td>0.974314</td>\n",
              "      <td>-0.027153</td>\n",
              "    </tr>\n",
              "    <tr>\n",
              "      <th>average_shortest_path_length</th>\n",
              "      <td>0.036978</td>\n",
              "      <td>0.349417</td>\n",
              "      <td>0.071573</td>\n",
              "      <td>0.383259</td>\n",
              "      <td>0.110844</td>\n",
              "      <td>0.639679</td>\n",
              "      <td>0.639679</td>\n",
              "      <td>0.639679</td>\n",
              "      <td>0.639679</td>\n",
              "      <td>0.639679</td>\n",
              "      <td>0.639679</td>\n",
              "      <td>0.639679</td>\n",
              "      <td>0.639679</td>\n",
              "      <td>0.639679</td>\n",
              "      <td>0.639679</td>\n",
              "      <td>0.134314</td>\n",
              "      <td>0.100473</td>\n",
              "      <td>0.110844</td>\n",
              "      <td>0.115144</td>\n",
              "      <td>0.068380</td>\n",
              "      <td>0.015479</td>\n",
              "      <td>0.028182</td>\n",
              "      <td>0.048670</td>\n",
              "      <td>0.186789</td>\n",
              "      <td>0.240598</td>\n",
              "      <td>0.019645</td>\n",
              "      <td>0.020645</td>\n",
              "      <td>0.754909</td>\n",
              "      <td>0.611200</td>\n",
              "      <td>-0.839701</td>\n",
              "      <td>-0.667129</td>\n",
              "      <td>0.497820</td>\n",
              "      <td>0.497820</td>\n",
              "      <td>-0.839701</td>\n",
              "      <td>0.954573</td>\n",
              "      <td>0.472152</td>\n",
              "      <td>0.974314</td>\n",
              "      <td>1.000000</td>\n",
              "      <td>-0.042751</td>\n",
              "    </tr>\n",
              "    <tr>\n",
              "      <th>target</th>\n",
              "      <td>-0.596500</td>\n",
              "      <td>0.293097</td>\n",
              "      <td>0.017542</td>\n",
              "      <td>0.165748</td>\n",
              "      <td>0.058470</td>\n",
              "      <td>-0.158621</td>\n",
              "      <td>-0.158621</td>\n",
              "      <td>-0.158621</td>\n",
              "      <td>-0.158621</td>\n",
              "      <td>-0.158621</td>\n",
              "      <td>-0.158621</td>\n",
              "      <td>-0.158621</td>\n",
              "      <td>-0.158621</td>\n",
              "      <td>-0.158621</td>\n",
              "      <td>-0.158621</td>\n",
              "      <td>0.035161</td>\n",
              "      <td>0.034878</td>\n",
              "      <td>0.058470</td>\n",
              "      <td>0.127289</td>\n",
              "      <td>0.032149</td>\n",
              "      <td>-0.002527</td>\n",
              "      <td>0.172224</td>\n",
              "      <td>0.021056</td>\n",
              "      <td>0.047816</td>\n",
              "      <td>-0.042601</td>\n",
              "      <td>-0.015861</td>\n",
              "      <td>-0.007376</td>\n",
              "      <td>-0.055875</td>\n",
              "      <td>-0.096028</td>\n",
              "      <td>-0.043189</td>\n",
              "      <td>-0.197882</td>\n",
              "      <td>0.090126</td>\n",
              "      <td>0.090126</td>\n",
              "      <td>-0.043189</td>\n",
              "      <td>-0.079713</td>\n",
              "      <td>-0.084627</td>\n",
              "      <td>-0.027153</td>\n",
              "      <td>-0.042751</td>\n",
              "      <td>1.000000</td>\n",
              "    </tr>\n",
              "  </tbody>\n",
              "</table>\n",
              "</div>"
            ],
            "text/plain": [
              "                                   uid  ...    target\n",
              "uid                           1.000000  ... -0.596500\n",
              "has_photo                    -0.182193  ...  0.293097\n",
              "sex                          -0.042038  ...  0.017542\n",
              "has_mobile                   -0.100482  ...  0.165748\n",
              "followers_count              -0.084965  ...  0.058470\n",
              "relatives                     0.145527  ... -0.158621\n",
              "relation                      0.145527  ... -0.158621\n",
              "personal                      0.145527  ... -0.158621\n",
              "activities                    0.145527  ... -0.158621\n",
              "music                         0.145527  ... -0.158621\n",
              "movies                        0.145527  ... -0.158621\n",
              "tv                            0.145527  ... -0.158621\n",
              "books                         0.145527  ... -0.158621\n",
              "about                         0.145527  ... -0.158621\n",
              "quotes                        0.145527  ... -0.158621\n",
              "albums                       -0.096894  ...  0.035161\n",
              "audios                       -0.067229  ...  0.034878\n",
              "followers                    -0.084965  ...  0.058470\n",
              "friends                      -0.113498  ...  0.127289\n",
              "pages                        -0.076749  ...  0.032149\n",
              "photos                       -0.001169  ... -0.002527\n",
              "subscriptions                -0.144857  ...  0.172224\n",
              "videos                       -0.051357  ...  0.021056\n",
              "clips_followers              -0.053997  ...  0.047816\n",
              "age                           0.046440  ... -0.042601\n",
              "city                          0.008097  ... -0.015861\n",
              "country                      -0.007374  ... -0.007376\n",
              "avg_cl                        0.034929  ... -0.055875\n",
              "trans                         0.057018  ... -0.096028\n",
              "deg_centr                     0.020116  ... -0.043189\n",
              "average_neighbor_degree       0.424484  ... -0.197882\n",
              "average_degree_connectivity  -0.044502  ...  0.090126\n",
              "k_nearest_neighbors          -0.044502  ...  0.090126\n",
              "degree_centrality             0.020116  ... -0.043189\n",
              "closeness_centrality          0.060585  ... -0.079713\n",
              "betweenness_centrality        0.059767  ... -0.084627\n",
              "diameter                      0.026345  ... -0.027153\n",
              "average_shortest_path_length  0.036978  ... -0.042751\n",
              "target                       -0.596500  ...  1.000000\n",
              "\n",
              "[39 rows x 39 columns]"
            ]
          },
          "metadata": {
            "tags": []
          },
          "execution_count": 31
        }
      ]
    },
    {
      "cell_type": "code",
      "metadata": {
        "colab": {
          "base_uri": "https://localhost:8080/",
          "height": 359
        },
        "id": "Cf7oKI9H_wV_",
        "outputId": "834e268d-20d2-4bf6-a352-c02f52756fbe"
      },
      "source": [
        "df[['relation', 'personal', 'activities', 'music', 'movies', 'tv', 'books', 'about', 'quotes']].head(10)"
      ],
      "execution_count": 32,
      "outputs": [
        {
          "output_type": "execute_result",
          "data": {
            "text/html": [
              "<div>\n",
              "<style scoped>\n",
              "    .dataframe tbody tr th:only-of-type {\n",
              "        vertical-align: middle;\n",
              "    }\n",
              "\n",
              "    .dataframe tbody tr th {\n",
              "        vertical-align: top;\n",
              "    }\n",
              "\n",
              "    .dataframe thead th {\n",
              "        text-align: right;\n",
              "    }\n",
              "</style>\n",
              "<table border=\"1\" class=\"dataframe\">\n",
              "  <thead>\n",
              "    <tr style=\"text-align: right;\">\n",
              "      <th></th>\n",
              "      <th>relation</th>\n",
              "      <th>personal</th>\n",
              "      <th>activities</th>\n",
              "      <th>music</th>\n",
              "      <th>movies</th>\n",
              "      <th>tv</th>\n",
              "      <th>books</th>\n",
              "      <th>about</th>\n",
              "      <th>quotes</th>\n",
              "    </tr>\n",
              "  </thead>\n",
              "  <tbody>\n",
              "    <tr>\n",
              "      <th>0</th>\n",
              "      <td>1</td>\n",
              "      <td>1</td>\n",
              "      <td>1</td>\n",
              "      <td>1</td>\n",
              "      <td>1</td>\n",
              "      <td>1</td>\n",
              "      <td>1</td>\n",
              "      <td>1</td>\n",
              "      <td>1</td>\n",
              "    </tr>\n",
              "    <tr>\n",
              "      <th>1</th>\n",
              "      <td>0</td>\n",
              "      <td>0</td>\n",
              "      <td>0</td>\n",
              "      <td>0</td>\n",
              "      <td>0</td>\n",
              "      <td>0</td>\n",
              "      <td>0</td>\n",
              "      <td>0</td>\n",
              "      <td>0</td>\n",
              "    </tr>\n",
              "    <tr>\n",
              "      <th>2</th>\n",
              "      <td>1</td>\n",
              "      <td>1</td>\n",
              "      <td>1</td>\n",
              "      <td>1</td>\n",
              "      <td>1</td>\n",
              "      <td>1</td>\n",
              "      <td>1</td>\n",
              "      <td>1</td>\n",
              "      <td>1</td>\n",
              "    </tr>\n",
              "    <tr>\n",
              "      <th>3</th>\n",
              "      <td>0</td>\n",
              "      <td>0</td>\n",
              "      <td>0</td>\n",
              "      <td>0</td>\n",
              "      <td>0</td>\n",
              "      <td>0</td>\n",
              "      <td>0</td>\n",
              "      <td>0</td>\n",
              "      <td>0</td>\n",
              "    </tr>\n",
              "    <tr>\n",
              "      <th>4</th>\n",
              "      <td>1</td>\n",
              "      <td>1</td>\n",
              "      <td>1</td>\n",
              "      <td>1</td>\n",
              "      <td>1</td>\n",
              "      <td>1</td>\n",
              "      <td>1</td>\n",
              "      <td>1</td>\n",
              "      <td>1</td>\n",
              "    </tr>\n",
              "    <tr>\n",
              "      <th>5</th>\n",
              "      <td>1</td>\n",
              "      <td>1</td>\n",
              "      <td>1</td>\n",
              "      <td>1</td>\n",
              "      <td>1</td>\n",
              "      <td>1</td>\n",
              "      <td>1</td>\n",
              "      <td>1</td>\n",
              "      <td>1</td>\n",
              "    </tr>\n",
              "    <tr>\n",
              "      <th>6</th>\n",
              "      <td>1</td>\n",
              "      <td>1</td>\n",
              "      <td>1</td>\n",
              "      <td>1</td>\n",
              "      <td>1</td>\n",
              "      <td>1</td>\n",
              "      <td>1</td>\n",
              "      <td>1</td>\n",
              "      <td>1</td>\n",
              "    </tr>\n",
              "    <tr>\n",
              "      <th>7</th>\n",
              "      <td>0</td>\n",
              "      <td>0</td>\n",
              "      <td>0</td>\n",
              "      <td>0</td>\n",
              "      <td>0</td>\n",
              "      <td>0</td>\n",
              "      <td>0</td>\n",
              "      <td>0</td>\n",
              "      <td>0</td>\n",
              "    </tr>\n",
              "    <tr>\n",
              "      <th>8</th>\n",
              "      <td>0</td>\n",
              "      <td>0</td>\n",
              "      <td>0</td>\n",
              "      <td>0</td>\n",
              "      <td>0</td>\n",
              "      <td>0</td>\n",
              "      <td>0</td>\n",
              "      <td>0</td>\n",
              "      <td>0</td>\n",
              "    </tr>\n",
              "    <tr>\n",
              "      <th>9</th>\n",
              "      <td>0</td>\n",
              "      <td>0</td>\n",
              "      <td>0</td>\n",
              "      <td>0</td>\n",
              "      <td>0</td>\n",
              "      <td>0</td>\n",
              "      <td>0</td>\n",
              "      <td>0</td>\n",
              "      <td>0</td>\n",
              "    </tr>\n",
              "  </tbody>\n",
              "</table>\n",
              "</div>"
            ],
            "text/plain": [
              "   relation  personal  activities  music  movies  tv  books  about  quotes\n",
              "0         1         1           1      1       1   1      1      1       1\n",
              "1         0         0           0      0       0   0      0      0       0\n",
              "2         1         1           1      1       1   1      1      1       1\n",
              "3         0         0           0      0       0   0      0      0       0\n",
              "4         1         1           1      1       1   1      1      1       1\n",
              "5         1         1           1      1       1   1      1      1       1\n",
              "6         1         1           1      1       1   1      1      1       1\n",
              "7         0         0           0      0       0   0      0      0       0\n",
              "8         0         0           0      0       0   0      0      0       0\n",
              "9         0         0           0      0       0   0      0      0       0"
            ]
          },
          "metadata": {
            "tags": []
          },
          "execution_count": 32
        }
      ]
    },
    {
      "cell_type": "code",
      "metadata": {
        "id": "VN854LLEAqle"
      },
      "source": [
        "df.drop(['relatives', 'personal', 'activities', 'music', 'movies', 'tv', 'books', 'about', 'quotes'], axis=1, inplace=True)"
      ],
      "execution_count": 33,
      "outputs": []
    },
    {
      "cell_type": "code",
      "metadata": {
        "id": "TsNzfDAlBqcD"
      },
      "source": [
        "df.drop('followers_count', axis=1, inplace=True)"
      ],
      "execution_count": 34,
      "outputs": []
    },
    {
      "cell_type": "code",
      "metadata": {
        "id": "NaroS08Zs54c"
      },
      "source": [
        "df.drop('k_nearest_neighbors', axis=1, inplace=True)"
      ],
      "execution_count": 35,
      "outputs": []
    },
    {
      "cell_type": "code",
      "metadata": {
        "id": "nNAN-fBltR__"
      },
      "source": [
        "df.drop('deg_centr', axis=1, inplace=True)"
      ],
      "execution_count": 36,
      "outputs": []
    },
    {
      "cell_type": "code",
      "metadata": {
        "id": "Uyin30qJttbX"
      },
      "source": [
        "df.drop('average_shortest_path_length', axis=1, inplace=True)"
      ],
      "execution_count": 37,
      "outputs": []
    },
    {
      "cell_type": "code",
      "metadata": {
        "colab": {
          "base_uri": "https://localhost:8080/",
          "height": 749
        },
        "id": "8540uRmIB5w4",
        "outputId": "c122e2da-7c5c-4347-84d3-4d7f8ede16fa"
      },
      "source": [
        "corr = df.corr()\n",
        "fig, ax = plt.subplots(figsize=(10,10))         \n",
        "sns.heatmap(corr, xticklabels=corr.columns, yticklabels=corr.columns, ax=ax)"
      ],
      "execution_count": 38,
      "outputs": [
        {
          "output_type": "execute_result",
          "data": {
            "text/plain": [
              "<matplotlib.axes._subplots.AxesSubplot at 0x7f1816ccad10>"
            ]
          },
          "metadata": {
            "tags": []
          },
          "execution_count": 38
        },
        {
          "output_type": "display_data",
          "data": {
            "image/png": "[encoded data removed]",
            "text/plain": [
              "<Figure size 720x720 with 2 Axes>"
            ]
          },
          "metadata": {
            "tags": [],
            "needs_background": "light"
          }
        }
      ]
    },
    {
      "cell_type": "code",
      "metadata": {
        "id": "AsRsxdxq0SQQ"
      },
      "source": [
        "df.drop('uid', axis=1, inplace=True)"
      ],
      "execution_count": 39,
      "outputs": []
    },
    {
      "cell_type": "code",
      "metadata": {
        "colab": {
          "base_uri": "https://localhost:8080/"
        },
        "id": "seps10S70KqC",
        "outputId": "062f93b3-b79b-488a-b4cc-c4bbc486c474"
      },
      "source": [
        "df.info()"
      ],
      "execution_count": 40,
      "outputs": [
        {
          "output_type": "stream",
          "text": [
            "<class 'pandas.core.frame.DataFrame'>\n",
            "RangeIndex: 11766 entries, 0 to 11765\n",
            "Data columns (total 25 columns):\n",
            " #   Column                       Non-Null Count  Dtype  \n",
            "---  ------                       --------------  -----  \n",
            " 0   has_photo                    11766 non-null  int64  \n",
            " 1   sex                          11766 non-null  int64  \n",
            " 2   has_mobile                   11766 non-null  float64\n",
            " 3   relation                     11766 non-null  int64  \n",
            " 4   albums                       11766 non-null  float64\n",
            " 5   audios                       11766 non-null  float64\n",
            " 6   followers                    11766 non-null  float64\n",
            " 7   friends                      11766 non-null  float64\n",
            " 8   pages                        11766 non-null  float64\n",
            " 9   photos                       11766 non-null  float64\n",
            " 10  subscriptions                11766 non-null  float64\n",
            " 11  videos                       11766 non-null  float64\n",
            " 12  clips_followers              11766 non-null  float64\n",
            " 13  age                          11766 non-null  float64\n",
            " 14  city                         11766 non-null  float64\n",
            " 15  country                      11766 non-null  float64\n",
            " 16  avg_cl                       11766 non-null  float64\n",
            " 17  trans                        11766 non-null  float64\n",
            " 18  average_neighbor_degree      11766 non-null  float64\n",
            " 19  average_degree_connectivity  11766 non-null  float64\n",
            " 20  degree_centrality            11766 non-null  float64\n",
            " 21  closeness_centrality         11766 non-null  float64\n",
            " 22  betweenness_centrality       11766 non-null  float64\n",
            " 23  diameter                     11766 non-null  int64  \n",
            " 24  target                       11766 non-null  int64  \n",
            "dtypes: float64(20), int64(5)\n",
            "memory usage: 2.2 MB\n"
          ],
          "name": "stdout"
        }
      ]
    },
    {
      "cell_type": "code",
      "metadata": {
        "colab": {
          "base_uri": "https://localhost:8080/"
        },
        "id": "DSyNR34eBDuP",
        "outputId": "09d3335f-f2ba-417b-fe4f-17c38d458293"
      },
      "source": [
        "df.shape"
      ],
      "execution_count": 41,
      "outputs": [
        {
          "output_type": "execute_result",
          "data": {
            "text/plain": [
              "(11766, 25)"
            ]
          },
          "metadata": {
            "tags": []
          },
          "execution_count": 41
        }
      ]
    },
    {
      "cell_type": "markdown",
      "metadata": {
        "id": "WaaTAjciRyRv"
      },
      "source": [
        "# Models"
      ]
    },
    {
      "cell_type": "code",
      "metadata": {
        "id": "jo2wG0dKRyRw"
      },
      "source": [
        "X = df.drop('target', axis=1)\n",
        "y = df['target']\n",
        "X_log = df.drop('target', axis=1)\n",
        "y_log = df['target']\n",
        "X_log = preprocessing.StandardScaler().fit(X).transform(X)\n",
        "X_train, X_test, y_train, y_test = train_test_split(X, y, test_size=0.2, random_state=50)\n",
        "X_trai, X_tes, y_trai, y_tes = train_test_split(X_log, y_log, test_size=0.2, random_state=50)"
      ],
      "execution_count": 42,
      "outputs": []
    },
    {
      "cell_type": "code",
      "metadata": {
        "colab": {
          "base_uri": "https://localhost:8080/"
        },
        "id": "V4Y5oovjRyRw",
        "outputId": "b1b2636a-2486-4742-fed7-7d73f5a7cca6"
      },
      "source": [
        "y.value_counts()"
      ],
      "execution_count": 43,
      "outputs": [
        {
          "output_type": "execute_result",
          "data": {
            "text/plain": [
              "0    9969\n",
              "1    1797\n",
              "Name: target, dtype: int64"
            ]
          },
          "metadata": {
            "tags": []
          },
          "execution_count": 43
        }
      ]
    },
    {
      "cell_type": "code",
      "metadata": {
        "colab": {
          "base_uri": "https://localhost:8080/"
        },
        "id": "rlCQWijTRyRw",
        "outputId": "45c6c8b5-9fea-4727-e82d-db0b0e3e6b3b"
      },
      "source": [
        "y_train.value_counts()"
      ],
      "execution_count": 44,
      "outputs": [
        {
          "output_type": "execute_result",
          "data": {
            "text/plain": [
              "0    7976\n",
              "1    1436\n",
              "Name: target, dtype: int64"
            ]
          },
          "metadata": {
            "tags": []
          },
          "execution_count": 44
        }
      ]
    },
    {
      "cell_type": "code",
      "metadata": {
        "colab": {
          "base_uri": "https://localhost:8080/"
        },
        "id": "eg1G6jOcRyRw",
        "outputId": "5693f3cc-c329-450b-b632-b9557b502dc3"
      },
      "source": [
        "1436 / 1797"
      ],
      "execution_count": 45,
      "outputs": [
        {
          "output_type": "execute_result",
          "data": {
            "text/plain": [
              "0.7991096271563717"
            ]
          },
          "metadata": {
            "tags": []
          },
          "execution_count": 45
        }
      ]
    },
    {
      "cell_type": "code",
      "metadata": {
        "colab": {
          "base_uri": "https://localhost:8080/"
        },
        "id": "wP_Kx4LgRyRx",
        "outputId": "d8a8e5d0-29ed-4ef9-a50d-754de1077857"
      },
      "source": [
        "1797 / 9969"
      ],
      "execution_count": 46,
      "outputs": [
        {
          "output_type": "execute_result",
          "data": {
            "text/plain": [
              "0.18025880228709"
            ]
          },
          "metadata": {
            "tags": []
          },
          "execution_count": 46
        }
      ]
    },
    {
      "cell_type": "code",
      "metadata": {
        "colab": {
          "base_uri": "https://localhost:8080/"
        },
        "id": "qmvOslNuRyRx",
        "outputId": "72f85a2d-5463-427d-f6a3-f18552aec499"
      },
      "source": [
        "1436 / 7976"
      ],
      "execution_count": 47,
      "outputs": [
        {
          "output_type": "execute_result",
          "data": {
            "text/plain": [
              "0.18004012036108324"
            ]
          },
          "metadata": {
            "tags": []
          },
          "execution_count": 47
        }
      ]
    },
    {
      "cell_type": "markdown",
      "metadata": {
        "id": "pIGAwbYvRyRx"
      },
      "source": [
        "## Logistic Regression"
      ]
    },
    {
      "cell_type": "code",
      "metadata": {
        "colab": {
          "base_uri": "https://localhost:8080/"
        },
        "id": "6URQvDHeoQO3",
        "outputId": "ce62f748-eb7a-4eaf-ebbb-9e829d819ba2"
      },
      "source": [
        "parameters_1 = {'solver':('liblinear', 'lbfgs'), 'C':[0.5, 1, 10, 100], 'random_state':[0, 1], 'max_iter':[1000, 10000]}\n",
        "model_1 = LogisticRegression()\n",
        "clf_1 = GridSearchCV(model_1, parameters_1)\n",
        "clf_1.fit(X_trai, y_trai)"
      ],
      "execution_count": 48,
      "outputs": [
        {
          "output_type": "execute_result",
          "data": {
            "text/plain": [
              "GridSearchCV(cv=None, error_score=nan,\n",
              "             estimator=LogisticRegression(C=1.0, class_weight=None, dual=False,\n",
              "                                          fit_intercept=True,\n",
              "                                          intercept_scaling=1, l1_ratio=None,\n",
              "                                          max_iter=100, multi_class='auto',\n",
              "                                          n_jobs=None, penalty='l2',\n",
              "                                          random_state=None, solver='lbfgs',\n",
              "                                          tol=0.0001, verbose=0,\n",
              "                                          warm_start=False),\n",
              "             iid='deprecated', n_jobs=None,\n",
              "             param_grid={'C': [0.5, 1, 10, 100], 'max_iter': [1000, 10000],\n",
              "                         'random_state': [0, 1],\n",
              "                         'solver': ('liblinear', 'lbfgs')},\n",
              "             pre_dispatch='2*n_jobs', refit=True, return_train_score=False,\n",
              "             scoring=None, verbose=0)"
            ]
          },
          "metadata": {
            "tags": []
          },
          "execution_count": 48
        }
      ]
    },
    {
      "cell_type": "code",
      "metadata": {
        "id": "ZcZEGsOjRyRx"
      },
      "source": [
        "model_1 = LogisticRegression(solver='lbfgs', C=1.0, max_iter=10000).fit(X_trai, y_trai)"
      ],
      "execution_count": 49,
      "outputs": []
    },
    {
      "cell_type": "code",
      "metadata": {
        "colab": {
          "base_uri": "https://localhost:8080/"
        },
        "id": "46eDfO9qRyRy",
        "outputId": "1b2703f1-ede9-45c3-875f-6bf549b172b8"
      },
      "source": [
        "predictions_1 = model_1.predict_proba(X_tes)[:,1]\n",
        "roc_auc_score(y_tes, predictions_1)"
      ],
      "execution_count": 50,
      "outputs": [
        {
          "output_type": "execute_result",
          "data": {
            "text/plain": [
              "0.8758063193476336"
            ]
          },
          "metadata": {
            "tags": []
          },
          "execution_count": 50
        }
      ]
    },
    {
      "cell_type": "code",
      "metadata": {
        "colab": {
          "base_uri": "https://localhost:8080/",
          "height": 425
        },
        "id": "qnSZWj0jk60f",
        "outputId": "ac6b4fec-9a8d-4ee5-cfb5-8a030a84a001"
      },
      "source": [
        "perm = PermutationImportance(model_1, random_state=1).fit(X, y)\n",
        "eli5.show_weights(perm, feature_names = df.drop('target', axis=1).columns.to_list())"
      ],
      "execution_count": 51,
      "outputs": [
        {
          "output_type": "stream",
          "text": [
            "/usr/local/lib/python3.7/dist-packages/eli5/formatters/html.py:235: RuntimeWarning: invalid value encountered in double_scalars\n",
            "  rel_weight = (abs(weight) / weight_range) ** 0.7\n"
          ],
          "name": "stderr"
        },
        {
          "output_type": "execute_result",
          "data": {
            "text/html": [
              "\n",
              "    <style>\n",
              "    table.eli5-weights tr:hover {\n",
              "        filter: brightness(85%);\n",
              "    }\n",
              "</style>\n",
              "\n",
              "\n",
              "\n",
              "    \n",
              "\n",
              "    \n",
              "\n",
              "    \n",
              "\n",
              "    \n",
              "\n",
              "    \n",
              "\n",
              "    \n",
              "\n",
              "\n",
              "    \n",
              "\n",
              "    \n",
              "\n",
              "    \n",
              "\n",
              "    \n",
              "\n",
              "    \n",
              "\n",
              "    \n",
              "\n",
              "\n",
              "    \n",
              "\n",
              "    \n",
              "\n",
              "    \n",
              "\n",
              "    \n",
              "\n",
              "    \n",
              "        <table class=\"eli5-weights eli5-feature-importances\" style=\"border-collapse: collapse; border: none; margin-top: 0em; table-layout: auto;\">\n",
              "    <thead>\n",
              "    <tr style=\"border: none;\">\n",
              "        <th style=\"padding: 0 1em 0 0.5em; text-align: right; border: none;\">Weight</th>\n",
              "        <th style=\"padding: 0 0.5em 0 0.5em; text-align: left; border: none;\">Feature</th>\n",
              "    </tr>\n",
              "    </thead>\n",
              "    <tbody>\n",
              "    \n",
              "        <tr style=\"background-color: hsl(0, 100.00%, nan%); border: none;\">\n",
              "            <td style=\"padding: 0 1em 0 0.5em; text-align: right; border: none;\">\n",
              "                0\n",
              "                \n",
              "                    &plusmn; 0.0000\n",
              "                \n",
              "            </td>\n",
              "            <td style=\"padding: 0 0.5em 0 0.5em; text-align: left; border: none;\">\n",
              "                trans\n",
              "            </td>\n",
              "        </tr>\n",
              "    \n",
              "        <tr style=\"background-color: hsl(0, 100.00%, nan%); border: none;\">\n",
              "            <td style=\"padding: 0 1em 0 0.5em; text-align: right; border: none;\">\n",
              "                0\n",
              "                \n",
              "                    &plusmn; 0.0000\n",
              "                \n",
              "            </td>\n",
              "            <td style=\"padding: 0 0.5em 0 0.5em; text-align: left; border: none;\">\n",
              "                relation\n",
              "            </td>\n",
              "        </tr>\n",
              "    \n",
              "        <tr style=\"background-color: hsl(0, 100.00%, nan%); border: none;\">\n",
              "            <td style=\"padding: 0 1em 0 0.5em; text-align: right; border: none;\">\n",
              "                0\n",
              "                \n",
              "                    &plusmn; 0.0000\n",
              "                \n",
              "            </td>\n",
              "            <td style=\"padding: 0 0.5em 0 0.5em; text-align: left; border: none;\">\n",
              "                albums\n",
              "            </td>\n",
              "        </tr>\n",
              "    \n",
              "        <tr style=\"background-color: hsl(0, 100.00%, nan%); border: none;\">\n",
              "            <td style=\"padding: 0 1em 0 0.5em; text-align: right; border: none;\">\n",
              "                0\n",
              "                \n",
              "                    &plusmn; 0.0000\n",
              "                \n",
              "            </td>\n",
              "            <td style=\"padding: 0 0.5em 0 0.5em; text-align: left; border: none;\">\n",
              "                audios\n",
              "            </td>\n",
              "        </tr>\n",
              "    \n",
              "        <tr style=\"background-color: hsl(0, 100.00%, nan%); border: none;\">\n",
              "            <td style=\"padding: 0 1em 0 0.5em; text-align: right; border: none;\">\n",
              "                0\n",
              "                \n",
              "                    &plusmn; 0.0000\n",
              "                \n",
              "            </td>\n",
              "            <td style=\"padding: 0 0.5em 0 0.5em; text-align: left; border: none;\">\n",
              "                followers\n",
              "            </td>\n",
              "        </tr>\n",
              "    \n",
              "        <tr style=\"background-color: hsl(0, 100.00%, nan%); border: none;\">\n",
              "            <td style=\"padding: 0 1em 0 0.5em; text-align: right; border: none;\">\n",
              "                0\n",
              "                \n",
              "                    &plusmn; 0.0000\n",
              "                \n",
              "            </td>\n",
              "            <td style=\"padding: 0 0.5em 0 0.5em; text-align: left; border: none;\">\n",
              "                friends\n",
              "            </td>\n",
              "        </tr>\n",
              "    \n",
              "        <tr style=\"background-color: hsl(0, 100.00%, nan%); border: none;\">\n",
              "            <td style=\"padding: 0 1em 0 0.5em; text-align: right; border: none;\">\n",
              "                0\n",
              "                \n",
              "                    &plusmn; 0.0000\n",
              "                \n",
              "            </td>\n",
              "            <td style=\"padding: 0 0.5em 0 0.5em; text-align: left; border: none;\">\n",
              "                pages\n",
              "            </td>\n",
              "        </tr>\n",
              "    \n",
              "        <tr style=\"background-color: hsl(0, 100.00%, nan%); border: none;\">\n",
              "            <td style=\"padding: 0 1em 0 0.5em; text-align: right; border: none;\">\n",
              "                0\n",
              "                \n",
              "                    &plusmn; 0.0000\n",
              "                \n",
              "            </td>\n",
              "            <td style=\"padding: 0 0.5em 0 0.5em; text-align: left; border: none;\">\n",
              "                photos\n",
              "            </td>\n",
              "        </tr>\n",
              "    \n",
              "        <tr style=\"background-color: hsl(0, 100.00%, nan%); border: none;\">\n",
              "            <td style=\"padding: 0 1em 0 0.5em; text-align: right; border: none;\">\n",
              "                0\n",
              "                \n",
              "                    &plusmn; 0.0000\n",
              "                \n",
              "            </td>\n",
              "            <td style=\"padding: 0 0.5em 0 0.5em; text-align: left; border: none;\">\n",
              "                subscriptions\n",
              "            </td>\n",
              "        </tr>\n",
              "    \n",
              "        <tr style=\"background-color: hsl(0, 100.00%, nan%); border: none;\">\n",
              "            <td style=\"padding: 0 1em 0 0.5em; text-align: right; border: none;\">\n",
              "                0\n",
              "                \n",
              "                    &plusmn; 0.0000\n",
              "                \n",
              "            </td>\n",
              "            <td style=\"padding: 0 0.5em 0 0.5em; text-align: left; border: none;\">\n",
              "                sex\n",
              "            </td>\n",
              "        </tr>\n",
              "    \n",
              "        <tr style=\"background-color: hsl(0, 100.00%, nan%); border: none;\">\n",
              "            <td style=\"padding: 0 1em 0 0.5em; text-align: right; border: none;\">\n",
              "                0\n",
              "                \n",
              "                    &plusmn; 0.0000\n",
              "                \n",
              "            </td>\n",
              "            <td style=\"padding: 0 0.5em 0 0.5em; text-align: left; border: none;\">\n",
              "                clips_followers\n",
              "            </td>\n",
              "        </tr>\n",
              "    \n",
              "        <tr style=\"background-color: hsl(0, 100.00%, nan%); border: none;\">\n",
              "            <td style=\"padding: 0 1em 0 0.5em; text-align: right; border: none;\">\n",
              "                0\n",
              "                \n",
              "                    &plusmn; 0.0000\n",
              "                \n",
              "            </td>\n",
              "            <td style=\"padding: 0 0.5em 0 0.5em; text-align: left; border: none;\">\n",
              "                has_photo\n",
              "            </td>\n",
              "        </tr>\n",
              "    \n",
              "        <tr style=\"background-color: hsl(0, 100.00%, nan%); border: none;\">\n",
              "            <td style=\"padding: 0 1em 0 0.5em; text-align: right; border: none;\">\n",
              "                0\n",
              "                \n",
              "                    &plusmn; 0.0000\n",
              "                \n",
              "            </td>\n",
              "            <td style=\"padding: 0 0.5em 0 0.5em; text-align: left; border: none;\">\n",
              "                city\n",
              "            </td>\n",
              "        </tr>\n",
              "    \n",
              "        <tr style=\"background-color: hsl(0, 100.00%, nan%); border: none;\">\n",
              "            <td style=\"padding: 0 1em 0 0.5em; text-align: right; border: none;\">\n",
              "                0\n",
              "                \n",
              "                    &plusmn; 0.0000\n",
              "                \n",
              "            </td>\n",
              "            <td style=\"padding: 0 0.5em 0 0.5em; text-align: left; border: none;\">\n",
              "                betweenness_centrality\n",
              "            </td>\n",
              "        </tr>\n",
              "    \n",
              "        <tr style=\"background-color: hsl(0, 100.00%, nan%); border: none;\">\n",
              "            <td style=\"padding: 0 1em 0 0.5em; text-align: right; border: none;\">\n",
              "                0\n",
              "                \n",
              "                    &plusmn; 0.0000\n",
              "                \n",
              "            </td>\n",
              "            <td style=\"padding: 0 0.5em 0 0.5em; text-align: left; border: none;\">\n",
              "                closeness_centrality\n",
              "            </td>\n",
              "        </tr>\n",
              "    \n",
              "        <tr style=\"background-color: hsl(0, 100.00%, nan%); border: none;\">\n",
              "            <td style=\"padding: 0 1em 0 0.5em; text-align: right; border: none;\">\n",
              "                0\n",
              "                \n",
              "                    &plusmn; 0.0000\n",
              "                \n",
              "            </td>\n",
              "            <td style=\"padding: 0 0.5em 0 0.5em; text-align: left; border: none;\">\n",
              "                degree_centrality\n",
              "            </td>\n",
              "        </tr>\n",
              "    \n",
              "        <tr style=\"background-color: hsl(0, 100.00%, nan%); border: none;\">\n",
              "            <td style=\"padding: 0 1em 0 0.5em; text-align: right; border: none;\">\n",
              "                0\n",
              "                \n",
              "                    &plusmn; 0.0000\n",
              "                \n",
              "            </td>\n",
              "            <td style=\"padding: 0 0.5em 0 0.5em; text-align: left; border: none;\">\n",
              "                videos\n",
              "            </td>\n",
              "        </tr>\n",
              "    \n",
              "        <tr style=\"background-color: hsl(0, 100.00%, nan%); border: none;\">\n",
              "            <td style=\"padding: 0 1em 0 0.5em; text-align: right; border: none;\">\n",
              "                0\n",
              "                \n",
              "                    &plusmn; 0.0000\n",
              "                \n",
              "            </td>\n",
              "            <td style=\"padding: 0 0.5em 0 0.5em; text-align: left; border: none;\">\n",
              "                age\n",
              "            </td>\n",
              "        </tr>\n",
              "    \n",
              "        <tr style=\"background-color: hsl(0, 100.00%, nan%); border: none;\">\n",
              "            <td style=\"padding: 0 1em 0 0.5em; text-align: right; border: none;\">\n",
              "                0\n",
              "                \n",
              "                    &plusmn; 0.0000\n",
              "                \n",
              "            </td>\n",
              "            <td style=\"padding: 0 0.5em 0 0.5em; text-align: left; border: none;\">\n",
              "                has_mobile\n",
              "            </td>\n",
              "        </tr>\n",
              "    \n",
              "        <tr style=\"background-color: hsl(0, 100.00%, nan%); border: none;\">\n",
              "            <td style=\"padding: 0 1em 0 0.5em; text-align: right; border: none;\">\n",
              "                0\n",
              "                \n",
              "                    &plusmn; 0.0000\n",
              "                \n",
              "            </td>\n",
              "            <td style=\"padding: 0 0.5em 0 0.5em; text-align: left; border: none;\">\n",
              "                diameter\n",
              "            </td>\n",
              "        </tr>\n",
              "    \n",
              "    \n",
              "        \n",
              "            <tr style=\"background-color: hsl(0, 100.00%, nan%); border: none;\">\n",
              "                <td colspan=\"2\" style=\"padding: 0 0.5em 0 0.5em; text-align: center; border: none; white-space: nowrap;\">\n",
              "                    <i>&hellip; 4 more &hellip;</i>\n",
              "                </td>\n",
              "            </tr>\n",
              "        \n",
              "    \n",
              "    </tbody>\n",
              "</table>\n",
              "    \n",
              "\n",
              "    \n",
              "\n",
              "\n",
              "    \n",
              "\n",
              "    \n",
              "\n",
              "    \n",
              "\n",
              "    \n",
              "\n",
              "    \n",
              "\n",
              "    \n",
              "\n",
              "\n",
              "\n"
            ],
            "text/plain": [
              "<IPython.core.display.HTML object>"
            ]
          },
          "metadata": {
            "tags": []
          },
          "execution_count": 51
        }
      ]
    },
    {
      "cell_type": "markdown",
      "metadata": {
        "id": "xQzpZBPpRyRy"
      },
      "source": [
        "## Random Forest Classification"
      ]
    },
    {
      "cell_type": "code",
      "metadata": {
        "colab": {
          "base_uri": "https://localhost:8080/"
        },
        "id": "NFesRxOXqNMC",
        "outputId": "34831047-d273-43a3-9be8-338d212adf6b"
      },
      "source": [
        "parameters_2 = {'max_depth':[1, 2, 3, 4, 5, 6, 7, 8, 9, 10], 'random_state':[0, 1]}\n",
        "model_2 = RandomForestClassifier()\n",
        "clf_2 = GridSearchCV(model_2, parameters_2)\n",
        "clf_2.fit(X_train, y_train)"
      ],
      "execution_count": 52,
      "outputs": [
        {
          "output_type": "execute_result",
          "data": {
            "text/plain": [
              "GridSearchCV(cv=None, error_score=nan,\n",
              "             estimator=RandomForestClassifier(bootstrap=True, ccp_alpha=0.0,\n",
              "                                              class_weight=None,\n",
              "                                              criterion='gini', max_depth=None,\n",
              "                                              max_features='auto',\n",
              "                                              max_leaf_nodes=None,\n",
              "                                              max_samples=None,\n",
              "                                              min_impurity_decrease=0.0,\n",
              "                                              min_impurity_split=None,\n",
              "                                              min_samples_leaf=1,\n",
              "                                              min_samples_split=2,\n",
              "                                              min_weight_fraction_leaf=0.0,\n",
              "                                              n_estimators=100, n_jobs=None,\n",
              "                                              oob_score=False,\n",
              "                                              random_state=None, verbose=0,\n",
              "                                              warm_start=False),\n",
              "             iid='deprecated', n_jobs=None,\n",
              "             param_grid={'max_depth': [1, 2, 3, 4, 5, 6, 7, 8, 9, 10],\n",
              "                         'random_state': [0, 1]},\n",
              "             pre_dispatch='2*n_jobs', refit=True, return_train_score=False,\n",
              "             scoring=None, verbose=0)"
            ]
          },
          "metadata": {
            "tags": []
          },
          "execution_count": 52
        }
      ]
    },
    {
      "cell_type": "code",
      "metadata": {
        "id": "nx9rrdS9RyRz"
      },
      "source": [
        "model_2 = RandomForestClassifier(max_depth=None, random_state=None).fit(X_train, y_train)"
      ],
      "execution_count": 53,
      "outputs": []
    },
    {
      "cell_type": "code",
      "metadata": {
        "colab": {
          "base_uri": "https://localhost:8080/"
        },
        "id": "I5V9zC1aRyRz",
        "outputId": "9096a66b-1110-42ab-b484-e36f29dd1b4d"
      },
      "source": [
        "predictions_2 = model_2.predict_proba(X_test)[:,1]\n",
        "roc_auc_score(y_test, predictions_2)"
      ],
      "execution_count": 54,
      "outputs": [
        {
          "output_type": "execute_result",
          "data": {
            "text/plain": [
              "0.9809645393225319"
            ]
          },
          "metadata": {
            "tags": []
          },
          "execution_count": 54
        }
      ]
    },
    {
      "cell_type": "code",
      "metadata": {
        "colab": {
          "base_uri": "https://localhost:8080/",
          "height": 391
        },
        "id": "NbhRiHnOnyS-",
        "outputId": "ee252d8c-76e5-4b0d-a2c9-527880b878da"
      },
      "source": [
        "perm = PermutationImportance(model_2, random_state=1).fit(X, y)\n",
        "eli5.show_weights(perm, feature_names = df.drop('target', axis=1).columns.to_list())"
      ],
      "execution_count": 55,
      "outputs": [
        {
          "output_type": "execute_result",
          "data": {
            "text/html": [
              "\n",
              "    <style>\n",
              "    table.eli5-weights tr:hover {\n",
              "        filter: brightness(85%);\n",
              "    }\n",
              "</style>\n",
              "\n",
              "\n",
              "\n",
              "    \n",
              "\n",
              "    \n",
              "\n",
              "    \n",
              "\n",
              "    \n",
              "\n",
              "    \n",
              "\n",
              "    \n",
              "\n",
              "\n",
              "    \n",
              "\n",
              "    \n",
              "\n",
              "    \n",
              "\n",
              "    \n",
              "\n",
              "    \n",
              "\n",
              "    \n",
              "\n",
              "\n",
              "    \n",
              "\n",
              "    \n",
              "\n",
              "    \n",
              "\n",
              "    \n",
              "\n",
              "    \n",
              "        <table class=\"eli5-weights eli5-feature-importances\" style=\"border-collapse: collapse; border: none; margin-top: 0em; table-layout: auto;\">\n",
              "    <thead>\n",
              "    <tr style=\"border: none;\">\n",
              "        <th style=\"padding: 0 1em 0 0.5em; text-align: right; border: none;\">Weight</th>\n",
              "        <th style=\"padding: 0 0.5em 0 0.5em; text-align: left; border: none;\">Feature</th>\n",
              "    </tr>\n",
              "    </thead>\n",
              "    <tbody>\n",
              "    \n",
              "        <tr style=\"background-color: hsl(120, 100.00%, 80.00%); border: none;\">\n",
              "            <td style=\"padding: 0 1em 0 0.5em; text-align: right; border: none;\">\n",
              "                0.2950\n",
              "                \n",
              "                    &plusmn; 0.0062\n",
              "                \n",
              "            </td>\n",
              "            <td style=\"padding: 0 0.5em 0 0.5em; text-align: left; border: none;\">\n",
              "                average_neighbor_degree\n",
              "            </td>\n",
              "        </tr>\n",
              "    \n",
              "        <tr style=\"background-color: hsl(120, 100.00%, 92.35%); border: none;\">\n",
              "            <td style=\"padding: 0 1em 0 0.5em; text-align: right; border: none;\">\n",
              "                0.0747\n",
              "                \n",
              "                    &plusmn; 0.0025\n",
              "                \n",
              "            </td>\n",
              "            <td style=\"padding: 0 0.5em 0 0.5em; text-align: left; border: none;\">\n",
              "                pages\n",
              "            </td>\n",
              "        </tr>\n",
              "    \n",
              "        <tr style=\"background-color: hsl(120, 100.00%, 94.90%); border: none;\">\n",
              "            <td style=\"padding: 0 1em 0 0.5em; text-align: right; border: none;\">\n",
              "                0.0419\n",
              "                \n",
              "                    &plusmn; 0.0034\n",
              "                \n",
              "            </td>\n",
              "            <td style=\"padding: 0 0.5em 0 0.5em; text-align: left; border: none;\">\n",
              "                has_photo\n",
              "            </td>\n",
              "        </tr>\n",
              "    \n",
              "        <tr style=\"background-color: hsl(120, 100.00%, 98.11%); border: none;\">\n",
              "            <td style=\"padding: 0 1em 0 0.5em; text-align: right; border: none;\">\n",
              "                0.0101\n",
              "                \n",
              "                    &plusmn; 0.0009\n",
              "                \n",
              "            </td>\n",
              "            <td style=\"padding: 0 0.5em 0 0.5em; text-align: left; border: none;\">\n",
              "                subscriptions\n",
              "            </td>\n",
              "        </tr>\n",
              "    \n",
              "        <tr style=\"background-color: hsl(120, 100.00%, 98.29%); border: none;\">\n",
              "            <td style=\"padding: 0 1em 0 0.5em; text-align: right; border: none;\">\n",
              "                0.0088\n",
              "                \n",
              "                    &plusmn; 0.0003\n",
              "                \n",
              "            </td>\n",
              "            <td style=\"padding: 0 0.5em 0 0.5em; text-align: left; border: none;\">\n",
              "                friends\n",
              "            </td>\n",
              "        </tr>\n",
              "    \n",
              "        <tr style=\"background-color: hsl(120, 100.00%, 98.50%); border: none;\">\n",
              "            <td style=\"padding: 0 1em 0 0.5em; text-align: right; border: none;\">\n",
              "                0.0073\n",
              "                \n",
              "                    &plusmn; 0.0004\n",
              "                \n",
              "            </td>\n",
              "            <td style=\"padding: 0 0.5em 0 0.5em; text-align: left; border: none;\">\n",
              "                photos\n",
              "            </td>\n",
              "        </tr>\n",
              "    \n",
              "        <tr style=\"background-color: hsl(120, 100.00%, 98.65%); border: none;\">\n",
              "            <td style=\"padding: 0 1em 0 0.5em; text-align: right; border: none;\">\n",
              "                0.0063\n",
              "                \n",
              "                    &plusmn; 0.0007\n",
              "                \n",
              "            </td>\n",
              "            <td style=\"padding: 0 0.5em 0 0.5em; text-align: left; border: none;\">\n",
              "                followers\n",
              "            </td>\n",
              "        </tr>\n",
              "    \n",
              "        <tr style=\"background-color: hsl(120, 100.00%, 98.80%); border: none;\">\n",
              "            <td style=\"padding: 0 1em 0 0.5em; text-align: right; border: none;\">\n",
              "                0.0053\n",
              "                \n",
              "                    &plusmn; 0.0005\n",
              "                \n",
              "            </td>\n",
              "            <td style=\"padding: 0 0.5em 0 0.5em; text-align: left; border: none;\">\n",
              "                country\n",
              "            </td>\n",
              "        </tr>\n",
              "    \n",
              "        <tr style=\"background-color: hsl(120, 100.00%, 98.85%); border: none;\">\n",
              "            <td style=\"padding: 0 1em 0 0.5em; text-align: right; border: none;\">\n",
              "                0.0050\n",
              "                \n",
              "                    &plusmn; 0.0002\n",
              "                \n",
              "            </td>\n",
              "            <td style=\"padding: 0 0.5em 0 0.5em; text-align: left; border: none;\">\n",
              "                age\n",
              "            </td>\n",
              "        </tr>\n",
              "    \n",
              "        <tr style=\"background-color: hsl(120, 100.00%, 99.06%); border: none;\">\n",
              "            <td style=\"padding: 0 1em 0 0.5em; text-align: right; border: none;\">\n",
              "                0.0037\n",
              "                \n",
              "                    &plusmn; 0.0004\n",
              "                \n",
              "            </td>\n",
              "            <td style=\"padding: 0 0.5em 0 0.5em; text-align: left; border: none;\">\n",
              "                city\n",
              "            </td>\n",
              "        </tr>\n",
              "    \n",
              "        <tr style=\"background-color: hsl(120, 100.00%, 99.07%); border: none;\">\n",
              "            <td style=\"padding: 0 1em 0 0.5em; text-align: right; border: none;\">\n",
              "                0.0037\n",
              "                \n",
              "                    &plusmn; 0.0004\n",
              "                \n",
              "            </td>\n",
              "            <td style=\"padding: 0 0.5em 0 0.5em; text-align: left; border: none;\">\n",
              "                clips_followers\n",
              "            </td>\n",
              "        </tr>\n",
              "    \n",
              "        <tr style=\"background-color: hsl(120, 100.00%, 99.12%); border: none;\">\n",
              "            <td style=\"padding: 0 1em 0 0.5em; text-align: right; border: none;\">\n",
              "                0.0034\n",
              "                \n",
              "                    &plusmn; 0.0004\n",
              "                \n",
              "            </td>\n",
              "            <td style=\"padding: 0 0.5em 0 0.5em; text-align: left; border: none;\">\n",
              "                betweenness_centrality\n",
              "            </td>\n",
              "        </tr>\n",
              "    \n",
              "        <tr style=\"background-color: hsl(120, 100.00%, 99.13%); border: none;\">\n",
              "            <td style=\"padding: 0 1em 0 0.5em; text-align: right; border: none;\">\n",
              "                0.0033\n",
              "                \n",
              "                    &plusmn; 0.0005\n",
              "                \n",
              "            </td>\n",
              "            <td style=\"padding: 0 0.5em 0 0.5em; text-align: left; border: none;\">\n",
              "                relation\n",
              "            </td>\n",
              "        </tr>\n",
              "    \n",
              "        <tr style=\"background-color: hsl(120, 100.00%, 99.29%); border: none;\">\n",
              "            <td style=\"padding: 0 1em 0 0.5em; text-align: right; border: none;\">\n",
              "                0.0025\n",
              "                \n",
              "                    &plusmn; 0.0006\n",
              "                \n",
              "            </td>\n",
              "            <td style=\"padding: 0 0.5em 0 0.5em; text-align: left; border: none;\">\n",
              "                avg_cl\n",
              "            </td>\n",
              "        </tr>\n",
              "    \n",
              "        <tr style=\"background-color: hsl(120, 100.00%, 99.32%); border: none;\">\n",
              "            <td style=\"padding: 0 1em 0 0.5em; text-align: right; border: none;\">\n",
              "                0.0024\n",
              "                \n",
              "                    &plusmn; 0.0003\n",
              "                \n",
              "            </td>\n",
              "            <td style=\"padding: 0 0.5em 0 0.5em; text-align: left; border: none;\">\n",
              "                sex\n",
              "            </td>\n",
              "        </tr>\n",
              "    \n",
              "        <tr style=\"background-color: hsl(120, 100.00%, 99.39%); border: none;\">\n",
              "            <td style=\"padding: 0 1em 0 0.5em; text-align: right; border: none;\">\n",
              "                0.0020\n",
              "                \n",
              "                    &plusmn; 0.0006\n",
              "                \n",
              "            </td>\n",
              "            <td style=\"padding: 0 0.5em 0 0.5em; text-align: left; border: none;\">\n",
              "                degree_centrality\n",
              "            </td>\n",
              "        </tr>\n",
              "    \n",
              "        <tr style=\"background-color: hsl(120, 100.00%, 99.40%); border: none;\">\n",
              "            <td style=\"padding: 0 1em 0 0.5em; text-align: right; border: none;\">\n",
              "                0.0020\n",
              "                \n",
              "                    &plusmn; 0.0003\n",
              "                \n",
              "            </td>\n",
              "            <td style=\"padding: 0 0.5em 0 0.5em; text-align: left; border: none;\">\n",
              "                trans\n",
              "            </td>\n",
              "        </tr>\n",
              "    \n",
              "        <tr style=\"background-color: hsl(120, 100.00%, 99.45%); border: none;\">\n",
              "            <td style=\"padding: 0 1em 0 0.5em; text-align: right; border: none;\">\n",
              "                0.0017\n",
              "                \n",
              "                    &plusmn; 0.0002\n",
              "                \n",
              "            </td>\n",
              "            <td style=\"padding: 0 0.5em 0 0.5em; text-align: left; border: none;\">\n",
              "                videos\n",
              "            </td>\n",
              "        </tr>\n",
              "    \n",
              "        <tr style=\"background-color: hsl(120, 100.00%, 99.47%); border: none;\">\n",
              "            <td style=\"padding: 0 1em 0 0.5em; text-align: right; border: none;\">\n",
              "                0.0017\n",
              "                \n",
              "                    &plusmn; 0.0005\n",
              "                \n",
              "            </td>\n",
              "            <td style=\"padding: 0 0.5em 0 0.5em; text-align: left; border: none;\">\n",
              "                audios\n",
              "            </td>\n",
              "        </tr>\n",
              "    \n",
              "        <tr style=\"background-color: hsl(120, 100.00%, 99.55%); border: none;\">\n",
              "            <td style=\"padding: 0 1em 0 0.5em; text-align: right; border: none;\">\n",
              "                0.0013\n",
              "                \n",
              "                    &plusmn; 0.0007\n",
              "                \n",
              "            </td>\n",
              "            <td style=\"padding: 0 0.5em 0 0.5em; text-align: left; border: none;\">\n",
              "                has_mobile\n",
              "            </td>\n",
              "        </tr>\n",
              "    \n",
              "    \n",
              "        \n",
              "            <tr style=\"background-color: hsl(120, 100.00%, 99.55%); border: none;\">\n",
              "                <td colspan=\"2\" style=\"padding: 0 0.5em 0 0.5em; text-align: center; border: none; white-space: nowrap;\">\n",
              "                    <i>&hellip; 4 more &hellip;</i>\n",
              "                </td>\n",
              "            </tr>\n",
              "        \n",
              "    \n",
              "    </tbody>\n",
              "</table>\n",
              "    \n",
              "\n",
              "    \n",
              "\n",
              "\n",
              "    \n",
              "\n",
              "    \n",
              "\n",
              "    \n",
              "\n",
              "    \n",
              "\n",
              "    \n",
              "\n",
              "    \n",
              "\n",
              "\n",
              "\n"
            ],
            "text/plain": [
              "<IPython.core.display.HTML object>"
            ]
          },
          "metadata": {
            "tags": []
          },
          "execution_count": 55
        }
      ]
    },
    {
      "cell_type": "code",
      "metadata": {
        "colab": {
          "base_uri": "https://localhost:8080/"
        },
        "id": "tawSjzWPNAEi",
        "outputId": "a8e1a092-9e97-47b1-f1a9-6bce35882dde"
      },
      "source": [
        "joblib.dump(model_2, 'model.pkl')"
      ],
      "execution_count": 56,
      "outputs": [
        {
          "output_type": "execute_result",
          "data": {
            "text/plain": [
              "['model.pkl']"
            ]
          },
          "metadata": {
            "tags": []
          },
          "execution_count": 56
        }
      ]
    },
    {
      "cell_type": "markdown",
      "metadata": {
        "id": "lziOuZ5BRyR0"
      },
      "source": [
        "## Gradient Boosting Classification"
      ]
    },
    {
      "cell_type": "code",
      "metadata": {
        "colab": {
          "base_uri": "https://localhost:8080/"
        },
        "id": "Vuq-c0YyrLTf",
        "outputId": "5ce6860f-6acb-4c49-9f93-fee014baa9cf"
      },
      "source": [
        "parameters_3 = {'n_estimators':[10, 100, 1000], 'learning_rate':[0.5, 1.0], 'max_depth':[0.1, 0.5, 1]}\n",
        "model_3 = GradientBoostingClassifier()\n",
        "clf_3 = GridSearchCV(model_3, parameters_3)\n",
        "clf_3.fit(X_train, y_train)"
      ],
      "execution_count": 57,
      "outputs": [
        {
          "output_type": "execute_result",
          "data": {
            "text/plain": [
              "GridSearchCV(cv=None, error_score=nan,\n",
              "             estimator=GradientBoostingClassifier(ccp_alpha=0.0,\n",
              "                                                  criterion='friedman_mse',\n",
              "                                                  init=None, learning_rate=0.1,\n",
              "                                                  loss='deviance', max_depth=3,\n",
              "                                                  max_features=None,\n",
              "                                                  max_leaf_nodes=None,\n",
              "                                                  min_impurity_decrease=0.0,\n",
              "                                                  min_impurity_split=None,\n",
              "                                                  min_samples_leaf=1,\n",
              "                                                  min_samples_split=2,\n",
              "                                                  min_weight_fraction_leaf=0.0,\n",
              "                                                  n_estimators=100,\n",
              "                                                  n_iter_no_change=None,\n",
              "                                                  presort='deprecated',\n",
              "                                                  random_state=None,\n",
              "                                                  subsample=1.0, tol=0.0001,\n",
              "                                                  validation_fraction=0.1,\n",
              "                                                  verbose=0, warm_start=False),\n",
              "             iid='deprecated', n_jobs=None,\n",
              "             param_grid={'learning_rate': [0.5, 1.0],\n",
              "                         'max_depth': [0.1, 0.5, 1],\n",
              "                         'n_estimators': [10, 100, 1000]},\n",
              "             pre_dispatch='2*n_jobs', refit=True, return_train_score=False,\n",
              "             scoring=None, verbose=0)"
            ]
          },
          "metadata": {
            "tags": []
          },
          "execution_count": 57
        }
      ]
    },
    {
      "cell_type": "code",
      "metadata": {
        "id": "xHgW2svDRyR0"
      },
      "source": [
        "model_3 = GradientBoostingClassifier(n_estimators=100, learning_rate=0.1, max_depth=3).fit(X_train, y_train)"
      ],
      "execution_count": 58,
      "outputs": []
    },
    {
      "cell_type": "code",
      "metadata": {
        "colab": {
          "base_uri": "https://localhost:8080/"
        },
        "id": "UR0PBTp9RyR0",
        "outputId": "a1d1a206-8645-4429-d303-189fcb23b5e1"
      },
      "source": [
        "predictions_3 = model_3.predict_proba(X_test)[:,1]\n",
        "roc_auc_score(y_test, predictions_3)"
      ],
      "execution_count": 59,
      "outputs": [
        {
          "output_type": "execute_result",
          "data": {
            "text/plain": [
              "0.9749900274228498"
            ]
          },
          "metadata": {
            "tags": []
          },
          "execution_count": 59
        }
      ]
    },
    {
      "cell_type": "code",
      "metadata": {
        "colab": {
          "base_uri": "https://localhost:8080/",
          "height": 391
        },
        "id": "SFcAdfEARyR2",
        "outputId": "ed74fbdb-46f5-4929-c1f6-2106d640509d"
      },
      "source": [
        "perm = PermutationImportance(model_3, random_state=1).fit(X, y)\n",
        "eli5.show_weights(perm, feature_names = df.drop('target', axis=1).columns.to_list())"
      ],
      "execution_count": 60,
      "outputs": [
        {
          "output_type": "execute_result",
          "data": {
            "text/html": [
              "\n",
              "    <style>\n",
              "    table.eli5-weights tr:hover {\n",
              "        filter: brightness(85%);\n",
              "    }\n",
              "</style>\n",
              "\n",
              "\n",
              "\n",
              "    \n",
              "\n",
              "    \n",
              "\n",
              "    \n",
              "\n",
              "    \n",
              "\n",
              "    \n",
              "\n",
              "    \n",
              "\n",
              "\n",
              "    \n",
              "\n",
              "    \n",
              "\n",
              "    \n",
              "\n",
              "    \n",
              "\n",
              "    \n",
              "\n",
              "    \n",
              "\n",
              "\n",
              "    \n",
              "\n",
              "    \n",
              "\n",
              "    \n",
              "\n",
              "    \n",
              "\n",
              "    \n",
              "        <table class=\"eli5-weights eli5-feature-importances\" style=\"border-collapse: collapse; border: none; margin-top: 0em; table-layout: auto;\">\n",
              "    <thead>\n",
              "    <tr style=\"border: none;\">\n",
              "        <th style=\"padding: 0 1em 0 0.5em; text-align: right; border: none;\">Weight</th>\n",
              "        <th style=\"padding: 0 0.5em 0 0.5em; text-align: left; border: none;\">Feature</th>\n",
              "    </tr>\n",
              "    </thead>\n",
              "    <tbody>\n",
              "    \n",
              "        <tr style=\"background-color: hsl(120, 100.00%, 80.00%); border: none;\">\n",
              "            <td style=\"padding: 0 1em 0 0.5em; text-align: right; border: none;\">\n",
              "                0.2849\n",
              "                \n",
              "                    &plusmn; 0.0055\n",
              "                \n",
              "            </td>\n",
              "            <td style=\"padding: 0 0.5em 0 0.5em; text-align: left; border: none;\">\n",
              "                average_neighbor_degree\n",
              "            </td>\n",
              "        </tr>\n",
              "    \n",
              "        <tr style=\"background-color: hsl(120, 100.00%, 87.84%); border: none;\">\n",
              "            <td style=\"padding: 0 1em 0 0.5em; text-align: right; border: none;\">\n",
              "                0.1399\n",
              "                \n",
              "                    &plusmn; 0.0033\n",
              "                \n",
              "            </td>\n",
              "            <td style=\"padding: 0 0.5em 0 0.5em; text-align: left; border: none;\">\n",
              "                has_photo\n",
              "            </td>\n",
              "        </tr>\n",
              "    \n",
              "        <tr style=\"background-color: hsl(120, 100.00%, 89.42%); border: none;\">\n",
              "            <td style=\"padding: 0 1em 0 0.5em; text-align: right; border: none;\">\n",
              "                0.1147\n",
              "                \n",
              "                    &plusmn; 0.0012\n",
              "                \n",
              "            </td>\n",
              "            <td style=\"padding: 0 0.5em 0 0.5em; text-align: left; border: none;\">\n",
              "                pages\n",
              "            </td>\n",
              "        </tr>\n",
              "    \n",
              "        <tr style=\"background-color: hsl(120, 100.00%, 91.27%); border: none;\">\n",
              "            <td style=\"padding: 0 1em 0 0.5em; text-align: right; border: none;\">\n",
              "                0.0871\n",
              "                \n",
              "                    &plusmn; 0.0039\n",
              "                \n",
              "            </td>\n",
              "            <td style=\"padding: 0 0.5em 0 0.5em; text-align: left; border: none;\">\n",
              "                closeness_centrality\n",
              "            </td>\n",
              "        </tr>\n",
              "    \n",
              "        <tr style=\"background-color: hsl(120, 100.00%, 97.36%); border: none;\">\n",
              "            <td style=\"padding: 0 1em 0 0.5em; text-align: right; border: none;\">\n",
              "                0.0158\n",
              "                \n",
              "                    &plusmn; 0.0012\n",
              "                \n",
              "            </td>\n",
              "            <td style=\"padding: 0 0.5em 0 0.5em; text-align: left; border: none;\">\n",
              "                friends\n",
              "            </td>\n",
              "        </tr>\n",
              "    \n",
              "        <tr style=\"background-color: hsl(120, 100.00%, 98.38%); border: none;\">\n",
              "            <td style=\"padding: 0 1em 0 0.5em; text-align: right; border: none;\">\n",
              "                0.0078\n",
              "                \n",
              "                    &plusmn; 0.0013\n",
              "                \n",
              "            </td>\n",
              "            <td style=\"padding: 0 0.5em 0 0.5em; text-align: left; border: none;\">\n",
              "                subscriptions\n",
              "            </td>\n",
              "        </tr>\n",
              "    \n",
              "        <tr style=\"background-color: hsl(120, 100.00%, 98.67%); border: none;\">\n",
              "            <td style=\"padding: 0 1em 0 0.5em; text-align: right; border: none;\">\n",
              "                0.0059\n",
              "                \n",
              "                    &plusmn; 0.0004\n",
              "                \n",
              "            </td>\n",
              "            <td style=\"padding: 0 0.5em 0 0.5em; text-align: left; border: none;\">\n",
              "                followers\n",
              "            </td>\n",
              "        </tr>\n",
              "    \n",
              "        <tr style=\"background-color: hsl(120, 100.00%, 99.01%); border: none;\">\n",
              "            <td style=\"padding: 0 1em 0 0.5em; text-align: right; border: none;\">\n",
              "                0.0039\n",
              "                \n",
              "                    &plusmn; 0.0010\n",
              "                \n",
              "            </td>\n",
              "            <td style=\"padding: 0 0.5em 0 0.5em; text-align: left; border: none;\">\n",
              "                avg_cl\n",
              "            </td>\n",
              "        </tr>\n",
              "    \n",
              "        <tr style=\"background-color: hsl(120, 100.00%, 99.15%); border: none;\">\n",
              "            <td style=\"padding: 0 1em 0 0.5em; text-align: right; border: none;\">\n",
              "                0.0031\n",
              "                \n",
              "                    &plusmn; 0.0005\n",
              "                \n",
              "            </td>\n",
              "            <td style=\"padding: 0 0.5em 0 0.5em; text-align: left; border: none;\">\n",
              "                photos\n",
              "            </td>\n",
              "        </tr>\n",
              "    \n",
              "        <tr style=\"background-color: hsl(120, 100.00%, 99.21%); border: none;\">\n",
              "            <td style=\"padding: 0 1em 0 0.5em; text-align: right; border: none;\">\n",
              "                0.0028\n",
              "                \n",
              "                    &plusmn; 0.0012\n",
              "                \n",
              "            </td>\n",
              "            <td style=\"padding: 0 0.5em 0 0.5em; text-align: left; border: none;\">\n",
              "                relation\n",
              "            </td>\n",
              "        </tr>\n",
              "    \n",
              "        <tr style=\"background-color: hsl(120, 100.00%, 99.39%); border: none;\">\n",
              "            <td style=\"padding: 0 1em 0 0.5em; text-align: right; border: none;\">\n",
              "                0.0019\n",
              "                \n",
              "                    &plusmn; 0.0004\n",
              "                \n",
              "            </td>\n",
              "            <td style=\"padding: 0 0.5em 0 0.5em; text-align: left; border: none;\">\n",
              "                average_degree_connectivity\n",
              "            </td>\n",
              "        </tr>\n",
              "    \n",
              "        <tr style=\"background-color: hsl(120, 100.00%, 99.50%); border: none;\">\n",
              "            <td style=\"padding: 0 1em 0 0.5em; text-align: right; border: none;\">\n",
              "                0.0015\n",
              "                \n",
              "                    &plusmn; 0.0002\n",
              "                \n",
              "            </td>\n",
              "            <td style=\"padding: 0 0.5em 0 0.5em; text-align: left; border: none;\">\n",
              "                degree_centrality\n",
              "            </td>\n",
              "        </tr>\n",
              "    \n",
              "        <tr style=\"background-color: hsl(120, 100.00%, 99.50%); border: none;\">\n",
              "            <td style=\"padding: 0 1em 0 0.5em; text-align: right; border: none;\">\n",
              "                0.0015\n",
              "                \n",
              "                    &plusmn; 0.0012\n",
              "                \n",
              "            </td>\n",
              "            <td style=\"padding: 0 0.5em 0 0.5em; text-align: left; border: none;\">\n",
              "                country\n",
              "            </td>\n",
              "        </tr>\n",
              "    \n",
              "        <tr style=\"background-color: hsl(120, 100.00%, 99.51%); border: none;\">\n",
              "            <td style=\"padding: 0 1em 0 0.5em; text-align: right; border: none;\">\n",
              "                0.0014\n",
              "                \n",
              "                    &plusmn; 0.0002\n",
              "                \n",
              "            </td>\n",
              "            <td style=\"padding: 0 0.5em 0 0.5em; text-align: left; border: none;\">\n",
              "                audios\n",
              "            </td>\n",
              "        </tr>\n",
              "    \n",
              "        <tr style=\"background-color: hsl(120, 100.00%, 99.60%); border: none;\">\n",
              "            <td style=\"padding: 0 1em 0 0.5em; text-align: right; border: none;\">\n",
              "                0.0011\n",
              "                \n",
              "                    &plusmn; 0.0002\n",
              "                \n",
              "            </td>\n",
              "            <td style=\"padding: 0 0.5em 0 0.5em; text-align: left; border: none;\">\n",
              "                videos\n",
              "            </td>\n",
              "        </tr>\n",
              "    \n",
              "        <tr style=\"background-color: hsl(120, 100.00%, 99.61%); border: none;\">\n",
              "            <td style=\"padding: 0 1em 0 0.5em; text-align: right; border: none;\">\n",
              "                0.0010\n",
              "                \n",
              "                    &plusmn; 0.0006\n",
              "                \n",
              "            </td>\n",
              "            <td style=\"padding: 0 0.5em 0 0.5em; text-align: left; border: none;\">\n",
              "                albums\n",
              "            </td>\n",
              "        </tr>\n",
              "    \n",
              "        <tr style=\"background-color: hsl(120, 100.00%, 99.72%); border: none;\">\n",
              "            <td style=\"padding: 0 1em 0 0.5em; text-align: right; border: none;\">\n",
              "                0.0006\n",
              "                \n",
              "                    &plusmn; 0.0012\n",
              "                \n",
              "            </td>\n",
              "            <td style=\"padding: 0 0.5em 0 0.5em; text-align: left; border: none;\">\n",
              "                trans\n",
              "            </td>\n",
              "        </tr>\n",
              "    \n",
              "        <tr style=\"background-color: hsl(120, 100.00%, 99.82%); border: none;\">\n",
              "            <td style=\"padding: 0 1em 0 0.5em; text-align: right; border: none;\">\n",
              "                0.0003\n",
              "                \n",
              "                    &plusmn; 0.0002\n",
              "                \n",
              "            </td>\n",
              "            <td style=\"padding: 0 0.5em 0 0.5em; text-align: left; border: none;\">\n",
              "                clips_followers\n",
              "            </td>\n",
              "        </tr>\n",
              "    \n",
              "        <tr style=\"background-color: hsl(120, 100.00%, 99.90%); border: none;\">\n",
              "            <td style=\"padding: 0 1em 0 0.5em; text-align: right; border: none;\">\n",
              "                0.0002\n",
              "                \n",
              "                    &plusmn; 0.0006\n",
              "                \n",
              "            </td>\n",
              "            <td style=\"padding: 0 0.5em 0 0.5em; text-align: left; border: none;\">\n",
              "                has_mobile\n",
              "            </td>\n",
              "        </tr>\n",
              "    \n",
              "        <tr style=\"background-color: hsl(120, 100.00%, 99.91%); border: none;\">\n",
              "            <td style=\"padding: 0 1em 0 0.5em; text-align: right; border: none;\">\n",
              "                0.0001\n",
              "                \n",
              "                    &plusmn; 0.0006\n",
              "                \n",
              "            </td>\n",
              "            <td style=\"padding: 0 0.5em 0 0.5em; text-align: left; border: none;\">\n",
              "                city\n",
              "            </td>\n",
              "        </tr>\n",
              "    \n",
              "    \n",
              "        \n",
              "            <tr style=\"background-color: hsl(120, 100.00%, 99.91%); border: none;\">\n",
              "                <td colspan=\"2\" style=\"padding: 0 0.5em 0 0.5em; text-align: center; border: none; white-space: nowrap;\">\n",
              "                    <i>&hellip; 4 more &hellip;</i>\n",
              "                </td>\n",
              "            </tr>\n",
              "        \n",
              "    \n",
              "    </tbody>\n",
              "</table>\n",
              "    \n",
              "\n",
              "    \n",
              "\n",
              "\n",
              "    \n",
              "\n",
              "    \n",
              "\n",
              "    \n",
              "\n",
              "    \n",
              "\n",
              "    \n",
              "\n",
              "    \n",
              "\n",
              "\n",
              "\n"
            ],
            "text/plain": [
              "<IPython.core.display.HTML object>"
            ]
          },
          "metadata": {
            "tags": []
          },
          "execution_count": 60
        }
      ]
    }
  ]
}