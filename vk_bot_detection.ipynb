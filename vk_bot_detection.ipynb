{
  "nbformat": 4,
  "nbformat_minor": 0,
  "metadata": {
    "kernelspec": {
      "name": "python3",
      "display_name": "Python 3.7",
      "language": "python"
    },
    "language_info": {
      "name": "python",
      "version": "3.7.9",
      "mimetype": "text/x-python",
      "codemirror_mode": {
        "name": "ipython",
        "version": 3
      },
      "pygments_lexer": "ipython3",
      "nbconvert_exporter": "python",
      "file_extension": ".py"
    },
    "colab": {
      "name": "vk_bot_detection.ipynb",
      "provenance": [],
      "collapsed_sections": [],
      "include_colab_link": true
    }
  },
  "cells": [
    {
      "cell_type": "markdown",
      "metadata": {
        "id": "view-in-github",
        "colab_type": "text"
      },
      "source": [
        "<a href=\"https://colab.research.google.com/github/filipp134/vk_bot_detection/blob/first_vers/vk_bot_detection.ipynb\" target=\"_parent\"><img src=\"https://colab.research.google.com/assets/colab-badge.svg\" alt=\"Open In Colab\"/></a>"
      ]
    },
    {
      "cell_type": "markdown",
      "metadata": {
        "id": "Lkek_TltUfiK"
      },
      "source": [
        "Каждые 24 часа нужно пройти по AUTHORIZATION_LINK, чтобы получить ACCESS_TOKEN"
      ]
    },
    {
      "cell_type": "code",
      "metadata": {
        "id": "FCje65ZZaUnn"
      },
      "source": [
        "import requests\n",
        "import networkx as nx\n",
        "\n",
        "BASIC_LINK = 'https://api.vk.com/method/'\n",
        "ACCESS_TOKEN = ''"
      ],
      "execution_count": null,
      "outputs": []
    },
    {
      "cell_type": "code",
      "metadata": {
        "id": "wjBuEfkgaUnp"
      },
      "source": [
        "def friends_ids_receiver():\n",
        "  '''Получение списка id друзей пользователя ВКонтакте с user_id.'''\n",
        "  method = 'friends.get'\n",
        "  payload = {'user-id' : 36414701,\n",
        "  'order':'name',\n",
        "  'count' : 1000,\n",
        "  'offset' : 1,\n",
        "  'fields': ','.join(['city','domain','nickname', 'sex', 'education', 'last_seen']),\n",
        "  'name_case' : 'nom',\n",
        "  'v':'5.130',\n",
        "  'access_token' : ACCESS_TOKEN}\n",
        "  print(payload)\n",
        "  response = requests.get(BASIC_LINK + method, params=payload).json()\n",
        "  print(response)\n",
        "  friends_ids = []\n",
        "  for i in range(0, len(response['response']['items'])):\n",
        "    friends_ids.append(response['response']['items'][i]['id'])\n",
        "  return friends_ids"
      ],
      "execution_count": null,
      "outputs": []
    },
    {
      "cell_type": "code",
      "metadata": {
        "id": "SrbzRu1dYmXH"
      },
      "source": [
        "def make_connection(edge1, edge2, graph):\n",
        "  '''Проведение ребра в обе стороны. edge1, edge2 - вершины. graph - граф.'''\n",
        "  graph.add_edge(edge1, edge2)\n",
        "  graph.add_edge(edge2, edge1)"
      ],
      "execution_count": null,
      "outputs": []
    },
    {
      "cell_type": "code",
      "metadata": {
        "id": "1ZClFAbCaUnq",
        "colab": {
          "base_uri": "https://localhost:8080/",
          "height": 421
        },
        "outputId": "ee561461-1d64-4ed0-c89d-517288bffdbb"
      },
      "source": [
        "graph = nx.Graph()\n",
        "my_id = '561530855'\n",
        "friends_ids = friends_ids_receiver(my_id)\n",
        "graph.add_node(my_id)\n",
        "for i in range(0, len(friends_ids)):\n",
        "  graph.add_node(friends_ids[i])\n",
        "  make_connection(my_id, friends_ids[i], graph)\n",
        "for i in range(0, len(friends_ids)):\n",
        "  user_id = friends_ids[i]\n",
        "  print(user_id)\n",
        "  friends_ids_2nd_gen = friends_ids_receiver(user_id)\n",
        "  print(friends_ids_2nd_gen)\n",
        "  for j in range(0, len(friends_ids_2nd_gen)):\n",
        "    if friends_ids_2nd_gen[j] in friends_ids:\n",
        "      make_connection(friends_ids_2nd_gen[j], friends_ids[i], graph)\n",
        "nx.draw_circular(graph, node_color='red', node_size=500, with_labels=True)"
      ],
      "execution_count": null,
      "outputs": [
        {
          "output_type": "stream",
          "text": [
            "36414701\n",
            "[36414701, 349141859, 411664440]\n",
            "349141859\n",
            "[36414701, 349141859, 411664440]\n",
            "411664440\n",
            "[36414701, 349141859, 411664440]\n"
          ],
          "name": "stdout"
        },
        {
          "output_type": "display_data",
          "data": {
            "image/png": "[encoded data removed]",
            "text/plain": [
              "<Figure size 432x288 with 1 Axes>"
            ]
          },
          "metadata": {
            "tags": []
          }
        }
      ]
    },
    {
      "cell_type": "code",
      "metadata": {
        "id": "tL9p-IR1aUnr",
        "colab": {
          "base_uri": "https://localhost:8080/"
        },
        "outputId": "c780f730-eb09-499d-dd3c-e3391e2d457f"
      },
      "source": [
        "b = friends_ids_receiver()\n",
        "b"
      ],
      "execution_count": null,
      "outputs": [
        {
          "output_type": "stream",
          "text": [
            "{'user-id': 36414701, 'order': 'name', 'count': 1000, 'offset': 1, 'fields': 'city,domain,nickname,sex,education,last_seen', 'name_case': 'nom', 'v': '5.130', 'access_token': '47b617800069aa15dbc6939162987605ed7d3acc712782df06c60d1927360bc79e39914ca2848994491f1'}\n",
            "{'response': {'count': 4, 'items': [{'first_name': 'Михаил', 'id': 36414701, 'last_name': 'Фролычев', 'can_access_closed': True, 'is_closed': False, 'sex': 2, 'nickname': '', 'domain': 'id36414701', 'city': {'id': 1386, 'title': 'Сергиев Посад'}, 'last_seen': {'platform': 4, 'time': 1614177886}, 'university': 0, 'university_name': '', 'faculty': 0, 'faculty_name': '', 'graduation': 0, 'track_code': '0e4aacbejUGLdzFt13SETd7asy0JM7k_67s4WlCWlgXEG8vSgWDgKoNBDG-Cd4JL6UlIitFV2TL8oF00'}, {'first_name': 'Пётр', 'id': 349141859, 'last_name': 'Федосов', 'can_access_closed': True, 'is_closed': False, 'sex': 2, 'nickname': '', 'domain': 'petr.fedosov', 'city': {'id': 1, 'title': 'Москва'}, 'last_seen': {'platform': 7, 'time': 1614188534}, 'university': 0, 'university_name': '', 'faculty': 0, 'faculty_name': '', 'graduation': 0, 'track_code': '1e3dff72pt-uKdDjiRUAx_C811h3U6Or_5N2rZ4H_aZ9lX0Qr5DLtPAduuXYSlfBwCcowMQ50L_mn2HD-g'}, {'first_name': 'Татьяна', 'id': 411664440, 'last_name': 'Бекетова', 'can_access_closed': True, 'is_closed': False, 'sex': 1, 'nickname': '', 'domain': 'tbeketova92', 'city': {'id': 1, 'title': 'Москва'}, 'last_seen': {'platform': 4, 'time': 1614187131}, 'university': 0, 'university_name': '', 'faculty': 0, 'faculty_name': '', 'graduation': 0, 'track_code': 'c0b78103XLwidAAcGE4VxJXlXvGZ25uxcPXdSHSCRqyM_Q1MPXQx130QOhlKTxHDo3KgYCqx6KVp-comEA'}]}}\n"
          ],
          "name": "stdout"
        },
        {
          "output_type": "execute_result",
          "data": {
            "text/plain": [
              "[36414701, 349141859, 411664440]"
            ]
          },
          "metadata": {
            "tags": []
          },
          "execution_count": 4
        }
      ]
    }
  ]
}