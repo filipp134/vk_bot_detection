{
  "nbformat": 4,
  "nbformat_minor": 0,
  "metadata": {
    "kernelspec": {
      "name": "python3",
      "display_name": "Python 3.7",
      "language": "python"
    },
    "language_info": {
      "name": "python",
      "version": "3.7.9",
      "mimetype": "text/x-python",
      "codemirror_mode": {
        "name": "ipython",
        "version": 3
      },
      "pygments_lexer": "ipython3",
      "nbconvert_exporter": "python",
      "file_extension": ".py"
    },
    "colab": {
      "name": "vk_bot_detection.ipynb",
      "provenance": [],
      "collapsed_sections": [],
      "include_colab_link": true
    }
  },
  "cells": [
    {
      "cell_type": "markdown",
      "metadata": {
        "id": "view-in-github",
        "colab_type": "text"
      },
      "source": [
        "<a href=\"https://colab.research.google.com/github/filipp134/vk_bot_detection/blob/forth_version/vk_bot_detection.ipynb\" target=\"_parent\"><img src=\"https://colab.research.google.com/assets/colab-badge.svg\" alt=\"Open In Colab\"/></a>"
      ]
    },
    {
      "cell_type": "code",
      "metadata": {
        "id": "FCje65ZZaUnn"
      },
      "source": [
        "import requests\n",
        "import networkx as nx\n",
        "import pandas as pd\n",
        "from datetime import datetime\n",
        "from statistics import *\n",
        "import math\n",
        "\n",
        "BASIC_LINK = 'https://api.vk.com/method/'\n",
        "ACCESS_TOKEN = ''"
      ],
      "execution_count": null,
      "outputs": []
    },
    {
      "cell_type": "code",
      "metadata": {
        "id": "wjBuEfkgaUnp"
      },
      "source": [
        "def get_user_info(user_id):\n",
        "    '''Получение информации в виде словаря о пользователе ВКонтакте с user_id.'''\n",
        "    method = 'users.get?user_ids={user_ids}&fields={fields}&access_token={access_token}&v={api_version}'\n",
        "    payload = {\n",
        "        'user_ids' : [user_id],\n",
        "        'fields': ','.join(['city', 'sex', 'bdate', 'followers_count', 'has_mobile', 'personal']),\n",
        "        'v':'5.130',\n",
        "        'access_token' : ACCESS_TOKEN\n",
        "    }\n",
        "    response = requests.get(BASIC_LINK + method, params=payload).json()\n",
        "    info = response['response'][0]\n",
        "    return info"
      ],
      "execution_count": null,
      "outputs": []
    },
    {
      "cell_type": "code",
      "metadata": {
        "id": "6a3vj8-t_pp2"
      },
      "source": [
        "def get_group_id(group_name):\n",
        "    '''Получение id группы из названия группы, указанного в ссылке по типу https://vk.com/whoinrussia'''\n",
        "    method = 'utils.resolveScreenName?screen_name={screen_name}&access_token={access_token}&v={api_version}'\n",
        "    payload = {'screen_name' : group_name, 'access_token' : ACCESS_TOKEN, 'v':'5.130'}\n",
        "    response = requests.get(BASIC_LINK + method, params=payload).json()\n",
        "    return response['response']['object_id']"
      ],
      "execution_count": null,
      "outputs": []
    },
    {
      "cell_type": "code",
      "metadata": {
        "id": "i1rJr7tDAToW"
      },
      "source": [
        "def get_members_ids(group_name):\n",
        "  '''Получение id 1000 членов группы по названию группы'''\n",
        "  method = 'groups.getMembers?group_id={group_id}&access_token={access_token}&v={api_version}'\n",
        "  group_id = get_group_id(group_name)\n",
        "  payload = {\n",
        "        'group_id' : group_id,\n",
        "        'v':'5.130',\n",
        "        'access_token' : ACCESS_TOKEN\n",
        "    }\n",
        "  response = requests.get(BASIC_LINK + method, params=payload).json()\n",
        "  return response['response']['items']"
      ],
      "execution_count": null,
      "outputs": []
    },
    {
      "cell_type": "code",
      "metadata": {
        "id": "2XjfxEje_uGJ"
      },
      "source": [
        "def get_friends_ids(user_id):\n",
        "  '''Получение списка id друзей пользователя ВКонтакте с user_id.'''\n",
        "  method = 'friends.get?user_id={user_id}&fields={fields}&count={count}&offset={offset}&access_token={access_token}&v={api_version}'\n",
        "  payload = {\n",
        "        'user_id' : user_id,\n",
        "        'order':'name',\n",
        "        'count' : 1000,\n",
        "        'offset' : 10,\n",
        "        'fields': ','.join(['city', 'country', 'sex', 'last_seen']),\n",
        "        'v':'5.130',\n",
        "        'access_token' : ACCESS_TOKEN\n",
        "    }\n",
        "  response = requests.get(BASIC_LINK + method, params=payload).json()\n",
        "  friends_ids = []\n",
        "  try:\n",
        "    for i in range(len(response['response']['items'])):\n",
        "      friends_ids.append(response['response']['items'][i]['id'])\n",
        "  except:\n",
        "      friends_ids.append(0)\n",
        "  return friends_ids"
      ],
      "execution_count": null,
      "outputs": []
    },
    {
      "cell_type": "code",
      "metadata": {
        "id": "1ZClFAbCaUnq"
      },
      "source": [
        "def make_graph(user_id_1): \n",
        "  '''Создание графа друзей Вконтакте пользователя с user_id.'''\n",
        "  graph = nx.Graph()\n",
        "  graph.add_node(user_id_1)\n",
        "  friends_ids = set(get_friends_ids(user_id_1))\n",
        "  for friend_id in friends_ids:\n",
        "    graph.add_edge(user_id_1, friend_id)\n",
        "    friends_ids_2nd_gen = get_friends_ids(friend_id)\n",
        "    for friend_id_2nd_gen in friends_ids_2nd_gen:\n",
        "        if friend_id_2nd_gen in friends_ids:\n",
        "            graph.add_edge(friend_id_2nd_gen, friend_id)\n",
        "  return graph"
      ],
      "execution_count": null,
      "outputs": []
    },
    {
      "cell_type": "code",
      "metadata": {
        "id": "MdwYn6bYjbR6"
      },
      "source": [
        "def get_graph_features(graph, user_id): \n",
        "    id_degree = graph.degree(user_id)\n",
        "    avg_cl = nx.average_clustering(graph)\n",
        "    trans = nx.transitivity(graph)\n",
        "    deg_centr = mean(nx.degree_centrality(graph).values())\n",
        "    return (id_degree, avg_cl, trans, deg_centr)"
      ],
      "execution_count": null,
      "outputs": []
    },
    {
      "cell_type": "code",
      "metadata": {
        "id": "RmZguAeC_0_n"
      },
      "source": [
        "def draw_graph(graph):\n",
        "  '''Построение графа graph c красным цветом вершин без названий.'''\n",
        "  nx.draw_circular(graph, node_color='red', node_size=500, with_labels=False)"
      ],
      "execution_count": null,
      "outputs": []
    },
    {
      "cell_type": "code",
      "metadata": {
        "id": "ZlMunsVFi2Sf"
      },
      "source": [
        "def receive_age(user_id):\n",
        "  try:\n",
        "    b_year = int(get_user_info(user_id)['bdate'][len(get_user_info(user_id)['bdate'])-4:])\n",
        "    t_year = int(datetime.today().strftime('%Y-%m-%d')[:4])\n",
        "    return t_year - b_year\n",
        "  except:\n",
        "    return 0"
      ],
      "execution_count": null,
      "outputs": []
    },
    {
      "cell_type": "code",
      "metadata": {
        "id": "rXwN5pzTjD5f"
      },
      "source": [
        "def return_city(user_id):\n",
        "    try:\n",
        "      city_id = get_user_info(user_id)['city']['id']\n",
        "      return city_id\n",
        "    except:\n",
        "      return 0"
      ],
      "execution_count": null,
      "outputs": []
    },
    {
      "cell_type": "code",
      "metadata": {
        "id": "ZoQOobzvknwP"
      },
      "source": [
        "def receive_sex(user_id):\n",
        "    sex = get_user_info(user_id)['sex']\n",
        "    return sex"
      ],
      "execution_count": null,
      "outputs": []
    },
    {
      "cell_type": "code",
      "metadata": {
        "id": "nnjlQXx8jHIY"
      },
      "source": [
        "def receive_pol_att(user_id):\n",
        "    try:\n",
        "        info = get_user_info(user_id)\n",
        "        try:\n",
        "            pol = info['personal']['political']\n",
        "            return 1\n",
        "        except:\n",
        "            return 0\n",
        "    except:\n",
        "        return None"
      ],
      "execution_count": null,
      "outputs": []
    },
    {
      "cell_type": "code",
      "metadata": {
        "id": "or7f4cW_jINp"
      },
      "source": [
        "def receive_sm_att(user_id):\n",
        "    try:\n",
        "        info = get_user_info(user_id)\n",
        "        try:\n",
        "            sm = info['personal']['smoking']\n",
        "            return 1\n",
        "        except:\n",
        "            return 0\n",
        "    except:\n",
        "        return None"
      ],
      "execution_count": null,
      "outputs": []
    },
    {
      "cell_type": "code",
      "metadata": {
        "id": "6utIxSoBjK7I"
      },
      "source": [
        "def receive_alc_att(user_id):\n",
        "    try:\n",
        "        info = get_user_info(user_id)\n",
        "        try:\n",
        "            sm = info['personal']['alcohol']\n",
        "            return 1\n",
        "        except:\n",
        "            return 0\n",
        "    except:\n",
        "        return None"
      ],
      "execution_count": null,
      "outputs": []
    },
    {
      "cell_type": "code",
      "metadata": {
        "id": "Mmhvz4U0jPw2"
      },
      "source": [
        "def receive_religion(user_id):\n",
        "    try:\n",
        "        info = get_user_info(user_id)\n",
        "        try:\n",
        "            rel = info['personal']['religion']\n",
        "            return 1\n",
        "        except:\n",
        "            return 0\n",
        "    except:\n",
        "        return None"
      ],
      "execution_count": null,
      "outputs": []
    },
    {
      "cell_type": "code",
      "metadata": {
        "id": "sv2v44XqjQim"
      },
      "source": [
        "def receive_langs(user_id):\n",
        "    try:\n",
        "        info = get_user_info(user_id)\n",
        "        try:\n",
        "            rel = info['personal']['langs']\n",
        "            return 1\n",
        "        except:\n",
        "            return 0\n",
        "    except:\n",
        "        return None"
      ],
      "execution_count": null,
      "outputs": []
    },
    {
      "cell_type": "code",
      "metadata": {
        "id": "h4n2bZnXjTiM"
      },
      "source": [
        "def return_followers_count(user_id):\n",
        "  try:\n",
        "    fol = get_user_info(user_id)['followers_count']\n",
        "    return fol\n",
        "  except:\n",
        "    return None"
      ],
      "execution_count": null,
      "outputs": []
    },
    {
      "cell_type": "code",
      "metadata": {
        "id": "9S68DrG6jWTO"
      },
      "source": [
        "def return_phone_possesion(user_id):\n",
        "  try:\n",
        "    phone = get_user_info(user_id)['has_mobile']\n",
        "    return phone\n",
        "  except:\n",
        "    return 1"
      ],
      "execution_count": null,
      "outputs": []
    },
    {
      "cell_type": "code",
      "metadata": {
        "id": "s5lBXxOIjf8Y"
      },
      "source": [
        "def get_basic_comm_info(user_id):\n",
        "    friends_ids = get_friends_ids(user_id)\n",
        "    city_of_user = str(return_city(user_id))\n",
        "    age_of_user = receive_age(user_id)\n",
        "    try:\n",
        "        sex_of_user = str(receive_sex(user_id))\n",
        "    except:\n",
        "        pass\n",
        "    n_of_friends = len(friends_ids)\n",
        "    cities = dict()\n",
        "    for friend in friends_ids:\n",
        "        city = str(return_city(friend))\n",
        "        try:\n",
        "            cities[city] += 1\n",
        "        except:\n",
        "            cities[city] = 1\n",
        "    friends_in_same_city = cities.get(city_of_user, 0) / n_of_friends\n",
        "    ages = []\n",
        "    for friend in friends_ids:\n",
        "        ages.append(receive_age(friend))\n",
        "    while None in ages:\n",
        "        ages.remove(None)\n",
        "    age_diff = abs(age_of_user - mean(ages))\n",
        "    try:\n",
        "        sexes = dict()\n",
        "        for friend in friends_ids:\n",
        "            try:\n",
        "                sex = str(receive_sex(friend))\n",
        "            except:\n",
        "                pass\n",
        "            try:\n",
        "                sexes[sex] += 1\n",
        "            except:\n",
        "                try:\n",
        "                    sexes[sex] = 1\n",
        "                except:\n",
        "                    pass\n",
        "        friends_of_same_sex = sexes[sex_of_user] / n_of_friends\n",
        "    except:\n",
        "        pass\n",
        "    try:\n",
        "        return (friends_in_same_city, age_diff, friends_of_same_sex)\n",
        "    except:\n",
        "        return (friends_in_same_city, age_diff)"
      ],
      "execution_count": null,
      "outputs": []
    },
    {
      "cell_type": "code",
      "metadata": {
        "id": "z3xsyyZSjkSe"
      },
      "source": [
        "def add_row_csv(user_id):\n",
        "    with open('VK_profiles_info.txt', 'a') as file:\n",
        "        text = f'\\n{user_id},{return_city(user_id)},{receive_age(user_id)},{receive_sex(user_id)},'\n",
        "        text += f'{return_followers_count(user_id)},'\n",
        "        text += f'{return_phone_possesion(user_id)},'\n",
        "        graph = make_graph(user_id)\n",
        "        feat = get_graph_features(graph, user_id)\n",
        "        text += f'{feat[0]},{feat[1]},{feat[2]},{feat[3]},'\n",
        "        text += f'{receive_religion(user_id)},{receive_pol_att(user_id)},'\n",
        "        text += f'{receive_sm_att(user_id)},{receive_alc_att(user_id)},{receive_langs(user_id)},'\n",
        "#        try:\n",
        "#          text += f'{get_basic_comm_info(user_id)[0]},{get_basic_comm_info(user_id)[1]},{get_basic_comm_info(user_id)[2]}'\n",
        "#        except:\n",
        "#          text += f'0,0,0'\n",
        "        file.write(text)\n",
        "        file.close()"
      ],
      "execution_count": null,
      "outputs": []
    },
    {
      "cell_type": "code",
      "metadata": {
        "id": "n8d3QEafl5xj",
        "colab": {
          "base_uri": "https://localhost:8080/",
          "height": 426
        },
        "outputId": "0d96ebf0-7a52-4e56-e5b9-732c8d322663"
      },
      "source": [
        "ids = [6,\n",
        "11,\n",
        "46,\n",
        "47,\n",
        "102,\n",
        "150,\n",
        "177,\n",
        "196,\n",
        "200,\n",
        "380]\n",
        "for id in ids:\n",
        "  add_row_csv(id)"
      ],
      "execution_count": null,
      "outputs": [
        {
          "output_type": "error",
          "ename": "NetworkXError",
          "evalue": "ignored",
          "traceback": [
            "\u001b[0;31m---------------------------------------------------------------------------\u001b[0m",
            "\u001b[0;31mTypeError\u001b[0m                                 Traceback (most recent call last)",
            "\u001b[0;32m/usr/local/lib/python3.7/dist-packages/networkx/classes/graph.py\u001b[0m in \u001b[0;36mbunch_iter\u001b[0;34m(nlist, adj)\u001b[0m\n\u001b[1;32m   1895\u001b[0m                 \u001b[0;32mtry\u001b[0m\u001b[0;34m:\u001b[0m\u001b[0;34m\u001b[0m\u001b[0;34m\u001b[0m\u001b[0m\n\u001b[0;32m-> 1896\u001b[0;31m                     \u001b[0;32mfor\u001b[0m \u001b[0mn\u001b[0m \u001b[0;32min\u001b[0m \u001b[0mnlist\u001b[0m\u001b[0;34m:\u001b[0m\u001b[0;34m\u001b[0m\u001b[0;34m\u001b[0m\u001b[0m\n\u001b[0m\u001b[1;32m   1897\u001b[0m                         \u001b[0;32mif\u001b[0m \u001b[0mn\u001b[0m \u001b[0;32min\u001b[0m \u001b[0madj\u001b[0m\u001b[0;34m:\u001b[0m\u001b[0;34m\u001b[0m\u001b[0;34m\u001b[0m\u001b[0m\n",
            "\u001b[0;31mTypeError\u001b[0m: 'int' object is not iterable",
            "\nThe above exception was the direct cause of the following exception:\n",
            "\u001b[0;31mNetworkXError\u001b[0m                             Traceback (most recent call last)",
            "\u001b[0;32m<ipython-input-24-5a25ca89d467>\u001b[0m in \u001b[0;36m<module>\u001b[0;34m()\u001b[0m\n\u001b[1;32m     10\u001b[0m 380]\n\u001b[1;32m     11\u001b[0m \u001b[0;32mfor\u001b[0m \u001b[0mid\u001b[0m \u001b[0;32min\u001b[0m \u001b[0mids\u001b[0m\u001b[0;34m:\u001b[0m\u001b[0;34m\u001b[0m\u001b[0;34m\u001b[0m\u001b[0m\n\u001b[0;32m---> 12\u001b[0;31m   \u001b[0madd_row_csv\u001b[0m\u001b[0;34m(\u001b[0m\u001b[0mid\u001b[0m\u001b[0;34m)\u001b[0m\u001b[0;34m\u001b[0m\u001b[0;34m\u001b[0m\u001b[0m\n\u001b[0m",
            "\u001b[0;32m<ipython-input-21-d298c1701093>\u001b[0m in \u001b[0;36madd_row_csv\u001b[0;34m(user_id)\u001b[0m\n\u001b[1;32m      7\u001b[0m         \u001b[0mtext\u001b[0m \u001b[0;34m+=\u001b[0m \u001b[0;34mf'{receive_sm_att(user_id)},{receive_alc_att(user_id)},{receive_langs(user_id)},'\u001b[0m\u001b[0;34m\u001b[0m\u001b[0;34m\u001b[0m\u001b[0m\n\u001b[1;32m      8\u001b[0m         \u001b[0mgraph\u001b[0m \u001b[0;34m=\u001b[0m \u001b[0mmake_graph\u001b[0m\u001b[0;34m(\u001b[0m\u001b[0muser_id\u001b[0m\u001b[0;34m)\u001b[0m\u001b[0;34m\u001b[0m\u001b[0;34m\u001b[0m\u001b[0m\n\u001b[0;32m----> 9\u001b[0;31m         \u001b[0mfeat\u001b[0m \u001b[0;34m=\u001b[0m \u001b[0mget_graph_features\u001b[0m\u001b[0;34m(\u001b[0m\u001b[0mgraph\u001b[0m\u001b[0;34m,\u001b[0m \u001b[0muser_id\u001b[0m\u001b[0;34m)\u001b[0m\u001b[0;34m\u001b[0m\u001b[0;34m\u001b[0m\u001b[0m\n\u001b[0m\u001b[1;32m     10\u001b[0m         \u001b[0mtext\u001b[0m \u001b[0;34m+=\u001b[0m \u001b[0;34mf'{feat[0]},{feat[1]},{feat[2]},{feat[3]},'\u001b[0m\u001b[0;34m\u001b[0m\u001b[0;34m\u001b[0m\u001b[0m\n\u001b[1;32m     11\u001b[0m \u001b[0;31m#        try:\u001b[0m\u001b[0;34m\u001b[0m\u001b[0;34m\u001b[0m\u001b[0;34m\u001b[0m\u001b[0m\n",
            "\u001b[0;32m<ipython-input-19-4b18a53519d2>\u001b[0m in \u001b[0;36mget_graph_features\u001b[0;34m(graph, user_id)\u001b[0m\n\u001b[1;32m      1\u001b[0m \u001b[0;32mdef\u001b[0m \u001b[0mget_graph_features\u001b[0m\u001b[0;34m(\u001b[0m\u001b[0mgraph\u001b[0m\u001b[0;34m,\u001b[0m \u001b[0muser_id\u001b[0m\u001b[0;34m)\u001b[0m\u001b[0;34m:\u001b[0m\u001b[0;34m\u001b[0m\u001b[0;34m\u001b[0m\u001b[0m\n\u001b[0;32m----> 2\u001b[0;31m     \u001b[0mid_degree\u001b[0m \u001b[0;34m=\u001b[0m \u001b[0mgraph\u001b[0m\u001b[0;34m.\u001b[0m\u001b[0mdegree\u001b[0m\u001b[0;34m(\u001b[0m\u001b[0muser_id\u001b[0m\u001b[0;34m)\u001b[0m\u001b[0;34m\u001b[0m\u001b[0;34m\u001b[0m\u001b[0m\n\u001b[0m\u001b[1;32m      3\u001b[0m     \u001b[0mavg_cl\u001b[0m \u001b[0;34m=\u001b[0m \u001b[0mnx\u001b[0m\u001b[0;34m.\u001b[0m\u001b[0maverage_clustering\u001b[0m\u001b[0;34m(\u001b[0m\u001b[0mgraph\u001b[0m\u001b[0;34m)\u001b[0m\u001b[0;34m\u001b[0m\u001b[0;34m\u001b[0m\u001b[0m\n\u001b[1;32m      4\u001b[0m     \u001b[0mtrans\u001b[0m \u001b[0;34m=\u001b[0m \u001b[0mnx\u001b[0m\u001b[0;34m.\u001b[0m\u001b[0mtransitivity\u001b[0m\u001b[0;34m(\u001b[0m\u001b[0mgraph\u001b[0m\u001b[0;34m)\u001b[0m\u001b[0;34m\u001b[0m\u001b[0;34m\u001b[0m\u001b[0m\n\u001b[1;32m      5\u001b[0m     \u001b[0mli\u001b[0m \u001b[0;34m=\u001b[0m \u001b[0;34m[\u001b[0m\u001b[0;34m]\u001b[0m\u001b[0;34m\u001b[0m\u001b[0;34m\u001b[0m\u001b[0m\n",
            "\u001b[0;32m/usr/local/lib/python3.7/dist-packages/networkx/classes/reportviews.py\u001b[0m in \u001b[0;36m__call__\u001b[0;34m(self, nbunch, weight)\u001b[0m\n\u001b[1;32m    361\u001b[0m         \u001b[0;32mexcept\u001b[0m \u001b[0mTypeError\u001b[0m\u001b[0;34m:\u001b[0m\u001b[0;34m\u001b[0m\u001b[0;34m\u001b[0m\u001b[0m\n\u001b[1;32m    362\u001b[0m             \u001b[0;32mpass\u001b[0m\u001b[0;34m\u001b[0m\u001b[0;34m\u001b[0m\u001b[0m\n\u001b[0;32m--> 363\u001b[0;31m         \u001b[0;32mreturn\u001b[0m \u001b[0mself\u001b[0m\u001b[0;34m.\u001b[0m\u001b[0m__class__\u001b[0m\u001b[0;34m(\u001b[0m\u001b[0mself\u001b[0m\u001b[0;34m.\u001b[0m\u001b[0m_graph\u001b[0m\u001b[0;34m,\u001b[0m \u001b[0mnbunch\u001b[0m\u001b[0;34m,\u001b[0m \u001b[0mweight\u001b[0m\u001b[0;34m)\u001b[0m\u001b[0;34m\u001b[0m\u001b[0;34m\u001b[0m\u001b[0m\n\u001b[0m\u001b[1;32m    364\u001b[0m \u001b[0;34m\u001b[0m\u001b[0m\n\u001b[1;32m    365\u001b[0m     \u001b[0;32mdef\u001b[0m \u001b[0m__getitem__\u001b[0m\u001b[0;34m(\u001b[0m\u001b[0mself\u001b[0m\u001b[0;34m,\u001b[0m \u001b[0mn\u001b[0m\u001b[0;34m)\u001b[0m\u001b[0;34m:\u001b[0m\u001b[0;34m\u001b[0m\u001b[0;34m\u001b[0m\u001b[0m\n",
            "\u001b[0;32m/usr/local/lib/python3.7/dist-packages/networkx/classes/reportviews.py\u001b[0m in \u001b[0;36m__init__\u001b[0;34m(self, G, nbunch, weight)\u001b[0m\n\u001b[1;32m    346\u001b[0m         \u001b[0mself\u001b[0m\u001b[0;34m.\u001b[0m\u001b[0m_succ\u001b[0m \u001b[0;34m=\u001b[0m \u001b[0mG\u001b[0m\u001b[0;34m.\u001b[0m\u001b[0m_succ\u001b[0m \u001b[0;32mif\u001b[0m \u001b[0mhasattr\u001b[0m\u001b[0;34m(\u001b[0m\u001b[0mG\u001b[0m\u001b[0;34m,\u001b[0m \u001b[0;34m\"_succ\"\u001b[0m\u001b[0;34m)\u001b[0m \u001b[0;32melse\u001b[0m \u001b[0mG\u001b[0m\u001b[0;34m.\u001b[0m\u001b[0m_adj\u001b[0m\u001b[0;34m\u001b[0m\u001b[0;34m\u001b[0m\u001b[0m\n\u001b[1;32m    347\u001b[0m         \u001b[0mself\u001b[0m\u001b[0;34m.\u001b[0m\u001b[0m_pred\u001b[0m \u001b[0;34m=\u001b[0m \u001b[0mG\u001b[0m\u001b[0;34m.\u001b[0m\u001b[0m_pred\u001b[0m \u001b[0;32mif\u001b[0m \u001b[0mhasattr\u001b[0m\u001b[0;34m(\u001b[0m\u001b[0mG\u001b[0m\u001b[0;34m,\u001b[0m \u001b[0;34m\"_pred\"\u001b[0m\u001b[0;34m)\u001b[0m \u001b[0;32melse\u001b[0m \u001b[0mG\u001b[0m\u001b[0;34m.\u001b[0m\u001b[0m_adj\u001b[0m\u001b[0;34m\u001b[0m\u001b[0;34m\u001b[0m\u001b[0m\n\u001b[0;32m--> 348\u001b[0;31m         \u001b[0mself\u001b[0m\u001b[0;34m.\u001b[0m\u001b[0m_nodes\u001b[0m \u001b[0;34m=\u001b[0m \u001b[0mself\u001b[0m\u001b[0;34m.\u001b[0m\u001b[0m_succ\u001b[0m \u001b[0;32mif\u001b[0m \u001b[0mnbunch\u001b[0m \u001b[0;32mis\u001b[0m \u001b[0;32mNone\u001b[0m \u001b[0;32melse\u001b[0m \u001b[0mlist\u001b[0m\u001b[0;34m(\u001b[0m\u001b[0mG\u001b[0m\u001b[0;34m.\u001b[0m\u001b[0mnbunch_iter\u001b[0m\u001b[0;34m(\u001b[0m\u001b[0mnbunch\u001b[0m\u001b[0;34m)\u001b[0m\u001b[0;34m)\u001b[0m\u001b[0;34m\u001b[0m\u001b[0;34m\u001b[0m\u001b[0m\n\u001b[0m\u001b[1;32m    349\u001b[0m         \u001b[0mself\u001b[0m\u001b[0;34m.\u001b[0m\u001b[0m_weight\u001b[0m \u001b[0;34m=\u001b[0m \u001b[0mweight\u001b[0m\u001b[0;34m\u001b[0m\u001b[0;34m\u001b[0m\u001b[0m\n\u001b[1;32m    350\u001b[0m \u001b[0;34m\u001b[0m\u001b[0m\n",
            "\u001b[0;32m/usr/local/lib/python3.7/dist-packages/networkx/classes/graph.py\u001b[0m in \u001b[0;36mbunch_iter\u001b[0;34m(nlist, adj)\u001b[0m\n\u001b[1;32m   1902\u001b[0m                     \u001b[0;32mif\u001b[0m \u001b[0;34m\"iter\"\u001b[0m \u001b[0;32min\u001b[0m \u001b[0mmessage\u001b[0m\u001b[0;34m:\u001b[0m\u001b[0;34m\u001b[0m\u001b[0;34m\u001b[0m\u001b[0m\n\u001b[1;32m   1903\u001b[0m                         \u001b[0mmsg\u001b[0m \u001b[0;34m=\u001b[0m \u001b[0;34m\"nbunch is not a node or a sequence of nodes.\"\u001b[0m\u001b[0;34m\u001b[0m\u001b[0;34m\u001b[0m\u001b[0m\n\u001b[0;32m-> 1904\u001b[0;31m                         \u001b[0;32mraise\u001b[0m \u001b[0mNetworkXError\u001b[0m\u001b[0;34m(\u001b[0m\u001b[0mmsg\u001b[0m\u001b[0;34m)\u001b[0m \u001b[0;32mfrom\u001b[0m \u001b[0me\u001b[0m\u001b[0;34m\u001b[0m\u001b[0;34m\u001b[0m\u001b[0m\n\u001b[0m\u001b[1;32m   1905\u001b[0m                     \u001b[0;31m# capture error for unhashable node.\u001b[0m\u001b[0;34m\u001b[0m\u001b[0;34m\u001b[0m\u001b[0;34m\u001b[0m\u001b[0m\n\u001b[1;32m   1906\u001b[0m                     \u001b[0;32melif\u001b[0m \u001b[0;34m\"hashable\"\u001b[0m \u001b[0;32min\u001b[0m \u001b[0mmessage\u001b[0m\u001b[0;34m:\u001b[0m\u001b[0;34m\u001b[0m\u001b[0;34m\u001b[0m\u001b[0m\n",
            "\u001b[0;31mNetworkXError\u001b[0m: nbunch is not a node or a sequence of nodes."
          ]
        }
      ]
    },
    {
      "cell_type": "code",
      "metadata": {
        "colab": {
          "base_uri": "https://localhost:8080/",
          "height": 379
        },
        "id": "FgFo0ujmtN0A",
        "outputId": "fd182863-0ce9-410c-81e6-5ce6af8f4723"
      },
      "source": [
        "df = pd.read_csv('VK_profiles_info.txt', sep=',')\n",
        "df.followers_count.replace(to_replace='None', value=0, inplace=True)\n",
        "df['followers_count'] = df['followers_count'].astype(int)\n",
        "df"
      ],
      "execution_count": null,
      "outputs": [
        {
          "output_type": "execute_result",
          "data": {
            "text/html": [
              "<div>\n",
              "<style scoped>\n",
              "    .dataframe tbody tr th:only-of-type {\n",
              "        vertical-align: middle;\n",
              "    }\n",
              "\n",
              "    .dataframe tbody tr th {\n",
              "        vertical-align: top;\n",
              "    }\n",
              "\n",
              "    .dataframe thead th {\n",
              "        text-align: right;\n",
              "    }\n",
              "</style>\n",
              "<table border=\"1\" class=\"dataframe\">\n",
              "  <thead>\n",
              "    <tr style=\"text-align: right;\">\n",
              "      <th></th>\n",
              "      <th>user_id</th>\n",
              "      <th>city</th>\n",
              "      <th>age</th>\n",
              "      <th>sex</th>\n",
              "      <th>followers_count</th>\n",
              "      <th>has_phone</th>\n",
              "      <th>has_religion_info</th>\n",
              "      <th>has_political_info</th>\n",
              "      <th>has_smoking_info</th>\n",
              "      <th>has_alcohol_info</th>\n",
              "      <th>has_language_info</th>\n",
              "      <th>id_degree</th>\n",
              "      <th>avg_clustering</th>\n",
              "      <th>transitivity</th>\n",
              "      <th>degree_centrality</th>\n",
              "    </tr>\n",
              "  </thead>\n",
              "  <tbody>\n",
              "    <tr>\n",
              "      <th>0</th>\n",
              "      <td>411664440</td>\n",
              "      <td>1</td>\n",
              "      <td>29</td>\n",
              "      <td>1</td>\n",
              "      <td>21</td>\n",
              "      <td>1</td>\n",
              "      <td>0</td>\n",
              "      <td>0</td>\n",
              "      <td>1</td>\n",
              "      <td>1</td>\n",
              "      <td>0</td>\n",
              "      <td>83</td>\n",
              "      <td>0.682265</td>\n",
              "      <td>0.530256</td>\n",
              "      <td>0.210270</td>\n",
              "    </tr>\n",
              "    <tr>\n",
              "      <th>1</th>\n",
              "      <td>36414701</td>\n",
              "      <td>1386</td>\n",
              "      <td>0</td>\n",
              "      <td>2</td>\n",
              "      <td>30</td>\n",
              "      <td>1</td>\n",
              "      <td>1</td>\n",
              "      <td>1</td>\n",
              "      <td>0</td>\n",
              "      <td>0</td>\n",
              "      <td>0</td>\n",
              "      <td>273</td>\n",
              "      <td>0.563324</td>\n",
              "      <td>0.254903</td>\n",
              "      <td>0.042967</td>\n",
              "    </tr>\n",
              "    <tr>\n",
              "      <th>2</th>\n",
              "      <td>349141859</td>\n",
              "      <td>1</td>\n",
              "      <td>17</td>\n",
              "      <td>2</td>\n",
              "      <td>55</td>\n",
              "      <td>1</td>\n",
              "      <td>1</td>\n",
              "      <td>0</td>\n",
              "      <td>1</td>\n",
              "      <td>1</td>\n",
              "      <td>1</td>\n",
              "      <td>715</td>\n",
              "      <td>0.553135</td>\n",
              "      <td>0.287143</td>\n",
              "      <td>0.039430</td>\n",
              "    </tr>\n",
              "    <tr>\n",
              "      <th>3</th>\n",
              "      <td>19252637</td>\n",
              "      <td>1</td>\n",
              "      <td>30</td>\n",
              "      <td>2</td>\n",
              "      <td>65</td>\n",
              "      <td>1</td>\n",
              "      <td>0</td>\n",
              "      <td>0</td>\n",
              "      <td>0</td>\n",
              "      <td>0</td>\n",
              "      <td>0</td>\n",
              "      <td>296</td>\n",
              "      <td>0.627046</td>\n",
              "      <td>0.287198</td>\n",
              "      <td>0.055465</td>\n",
              "    </tr>\n",
              "    <tr>\n",
              "      <th>4</th>\n",
              "      <td>185367006</td>\n",
              "      <td>1</td>\n",
              "      <td>0</td>\n",
              "      <td>1</td>\n",
              "      <td>0</td>\n",
              "      <td>1</td>\n",
              "      <td>0</td>\n",
              "      <td>0</td>\n",
              "      <td>0</td>\n",
              "      <td>0</td>\n",
              "      <td>0</td>\n",
              "      <td>1</td>\n",
              "      <td>0.000000</td>\n",
              "      <td>0.000000</td>\n",
              "      <td>1.000000</td>\n",
              "    </tr>\n",
              "    <tr>\n",
              "      <th>5</th>\n",
              "      <td>491289055</td>\n",
              "      <td>1</td>\n",
              "      <td>15</td>\n",
              "      <td>1</td>\n",
              "      <td>5</td>\n",
              "      <td>1</td>\n",
              "      <td>0</td>\n",
              "      <td>1</td>\n",
              "      <td>1</td>\n",
              "      <td>1</td>\n",
              "      <td>1</td>\n",
              "      <td>96</td>\n",
              "      <td>0.682357</td>\n",
              "      <td>0.568537</td>\n",
              "      <td>0.197165</td>\n",
              "    </tr>\n",
              "    <tr>\n",
              "      <th>6</th>\n",
              "      <td>492282422</td>\n",
              "      <td>0</td>\n",
              "      <td>14</td>\n",
              "      <td>1</td>\n",
              "      <td>40</td>\n",
              "      <td>1</td>\n",
              "      <td>0</td>\n",
              "      <td>0</td>\n",
              "      <td>1</td>\n",
              "      <td>1</td>\n",
              "      <td>1</td>\n",
              "      <td>196</td>\n",
              "      <td>0.527439</td>\n",
              "      <td>0.328449</td>\n",
              "      <td>0.072879</td>\n",
              "    </tr>\n",
              "    <tr>\n",
              "      <th>7</th>\n",
              "      <td>400131515</td>\n",
              "      <td>0</td>\n",
              "      <td>17</td>\n",
              "      <td>1</td>\n",
              "      <td>30</td>\n",
              "      <td>1</td>\n",
              "      <td>0</td>\n",
              "      <td>0</td>\n",
              "      <td>0</td>\n",
              "      <td>0</td>\n",
              "      <td>0</td>\n",
              "      <td>72</td>\n",
              "      <td>0.699751</td>\n",
              "      <td>0.449703</td>\n",
              "      <td>0.151446</td>\n",
              "    </tr>\n",
              "    <tr>\n",
              "      <th>8</th>\n",
              "      <td>396009712</td>\n",
              "      <td>0</td>\n",
              "      <td>0</td>\n",
              "      <td>2</td>\n",
              "      <td>41</td>\n",
              "      <td>1</td>\n",
              "      <td>0</td>\n",
              "      <td>0</td>\n",
              "      <td>0</td>\n",
              "      <td>0</td>\n",
              "      <td>0</td>\n",
              "      <td>210</td>\n",
              "      <td>0.587430</td>\n",
              "      <td>0.396109</td>\n",
              "      <td>0.091040</td>\n",
              "    </tr>\n",
              "    <tr>\n",
              "      <th>9</th>\n",
              "      <td>136987897</td>\n",
              "      <td>1</td>\n",
              "      <td>0</td>\n",
              "      <td>2</td>\n",
              "      <td>0</td>\n",
              "      <td>1</td>\n",
              "      <td>0</td>\n",
              "      <td>0</td>\n",
              "      <td>0</td>\n",
              "      <td>0</td>\n",
              "      <td>0</td>\n",
              "      <td>1</td>\n",
              "      <td>0.000000</td>\n",
              "      <td>0.000000</td>\n",
              "      <td>1.000000</td>\n",
              "    </tr>\n",
              "  </tbody>\n",
              "</table>\n",
              "</div>"
            ],
            "text/plain": [
              "     user_id  city  age  ...  avg_clustering  transitivity  degree_centrality\n",
              "0  411664440     1   29  ...        0.682265      0.530256           0.210270\n",
              "1   36414701  1386    0  ...        0.563324      0.254903           0.042967\n",
              "2  349141859     1   17  ...        0.553135      0.287143           0.039430\n",
              "3   19252637     1   30  ...        0.627046      0.287198           0.055465\n",
              "4  185367006     1    0  ...        0.000000      0.000000           1.000000\n",
              "5  491289055     1   15  ...        0.682357      0.568537           0.197165\n",
              "6  492282422     0   14  ...        0.527439      0.328449           0.072879\n",
              "7  400131515     0   17  ...        0.699751      0.449703           0.151446\n",
              "8  396009712     0    0  ...        0.587430      0.396109           0.091040\n",
              "9  136987897     1    0  ...        0.000000      0.000000           1.000000\n",
              "\n",
              "[10 rows x 15 columns]"
            ]
          },
          "metadata": {
            "tags": []
          },
          "execution_count": 4
        }
      ]
    },
    {
      "cell_type": "code",
      "metadata": {
        "colab": {
          "base_uri": "https://localhost:8080/"
        },
        "id": "w-c_z0Y_1DCt",
        "outputId": "ca79b512-8b1c-4611-d4ef-bb5c794b50d8"
      },
      "source": [
        "df.info()"
      ],
      "execution_count": null,
      "outputs": [
        {
          "output_type": "stream",
          "text": [
            "<class 'pandas.core.frame.DataFrame'>\n",
            "RangeIndex: 10 entries, 0 to 9\n",
            "Data columns (total 15 columns):\n",
            " #   Column              Non-Null Count  Dtype  \n",
            "---  ------              --------------  -----  \n",
            " 0   user_id             10 non-null     int64  \n",
            " 1   city                10 non-null     int64  \n",
            " 2   age                 10 non-null     int64  \n",
            " 3   sex                 10 non-null     int64  \n",
            " 4   followers_count     10 non-null     int64  \n",
            " 5   has_phone           10 non-null     int64  \n",
            " 6   has_religion_info   10 non-null     int64  \n",
            " 7   has_political_info  10 non-null     int64  \n",
            " 8   has_smoking_info    10 non-null     int64  \n",
            " 9   has_alcohol_info    10 non-null     int64  \n",
            " 10  has_language_info   10 non-null     int64  \n",
            " 11  id_degree           10 non-null     int64  \n",
            " 12  avg_clustering      10 non-null     float64\n",
            " 13  transitivity        10 non-null     float64\n",
            " 14  degree_centrality   10 non-null     float64\n",
            "dtypes: float64(3), int64(12)\n",
            "memory usage: 1.3 KB\n"
          ],
          "name": "stdout"
        }
      ]
    },
    {
      "cell_type": "code",
      "metadata": {
        "id": "_jFZor8A-OvW",
        "colab": {
          "base_uri": "https://localhost:8080/",
          "height": 317
        },
        "outputId": "66954fe6-ec0c-4668-ae3c-166c3d17480b"
      },
      "source": [
        "df.describe()"
      ],
      "execution_count": null,
      "outputs": [
        {
          "output_type": "execute_result",
          "data": {
            "text/html": [
              "<div>\n",
              "<style scoped>\n",
              "    .dataframe tbody tr th:only-of-type {\n",
              "        vertical-align: middle;\n",
              "    }\n",
              "\n",
              "    .dataframe tbody tr th {\n",
              "        vertical-align: top;\n",
              "    }\n",
              "\n",
              "    .dataframe thead th {\n",
              "        text-align: right;\n",
              "    }\n",
              "</style>\n",
              "<table border=\"1\" class=\"dataframe\">\n",
              "  <thead>\n",
              "    <tr style=\"text-align: right;\">\n",
              "      <th></th>\n",
              "      <th>user_id</th>\n",
              "      <th>city</th>\n",
              "      <th>age</th>\n",
              "      <th>sex</th>\n",
              "      <th>followers_count</th>\n",
              "      <th>has_phone</th>\n",
              "      <th>has_religion_info</th>\n",
              "      <th>has_political_info</th>\n",
              "      <th>has_smoking_info</th>\n",
              "      <th>has_alcohol_info</th>\n",
              "      <th>has_language_info</th>\n",
              "      <th>id_degree</th>\n",
              "      <th>avg_clustering</th>\n",
              "      <th>transitivity</th>\n",
              "      <th>degree_centrality</th>\n",
              "    </tr>\n",
              "  </thead>\n",
              "  <tbody>\n",
              "    <tr>\n",
              "      <th>count</th>\n",
              "      <td>1.000000e+01</td>\n",
              "      <td>10.000000</td>\n",
              "      <td>10.000000</td>\n",
              "      <td>10.000000</td>\n",
              "      <td>10.000000</td>\n",
              "      <td>10.0</td>\n",
              "      <td>10.000000</td>\n",
              "      <td>10.000000</td>\n",
              "      <td>10.000000</td>\n",
              "      <td>10.000000</td>\n",
              "      <td>10.000000</td>\n",
              "      <td>10.000000</td>\n",
              "      <td>10.000000</td>\n",
              "      <td>10.000000</td>\n",
              "      <td>10.000000</td>\n",
              "    </tr>\n",
              "    <tr>\n",
              "      <th>mean</th>\n",
              "      <td>2.918541e+08</td>\n",
              "      <td>139.200000</td>\n",
              "      <td>12.200000</td>\n",
              "      <td>1.500000</td>\n",
              "      <td>28.700000</td>\n",
              "      <td>1.0</td>\n",
              "      <td>0.200000</td>\n",
              "      <td>0.200000</td>\n",
              "      <td>0.400000</td>\n",
              "      <td>0.400000</td>\n",
              "      <td>0.300000</td>\n",
              "      <td>194.300000</td>\n",
              "      <td>0.492275</td>\n",
              "      <td>0.310230</td>\n",
              "      <td>0.286066</td>\n",
              "    </tr>\n",
              "    <tr>\n",
              "      <th>std</th>\n",
              "      <td>1.810582e+08</td>\n",
              "      <td>438.081119</td>\n",
              "      <td>11.792653</td>\n",
              "      <td>0.527046</td>\n",
              "      <td>22.509504</td>\n",
              "      <td>0.0</td>\n",
              "      <td>0.421637</td>\n",
              "      <td>0.421637</td>\n",
              "      <td>0.516398</td>\n",
              "      <td>0.516398</td>\n",
              "      <td>0.483046</td>\n",
              "      <td>210.726811</td>\n",
              "      <td>0.266072</td>\n",
              "      <td>0.194051</td>\n",
              "      <td>0.381191</td>\n",
              "    </tr>\n",
              "    <tr>\n",
              "      <th>min</th>\n",
              "      <td>1.925264e+07</td>\n",
              "      <td>0.000000</td>\n",
              "      <td>0.000000</td>\n",
              "      <td>1.000000</td>\n",
              "      <td>0.000000</td>\n",
              "      <td>1.0</td>\n",
              "      <td>0.000000</td>\n",
              "      <td>0.000000</td>\n",
              "      <td>0.000000</td>\n",
              "      <td>0.000000</td>\n",
              "      <td>0.000000</td>\n",
              "      <td>1.000000</td>\n",
              "      <td>0.000000</td>\n",
              "      <td>0.000000</td>\n",
              "      <td>0.039430</td>\n",
              "    </tr>\n",
              "    <tr>\n",
              "      <th>25%</th>\n",
              "      <td>1.490827e+08</td>\n",
              "      <td>0.250000</td>\n",
              "      <td>0.000000</td>\n",
              "      <td>1.000000</td>\n",
              "      <td>9.000000</td>\n",
              "      <td>1.0</td>\n",
              "      <td>0.000000</td>\n",
              "      <td>0.000000</td>\n",
              "      <td>0.000000</td>\n",
              "      <td>0.000000</td>\n",
              "      <td>0.000000</td>\n",
              "      <td>74.750000</td>\n",
              "      <td>0.533863</td>\n",
              "      <td>0.262963</td>\n",
              "      <td>0.059818</td>\n",
              "    </tr>\n",
              "    <tr>\n",
              "      <th>50%</th>\n",
              "      <td>3.725758e+08</td>\n",
              "      <td>1.000000</td>\n",
              "      <td>14.500000</td>\n",
              "      <td>1.500000</td>\n",
              "      <td>30.000000</td>\n",
              "      <td>1.0</td>\n",
              "      <td>0.000000</td>\n",
              "      <td>0.000000</td>\n",
              "      <td>0.000000</td>\n",
              "      <td>0.000000</td>\n",
              "      <td>0.000000</td>\n",
              "      <td>146.000000</td>\n",
              "      <td>0.575377</td>\n",
              "      <td>0.307824</td>\n",
              "      <td>0.121243</td>\n",
              "    </tr>\n",
              "    <tr>\n",
              "      <th>75%</th>\n",
              "      <td>4.087812e+08</td>\n",
              "      <td>1.000000</td>\n",
              "      <td>17.000000</td>\n",
              "      <td>2.000000</td>\n",
              "      <td>40.750000</td>\n",
              "      <td>1.0</td>\n",
              "      <td>0.000000</td>\n",
              "      <td>0.000000</td>\n",
              "      <td>1.000000</td>\n",
              "      <td>1.000000</td>\n",
              "      <td>0.750000</td>\n",
              "      <td>257.250000</td>\n",
              "      <td>0.668461</td>\n",
              "      <td>0.436304</td>\n",
              "      <td>0.206993</td>\n",
              "    </tr>\n",
              "    <tr>\n",
              "      <th>max</th>\n",
              "      <td>4.922824e+08</td>\n",
              "      <td>1386.000000</td>\n",
              "      <td>30.000000</td>\n",
              "      <td>2.000000</td>\n",
              "      <td>65.000000</td>\n",
              "      <td>1.0</td>\n",
              "      <td>1.000000</td>\n",
              "      <td>1.000000</td>\n",
              "      <td>1.000000</td>\n",
              "      <td>1.000000</td>\n",
              "      <td>1.000000</td>\n",
              "      <td>715.000000</td>\n",
              "      <td>0.699751</td>\n",
              "      <td>0.568537</td>\n",
              "      <td>1.000000</td>\n",
              "    </tr>\n",
              "  </tbody>\n",
              "</table>\n",
              "</div>"
            ],
            "text/plain": [
              "            user_id         city  ...  transitivity  degree_centrality\n",
              "count  1.000000e+01    10.000000  ...     10.000000          10.000000\n",
              "mean   2.918541e+08   139.200000  ...      0.310230           0.286066\n",
              "std    1.810582e+08   438.081119  ...      0.194051           0.381191\n",
              "min    1.925264e+07     0.000000  ...      0.000000           0.039430\n",
              "25%    1.490827e+08     0.250000  ...      0.262963           0.059818\n",
              "50%    3.725758e+08     1.000000  ...      0.307824           0.121243\n",
              "75%    4.087812e+08     1.000000  ...      0.436304           0.206993\n",
              "max    4.922824e+08  1386.000000  ...      0.568537           1.000000\n",
              "\n",
              "[8 rows x 15 columns]"
            ]
          },
          "metadata": {
            "tags": []
          },
          "execution_count": 7
        }
      ]
    },
    {
      "cell_type": "code",
      "metadata": {
        "colab": {
          "base_uri": "https://localhost:8080/",
          "height": 282
        },
        "id": "6aA-aoNaqcu6",
        "outputId": "ff63b9b8-b708-4519-e99b-06cbfeceb227"
      },
      "source": [
        "df.id_degree.hist()"
      ],
      "execution_count": null,
      "outputs": [
        {
          "output_type": "execute_result",
          "data": {
            "text/plain": [
              "<matplotlib.axes._subplots.AxesSubplot at 0x7f5c976bcdd0>"
            ]
          },
          "metadata": {
            "tags": []
          },
          "execution_count": 6
        },
        {
          "output_type": "display_data",
          "data": {
            "image/png": "[encoded data removed]",
            "text/plain": [
              "<Figure size 432x288 with 1 Axes>"
            ]
          },
          "metadata": {
            "tags": [],
            "needs_background": "light"
          }
        }
      ]
    },
    {
      "cell_type": "code",
      "metadata": {
        "colab": {
          "base_uri": "https://localhost:8080/",
          "height": 282
        },
        "id": "9nHuyKNGql64",
        "outputId": "f6a356cc-09e5-4a6a-bb3c-1ed5c6c13cfb"
      },
      "source": [
        "df.followers_count.hist()"
      ],
      "execution_count": null,
      "outputs": [
        {
          "output_type": "execute_result",
          "data": {
            "text/plain": [
              "<matplotlib.axes._subplots.AxesSubplot at 0x7f5c96f342d0>"
            ]
          },
          "metadata": {
            "tags": []
          },
          "execution_count": 9
        },
        {
          "output_type": "display_data",
          "data": {
            "image/png": "[encoded data removed]",
            "text/plain": [
              "<Figure size 432x288 with 1 Axes>"
            ]
          },
          "metadata": {
            "tags": [],
            "needs_background": "light"
          }
        }
      ]
    },
    {
      "cell_type": "code",
      "metadata": {
        "colab": {
          "base_uri": "https://localhost:8080/",
          "height": 282
        },
        "id": "Ad4q5hc0qvUv",
        "outputId": "c778f79a-df68-4dc7-c448-4b9d0383e0ab"
      },
      "source": [
        "df.age.hist()"
      ],
      "execution_count": null,
      "outputs": [
        {
          "output_type": "execute_result",
          "data": {
            "text/plain": [
              "<matplotlib.axes._subplots.AxesSubplot at 0x7f5c96dfdc50>"
            ]
          },
          "metadata": {
            "tags": []
          },
          "execution_count": 10
        },
        {
          "output_type": "display_data",
          "data": {
            "image/png": "[encoded data removed]",
            "text/plain": [
              "<Figure size 432x288 with 1 Axes>"
            ]
          },
          "metadata": {
            "tags": [],
            "needs_background": "light"
          }
        }
      ]
    },
    {
      "cell_type": "code",
      "metadata": {
        "id": "uxDHZqWd1c5f"
      },
      "source": [
        "with open('1000_member_ids_of_RIA_News.txt', 'a') as file:\n",
        "  for id in get_members_ids('ria'):\n",
        "    file.write(f'\\n{id},0')"
      ],
      "execution_count": null,
      "outputs": []
    }
  ]
}